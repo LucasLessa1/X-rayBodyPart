{
  "cells": [
    {
      "cell_type": "markdown",
      "metadata": {
        "id": "view-in-github",
        "colab_type": "text"
      },
      "source": [
        "<a href=\"https://colab.research.google.com/github/LucasLessa1/X-rayBodyPart/blob/lucas1/C%C3%B3piaLucasLessaProj_CIS_Imagens_Raio_X.ipynb\" target=\"_parent\"><img src=\"https://colab.research.google.com/assets/colab-badge.svg\" alt=\"Open In Colab\"/></a>"
      ]
    },
    {
      "cell_type": "markdown",
      "metadata": {
        "id": "lU48iA-hf04s"
      },
      "source": [
        "#Imports and Ajusting file\n"
      ]
    },
    {
      "cell_type": "code",
      "execution_count": null,
      "metadata": {
        "colab": {
          "base_uri": "https://localhost:8080/"
        },
        "id": "KY-thcKqQhmX",
        "outputId": "e1297900-5e92-48c5-82bc-6f4c29287be7"
      },
      "outputs": [
        {
          "output_type": "stream",
          "name": "stdout",
          "text": [
            "Looking in indexes: https://pypi.org/simple, https://us-python.pkg.dev/colab-wheels/public/simple/\n",
            "Collecting pydicom\n",
            "  Downloading pydicom-2.3.0-py3-none-any.whl (2.0 MB)\n",
            "\u001b[K     |████████████████████████████████| 2.0 MB 7.5 MB/s \n",
            "\u001b[?25hInstalling collected packages: pydicom\n",
            "Successfully installed pydicom-2.3.0\n"
          ]
        }
      ],
      "source": [
        "pip install pydicom"
      ]
    },
    {
      "cell_type": "code",
      "execution_count": null,
      "metadata": {
        "id": "X75kHVXu3C8m"
      },
      "outputs": [],
      "source": [
        "import cv2\n",
        "import pydicom\n",
        "import pandas as pd\n",
        "import os\n",
        "import shutil\n",
        "import time\n",
        "import math\n",
        "import gdown\n",
        "import zipfile\n",
        "import numpy as np\n",
        "from scipy.io import loadmat\n",
        "import matplotlib.pyplot as plt\n",
        "from google.colab.patches import cv2_imshow\n",
        "from tqdm import tqdm\n",
        "import os\n",
        "from PIL import Image\n",
        "from google.colab.patches import cv2_imshow\n",
        "import string\n",
        "import tensorflow as tf\n",
        "from tensorflow.keras import layers"
      ]
    },
    {
      "cell_type": "code",
      "execution_count": null,
      "metadata": {
        "id": "sqf48VqoeCqt"
      },
      "outputs": [],
      "source": [
        "def download(id): \n",
        "    url = 'https://drive.google.com/uc?id=' + str(id)\n",
        "    gdown.download(url, output = None, quiet = False)\n",
        "\n",
        "def unzip(path): #Função para unzip\n",
        "    zip = zipfile.ZipFile(path)\n",
        "    zip.extractall()\n",
        "    zip.close()"
      ]
    },
    {
      "cell_type": "code",
      "execution_count": null,
      "metadata": {
        "colab": {
          "base_uri": "https://localhost:8080/"
        },
        "id": "CEFniMhVgyUh",
        "outputId": "f41629ed-67de-4938-b278-e7f790af2dec"
      },
      "outputs": [
        {
          "output_type": "stream",
          "name": "stderr",
          "text": [
            "Downloading...\n",
            "From: https://drive.google.com/uc?id=1ev-r31j8oRzDlKM_toaeADO2psrA_XXm\n",
            "To: /content/archive.zip\n",
            "100%|██████████| 269M/269M [00:03<00:00, 87.8MB/s]\n"
          ]
        }
      ],
      "source": [
        "# https://drive.google.com/file/d/1ev-r31j8oRzDlKM_toaeADO2psrA_XXm/view?usp=sharing\n",
        "\n",
        "download('1ev-r31j8oRzDlKM_toaeADO2psrA_XXm')\n",
        "unzip('/content/archive.zip')"
      ]
    },
    {
      "cell_type": "code",
      "execution_count": null,
      "metadata": {
        "id": "PpL-tSErjuD6"
      },
      "outputs": [],
      "source": [
        "#os.chdir(\"/content/drive/MyDrive/RAIO-X/RAIO-X/archive.zip (Unzipped Files)\")\n",
        "path = os.getcwd() \n",
        "train_df = pd.read_csv('/content/train.csv')\n",
        "test_df = pd.read_csv(os.path.join('/content/sample_submission.csv'))"
      ]
    },
    {
      "cell_type": "code",
      "execution_count": null,
      "metadata": {
        "id": "c8qRth9FkA5p",
        "colab": {
          "base_uri": "https://localhost:8080/",
          "height": 206
        },
        "outputId": "c8112382-2bdd-4e20-e5cc-052035961a42"
      },
      "outputs": [
        {
          "output_type": "execute_result",
          "data": {
            "text/plain": [
              "                                      SOPInstanceUID  \\\n",
              "0  1.2.826.0.1.3680043.8.498.10001001190452685542...   \n",
              "1  1.2.826.0.1.3680043.8.498.10022667601042710442...   \n",
              "2  1.2.826.0.1.3680043.8.498.10024395388921105474...   \n",
              "3  1.2.826.0.1.3680043.8.498.10026689165626095651...   \n",
              "4  1.2.826.0.1.3680043.8.498.10035936364561920980...   \n",
              "\n",
              "                                              Target  \n",
              "0  0 1 2 3 4 5 6 7 8 9 10 11 12 13 14 15 16 17 18...  \n",
              "1  0 1 2 3 4 5 6 7 8 9 10 11 12 13 14 15 16 17 18...  \n",
              "2  0 1 2 3 4 5 6 7 8 9 10 11 12 13 14 15 16 17 18...  \n",
              "3  0 1 2 3 4 5 6 7 8 9 10 11 12 13 14 15 16 17 18...  \n",
              "4  0 1 2 3 4 5 6 7 8 9 10 11 12 13 14 15 16 17 18...  "
            ],
            "text/html": [
              "\n",
              "  <div id=\"df-07ec3e5b-8262-4382-a3b6-3289caf3c671\">\n",
              "    <div class=\"colab-df-container\">\n",
              "      <div>\n",
              "<style scoped>\n",
              "    .dataframe tbody tr th:only-of-type {\n",
              "        vertical-align: middle;\n",
              "    }\n",
              "\n",
              "    .dataframe tbody tr th {\n",
              "        vertical-align: top;\n",
              "    }\n",
              "\n",
              "    .dataframe thead th {\n",
              "        text-align: right;\n",
              "    }\n",
              "</style>\n",
              "<table border=\"1\" class=\"dataframe\">\n",
              "  <thead>\n",
              "    <tr style=\"text-align: right;\">\n",
              "      <th></th>\n",
              "      <th>SOPInstanceUID</th>\n",
              "      <th>Target</th>\n",
              "    </tr>\n",
              "  </thead>\n",
              "  <tbody>\n",
              "    <tr>\n",
              "      <th>0</th>\n",
              "      <td>1.2.826.0.1.3680043.8.498.10001001190452685542...</td>\n",
              "      <td>0 1 2 3 4 5 6 7 8 9 10 11 12 13 14 15 16 17 18...</td>\n",
              "    </tr>\n",
              "    <tr>\n",
              "      <th>1</th>\n",
              "      <td>1.2.826.0.1.3680043.8.498.10022667601042710442...</td>\n",
              "      <td>0 1 2 3 4 5 6 7 8 9 10 11 12 13 14 15 16 17 18...</td>\n",
              "    </tr>\n",
              "    <tr>\n",
              "      <th>2</th>\n",
              "      <td>1.2.826.0.1.3680043.8.498.10024395388921105474...</td>\n",
              "      <td>0 1 2 3 4 5 6 7 8 9 10 11 12 13 14 15 16 17 18...</td>\n",
              "    </tr>\n",
              "    <tr>\n",
              "      <th>3</th>\n",
              "      <td>1.2.826.0.1.3680043.8.498.10026689165626095651...</td>\n",
              "      <td>0 1 2 3 4 5 6 7 8 9 10 11 12 13 14 15 16 17 18...</td>\n",
              "    </tr>\n",
              "    <tr>\n",
              "      <th>4</th>\n",
              "      <td>1.2.826.0.1.3680043.8.498.10035936364561920980...</td>\n",
              "      <td>0 1 2 3 4 5 6 7 8 9 10 11 12 13 14 15 16 17 18...</td>\n",
              "    </tr>\n",
              "  </tbody>\n",
              "</table>\n",
              "</div>\n",
              "      <button class=\"colab-df-convert\" onclick=\"convertToInteractive('df-07ec3e5b-8262-4382-a3b6-3289caf3c671')\"\n",
              "              title=\"Convert this dataframe to an interactive table.\"\n",
              "              style=\"display:none;\">\n",
              "        \n",
              "  <svg xmlns=\"http://www.w3.org/2000/svg\" height=\"24px\"viewBox=\"0 0 24 24\"\n",
              "       width=\"24px\">\n",
              "    <path d=\"M0 0h24v24H0V0z\" fill=\"none\"/>\n",
              "    <path d=\"M18.56 5.44l.94 2.06.94-2.06 2.06-.94-2.06-.94-.94-2.06-.94 2.06-2.06.94zm-11 1L8.5 8.5l.94-2.06 2.06-.94-2.06-.94L8.5 2.5l-.94 2.06-2.06.94zm10 10l.94 2.06.94-2.06 2.06-.94-2.06-.94-.94-2.06-.94 2.06-2.06.94z\"/><path d=\"M17.41 7.96l-1.37-1.37c-.4-.4-.92-.59-1.43-.59-.52 0-1.04.2-1.43.59L10.3 9.45l-7.72 7.72c-.78.78-.78 2.05 0 2.83L4 21.41c.39.39.9.59 1.41.59.51 0 1.02-.2 1.41-.59l7.78-7.78 2.81-2.81c.8-.78.8-2.07 0-2.86zM5.41 20L4 18.59l7.72-7.72 1.47 1.35L5.41 20z\"/>\n",
              "  </svg>\n",
              "      </button>\n",
              "      \n",
              "  <style>\n",
              "    .colab-df-container {\n",
              "      display:flex;\n",
              "      flex-wrap:wrap;\n",
              "      gap: 12px;\n",
              "    }\n",
              "\n",
              "    .colab-df-convert {\n",
              "      background-color: #E8F0FE;\n",
              "      border: none;\n",
              "      border-radius: 50%;\n",
              "      cursor: pointer;\n",
              "      display: none;\n",
              "      fill: #1967D2;\n",
              "      height: 32px;\n",
              "      padding: 0 0 0 0;\n",
              "      width: 32px;\n",
              "    }\n",
              "\n",
              "    .colab-df-convert:hover {\n",
              "      background-color: #E2EBFA;\n",
              "      box-shadow: 0px 1px 2px rgba(60, 64, 67, 0.3), 0px 1px 3px 1px rgba(60, 64, 67, 0.15);\n",
              "      fill: #174EA6;\n",
              "    }\n",
              "\n",
              "    [theme=dark] .colab-df-convert {\n",
              "      background-color: #3B4455;\n",
              "      fill: #D2E3FC;\n",
              "    }\n",
              "\n",
              "    [theme=dark] .colab-df-convert:hover {\n",
              "      background-color: #434B5C;\n",
              "      box-shadow: 0px 1px 3px 1px rgba(0, 0, 0, 0.15);\n",
              "      filter: drop-shadow(0px 1px 2px rgba(0, 0, 0, 0.3));\n",
              "      fill: #FFFFFF;\n",
              "    }\n",
              "  </style>\n",
              "\n",
              "      <script>\n",
              "        const buttonEl =\n",
              "          document.querySelector('#df-07ec3e5b-8262-4382-a3b6-3289caf3c671 button.colab-df-convert');\n",
              "        buttonEl.style.display =\n",
              "          google.colab.kernel.accessAllowed ? 'block' : 'none';\n",
              "\n",
              "        async function convertToInteractive(key) {\n",
              "          const element = document.querySelector('#df-07ec3e5b-8262-4382-a3b6-3289caf3c671');\n",
              "          const dataTable =\n",
              "            await google.colab.kernel.invokeFunction('convertToInteractive',\n",
              "                                                     [key], {});\n",
              "          if (!dataTable) return;\n",
              "\n",
              "          const docLinkHtml = 'Like what you see? Visit the ' +\n",
              "            '<a target=\"_blank\" href=https://colab.research.google.com/notebooks/data_table.ipynb>data table notebook</a>'\n",
              "            + ' to learn more about interactive tables.';\n",
              "          element.innerHTML = '';\n",
              "          dataTable['output_type'] = 'display_data';\n",
              "          await google.colab.output.renderOutput(dataTable, element);\n",
              "          const docLink = document.createElement('div');\n",
              "          docLink.innerHTML = docLinkHtml;\n",
              "          element.appendChild(docLink);\n",
              "        }\n",
              "      </script>\n",
              "    </div>\n",
              "  </div>\n",
              "  "
            ]
          },
          "metadata": {},
          "execution_count": 6
        }
      ],
      "source": [
        "test_df.head(5)"
      ]
    },
    {
      "cell_type": "code",
      "execution_count": null,
      "metadata": {
        "id": "XWICRM55j6lb",
        "colab": {
          "base_uri": "https://localhost:8080/"
        },
        "outputId": "5bf19263-7c14-40db-be27-743e5d5fa995"
      },
      "outputs": [
        {
          "output_type": "stream",
          "name": "stdout",
          "text": [
            "00333618114258\n"
          ]
        }
      ],
      "source": [
        "A=train_df.head(1)['SOPInstanceUID']\n",
        "print(A[0][50:])"
      ]
    },
    {
      "cell_type": "markdown",
      "metadata": {
        "id": "qd9hejxZkD94"
      },
      "source": [
        "#Pre-processing"
      ]
    },
    {
      "cell_type": "code",
      "execution_count": null,
      "metadata": {
        "id": "0IQpmWP3kIhQ",
        "colab": {
          "base_uri": "https://localhost:8080/"
        },
        "outputId": "2c99ad52-02ad-4aea-81a1-3c5eba11271d"
      },
      "outputs": [
        {
          "output_type": "stream",
          "name": "stdout",
          "text": [
            "Columns:\n",
            "Index(['SOPInstanceUID', 'Target'], dtype='object') \n",
            "\n",
            "Types in columns:\n",
            "SOPInstanceUID    object\n",
            "Target            object\n",
            "dtype: object \n",
            "\n",
            "Types in info:\n",
            "                                           SOPInstanceUID Target\n",
            "count                                                1738   1738\n",
            "unique                                               1738     41\n",
            "top     1.2.826.0.1.3680043.8.498.10025629581362719970...     3 \n",
            "freq                                                    1    724 \n",
            "\n"
          ]
        }
      ],
      "source": [
        "print(\"Columns:\")\n",
        "print(train_df.columns, \"\\n\")\n",
        "\n",
        "print(\"Types in columns:\")\n",
        "print(train_df.dtypes, \"\\n\")\n",
        "\n",
        "print(\"Types in info:\")\n",
        "print(train_df.describe(), \"\\n\")"
      ]
    },
    {
      "cell_type": "code",
      "source": [
        "#Let's  see our Target distribution\n",
        "\n",
        "bodyparts = {\n",
        "0 : 'Abdomen' ,\n",
        "1 :'Ankle' ,\n",
        "2 :'Cervical Spine',\n",
        "3 : 'Chest' ,\n",
        "4 :'Clavicles' ,\n",
        "5 :'Elbow' ,\n",
        "6 :'Feet' ,\n",
        "7 : 'Finger' ,\n",
        "8 : 'Forearm' ,\n",
        "9 : 'Hand' ,\n",
        "10 : 'Hip' ,\n",
        "11 : 'Knee' ,\n",
        "12 : 'Lower Leg' ,\n",
        "13 : 'Lumbar Spine' ,\n",
        "14 : 'Others' ,\n",
        "15 :'Pelvis',\n",
        "16 :'Shoulder' ,\n",
        "17 :'Sinus' ,\n",
        "18 : 'Skull' ,\n",
        "19 : 'Thigh' ,\n",
        "20 :'Thoracic Spine',\n",
        "21: 'Wrist',\n",
        "}"
      ],
      "metadata": {
        "id": "YCh3lR7WCsME"
      },
      "execution_count": null,
      "outputs": []
    },
    {
      "cell_type": "markdown",
      "metadata": {
        "id": "hk9Kily5l8fI"
      },
      "source": [
        "##Fixing folders"
      ]
    },
    {
      "cell_type": "code",
      "execution_count": null,
      "metadata": {
        "id": "0Z0LwdkVoI3l"
      },
      "outputs": [],
      "source": [
        "class Image_processing():\n",
        "  def __init__(self):\n",
        "    self.fileList = []\n",
        "\n",
        "  def fixfolders(self, folder, df, dictionary):\n",
        "    filelist = []\n",
        "    for root, dirs, files in os.walk(f'/content/{str(folder)}'):\n",
        "      for file in files:\n",
        "        filelist.append(os.path.join(root,file))\n",
        "\n",
        "    for filename in filelist:\n",
        "      dicom = pydicom.dcmread(filename)\n",
        "      img = dicom.pixel_array\n",
        "      var = filename.split(\"/\")\n",
        "      var = var[-1]\n",
        "      row = df.index[df['SOPInstanceUID']==f'{var[:-6]}'].tolist()\n",
        "      target = df['Target'].iloc[row[0]]\n",
        "      if len(target.strip()) > 1: \n",
        "        continue\n",
        "      label = dictionary.get(int(target))\n",
        "      # Important Parto so save in .png images in .bmp\n",
        "      resized_img  = (np.maximum(img,0)/img.max())*255 \n",
        "      im = Image.fromarray(resized_img.astype(np.uint8))\n",
        "      im.show()\n",
        "      im.save(os.path.join(f'/content/{folder}_img', f'{label}', f'{var[:-6]}.png'))\n",
        " \n",
        "  def createfolders(self, folder):\n",
        "    os.mkdir(f'/content/{folder}/') \n",
        "    #os.chdir(f'/content/{folder}') \n",
        "    for bodypart in list(bodyparts.values()):\n",
        "      if os.path.isdir(f'/content/{folder}/{bodypart}') == False:\n",
        "        os.mkdir(f'/content/{folder}/{bodypart}')\n",
        "      else:  \n",
        "          pass "
      ]
    },
    {
      "cell_type": "code",
      "source": [
        "#Excluir diretorios de Labels!!!!!!!!\n",
        "try:\n",
        "  shutil.rmtree(f'/content/train_img/')\n",
        "except FileNotFoundError:\n",
        "  pass"
      ],
      "metadata": {
        "id": "hgEOMMZvdRpi"
      },
      "execution_count": null,
      "outputs": []
    },
    {
      "cell_type": "code",
      "source": [
        "#os.chdir(\"/content/drive/MyDrive/RAIO-X/RAIO-X/archive.zip (Unzipped Files)\")\n",
        "#path = os.getcwd()\n",
        "\n",
        "#CRIAR PASTAS E SEPARAR AQUIVOS \n",
        "fix  =  Image_processing()\n",
        "fix.createfolders('train_img')\n",
        "fix.fixfolders('train', train_df, bodyparts)"
      ],
      "metadata": {
        "id": "UoiUwPBiWc87"
      },
      "execution_count": null,
      "outputs": []
    },
    {
      "cell_type": "code",
      "execution_count": null,
      "metadata": {
        "id": "vsYY0dwv6a6f"
      },
      "outputs": [],
      "source": [
        "# DAQUI PRA BAIXO NÃO GARANTO NADA !!"
      ]
    },
    {
      "cell_type": "code",
      "execution_count": null,
      "metadata": {
        "id": "_PslEew4Sofj"
      },
      "outputs": [],
      "source": [
        "def dcmtag2table(folder, list_of_tags):\n",
        "\n",
        "    list_of_tags = list_of_tags.copy()\n",
        "    items = []\n",
        "    table = []\n",
        "    filelist = []\n",
        "\n",
        "    for root, dirs, files in os.walk(folder, topdown=False):\n",
        "#Adiciona os caminhos de cada imagem na lista\n",
        "        for name in files:\n",
        "            filelist.append(os.path.join(root, name))\n",
        "    aux= 0\n",
        "    for _f in filelist:\n",
        "      #Em cada caminho da imagem(.dcm)\n",
        "        try:\n",
        "            ds = pydicom.dcmread(_f, stop_before_pixels=True)\n",
        "            #Pega o Dataset de cada imagem e ler no próximo for\n",
        "            items = []\n",
        "            items.append(_f)\n",
        "            #Adiciono o caminho em \"items\"\n",
        "            for _tag in list_of_tags:\n",
        "                if _tag in ds:\n",
        "                  \n",
        "                    items.append(ds.data_element(_tag).value)\n",
        "                    #Adiciono a features \"PhotometricInterpretation\", \"BitsAllocated\" and \"SOPInstanceUID\" em \"items\"\n",
        "                else:\n",
        "                    items.append(\"Not found\")\n",
        "            \n",
        "            table.append(items)\n",
        "            #Adiciona tudo em uma outra lista\n",
        "        except:\n",
        "            print(\"Skipping non-DICOM: \" + _f)\n",
        "\n",
        "    df = pd.DataFrame(table, columns=[\"Filename\", \"PhotometricInterpretation\", \"BitsAllocated\",\"SOPInstanceUID\"])\n",
        "    #Crio um data set com todos os caminhos Photometric, Bits and SOP\n",
        "    return df"
      ]
    },
    {
      "cell_type": "markdown",
      "metadata": {
        "id": "rzOyGpU5YOue"
      },
      "source": [
        "*   SOP Instance UID - Unique Identification\n",
        "*   SOP Class UID    - "
      ]
    },
    {
      "cell_type": "code",
      "execution_count": null,
      "metadata": {
        "id": "IgsEtrh3qakO"
      },
      "outputs": [],
      "source": [
        "tags = ['PhotometricInterpretation','BitsAllocated', 'SOPInstanceUID' ]\n",
        "dicom_tags_train =  dcmtag2table('/content/train', tags)\n",
        "dicom_tags_test = dcmtag2table('/content/test', tags)"
      ]
    },
    {
      "cell_type": "code",
      "execution_count": null,
      "metadata": {
        "id": "2q8GnBabrW6H",
        "outputId": "f3da9f02-f1bb-431b-c53a-bc917e467a87",
        "colab": {
          "base_uri": "https://localhost:8080/",
          "height": 424
        }
      },
      "outputs": [
        {
          "output_type": "execute_result",
          "data": {
            "text/plain": [
              "                                               Filename  \\\n",
              "0     /content/train/train/train/1029/1.2.826.0.1.36...   \n",
              "1     /content/train/train/train/308/1.2.826.0.1.368...   \n",
              "2     /content/train/train/train/308/1.2.826.0.1.368...   \n",
              "3     /content/train/train/train/921/1.2.826.0.1.368...   \n",
              "4     /content/train/train/train/921/1.2.826.0.1.368...   \n",
              "...                                                 ...   \n",
              "1733  /content/train/train/train/367/1.2.826.0.1.368...   \n",
              "1734  /content/train/train/train/367/1.2.826.0.1.368...   \n",
              "1735  /content/train/train/train/1329/1.2.826.0.1.36...   \n",
              "1736  /content/train/train/train/522/1.2.826.0.1.368...   \n",
              "1737  /content/train/train/train/522/1.2.826.0.1.368...   \n",
              "\n",
              "     PhotometricInterpretation  BitsAllocated  \\\n",
              "0                  MONOCHROME1             16   \n",
              "1                  MONOCHROME1             16   \n",
              "2                  MONOCHROME1             16   \n",
              "3                  MONOCHROME1             16   \n",
              "4                  MONOCHROME1             16   \n",
              "...                        ...            ...   \n",
              "1733               MONOCHROME2              8   \n",
              "1734               MONOCHROME2              8   \n",
              "1735               MONOCHROME1             16   \n",
              "1736               MONOCHROME1             16   \n",
              "1737               MONOCHROME1             16   \n",
              "\n",
              "                                         SOPInstanceUID  \n",
              "0     1.2.826.0.1.3680043.8.498.96234511949925002869...  \n",
              "1     1.2.826.0.1.3680043.8.498.12250944515020919220...  \n",
              "2     1.2.826.0.1.3680043.8.498.51262104576214638840...  \n",
              "3     1.2.826.0.1.3680043.8.498.57849895084414384680...  \n",
              "4     1.2.826.0.1.3680043.8.498.10592554496378195625...  \n",
              "...                                                 ...  \n",
              "1733  1.2.826.0.1.3680043.8.498.58996250760352585732...  \n",
              "1734  1.2.826.0.1.3680043.8.498.71782455619707465800...  \n",
              "1735  1.2.826.0.1.3680043.8.498.84791765678612446017...  \n",
              "1736  1.2.826.0.1.3680043.8.498.97335880311496226119...  \n",
              "1737  1.2.826.0.1.3680043.8.498.97452786237308290477...  \n",
              "\n",
              "[1738 rows x 4 columns]"
            ],
            "text/html": [
              "\n",
              "  <div id=\"df-db2b0553-ea33-4d08-8883-47de31e87c92\">\n",
              "    <div class=\"colab-df-container\">\n",
              "      <div>\n",
              "<style scoped>\n",
              "    .dataframe tbody tr th:only-of-type {\n",
              "        vertical-align: middle;\n",
              "    }\n",
              "\n",
              "    .dataframe tbody tr th {\n",
              "        vertical-align: top;\n",
              "    }\n",
              "\n",
              "    .dataframe thead th {\n",
              "        text-align: right;\n",
              "    }\n",
              "</style>\n",
              "<table border=\"1\" class=\"dataframe\">\n",
              "  <thead>\n",
              "    <tr style=\"text-align: right;\">\n",
              "      <th></th>\n",
              "      <th>Filename</th>\n",
              "      <th>PhotometricInterpretation</th>\n",
              "      <th>BitsAllocated</th>\n",
              "      <th>SOPInstanceUID</th>\n",
              "    </tr>\n",
              "  </thead>\n",
              "  <tbody>\n",
              "    <tr>\n",
              "      <th>0</th>\n",
              "      <td>/content/train/train/train/1029/1.2.826.0.1.36...</td>\n",
              "      <td>MONOCHROME1</td>\n",
              "      <td>16</td>\n",
              "      <td>1.2.826.0.1.3680043.8.498.96234511949925002869...</td>\n",
              "    </tr>\n",
              "    <tr>\n",
              "      <th>1</th>\n",
              "      <td>/content/train/train/train/308/1.2.826.0.1.368...</td>\n",
              "      <td>MONOCHROME1</td>\n",
              "      <td>16</td>\n",
              "      <td>1.2.826.0.1.3680043.8.498.12250944515020919220...</td>\n",
              "    </tr>\n",
              "    <tr>\n",
              "      <th>2</th>\n",
              "      <td>/content/train/train/train/308/1.2.826.0.1.368...</td>\n",
              "      <td>MONOCHROME1</td>\n",
              "      <td>16</td>\n",
              "      <td>1.2.826.0.1.3680043.8.498.51262104576214638840...</td>\n",
              "    </tr>\n",
              "    <tr>\n",
              "      <th>3</th>\n",
              "      <td>/content/train/train/train/921/1.2.826.0.1.368...</td>\n",
              "      <td>MONOCHROME1</td>\n",
              "      <td>16</td>\n",
              "      <td>1.2.826.0.1.3680043.8.498.57849895084414384680...</td>\n",
              "    </tr>\n",
              "    <tr>\n",
              "      <th>4</th>\n",
              "      <td>/content/train/train/train/921/1.2.826.0.1.368...</td>\n",
              "      <td>MONOCHROME1</td>\n",
              "      <td>16</td>\n",
              "      <td>1.2.826.0.1.3680043.8.498.10592554496378195625...</td>\n",
              "    </tr>\n",
              "    <tr>\n",
              "      <th>...</th>\n",
              "      <td>...</td>\n",
              "      <td>...</td>\n",
              "      <td>...</td>\n",
              "      <td>...</td>\n",
              "    </tr>\n",
              "    <tr>\n",
              "      <th>1733</th>\n",
              "      <td>/content/train/train/train/367/1.2.826.0.1.368...</td>\n",
              "      <td>MONOCHROME2</td>\n",
              "      <td>8</td>\n",
              "      <td>1.2.826.0.1.3680043.8.498.58996250760352585732...</td>\n",
              "    </tr>\n",
              "    <tr>\n",
              "      <th>1734</th>\n",
              "      <td>/content/train/train/train/367/1.2.826.0.1.368...</td>\n",
              "      <td>MONOCHROME2</td>\n",
              "      <td>8</td>\n",
              "      <td>1.2.826.0.1.3680043.8.498.71782455619707465800...</td>\n",
              "    </tr>\n",
              "    <tr>\n",
              "      <th>1735</th>\n",
              "      <td>/content/train/train/train/1329/1.2.826.0.1.36...</td>\n",
              "      <td>MONOCHROME1</td>\n",
              "      <td>16</td>\n",
              "      <td>1.2.826.0.1.3680043.8.498.84791765678612446017...</td>\n",
              "    </tr>\n",
              "    <tr>\n",
              "      <th>1736</th>\n",
              "      <td>/content/train/train/train/522/1.2.826.0.1.368...</td>\n",
              "      <td>MONOCHROME1</td>\n",
              "      <td>16</td>\n",
              "      <td>1.2.826.0.1.3680043.8.498.97335880311496226119...</td>\n",
              "    </tr>\n",
              "    <tr>\n",
              "      <th>1737</th>\n",
              "      <td>/content/train/train/train/522/1.2.826.0.1.368...</td>\n",
              "      <td>MONOCHROME1</td>\n",
              "      <td>16</td>\n",
              "      <td>1.2.826.0.1.3680043.8.498.97452786237308290477...</td>\n",
              "    </tr>\n",
              "  </tbody>\n",
              "</table>\n",
              "<p>1738 rows × 4 columns</p>\n",
              "</div>\n",
              "      <button class=\"colab-df-convert\" onclick=\"convertToInteractive('df-db2b0553-ea33-4d08-8883-47de31e87c92')\"\n",
              "              title=\"Convert this dataframe to an interactive table.\"\n",
              "              style=\"display:none;\">\n",
              "        \n",
              "  <svg xmlns=\"http://www.w3.org/2000/svg\" height=\"24px\"viewBox=\"0 0 24 24\"\n",
              "       width=\"24px\">\n",
              "    <path d=\"M0 0h24v24H0V0z\" fill=\"none\"/>\n",
              "    <path d=\"M18.56 5.44l.94 2.06.94-2.06 2.06-.94-2.06-.94-.94-2.06-.94 2.06-2.06.94zm-11 1L8.5 8.5l.94-2.06 2.06-.94-2.06-.94L8.5 2.5l-.94 2.06-2.06.94zm10 10l.94 2.06.94-2.06 2.06-.94-2.06-.94-.94-2.06-.94 2.06-2.06.94z\"/><path d=\"M17.41 7.96l-1.37-1.37c-.4-.4-.92-.59-1.43-.59-.52 0-1.04.2-1.43.59L10.3 9.45l-7.72 7.72c-.78.78-.78 2.05 0 2.83L4 21.41c.39.39.9.59 1.41.59.51 0 1.02-.2 1.41-.59l7.78-7.78 2.81-2.81c.8-.78.8-2.07 0-2.86zM5.41 20L4 18.59l7.72-7.72 1.47 1.35L5.41 20z\"/>\n",
              "  </svg>\n",
              "      </button>\n",
              "      \n",
              "  <style>\n",
              "    .colab-df-container {\n",
              "      display:flex;\n",
              "      flex-wrap:wrap;\n",
              "      gap: 12px;\n",
              "    }\n",
              "\n",
              "    .colab-df-convert {\n",
              "      background-color: #E8F0FE;\n",
              "      border: none;\n",
              "      border-radius: 50%;\n",
              "      cursor: pointer;\n",
              "      display: none;\n",
              "      fill: #1967D2;\n",
              "      height: 32px;\n",
              "      padding: 0 0 0 0;\n",
              "      width: 32px;\n",
              "    }\n",
              "\n",
              "    .colab-df-convert:hover {\n",
              "      background-color: #E2EBFA;\n",
              "      box-shadow: 0px 1px 2px rgba(60, 64, 67, 0.3), 0px 1px 3px 1px rgba(60, 64, 67, 0.15);\n",
              "      fill: #174EA6;\n",
              "    }\n",
              "\n",
              "    [theme=dark] .colab-df-convert {\n",
              "      background-color: #3B4455;\n",
              "      fill: #D2E3FC;\n",
              "    }\n",
              "\n",
              "    [theme=dark] .colab-df-convert:hover {\n",
              "      background-color: #434B5C;\n",
              "      box-shadow: 0px 1px 3px 1px rgba(0, 0, 0, 0.15);\n",
              "      filter: drop-shadow(0px 1px 2px rgba(0, 0, 0, 0.3));\n",
              "      fill: #FFFFFF;\n",
              "    }\n",
              "  </style>\n",
              "\n",
              "      <script>\n",
              "        const buttonEl =\n",
              "          document.querySelector('#df-db2b0553-ea33-4d08-8883-47de31e87c92 button.colab-df-convert');\n",
              "        buttonEl.style.display =\n",
              "          google.colab.kernel.accessAllowed ? 'block' : 'none';\n",
              "\n",
              "        async function convertToInteractive(key) {\n",
              "          const element = document.querySelector('#df-db2b0553-ea33-4d08-8883-47de31e87c92');\n",
              "          const dataTable =\n",
              "            await google.colab.kernel.invokeFunction('convertToInteractive',\n",
              "                                                     [key], {});\n",
              "          if (!dataTable) return;\n",
              "\n",
              "          const docLinkHtml = 'Like what you see? Visit the ' +\n",
              "            '<a target=\"_blank\" href=https://colab.research.google.com/notebooks/data_table.ipynb>data table notebook</a>'\n",
              "            + ' to learn more about interactive tables.';\n",
              "          element.innerHTML = '';\n",
              "          dataTable['output_type'] = 'display_data';\n",
              "          await google.colab.output.renderOutput(dataTable, element);\n",
              "          const docLink = document.createElement('div');\n",
              "          docLink.innerHTML = docLinkHtml;\n",
              "          element.appendChild(docLink);\n",
              "        }\n",
              "      </script>\n",
              "    </div>\n",
              "  </div>\n",
              "  "
            ]
          },
          "metadata": {},
          "execution_count": 16
        }
      ],
      "source": [
        "dicom_tags_train"
      ]
    },
    {
      "cell_type": "code",
      "execution_count": null,
      "metadata": {
        "id": "cSFFoYf_uY9B",
        "outputId": "03809419-988b-4400-b2bd-a78b80170f3a",
        "colab": {
          "base_uri": "https://localhost:8080/"
        }
      },
      "outputs": [
        {
          "output_type": "stream",
          "name": "stdout",
          "text": [
            "MONOCHROME1    1659\n",
            "MONOCHROME2      79\n",
            "Name: PhotometricInterpretation, dtype: int64\n"
          ]
        }
      ],
      "source": [
        "print(dicom_tags_train.PhotometricInterpretation.value_counts())"
      ]
    },
    {
      "cell_type": "code",
      "execution_count": null,
      "metadata": {
        "id": "y455j0dguZP0"
      },
      "outputs": [],
      "source": [
        "train = dicom_tags_train.merge(train_df, on =  'SOPInstanceUID')\n",
        "test = dicom_tags_test.merge(test_df,on =  'SOPInstanceUID')"
      ]
    },
    {
      "cell_type": "code",
      "execution_count": null,
      "metadata": {
        "id": "z0b_MiIW1Ird",
        "outputId": "6c8772f3-be81-4a8e-a096-43b196d5a434",
        "colab": {
          "base_uri": "https://localhost:8080/",
          "height": 206
        }
      },
      "outputs": [
        {
          "output_type": "execute_result",
          "data": {
            "text/plain": [
              "                                            Filename  \\\n",
              "0  /content/train/train/train/1029/1.2.826.0.1.36...   \n",
              "1  /content/train/train/train/308/1.2.826.0.1.368...   \n",
              "2  /content/train/train/train/308/1.2.826.0.1.368...   \n",
              "3  /content/train/train/train/921/1.2.826.0.1.368...   \n",
              "4  /content/train/train/train/921/1.2.826.0.1.368...   \n",
              "\n",
              "  PhotometricInterpretation  BitsAllocated  \\\n",
              "0               MONOCHROME1             16   \n",
              "1               MONOCHROME1             16   \n",
              "2               MONOCHROME1             16   \n",
              "3               MONOCHROME1             16   \n",
              "4               MONOCHROME1             16   \n",
              "\n",
              "                                      SOPInstanceUID Target  \n",
              "0  1.2.826.0.1.3680043.8.498.96234511949925002869...     1   \n",
              "1  1.2.826.0.1.3680043.8.498.12250944515020919220...     3   \n",
              "2  1.2.826.0.1.3680043.8.498.51262104576214638840...     3   \n",
              "3  1.2.826.0.1.3680043.8.498.57849895084414384680...     3   \n",
              "4  1.2.826.0.1.3680043.8.498.10592554496378195625...     3   "
            ],
            "text/html": [
              "\n",
              "  <div id=\"df-9921750b-3f86-49b8-ba5f-808283305199\">\n",
              "    <div class=\"colab-df-container\">\n",
              "      <div>\n",
              "<style scoped>\n",
              "    .dataframe tbody tr th:only-of-type {\n",
              "        vertical-align: middle;\n",
              "    }\n",
              "\n",
              "    .dataframe tbody tr th {\n",
              "        vertical-align: top;\n",
              "    }\n",
              "\n",
              "    .dataframe thead th {\n",
              "        text-align: right;\n",
              "    }\n",
              "</style>\n",
              "<table border=\"1\" class=\"dataframe\">\n",
              "  <thead>\n",
              "    <tr style=\"text-align: right;\">\n",
              "      <th></th>\n",
              "      <th>Filename</th>\n",
              "      <th>PhotometricInterpretation</th>\n",
              "      <th>BitsAllocated</th>\n",
              "      <th>SOPInstanceUID</th>\n",
              "      <th>Target</th>\n",
              "    </tr>\n",
              "  </thead>\n",
              "  <tbody>\n",
              "    <tr>\n",
              "      <th>0</th>\n",
              "      <td>/content/train/train/train/1029/1.2.826.0.1.36...</td>\n",
              "      <td>MONOCHROME1</td>\n",
              "      <td>16</td>\n",
              "      <td>1.2.826.0.1.3680043.8.498.96234511949925002869...</td>\n",
              "      <td>1</td>\n",
              "    </tr>\n",
              "    <tr>\n",
              "      <th>1</th>\n",
              "      <td>/content/train/train/train/308/1.2.826.0.1.368...</td>\n",
              "      <td>MONOCHROME1</td>\n",
              "      <td>16</td>\n",
              "      <td>1.2.826.0.1.3680043.8.498.12250944515020919220...</td>\n",
              "      <td>3</td>\n",
              "    </tr>\n",
              "    <tr>\n",
              "      <th>2</th>\n",
              "      <td>/content/train/train/train/308/1.2.826.0.1.368...</td>\n",
              "      <td>MONOCHROME1</td>\n",
              "      <td>16</td>\n",
              "      <td>1.2.826.0.1.3680043.8.498.51262104576214638840...</td>\n",
              "      <td>3</td>\n",
              "    </tr>\n",
              "    <tr>\n",
              "      <th>3</th>\n",
              "      <td>/content/train/train/train/921/1.2.826.0.1.368...</td>\n",
              "      <td>MONOCHROME1</td>\n",
              "      <td>16</td>\n",
              "      <td>1.2.826.0.1.3680043.8.498.57849895084414384680...</td>\n",
              "      <td>3</td>\n",
              "    </tr>\n",
              "    <tr>\n",
              "      <th>4</th>\n",
              "      <td>/content/train/train/train/921/1.2.826.0.1.368...</td>\n",
              "      <td>MONOCHROME1</td>\n",
              "      <td>16</td>\n",
              "      <td>1.2.826.0.1.3680043.8.498.10592554496378195625...</td>\n",
              "      <td>3</td>\n",
              "    </tr>\n",
              "  </tbody>\n",
              "</table>\n",
              "</div>\n",
              "      <button class=\"colab-df-convert\" onclick=\"convertToInteractive('df-9921750b-3f86-49b8-ba5f-808283305199')\"\n",
              "              title=\"Convert this dataframe to an interactive table.\"\n",
              "              style=\"display:none;\">\n",
              "        \n",
              "  <svg xmlns=\"http://www.w3.org/2000/svg\" height=\"24px\"viewBox=\"0 0 24 24\"\n",
              "       width=\"24px\">\n",
              "    <path d=\"M0 0h24v24H0V0z\" fill=\"none\"/>\n",
              "    <path d=\"M18.56 5.44l.94 2.06.94-2.06 2.06-.94-2.06-.94-.94-2.06-.94 2.06-2.06.94zm-11 1L8.5 8.5l.94-2.06 2.06-.94-2.06-.94L8.5 2.5l-.94 2.06-2.06.94zm10 10l.94 2.06.94-2.06 2.06-.94-2.06-.94-.94-2.06-.94 2.06-2.06.94z\"/><path d=\"M17.41 7.96l-1.37-1.37c-.4-.4-.92-.59-1.43-.59-.52 0-1.04.2-1.43.59L10.3 9.45l-7.72 7.72c-.78.78-.78 2.05 0 2.83L4 21.41c.39.39.9.59 1.41.59.51 0 1.02-.2 1.41-.59l7.78-7.78 2.81-2.81c.8-.78.8-2.07 0-2.86zM5.41 20L4 18.59l7.72-7.72 1.47 1.35L5.41 20z\"/>\n",
              "  </svg>\n",
              "      </button>\n",
              "      \n",
              "  <style>\n",
              "    .colab-df-container {\n",
              "      display:flex;\n",
              "      flex-wrap:wrap;\n",
              "      gap: 12px;\n",
              "    }\n",
              "\n",
              "    .colab-df-convert {\n",
              "      background-color: #E8F0FE;\n",
              "      border: none;\n",
              "      border-radius: 50%;\n",
              "      cursor: pointer;\n",
              "      display: none;\n",
              "      fill: #1967D2;\n",
              "      height: 32px;\n",
              "      padding: 0 0 0 0;\n",
              "      width: 32px;\n",
              "    }\n",
              "\n",
              "    .colab-df-convert:hover {\n",
              "      background-color: #E2EBFA;\n",
              "      box-shadow: 0px 1px 2px rgba(60, 64, 67, 0.3), 0px 1px 3px 1px rgba(60, 64, 67, 0.15);\n",
              "      fill: #174EA6;\n",
              "    }\n",
              "\n",
              "    [theme=dark] .colab-df-convert {\n",
              "      background-color: #3B4455;\n",
              "      fill: #D2E3FC;\n",
              "    }\n",
              "\n",
              "    [theme=dark] .colab-df-convert:hover {\n",
              "      background-color: #434B5C;\n",
              "      box-shadow: 0px 1px 3px 1px rgba(0, 0, 0, 0.15);\n",
              "      filter: drop-shadow(0px 1px 2px rgba(0, 0, 0, 0.3));\n",
              "      fill: #FFFFFF;\n",
              "    }\n",
              "  </style>\n",
              "\n",
              "      <script>\n",
              "        const buttonEl =\n",
              "          document.querySelector('#df-9921750b-3f86-49b8-ba5f-808283305199 button.colab-df-convert');\n",
              "        buttonEl.style.display =\n",
              "          google.colab.kernel.accessAllowed ? 'block' : 'none';\n",
              "\n",
              "        async function convertToInteractive(key) {\n",
              "          const element = document.querySelector('#df-9921750b-3f86-49b8-ba5f-808283305199');\n",
              "          const dataTable =\n",
              "            await google.colab.kernel.invokeFunction('convertToInteractive',\n",
              "                                                     [key], {});\n",
              "          if (!dataTable) return;\n",
              "\n",
              "          const docLinkHtml = 'Like what you see? Visit the ' +\n",
              "            '<a target=\"_blank\" href=https://colab.research.google.com/notebooks/data_table.ipynb>data table notebook</a>'\n",
              "            + ' to learn more about interactive tables.';\n",
              "          element.innerHTML = '';\n",
              "          dataTable['output_type'] = 'display_data';\n",
              "          await google.colab.output.renderOutput(dataTable, element);\n",
              "          const docLink = document.createElement('div');\n",
              "          docLink.innerHTML = docLinkHtml;\n",
              "          element.appendChild(docLink);\n",
              "        }\n",
              "      </script>\n",
              "    </div>\n",
              "  </div>\n",
              "  "
            ]
          },
          "metadata": {},
          "execution_count": 19
        }
      ],
      "source": [
        "train.head()"
      ]
    },
    {
      "cell_type": "code",
      "execution_count": null,
      "metadata": {
        "id": "PfDmww_v1Jih"
      },
      "outputs": [],
      "source": [
        "target = list(train[\"Target\"])"
      ]
    },
    {
      "cell_type": "code",
      "execution_count": null,
      "metadata": {
        "id": "0YxipR8b5FtC"
      },
      "outputs": [],
      "source": [
        "labels = ['Abdomen', 'Ankle', 'Cervical Spine',\n",
        "       'Chest', 'Clavicles', 'Elbow', 'Feet', 'Finger', 'Forearm', 'Hand',\n",
        "       'Hip', 'Knee', 'Lower Leg', 'Lumbar Spine', 'Others', 'Pelvis',\n",
        "       'Shoulder', 'Sinus', 'Skull', 'Thigh', 'Thoracic Spine', 'Wrist']"
      ]
    },
    {
      "cell_type": "markdown",
      "source": [
        "## Eliminating images with more than one organ"
      ],
      "metadata": {
        "id": "Z87iTD5h3heD"
      }
    },
    {
      "cell_type": "code",
      "execution_count": null,
      "metadata": {
        "id": "1MERfji73LeD",
        "outputId": "524fdee9-e5bb-4d42-9cca-68d7716ea4ad",
        "colab": {
          "base_uri": "https://localhost:8080/"
        }
      },
      "outputs": [
        {
          "output_type": "stream",
          "name": "stderr",
          "text": [
            "100%|██████████| 1738/1738 [00:00<00:00, 263175.58it/s]\n"
          ]
        },
        {
          "output_type": "execute_result",
          "data": {
            "text/plain": [
              "array(['Ankle', 'Chest', 'Lumbar Spine', 'Pelvis',\n",
              "       'Cervical Spine and Lumbar Spine and Thoracic Spine', 'Lower Leg',\n",
              "       'Feet', 'Ankle and Feet', 'Hip', 'Shoulder', 'Knee', 'Sinus',\n",
              "       'Clavicles', 'Elbow', 'Others', 'Abdomen',\n",
              "       'Lumbar Spine and Thoracic Spine', 'Hand', 'Cervical Spine',\n",
              "       'Forearm', 'Wrist', 'Abdomen and Chest', 'Hand and Wrist',\n",
              "       'Knee and Lower Leg', 'Forearm and Shoulder', 'Pelvis and Thigh',\n",
              "       'Finger', 'Ankle and Knee and Lower Leg', 'Finger and Hand',\n",
              "       'Thoracic Spine', 'Skull', 'Hip and Thigh',\n",
              "       'Hip and Knee and Thigh', 'Thigh', 'Abdomen and Pelvis',\n",
              "       'Elbow and Forearm', 'Cervical Spine and Thoracic Spine',\n",
              "       'Chest and Feet', 'Chest and Pelvis', 'Chest and Finger',\n",
              "       'Ankle and Lower Leg'], dtype=object)"
            ]
          },
          "metadata": {},
          "execution_count": 22
        }
      ],
      "source": [
        "#Create Label from target\n",
        "def no_to_label(label):\n",
        "    label_list_string = []\n",
        "    trimed_label = label.rstrip()\n",
        "    label_list = trimed_label.split(\" \")\n",
        "    label_list = [int(i) for i in label_list]\n",
        "    for label in label_list:\n",
        "        label_list_string.append(bodyparts[label])\n",
        "    label_string = ' and '.join(label_list_string)\n",
        "    return label_string\n",
        "\n",
        "target_list = train['Target'].tolist()\n",
        "label_column = []\n",
        "\n",
        "for label in tqdm(target_list):\n",
        "    label_string = no_to_label(label)\n",
        "    label_column.append(label_string)\n",
        "\n",
        "train['Label'] = label_column\n",
        "train['Label'].unique()"
      ]
    },
    {
      "cell_type": "code",
      "execution_count": null,
      "metadata": {
        "id": "WIvoUoIt4WW4",
        "outputId": "ed395ac3-6e00-4efe-b99b-dbb53356438d",
        "colab": {
          "base_uri": "https://localhost:8080/",
          "height": 206
        }
      },
      "outputs": [
        {
          "output_type": "execute_result",
          "data": {
            "text/plain": [
              "                                            Filename  \\\n",
              "0  /content/train/train/train/1029/1.2.826.0.1.36...   \n",
              "1  /content/train/train/train/308/1.2.826.0.1.368...   \n",
              "2  /content/train/train/train/308/1.2.826.0.1.368...   \n",
              "3  /content/train/train/train/921/1.2.826.0.1.368...   \n",
              "4  /content/train/train/train/921/1.2.826.0.1.368...   \n",
              "\n",
              "  PhotometricInterpretation  BitsAllocated  \\\n",
              "0               MONOCHROME1             16   \n",
              "1               MONOCHROME1             16   \n",
              "2               MONOCHROME1             16   \n",
              "3               MONOCHROME1             16   \n",
              "4               MONOCHROME1             16   \n",
              "\n",
              "                                      SOPInstanceUID Target  Label  \n",
              "0  1.2.826.0.1.3680043.8.498.96234511949925002869...     1   Ankle  \n",
              "1  1.2.826.0.1.3680043.8.498.12250944515020919220...     3   Chest  \n",
              "2  1.2.826.0.1.3680043.8.498.51262104576214638840...     3   Chest  \n",
              "3  1.2.826.0.1.3680043.8.498.57849895084414384680...     3   Chest  \n",
              "4  1.2.826.0.1.3680043.8.498.10592554496378195625...     3   Chest  "
            ],
            "text/html": [
              "\n",
              "  <div id=\"df-6c726356-2f4b-4a10-8f7b-7d31d9ff92e1\">\n",
              "    <div class=\"colab-df-container\">\n",
              "      <div>\n",
              "<style scoped>\n",
              "    .dataframe tbody tr th:only-of-type {\n",
              "        vertical-align: middle;\n",
              "    }\n",
              "\n",
              "    .dataframe tbody tr th {\n",
              "        vertical-align: top;\n",
              "    }\n",
              "\n",
              "    .dataframe thead th {\n",
              "        text-align: right;\n",
              "    }\n",
              "</style>\n",
              "<table border=\"1\" class=\"dataframe\">\n",
              "  <thead>\n",
              "    <tr style=\"text-align: right;\">\n",
              "      <th></th>\n",
              "      <th>Filename</th>\n",
              "      <th>PhotometricInterpretation</th>\n",
              "      <th>BitsAllocated</th>\n",
              "      <th>SOPInstanceUID</th>\n",
              "      <th>Target</th>\n",
              "      <th>Label</th>\n",
              "    </tr>\n",
              "  </thead>\n",
              "  <tbody>\n",
              "    <tr>\n",
              "      <th>0</th>\n",
              "      <td>/content/train/train/train/1029/1.2.826.0.1.36...</td>\n",
              "      <td>MONOCHROME1</td>\n",
              "      <td>16</td>\n",
              "      <td>1.2.826.0.1.3680043.8.498.96234511949925002869...</td>\n",
              "      <td>1</td>\n",
              "      <td>Ankle</td>\n",
              "    </tr>\n",
              "    <tr>\n",
              "      <th>1</th>\n",
              "      <td>/content/train/train/train/308/1.2.826.0.1.368...</td>\n",
              "      <td>MONOCHROME1</td>\n",
              "      <td>16</td>\n",
              "      <td>1.2.826.0.1.3680043.8.498.12250944515020919220...</td>\n",
              "      <td>3</td>\n",
              "      <td>Chest</td>\n",
              "    </tr>\n",
              "    <tr>\n",
              "      <th>2</th>\n",
              "      <td>/content/train/train/train/308/1.2.826.0.1.368...</td>\n",
              "      <td>MONOCHROME1</td>\n",
              "      <td>16</td>\n",
              "      <td>1.2.826.0.1.3680043.8.498.51262104576214638840...</td>\n",
              "      <td>3</td>\n",
              "      <td>Chest</td>\n",
              "    </tr>\n",
              "    <tr>\n",
              "      <th>3</th>\n",
              "      <td>/content/train/train/train/921/1.2.826.0.1.368...</td>\n",
              "      <td>MONOCHROME1</td>\n",
              "      <td>16</td>\n",
              "      <td>1.2.826.0.1.3680043.8.498.57849895084414384680...</td>\n",
              "      <td>3</td>\n",
              "      <td>Chest</td>\n",
              "    </tr>\n",
              "    <tr>\n",
              "      <th>4</th>\n",
              "      <td>/content/train/train/train/921/1.2.826.0.1.368...</td>\n",
              "      <td>MONOCHROME1</td>\n",
              "      <td>16</td>\n",
              "      <td>1.2.826.0.1.3680043.8.498.10592554496378195625...</td>\n",
              "      <td>3</td>\n",
              "      <td>Chest</td>\n",
              "    </tr>\n",
              "  </tbody>\n",
              "</table>\n",
              "</div>\n",
              "      <button class=\"colab-df-convert\" onclick=\"convertToInteractive('df-6c726356-2f4b-4a10-8f7b-7d31d9ff92e1')\"\n",
              "              title=\"Convert this dataframe to an interactive table.\"\n",
              "              style=\"display:none;\">\n",
              "        \n",
              "  <svg xmlns=\"http://www.w3.org/2000/svg\" height=\"24px\"viewBox=\"0 0 24 24\"\n",
              "       width=\"24px\">\n",
              "    <path d=\"M0 0h24v24H0V0z\" fill=\"none\"/>\n",
              "    <path d=\"M18.56 5.44l.94 2.06.94-2.06 2.06-.94-2.06-.94-.94-2.06-.94 2.06-2.06.94zm-11 1L8.5 8.5l.94-2.06 2.06-.94-2.06-.94L8.5 2.5l-.94 2.06-2.06.94zm10 10l.94 2.06.94-2.06 2.06-.94-2.06-.94-.94-2.06-.94 2.06-2.06.94z\"/><path d=\"M17.41 7.96l-1.37-1.37c-.4-.4-.92-.59-1.43-.59-.52 0-1.04.2-1.43.59L10.3 9.45l-7.72 7.72c-.78.78-.78 2.05 0 2.83L4 21.41c.39.39.9.59 1.41.59.51 0 1.02-.2 1.41-.59l7.78-7.78 2.81-2.81c.8-.78.8-2.07 0-2.86zM5.41 20L4 18.59l7.72-7.72 1.47 1.35L5.41 20z\"/>\n",
              "  </svg>\n",
              "      </button>\n",
              "      \n",
              "  <style>\n",
              "    .colab-df-container {\n",
              "      display:flex;\n",
              "      flex-wrap:wrap;\n",
              "      gap: 12px;\n",
              "    }\n",
              "\n",
              "    .colab-df-convert {\n",
              "      background-color: #E8F0FE;\n",
              "      border: none;\n",
              "      border-radius: 50%;\n",
              "      cursor: pointer;\n",
              "      display: none;\n",
              "      fill: #1967D2;\n",
              "      height: 32px;\n",
              "      padding: 0 0 0 0;\n",
              "      width: 32px;\n",
              "    }\n",
              "\n",
              "    .colab-df-convert:hover {\n",
              "      background-color: #E2EBFA;\n",
              "      box-shadow: 0px 1px 2px rgba(60, 64, 67, 0.3), 0px 1px 3px 1px rgba(60, 64, 67, 0.15);\n",
              "      fill: #174EA6;\n",
              "    }\n",
              "\n",
              "    [theme=dark] .colab-df-convert {\n",
              "      background-color: #3B4455;\n",
              "      fill: #D2E3FC;\n",
              "    }\n",
              "\n",
              "    [theme=dark] .colab-df-convert:hover {\n",
              "      background-color: #434B5C;\n",
              "      box-shadow: 0px 1px 3px 1px rgba(0, 0, 0, 0.15);\n",
              "      filter: drop-shadow(0px 1px 2px rgba(0, 0, 0, 0.3));\n",
              "      fill: #FFFFFF;\n",
              "    }\n",
              "  </style>\n",
              "\n",
              "      <script>\n",
              "        const buttonEl =\n",
              "          document.querySelector('#df-6c726356-2f4b-4a10-8f7b-7d31d9ff92e1 button.colab-df-convert');\n",
              "        buttonEl.style.display =\n",
              "          google.colab.kernel.accessAllowed ? 'block' : 'none';\n",
              "\n",
              "        async function convertToInteractive(key) {\n",
              "          const element = document.querySelector('#df-6c726356-2f4b-4a10-8f7b-7d31d9ff92e1');\n",
              "          const dataTable =\n",
              "            await google.colab.kernel.invokeFunction('convertToInteractive',\n",
              "                                                     [key], {});\n",
              "          if (!dataTable) return;\n",
              "\n",
              "          const docLinkHtml = 'Like what you see? Visit the ' +\n",
              "            '<a target=\"_blank\" href=https://colab.research.google.com/notebooks/data_table.ipynb>data table notebook</a>'\n",
              "            + ' to learn more about interactive tables.';\n",
              "          element.innerHTML = '';\n",
              "          dataTable['output_type'] = 'display_data';\n",
              "          await google.colab.output.renderOutput(dataTable, element);\n",
              "          const docLink = document.createElement('div');\n",
              "          docLink.innerHTML = docLinkHtml;\n",
              "          element.appendChild(docLink);\n",
              "        }\n",
              "      </script>\n",
              "    </div>\n",
              "  </div>\n",
              "  "
            ]
          },
          "metadata": {},
          "execution_count": 23
        }
      ],
      "source": [
        "train.head()"
      ]
    },
    {
      "cell_type": "code",
      "source": [
        "aux = list(train[\"Label\"])\n",
        "index=[]\n",
        "for i in range(len(aux)):\n",
        "    if \" and \" in aux[i]:\n",
        "        index.append(i)"
      ],
      "metadata": {
        "id": "mF-bO1N13d4d"
      },
      "execution_count": null,
      "outputs": []
    },
    {
      "cell_type": "code",
      "source": [
        "train.drop(index, axis=0, inplace=True)\n"
      ],
      "metadata": {
        "id": "0Q6Z81933foi"
      },
      "execution_count": null,
      "outputs": []
    },
    {
      "cell_type": "code",
      "source": [
        "train[\"Label\"].unique()"
      ],
      "metadata": {
        "colab": {
          "base_uri": "https://localhost:8080/"
        },
        "id": "bOZPaIPj3xYC",
        "outputId": "edd897d5-d4c3-48b7-9d30-9bac4f31eb33"
      },
      "execution_count": null,
      "outputs": [
        {
          "output_type": "execute_result",
          "data": {
            "text/plain": [
              "array(['Ankle', 'Chest', 'Lumbar Spine', 'Pelvis', 'Lower Leg', 'Feet',\n",
              "       'Hip', 'Shoulder', 'Knee', 'Sinus', 'Clavicles', 'Elbow', 'Others',\n",
              "       'Abdomen', 'Hand', 'Cervical Spine', 'Forearm', 'Wrist', 'Finger',\n",
              "       'Thoracic Spine', 'Skull', 'Thigh'], dtype=object)"
            ]
          },
          "metadata": {},
          "execution_count": 26
        }
      ]
    },
    {
      "cell_type": "code",
      "execution_count": null,
      "metadata": {
        "id": "t254IvU64jle",
        "outputId": "ff67f863-b474-499b-8c6e-d64a638abda1",
        "colab": {
          "base_uri": "https://localhost:8080/"
        }
      },
      "outputs": [
        {
          "output_type": "execute_result",
          "data": {
            "text/plain": [
              "Chest             724\n",
              "Others            120\n",
              "Knee              102\n",
              "Abdomen            80\n",
              "Cervical Spine     77\n",
              "Feet               70\n",
              "Pelvis             67\n",
              "Wrist              63\n",
              "Ankle              41\n",
              "Shoulder           40\n",
              "Lumbar Spine       39\n",
              "Hand               31\n",
              "Elbow              23\n",
              "Sinus              23\n",
              "Hip                19\n",
              "Lower Leg          19\n",
              "Finger             15\n",
              "Thoracic Spine     15\n",
              "Forearm            12\n",
              "Skull              10\n",
              "Clavicles           9\n",
              "Thigh               7\n",
              "Name: Label, dtype: int64"
            ]
          },
          "metadata": {},
          "execution_count": 27
        }
      ],
      "source": [
        "train.Label.value_counts()"
      ]
    },
    {
      "cell_type": "code",
      "source": [
        "len(train[\"Label\"].unique())"
      ],
      "metadata": {
        "colab": {
          "base_uri": "https://localhost:8080/"
        },
        "id": "bPVvsv2531OL",
        "outputId": "c4d5303e-273a-4127-9d12-6021f77faeb7"
      },
      "execution_count": null,
      "outputs": [
        {
          "output_type": "execute_result",
          "data": {
            "text/plain": [
              "22"
            ]
          },
          "metadata": {},
          "execution_count": 28
        }
      ]
    },
    {
      "cell_type": "code",
      "source": [
        " #Setting the size of images for the template\n",
        "batch_size = 32\n",
        "img_height = 180 \n",
        "img_width = 180"
      ],
      "metadata": {
        "id": "xXsshWcW3-t6"
      },
      "execution_count": null,
      "outputs": []
    },
    {
      "cell_type": "code",
      "source": [
        "data_dir = \"/content/train_img\"\n"
      ],
      "metadata": {
        "id": "pnuA4WA53_V2"
      },
      "execution_count": null,
      "outputs": []
    },
    {
      "cell_type": "code",
      "source": [
        "train_ds = tf.keras.utils.image_dataset_from_directory(\n",
        "  data_dir,\n",
        "  validation_split=0.2,\n",
        "  subset=\"training\",\n",
        "  seed=123,\n",
        "  image_size=(img_height, img_width),\n",
        "  batch_size=batch_size)\n",
        "\n",
        "# 80% for training 20% for test"
      ],
      "metadata": {
        "colab": {
          "base_uri": "https://localhost:8080/"
        },
        "id": "4FvFYwOJ4BrS",
        "outputId": "4c7b6159-a309-4007-ba7f-91d0a7ae91b1"
      },
      "execution_count": null,
      "outputs": [
        {
          "output_type": "stream",
          "name": "stdout",
          "text": [
            "Found 1082 files belonging to 22 classes.\n",
            "Using 866 files for training.\n"
          ]
        }
      ]
    },
    {
      "cell_type": "code",
      "source": [
        "val_ds = tf.keras.utils.image_dataset_from_directory(\n",
        "  data_dir,\n",
        "  validation_split=0.2,\n",
        "  subset=\"validation\",\n",
        "  seed=123,\n",
        "  image_size=(img_height, img_width),\n",
        "  batch_size=batch_size)"
      ],
      "metadata": {
        "colab": {
          "base_uri": "https://localhost:8080/"
        },
        "id": "oJIyn7U14ETs",
        "outputId": "235064c2-d397-4122-c026-a786d766036d"
      },
      "execution_count": null,
      "outputs": [
        {
          "output_type": "stream",
          "name": "stdout",
          "text": [
            "Found 1082 files belonging to 22 classes.\n",
            "Using 216 files for validation.\n"
          ]
        }
      ]
    },
    {
      "cell_type": "code",
      "source": [
        "class_names = train_ds.class_names\n",
        "print(len(class_names))"
      ],
      "metadata": {
        "colab": {
          "base_uri": "https://localhost:8080/"
        },
        "id": "eTFBL4QT4GRC",
        "outputId": "e6a92b1f-2091-415c-d924-0fd48134b476"
      },
      "execution_count": null,
      "outputs": [
        {
          "output_type": "stream",
          "name": "stdout",
          "text": [
            "22\n"
          ]
        }
      ]
    },
    {
      "cell_type": "code",
      "source": [
        "classes = sorted(list(train.Label.unique()))\n",
        "len(classes)"
      ],
      "metadata": {
        "colab": {
          "base_uri": "https://localhost:8080/"
        },
        "id": "D0nL2FqT4RU8",
        "outputId": "08ad6260-973e-410c-96a1-8a839d2a335d"
      },
      "execution_count": null,
      "outputs": [
        {
          "output_type": "execute_result",
          "data": {
            "text/plain": [
              "22"
            ]
          },
          "metadata": {},
          "execution_count": 34
        }
      ]
    },
    {
      "cell_type": "code",
      "source": [
        "for i in class_names:\n",
        "  if i not in classes:\n",
        "    print(i)"
      ],
      "metadata": {
        "id": "GyLRcSBk4StA"
      },
      "execution_count": null,
      "outputs": []
    },
    {
      "cell_type": "code",
      "source": [
        "import matplotlib.pyplot as plt\n",
        "\n",
        "plt.figure(figsize=(10, 10))\n",
        "for images, labels in train_ds.take(1):\n",
        "  for i in range(9):\n",
        "    ax = plt.subplot(3, 3, i + 1)\n",
        "    plt.imshow(images[i].numpy().astype(\"uint8\"))\n",
        "    plt.title(class_names[labels[i]])\n",
        "    plt.axis(\"off\")"
      ],
      "metadata": {
        "colab": {
          "base_uri": "https://localhost:8080/",
          "height": 591
        },
        "id": "8VYULIqp4U4b",
        "outputId": "fbc32778-da59-4032-c97a-cd4d4f21de97"
      },
      "execution_count": null,
      "outputs": [
        {
          "output_type": "display_data",
          "data": {
            "text/plain": [
              "<Figure size 720x720 with 9 Axes>"
            ],
            "image/png": "[encoded data removed]"
          },
          "metadata": {
            "needs_background": "light"
          }
        }
      ]
    },
    {
      "cell_type": "code",
      "source": [
        "for image_batch, labels_batch in train_ds:\n",
        "  print(image_batch.shape)\n",
        "  print(labels_batch.shape)\n",
        "  break"
      ],
      "metadata": {
        "colab": {
          "base_uri": "https://localhost:8080/"
        },
        "id": "F3YCkrt24Vbq",
        "outputId": "ac278f80-fab2-4ef9-95a4-95b584a5e176"
      },
      "execution_count": null,
      "outputs": [
        {
          "output_type": "stream",
          "name": "stdout",
          "text": [
            "(32, 180, 180, 3)\n",
            "(32,)\n"
          ]
        }
      ]
    },
    {
      "cell_type": "markdown",
      "source": [
        "Como visto em [tensorflow](https://www.tensorflow.org/tutorials/load_data/images) é importante deixar os valores de entrada pequenos, para isso recomenda-se utilizar uma normalização para os valores estarem entre [0, 1]."
      ],
      "metadata": {
        "id": "bUcXUFFg4ZyN"
      }
    },
    {
      "cell_type": "code",
      "source": [
        "normalization_layer = tf.keras.layers.Rescaling(1./255)"
      ],
      "metadata": {
        "id": "baWjS0v64XS-"
      },
      "execution_count": null,
      "outputs": []
    },
    {
      "cell_type": "code",
      "source": [
        "normalized_ds = train_ds.map(lambda x, y: (normalization_layer(x), y))\n",
        "image_batch, labels_batch = next(iter(normalized_ds))\n",
        "first_image = image_batch[0]\n",
        "# Notice the pixel values are now in `[0,1]`.\n",
        "print(np.min(first_image), np.max(first_image))"
      ],
      "metadata": {
        "colab": {
          "base_uri": "https://localhost:8080/"
        },
        "id": "9xHtNvNo4cJy",
        "outputId": "b43887cf-4189-4d87-9339-ca61ac1357c0"
      },
      "execution_count": null,
      "outputs": [
        {
          "output_type": "stream",
          "name": "stdout",
          "text": [
            "0.43549597 0.9893968\n"
          ]
        }
      ]
    },
    {
      "cell_type": "code",
      "source": [
        "data_augmentation = tf.keras.Sequential([\n",
        "  layers.RandomFlip(\"horizontal_and_vertical\"),\n",
        "  layers.RandomRotation(0.2),\n",
        "])"
      ],
      "metadata": {
        "id": "GrUdpclE4d9b"
      },
      "execution_count": null,
      "outputs": []
    },
    {
      "cell_type": "code",
      "source": [
        "model = tf.keras.Sequential([\n",
        "  # Add the preprocessing layers you created earlier.\n",
        "  data_augmentation,\n",
        "  layers.Conv2D(16, 3, padding='same', activation='relu'),\n",
        "  layers.MaxPooling2D(),\n",
        "  # Rest of your model.\n",
        "])"
      ],
      "metadata": {
        "id": "rn3akDhH4fVt"
      },
      "execution_count": null,
      "outputs": []
    }
  ],
  "metadata": {
    "colab": {
      "collapsed_sections": [],
      "provenance": [],
      "toc_visible": true,
      "include_colab_link": true
    },
    "kernelspec": {
      "display_name": "Python 3.9.0 32-bit",
      "language": "python",
      "name": "python3"
    },
    "language_info": {
      "name": "python",
      "version": "3.9.0"
    },
    "vscode": {
      "interpreter": {
        "hash": "5b76773ed08602836185ee19b6a28a35c7b52ddebf734b2b96c5aebf91a1aa12"
      }
    }
  },
  "nbformat": 4,
  "nbformat_minor": 0
}