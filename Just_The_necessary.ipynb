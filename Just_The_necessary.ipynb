{
  "cells": [
    {
      "cell_type": "markdown",
      "metadata": {
        "id": "view-in-github",
        "colab_type": "text"
      },
      "source": [
        "<a href=\"https://colab.research.google.com/github/LucasLessa1/X-rayBodyPart/blob/lucas1/Just_The_necessary.ipynb\" target=\"_parent\"><img src=\"https://colab.research.google.com/assets/colab-badge.svg\" alt=\"Open In Colab\"/></a>"
      ]
    },
    {
      "cell_type": "markdown",
      "metadata": {
        "id": "lU48iA-hf04s"
      },
      "source": [
        "#Imports and Ajusting file\n"
      ]
    },
    {
      "cell_type": "code",
      "source": [
        "pip install pydicom"
      ],
      "metadata": {
        "colab": {
          "base_uri": "https://localhost:8080/"
        },
        "id": "nx4wKUZrZcep",
        "outputId": "e5dfd721-eb73-431a-c92e-f4350c4c3be3"
      },
      "execution_count": 1,
      "outputs": [
        {
          "output_type": "stream",
          "name": "stdout",
          "text": [
            "Looking in indexes: https://pypi.org/simple, https://us-python.pkg.dev/colab-wheels/public/simple/\n",
            "Collecting pydicom\n",
            "  Downloading pydicom-2.3.0-py3-none-any.whl (2.0 MB)\n",
            "\u001b[K     |████████████████████████████████| 2.0 MB 14.6 MB/s \n",
            "\u001b[?25hInstalling collected packages: pydicom\n",
            "Successfully installed pydicom-2.3.0\n"
          ]
        }
      ]
    },
    {
      "cell_type": "code",
      "execution_count": 2,
      "metadata": {
        "id": "X75kHVXu3C8m"
      },
      "outputs": [],
      "source": [
        "import cv2\n",
        "import pandas as pd\n",
        "import os\n",
        "import shutil\n",
        "import time\n",
        "import math\n",
        "import zipfile\n",
        "import numpy as np\n",
        "from tqdm import tqdm\n",
        "import os\n",
        "from PIL import Image\n",
        "import string\n",
        "import matplotlib.pyplot as plt\n",
        "from scipy.io import loadmat\n",
        "import pydicom\n",
        "import gdown\n",
        "# from google.colab.patches import cv2_imshow"
      ]
    },
    {
      "cell_type": "code",
      "execution_count": 3,
      "metadata": {
        "id": "sqf48VqoeCqt"
      },
      "outputs": [],
      "source": [
        "def download(id): \n",
        "    url = 'https://drive.google.com/uc?id=' + str(id)\n",
        "    gdown.download(url, output = None, quiet = False)\n",
        "\n",
        "def unzip(path): #Função para unzip\n",
        "    zip = zipfile.ZipFile(path)\n",
        "    zip.extractall()\n",
        "    zip.close()"
      ]
    },
    {
      "cell_type": "code",
      "execution_count": 4,
      "metadata": {
        "colab": {
          "base_uri": "https://localhost:8080/"
        },
        "id": "CEFniMhVgyUh",
        "outputId": "a4870a44-e023-41c1-d62c-89229946df94"
      },
      "outputs": [
        {
          "output_type": "stream",
          "name": "stderr",
          "text": [
            "Downloading...\n",
            "From: https://drive.google.com/uc?id=1ev-r31j8oRzDlKM_toaeADO2psrA_XXm\n",
            "To: /content/archive.zip\n",
            "100%|██████████| 269M/269M [00:03<00:00, 84.7MB/s]\n"
          ]
        }
      ],
      "source": [
        "# https://drive.google.com/file/d/1ev-r31j8oRzDlKM_toaeADO2psrA_XXm/view?usp=sharing\n",
        "\n",
        "download('1ev-r31j8oRzDlKM_toaeADO2psrA_XXm')\n",
        "#/mnt/c/Códigos_VS/X-rayBodyPart/archive.zip\n",
        "unzip('/content/archive.zip')"
      ]
    },
    {
      "cell_type": "code",
      "execution_count": 5,
      "metadata": {
        "id": "PpL-tSErjuD6"
      },
      "outputs": [],
      "source": [
        "train_df = pd.read_csv('/content/train.csv')\n",
        "test_df = pd.read_csv('/content/sample_submission.csv')"
      ]
    },
    {
      "cell_type": "code",
      "execution_count": 6,
      "metadata": {
        "colab": {
          "base_uri": "https://localhost:8080/",
          "height": 206
        },
        "id": "c8qRth9FkA5p",
        "outputId": "deffd2eb-2ced-49a5-a0bf-9cf5fcc043f4"
      },
      "outputs": [
        {
          "output_type": "execute_result",
          "data": {
            "text/plain": [
              "                                      SOPInstanceUID  \\\n",
              "0  1.2.826.0.1.3680043.8.498.10001001190452685542...   \n",
              "1  1.2.826.0.1.3680043.8.498.10022667601042710442...   \n",
              "2  1.2.826.0.1.3680043.8.498.10024395388921105474...   \n",
              "3  1.2.826.0.1.3680043.8.498.10026689165626095651...   \n",
              "4  1.2.826.0.1.3680043.8.498.10035936364561920980...   \n",
              "\n",
              "                                              Target  \n",
              "0  0 1 2 3 4 5 6 7 8 9 10 11 12 13 14 15 16 17 18...  \n",
              "1  0 1 2 3 4 5 6 7 8 9 10 11 12 13 14 15 16 17 18...  \n",
              "2  0 1 2 3 4 5 6 7 8 9 10 11 12 13 14 15 16 17 18...  \n",
              "3  0 1 2 3 4 5 6 7 8 9 10 11 12 13 14 15 16 17 18...  \n",
              "4  0 1 2 3 4 5 6 7 8 9 10 11 12 13 14 15 16 17 18...  "
            ],
            "text/html": [
              "\n",
              "  <div id=\"df-8c262681-b43a-4b3a-b93b-820f5184e3b1\">\n",
              "    <div class=\"colab-df-container\">\n",
              "      <div>\n",
              "<style scoped>\n",
              "    .dataframe tbody tr th:only-of-type {\n",
              "        vertical-align: middle;\n",
              "    }\n",
              "\n",
              "    .dataframe tbody tr th {\n",
              "        vertical-align: top;\n",
              "    }\n",
              "\n",
              "    .dataframe thead th {\n",
              "        text-align: right;\n",
              "    }\n",
              "</style>\n",
              "<table border=\"1\" class=\"dataframe\">\n",
              "  <thead>\n",
              "    <tr style=\"text-align: right;\">\n",
              "      <th></th>\n",
              "      <th>SOPInstanceUID</th>\n",
              "      <th>Target</th>\n",
              "    </tr>\n",
              "  </thead>\n",
              "  <tbody>\n",
              "    <tr>\n",
              "      <th>0</th>\n",
              "      <td>1.2.826.0.1.3680043.8.498.10001001190452685542...</td>\n",
              "      <td>0 1 2 3 4 5 6 7 8 9 10 11 12 13 14 15 16 17 18...</td>\n",
              "    </tr>\n",
              "    <tr>\n",
              "      <th>1</th>\n",
              "      <td>1.2.826.0.1.3680043.8.498.10022667601042710442...</td>\n",
              "      <td>0 1 2 3 4 5 6 7 8 9 10 11 12 13 14 15 16 17 18...</td>\n",
              "    </tr>\n",
              "    <tr>\n",
              "      <th>2</th>\n",
              "      <td>1.2.826.0.1.3680043.8.498.10024395388921105474...</td>\n",
              "      <td>0 1 2 3 4 5 6 7 8 9 10 11 12 13 14 15 16 17 18...</td>\n",
              "    </tr>\n",
              "    <tr>\n",
              "      <th>3</th>\n",
              "      <td>1.2.826.0.1.3680043.8.498.10026689165626095651...</td>\n",
              "      <td>0 1 2 3 4 5 6 7 8 9 10 11 12 13 14 15 16 17 18...</td>\n",
              "    </tr>\n",
              "    <tr>\n",
              "      <th>4</th>\n",
              "      <td>1.2.826.0.1.3680043.8.498.10035936364561920980...</td>\n",
              "      <td>0 1 2 3 4 5 6 7 8 9 10 11 12 13 14 15 16 17 18...</td>\n",
              "    </tr>\n",
              "  </tbody>\n",
              "</table>\n",
              "</div>\n",
              "      <button class=\"colab-df-convert\" onclick=\"convertToInteractive('df-8c262681-b43a-4b3a-b93b-820f5184e3b1')\"\n",
              "              title=\"Convert this dataframe to an interactive table.\"\n",
              "              style=\"display:none;\">\n",
              "        \n",
              "  <svg xmlns=\"http://www.w3.org/2000/svg\" height=\"24px\"viewBox=\"0 0 24 24\"\n",
              "       width=\"24px\">\n",
              "    <path d=\"M0 0h24v24H0V0z\" fill=\"none\"/>\n",
              "    <path d=\"M18.56 5.44l.94 2.06.94-2.06 2.06-.94-2.06-.94-.94-2.06-.94 2.06-2.06.94zm-11 1L8.5 8.5l.94-2.06 2.06-.94-2.06-.94L8.5 2.5l-.94 2.06-2.06.94zm10 10l.94 2.06.94-2.06 2.06-.94-2.06-.94-.94-2.06-.94 2.06-2.06.94z\"/><path d=\"M17.41 7.96l-1.37-1.37c-.4-.4-.92-.59-1.43-.59-.52 0-1.04.2-1.43.59L10.3 9.45l-7.72 7.72c-.78.78-.78 2.05 0 2.83L4 21.41c.39.39.9.59 1.41.59.51 0 1.02-.2 1.41-.59l7.78-7.78 2.81-2.81c.8-.78.8-2.07 0-2.86zM5.41 20L4 18.59l7.72-7.72 1.47 1.35L5.41 20z\"/>\n",
              "  </svg>\n",
              "      </button>\n",
              "      \n",
              "  <style>\n",
              "    .colab-df-container {\n",
              "      display:flex;\n",
              "      flex-wrap:wrap;\n",
              "      gap: 12px;\n",
              "    }\n",
              "\n",
              "    .colab-df-convert {\n",
              "      background-color: #E8F0FE;\n",
              "      border: none;\n",
              "      border-radius: 50%;\n",
              "      cursor: pointer;\n",
              "      display: none;\n",
              "      fill: #1967D2;\n",
              "      height: 32px;\n",
              "      padding: 0 0 0 0;\n",
              "      width: 32px;\n",
              "    }\n",
              "\n",
              "    .colab-df-convert:hover {\n",
              "      background-color: #E2EBFA;\n",
              "      box-shadow: 0px 1px 2px rgba(60, 64, 67, 0.3), 0px 1px 3px 1px rgba(60, 64, 67, 0.15);\n",
              "      fill: #174EA6;\n",
              "    }\n",
              "\n",
              "    [theme=dark] .colab-df-convert {\n",
              "      background-color: #3B4455;\n",
              "      fill: #D2E3FC;\n",
              "    }\n",
              "\n",
              "    [theme=dark] .colab-df-convert:hover {\n",
              "      background-color: #434B5C;\n",
              "      box-shadow: 0px 1px 3px 1px rgba(0, 0, 0, 0.15);\n",
              "      filter: drop-shadow(0px 1px 2px rgba(0, 0, 0, 0.3));\n",
              "      fill: #FFFFFF;\n",
              "    }\n",
              "  </style>\n",
              "\n",
              "      <script>\n",
              "        const buttonEl =\n",
              "          document.querySelector('#df-8c262681-b43a-4b3a-b93b-820f5184e3b1 button.colab-df-convert');\n",
              "        buttonEl.style.display =\n",
              "          google.colab.kernel.accessAllowed ? 'block' : 'none';\n",
              "\n",
              "        async function convertToInteractive(key) {\n",
              "          const element = document.querySelector('#df-8c262681-b43a-4b3a-b93b-820f5184e3b1');\n",
              "          const dataTable =\n",
              "            await google.colab.kernel.invokeFunction('convertToInteractive',\n",
              "                                                     [key], {});\n",
              "          if (!dataTable) return;\n",
              "\n",
              "          const docLinkHtml = 'Like what you see? Visit the ' +\n",
              "            '<a target=\"_blank\" href=https://colab.research.google.com/notebooks/data_table.ipynb>data table notebook</a>'\n",
              "            + ' to learn more about interactive tables.';\n",
              "          element.innerHTML = '';\n",
              "          dataTable['output_type'] = 'display_data';\n",
              "          await google.colab.output.renderOutput(dataTable, element);\n",
              "          const docLink = document.createElement('div');\n",
              "          docLink.innerHTML = docLinkHtml;\n",
              "          element.appendChild(docLink);\n",
              "        }\n",
              "      </script>\n",
              "    </div>\n",
              "  </div>\n",
              "  "
            ]
          },
          "metadata": {},
          "execution_count": 6
        }
      ],
      "source": [
        "test_df.head(5)"
      ]
    },
    {
      "cell_type": "code",
      "execution_count": 7,
      "metadata": {
        "colab": {
          "base_uri": "https://localhost:8080/",
          "height": 206
        },
        "id": "XWICRM55j6lb",
        "outputId": "2b16e98b-adbd-46e5-f3ee-07bea28534e2"
      },
      "outputs": [
        {
          "output_type": "execute_result",
          "data": {
            "text/plain": [
              "                                      SOPInstanceUID Target\n",
              "0  1.2.826.0.1.3680043.8.498.10025629581362719970...     0 \n",
              "1  1.2.826.0.1.3680043.8.498.10036150326276641158...    15 \n",
              "2  1.2.826.0.1.3680043.8.498.10038426859954986240...    12 \n",
              "3  1.2.826.0.1.3680043.8.498.10050991192143676483...    14 \n",
              "4  1.2.826.0.1.3680043.8.498.10053309524595490852...     3 "
            ],
            "text/html": [
              "\n",
              "  <div id=\"df-ee310cde-93e8-4fc7-b171-33feb737647b\">\n",
              "    <div class=\"colab-df-container\">\n",
              "      <div>\n",
              "<style scoped>\n",
              "    .dataframe tbody tr th:only-of-type {\n",
              "        vertical-align: middle;\n",
              "    }\n",
              "\n",
              "    .dataframe tbody tr th {\n",
              "        vertical-align: top;\n",
              "    }\n",
              "\n",
              "    .dataframe thead th {\n",
              "        text-align: right;\n",
              "    }\n",
              "</style>\n",
              "<table border=\"1\" class=\"dataframe\">\n",
              "  <thead>\n",
              "    <tr style=\"text-align: right;\">\n",
              "      <th></th>\n",
              "      <th>SOPInstanceUID</th>\n",
              "      <th>Target</th>\n",
              "    </tr>\n",
              "  </thead>\n",
              "  <tbody>\n",
              "    <tr>\n",
              "      <th>0</th>\n",
              "      <td>1.2.826.0.1.3680043.8.498.10025629581362719970...</td>\n",
              "      <td>0</td>\n",
              "    </tr>\n",
              "    <tr>\n",
              "      <th>1</th>\n",
              "      <td>1.2.826.0.1.3680043.8.498.10036150326276641158...</td>\n",
              "      <td>15</td>\n",
              "    </tr>\n",
              "    <tr>\n",
              "      <th>2</th>\n",
              "      <td>1.2.826.0.1.3680043.8.498.10038426859954986240...</td>\n",
              "      <td>12</td>\n",
              "    </tr>\n",
              "    <tr>\n",
              "      <th>3</th>\n",
              "      <td>1.2.826.0.1.3680043.8.498.10050991192143676483...</td>\n",
              "      <td>14</td>\n",
              "    </tr>\n",
              "    <tr>\n",
              "      <th>4</th>\n",
              "      <td>1.2.826.0.1.3680043.8.498.10053309524595490852...</td>\n",
              "      <td>3</td>\n",
              "    </tr>\n",
              "  </tbody>\n",
              "</table>\n",
              "</div>\n",
              "      <button class=\"colab-df-convert\" onclick=\"convertToInteractive('df-ee310cde-93e8-4fc7-b171-33feb737647b')\"\n",
              "              title=\"Convert this dataframe to an interactive table.\"\n",
              "              style=\"display:none;\">\n",
              "        \n",
              "  <svg xmlns=\"http://www.w3.org/2000/svg\" height=\"24px\"viewBox=\"0 0 24 24\"\n",
              "       width=\"24px\">\n",
              "    <path d=\"M0 0h24v24H0V0z\" fill=\"none\"/>\n",
              "    <path d=\"M18.56 5.44l.94 2.06.94-2.06 2.06-.94-2.06-.94-.94-2.06-.94 2.06-2.06.94zm-11 1L8.5 8.5l.94-2.06 2.06-.94-2.06-.94L8.5 2.5l-.94 2.06-2.06.94zm10 10l.94 2.06.94-2.06 2.06-.94-2.06-.94-.94-2.06-.94 2.06-2.06.94z\"/><path d=\"M17.41 7.96l-1.37-1.37c-.4-.4-.92-.59-1.43-.59-.52 0-1.04.2-1.43.59L10.3 9.45l-7.72 7.72c-.78.78-.78 2.05 0 2.83L4 21.41c.39.39.9.59 1.41.59.51 0 1.02-.2 1.41-.59l7.78-7.78 2.81-2.81c.8-.78.8-2.07 0-2.86zM5.41 20L4 18.59l7.72-7.72 1.47 1.35L5.41 20z\"/>\n",
              "  </svg>\n",
              "      </button>\n",
              "      \n",
              "  <style>\n",
              "    .colab-df-container {\n",
              "      display:flex;\n",
              "      flex-wrap:wrap;\n",
              "      gap: 12px;\n",
              "    }\n",
              "\n",
              "    .colab-df-convert {\n",
              "      background-color: #E8F0FE;\n",
              "      border: none;\n",
              "      border-radius: 50%;\n",
              "      cursor: pointer;\n",
              "      display: none;\n",
              "      fill: #1967D2;\n",
              "      height: 32px;\n",
              "      padding: 0 0 0 0;\n",
              "      width: 32px;\n",
              "    }\n",
              "\n",
              "    .colab-df-convert:hover {\n",
              "      background-color: #E2EBFA;\n",
              "      box-shadow: 0px 1px 2px rgba(60, 64, 67, 0.3), 0px 1px 3px 1px rgba(60, 64, 67, 0.15);\n",
              "      fill: #174EA6;\n",
              "    }\n",
              "\n",
              "    [theme=dark] .colab-df-convert {\n",
              "      background-color: #3B4455;\n",
              "      fill: #D2E3FC;\n",
              "    }\n",
              "\n",
              "    [theme=dark] .colab-df-convert:hover {\n",
              "      background-color: #434B5C;\n",
              "      box-shadow: 0px 1px 3px 1px rgba(0, 0, 0, 0.15);\n",
              "      filter: drop-shadow(0px 1px 2px rgba(0, 0, 0, 0.3));\n",
              "      fill: #FFFFFF;\n",
              "    }\n",
              "  </style>\n",
              "\n",
              "      <script>\n",
              "        const buttonEl =\n",
              "          document.querySelector('#df-ee310cde-93e8-4fc7-b171-33feb737647b button.colab-df-convert');\n",
              "        buttonEl.style.display =\n",
              "          google.colab.kernel.accessAllowed ? 'block' : 'none';\n",
              "\n",
              "        async function convertToInteractive(key) {\n",
              "          const element = document.querySelector('#df-ee310cde-93e8-4fc7-b171-33feb737647b');\n",
              "          const dataTable =\n",
              "            await google.colab.kernel.invokeFunction('convertToInteractive',\n",
              "                                                     [key], {});\n",
              "          if (!dataTable) return;\n",
              "\n",
              "          const docLinkHtml = 'Like what you see? Visit the ' +\n",
              "            '<a target=\"_blank\" href=https://colab.research.google.com/notebooks/data_table.ipynb>data table notebook</a>'\n",
              "            + ' to learn more about interactive tables.';\n",
              "          element.innerHTML = '';\n",
              "          dataTable['output_type'] = 'display_data';\n",
              "          await google.colab.output.renderOutput(dataTable, element);\n",
              "          const docLink = document.createElement('div');\n",
              "          docLink.innerHTML = docLinkHtml;\n",
              "          element.appendChild(docLink);\n",
              "        }\n",
              "      </script>\n",
              "    </div>\n",
              "  </div>\n",
              "  "
            ]
          },
          "metadata": {},
          "execution_count": 7
        }
      ],
      "source": [
        "train_df.head(5)"
      ]
    },
    {
      "cell_type": "markdown",
      "metadata": {
        "id": "qd9hejxZkD94"
      },
      "source": [
        "# Pre-processing"
      ]
    },
    {
      "cell_type": "code",
      "execution_count": 8,
      "metadata": {
        "colab": {
          "base_uri": "https://localhost:8080/"
        },
        "id": "0IQpmWP3kIhQ",
        "outputId": "49a395e3-cdb2-4217-f603-15335a984a3f"
      },
      "outputs": [
        {
          "output_type": "stream",
          "name": "stdout",
          "text": [
            "Columns:\n",
            "Index(['SOPInstanceUID', 'Target'], dtype='object') \n",
            "\n",
            "Types in columns:\n",
            "SOPInstanceUID    object\n",
            "Target            object\n",
            "dtype: object \n",
            "\n",
            "Types in info:\n",
            "                                           SOPInstanceUID Target\n",
            "count                                                1738   1738\n",
            "unique                                               1738     41\n",
            "top     1.2.826.0.1.3680043.8.498.10025629581362719970...     3 \n",
            "freq                                                    1    724 \n",
            "\n"
          ]
        }
      ],
      "source": [
        "print(\"Columns:\")\n",
        "print(train_df.columns, \"\\n\")\n",
        "\n",
        "print(\"Types in columns:\")\n",
        "print(train_df.dtypes, \"\\n\")\n",
        "\n",
        "print(\"Types in info:\")\n",
        "print(train_df.describe(), \"\\n\")"
      ]
    },
    {
      "cell_type": "markdown",
      "metadata": {
        "id": "hk9Kily5l8fI"
      },
      "source": [
        "## Fixing folders"
      ]
    },
    {
      "cell_type": "code",
      "execution_count": 9,
      "metadata": {
        "id": "_PslEew4Sofj"
      },
      "outputs": [],
      "source": [
        "def dcmtag2table(folder, list_of_tags):\n",
        "\n",
        "    list_of_tags = list_of_tags.copy()\n",
        "    items = []\n",
        "    table = []\n",
        "    filelist = []\n",
        "\n",
        "    for root, dirs, files in os.walk(folder, topdown=False):\n",
        "#Adiciona os caminhos de cada imagem na lista\n",
        "        for name in files:\n",
        "            filelist.append(os.path.join(root, name))\n",
        "    aux= 0\n",
        "    for _f in filelist:\n",
        "      #Em cada caminho da imagem(.dcm)\n",
        "        try:\n",
        "            ds = pydicom.dcmread(_f, stop_before_pixels=True)\n",
        "            #Pega o Dataset de cada imagem e ler no próximo for\n",
        "            items = []\n",
        "            items.append(_f)\n",
        "            #Adiciono o caminho em \"items\"\n",
        "            for _tag in list_of_tags:\n",
        "                if _tag in ds:\n",
        "                  \n",
        "                    items.append(ds.data_element(_tag).value)\n",
        "                    #Adiciono a features \"PhotometricInterpretation\", \"BitsAllocated\" and \"SOPInstanceUID\" em \"items\"\n",
        "                else:\n",
        "                    items.append(\"Not found\")\n",
        "            \n",
        "            table.append(items)\n",
        "            #Adiciona tudo em uma outra lista\n",
        "        except:\n",
        "            print(\"Skipping non-DICOM: \" + _f)\n",
        "\n",
        "    df = pd.DataFrame(table, columns=[\"Filename\", \"PhotometricInterpretation\", \"BitsAllocated\",\"SOPInstanceUID\"])\n",
        "    #Crio um data set com todos os caminhos Photometric, Bits and SOP\n",
        "    return df"
      ]
    },
    {
      "cell_type": "markdown",
      "metadata": {
        "id": "rzOyGpU5YOue"
      },
      "source": [
        "*   SOP Instance UID - Unique Identification\n",
        "*   SOP Class UID    - "
      ]
    },
    {
      "cell_type": "code",
      "execution_count": 10,
      "metadata": {
        "id": "IgsEtrh3qakO"
      },
      "outputs": [],
      "source": [
        "tags = ['PhotometricInterpretation','BitsAllocated', 'SOPInstanceUID' ]\n",
        "dicom_tags_train =  dcmtag2table('/content/train', tags)\n",
        "dicom_tags_test = dcmtag2table('/content/test', tags)"
      ]
    },
    {
      "cell_type": "code",
      "execution_count": 11,
      "metadata": {
        "colab": {
          "base_uri": "https://localhost:8080/",
          "height": 488
        },
        "id": "2q8GnBabrW6H",
        "outputId": "f044c59a-5570-45ce-f294-4219722ac382"
      },
      "outputs": [
        {
          "output_type": "execute_result",
          "data": {
            "text/plain": [
              "                                               Filename  \\\n",
              "0     /content/train/train/train/177/1.2.826.0.1.368...   \n",
              "1     /content/train/train/train/177/1.2.826.0.1.368...   \n",
              "2     /content/train/train/train/177/1.2.826.0.1.368...   \n",
              "3     /content/train/train/train/449/1.2.826.0.1.368...   \n",
              "4     /content/train/train/train/812/1.2.826.0.1.368...   \n",
              "...                                                 ...   \n",
              "1733  /content/train/train/train/1331/1.2.826.0.1.36...   \n",
              "1734  /content/train/train/train/1331/1.2.826.0.1.36...   \n",
              "1735  /content/train/train/train/1331/1.2.826.0.1.36...   \n",
              "1736  /content/train/train/train/1331/1.2.826.0.1.36...   \n",
              "1737  /content/train/train/train/1331/1.2.826.0.1.36...   \n",
              "\n",
              "     PhotometricInterpretation  BitsAllocated  \\\n",
              "0                  MONOCHROME1             16   \n",
              "1                  MONOCHROME1             16   \n",
              "2                  MONOCHROME1             16   \n",
              "3                  MONOCHROME1             16   \n",
              "4                  MONOCHROME1             16   \n",
              "...                        ...            ...   \n",
              "1733               MONOCHROME1             16   \n",
              "1734               MONOCHROME1             16   \n",
              "1735               MONOCHROME1             16   \n",
              "1736               MONOCHROME1             16   \n",
              "1737               MONOCHROME1             16   \n",
              "\n",
              "                                         SOPInstanceUID  \n",
              "0     1.2.826.0.1.3680043.8.498.12914395967183998183...  \n",
              "1     1.2.826.0.1.3680043.8.498.96552478101784691863...  \n",
              "2     1.2.826.0.1.3680043.8.498.49745423722389558511...  \n",
              "3     1.2.826.0.1.3680043.8.498.50364199276235309496...  \n",
              "4     1.2.826.0.1.3680043.8.498.92674478707737111731...  \n",
              "...                                                 ...  \n",
              "1733  1.2.826.0.1.3680043.8.498.10999331023067486796...  \n",
              "1734  1.2.826.0.1.3680043.8.498.74290446148781922284...  \n",
              "1735  1.2.826.0.1.3680043.8.498.99203702319483886875...  \n",
              "1736  1.2.826.0.1.3680043.8.498.60142885298592397727...  \n",
              "1737  1.2.826.0.1.3680043.8.498.20629717836298519996...  \n",
              "\n",
              "[1738 rows x 4 columns]"
            ],
            "text/html": [
              "\n",
              "  <div id=\"df-44463ffa-e589-4ab5-b5f1-4e296364ff85\">\n",
              "    <div class=\"colab-df-container\">\n",
              "      <div>\n",
              "<style scoped>\n",
              "    .dataframe tbody tr th:only-of-type {\n",
              "        vertical-align: middle;\n",
              "    }\n",
              "\n",
              "    .dataframe tbody tr th {\n",
              "        vertical-align: top;\n",
              "    }\n",
              "\n",
              "    .dataframe thead th {\n",
              "        text-align: right;\n",
              "    }\n",
              "</style>\n",
              "<table border=\"1\" class=\"dataframe\">\n",
              "  <thead>\n",
              "    <tr style=\"text-align: right;\">\n",
              "      <th></th>\n",
              "      <th>Filename</th>\n",
              "      <th>PhotometricInterpretation</th>\n",
              "      <th>BitsAllocated</th>\n",
              "      <th>SOPInstanceUID</th>\n",
              "    </tr>\n",
              "  </thead>\n",
              "  <tbody>\n",
              "    <tr>\n",
              "      <th>0</th>\n",
              "      <td>/content/train/train/train/177/1.2.826.0.1.368...</td>\n",
              "      <td>MONOCHROME1</td>\n",
              "      <td>16</td>\n",
              "      <td>1.2.826.0.1.3680043.8.498.12914395967183998183...</td>\n",
              "    </tr>\n",
              "    <tr>\n",
              "      <th>1</th>\n",
              "      <td>/content/train/train/train/177/1.2.826.0.1.368...</td>\n",
              "      <td>MONOCHROME1</td>\n",
              "      <td>16</td>\n",
              "      <td>1.2.826.0.1.3680043.8.498.96552478101784691863...</td>\n",
              "    </tr>\n",
              "    <tr>\n",
              "      <th>2</th>\n",
              "      <td>/content/train/train/train/177/1.2.826.0.1.368...</td>\n",
              "      <td>MONOCHROME1</td>\n",
              "      <td>16</td>\n",
              "      <td>1.2.826.0.1.3680043.8.498.49745423722389558511...</td>\n",
              "    </tr>\n",
              "    <tr>\n",
              "      <th>3</th>\n",
              "      <td>/content/train/train/train/449/1.2.826.0.1.368...</td>\n",
              "      <td>MONOCHROME1</td>\n",
              "      <td>16</td>\n",
              "      <td>1.2.826.0.1.3680043.8.498.50364199276235309496...</td>\n",
              "    </tr>\n",
              "    <tr>\n",
              "      <th>4</th>\n",
              "      <td>/content/train/train/train/812/1.2.826.0.1.368...</td>\n",
              "      <td>MONOCHROME1</td>\n",
              "      <td>16</td>\n",
              "      <td>1.2.826.0.1.3680043.8.498.92674478707737111731...</td>\n",
              "    </tr>\n",
              "    <tr>\n",
              "      <th>...</th>\n",
              "      <td>...</td>\n",
              "      <td>...</td>\n",
              "      <td>...</td>\n",
              "      <td>...</td>\n",
              "    </tr>\n",
              "    <tr>\n",
              "      <th>1733</th>\n",
              "      <td>/content/train/train/train/1331/1.2.826.0.1.36...</td>\n",
              "      <td>MONOCHROME1</td>\n",
              "      <td>16</td>\n",
              "      <td>1.2.826.0.1.3680043.8.498.10999331023067486796...</td>\n",
              "    </tr>\n",
              "    <tr>\n",
              "      <th>1734</th>\n",
              "      <td>/content/train/train/train/1331/1.2.826.0.1.36...</td>\n",
              "      <td>MONOCHROME1</td>\n",
              "      <td>16</td>\n",
              "      <td>1.2.826.0.1.3680043.8.498.74290446148781922284...</td>\n",
              "    </tr>\n",
              "    <tr>\n",
              "      <th>1735</th>\n",
              "      <td>/content/train/train/train/1331/1.2.826.0.1.36...</td>\n",
              "      <td>MONOCHROME1</td>\n",
              "      <td>16</td>\n",
              "      <td>1.2.826.0.1.3680043.8.498.99203702319483886875...</td>\n",
              "    </tr>\n",
              "    <tr>\n",
              "      <th>1736</th>\n",
              "      <td>/content/train/train/train/1331/1.2.826.0.1.36...</td>\n",
              "      <td>MONOCHROME1</td>\n",
              "      <td>16</td>\n",
              "      <td>1.2.826.0.1.3680043.8.498.60142885298592397727...</td>\n",
              "    </tr>\n",
              "    <tr>\n",
              "      <th>1737</th>\n",
              "      <td>/content/train/train/train/1331/1.2.826.0.1.36...</td>\n",
              "      <td>MONOCHROME1</td>\n",
              "      <td>16</td>\n",
              "      <td>1.2.826.0.1.3680043.8.498.20629717836298519996...</td>\n",
              "    </tr>\n",
              "  </tbody>\n",
              "</table>\n",
              "<p>1738 rows × 4 columns</p>\n",
              "</div>\n",
              "      <button class=\"colab-df-convert\" onclick=\"convertToInteractive('df-44463ffa-e589-4ab5-b5f1-4e296364ff85')\"\n",
              "              title=\"Convert this dataframe to an interactive table.\"\n",
              "              style=\"display:none;\">\n",
              "        \n",
              "  <svg xmlns=\"http://www.w3.org/2000/svg\" height=\"24px\"viewBox=\"0 0 24 24\"\n",
              "       width=\"24px\">\n",
              "    <path d=\"M0 0h24v24H0V0z\" fill=\"none\"/>\n",
              "    <path d=\"M18.56 5.44l.94 2.06.94-2.06 2.06-.94-2.06-.94-.94-2.06-.94 2.06-2.06.94zm-11 1L8.5 8.5l.94-2.06 2.06-.94-2.06-.94L8.5 2.5l-.94 2.06-2.06.94zm10 10l.94 2.06.94-2.06 2.06-.94-2.06-.94-.94-2.06-.94 2.06-2.06.94z\"/><path d=\"M17.41 7.96l-1.37-1.37c-.4-.4-.92-.59-1.43-.59-.52 0-1.04.2-1.43.59L10.3 9.45l-7.72 7.72c-.78.78-.78 2.05 0 2.83L4 21.41c.39.39.9.59 1.41.59.51 0 1.02-.2 1.41-.59l7.78-7.78 2.81-2.81c.8-.78.8-2.07 0-2.86zM5.41 20L4 18.59l7.72-7.72 1.47 1.35L5.41 20z\"/>\n",
              "  </svg>\n",
              "      </button>\n",
              "      \n",
              "  <style>\n",
              "    .colab-df-container {\n",
              "      display:flex;\n",
              "      flex-wrap:wrap;\n",
              "      gap: 12px;\n",
              "    }\n",
              "\n",
              "    .colab-df-convert {\n",
              "      background-color: #E8F0FE;\n",
              "      border: none;\n",
              "      border-radius: 50%;\n",
              "      cursor: pointer;\n",
              "      display: none;\n",
              "      fill: #1967D2;\n",
              "      height: 32px;\n",
              "      padding: 0 0 0 0;\n",
              "      width: 32px;\n",
              "    }\n",
              "\n",
              "    .colab-df-convert:hover {\n",
              "      background-color: #E2EBFA;\n",
              "      box-shadow: 0px 1px 2px rgba(60, 64, 67, 0.3), 0px 1px 3px 1px rgba(60, 64, 67, 0.15);\n",
              "      fill: #174EA6;\n",
              "    }\n",
              "\n",
              "    [theme=dark] .colab-df-convert {\n",
              "      background-color: #3B4455;\n",
              "      fill: #D2E3FC;\n",
              "    }\n",
              "\n",
              "    [theme=dark] .colab-df-convert:hover {\n",
              "      background-color: #434B5C;\n",
              "      box-shadow: 0px 1px 3px 1px rgba(0, 0, 0, 0.15);\n",
              "      filter: drop-shadow(0px 1px 2px rgba(0, 0, 0, 0.3));\n",
              "      fill: #FFFFFF;\n",
              "    }\n",
              "  </style>\n",
              "\n",
              "      <script>\n",
              "        const buttonEl =\n",
              "          document.querySelector('#df-44463ffa-e589-4ab5-b5f1-4e296364ff85 button.colab-df-convert');\n",
              "        buttonEl.style.display =\n",
              "          google.colab.kernel.accessAllowed ? 'block' : 'none';\n",
              "\n",
              "        async function convertToInteractive(key) {\n",
              "          const element = document.querySelector('#df-44463ffa-e589-4ab5-b5f1-4e296364ff85');\n",
              "          const dataTable =\n",
              "            await google.colab.kernel.invokeFunction('convertToInteractive',\n",
              "                                                     [key], {});\n",
              "          if (!dataTable) return;\n",
              "\n",
              "          const docLinkHtml = 'Like what you see? Visit the ' +\n",
              "            '<a target=\"_blank\" href=https://colab.research.google.com/notebooks/data_table.ipynb>data table notebook</a>'\n",
              "            + ' to learn more about interactive tables.';\n",
              "          element.innerHTML = '';\n",
              "          dataTable['output_type'] = 'display_data';\n",
              "          await google.colab.output.renderOutput(dataTable, element);\n",
              "          const docLink = document.createElement('div');\n",
              "          docLink.innerHTML = docLinkHtml;\n",
              "          element.appendChild(docLink);\n",
              "        }\n",
              "      </script>\n",
              "    </div>\n",
              "  </div>\n",
              "  "
            ]
          },
          "metadata": {},
          "execution_count": 11
        }
      ],
      "source": [
        "dicom_tags_train"
      ]
    },
    {
      "cell_type": "code",
      "execution_count": 12,
      "metadata": {
        "colab": {
          "base_uri": "https://localhost:8080/"
        },
        "id": "cSFFoYf_uY9B",
        "outputId": "d4cb4e94-8d23-4602-8954-8f21f2483390"
      },
      "outputs": [
        {
          "output_type": "stream",
          "name": "stdout",
          "text": [
            "MONOCHROME1    1659\n",
            "MONOCHROME2      79\n",
            "Name: PhotometricInterpretation, dtype: int64\n"
          ]
        }
      ],
      "source": [
        "print(dicom_tags_train.PhotometricInterpretation.value_counts())"
      ]
    },
    {
      "cell_type": "code",
      "execution_count": 13,
      "metadata": {
        "id": "y455j0dguZP0"
      },
      "outputs": [],
      "source": [
        "train = dicom_tags_train.merge(train_df, on =  'SOPInstanceUID')\n",
        "test = dicom_tags_test.merge(test_df,on =  'SOPInstanceUID')"
      ]
    },
    {
      "cell_type": "code",
      "execution_count": 14,
      "metadata": {
        "colab": {
          "base_uri": "https://localhost:8080/",
          "height": 270
        },
        "id": "z0b_MiIW1Ird",
        "outputId": "6405c972-a368-42ac-890d-cfc37db3e5ae"
      },
      "outputs": [
        {
          "output_type": "execute_result",
          "data": {
            "text/plain": [
              "                                            Filename  \\\n",
              "0  /content/train/train/train/177/1.2.826.0.1.368...   \n",
              "1  /content/train/train/train/177/1.2.826.0.1.368...   \n",
              "2  /content/train/train/train/177/1.2.826.0.1.368...   \n",
              "3  /content/train/train/train/449/1.2.826.0.1.368...   \n",
              "4  /content/train/train/train/812/1.2.826.0.1.368...   \n",
              "\n",
              "  PhotometricInterpretation  BitsAllocated  \\\n",
              "0               MONOCHROME1             16   \n",
              "1               MONOCHROME1             16   \n",
              "2               MONOCHROME1             16   \n",
              "3               MONOCHROME1             16   \n",
              "4               MONOCHROME1             16   \n",
              "\n",
              "                                      SOPInstanceUID Target  \n",
              "0  1.2.826.0.1.3680043.8.498.12914395967183998183...    14   \n",
              "1  1.2.826.0.1.3680043.8.498.96552478101784691863...    14   \n",
              "2  1.2.826.0.1.3680043.8.498.49745423722389558511...    14   \n",
              "3  1.2.826.0.1.3680043.8.498.50364199276235309496...     3   \n",
              "4  1.2.826.0.1.3680043.8.498.92674478707737111731...    17   "
            ],
            "text/html": [
              "\n",
              "  <div id=\"df-2119cff2-77eb-479b-8392-15f58d443fe3\">\n",
              "    <div class=\"colab-df-container\">\n",
              "      <div>\n",
              "<style scoped>\n",
              "    .dataframe tbody tr th:only-of-type {\n",
              "        vertical-align: middle;\n",
              "    }\n",
              "\n",
              "    .dataframe tbody tr th {\n",
              "        vertical-align: top;\n",
              "    }\n",
              "\n",
              "    .dataframe thead th {\n",
              "        text-align: right;\n",
              "    }\n",
              "</style>\n",
              "<table border=\"1\" class=\"dataframe\">\n",
              "  <thead>\n",
              "    <tr style=\"text-align: right;\">\n",
              "      <th></th>\n",
              "      <th>Filename</th>\n",
              "      <th>PhotometricInterpretation</th>\n",
              "      <th>BitsAllocated</th>\n",
              "      <th>SOPInstanceUID</th>\n",
              "      <th>Target</th>\n",
              "    </tr>\n",
              "  </thead>\n",
              "  <tbody>\n",
              "    <tr>\n",
              "      <th>0</th>\n",
              "      <td>/content/train/train/train/177/1.2.826.0.1.368...</td>\n",
              "      <td>MONOCHROME1</td>\n",
              "      <td>16</td>\n",
              "      <td>1.2.826.0.1.3680043.8.498.12914395967183998183...</td>\n",
              "      <td>14</td>\n",
              "    </tr>\n",
              "    <tr>\n",
              "      <th>1</th>\n",
              "      <td>/content/train/train/train/177/1.2.826.0.1.368...</td>\n",
              "      <td>MONOCHROME1</td>\n",
              "      <td>16</td>\n",
              "      <td>1.2.826.0.1.3680043.8.498.96552478101784691863...</td>\n",
              "      <td>14</td>\n",
              "    </tr>\n",
              "    <tr>\n",
              "      <th>2</th>\n",
              "      <td>/content/train/train/train/177/1.2.826.0.1.368...</td>\n",
              "      <td>MONOCHROME1</td>\n",
              "      <td>16</td>\n",
              "      <td>1.2.826.0.1.3680043.8.498.49745423722389558511...</td>\n",
              "      <td>14</td>\n",
              "    </tr>\n",
              "    <tr>\n",
              "      <th>3</th>\n",
              "      <td>/content/train/train/train/449/1.2.826.0.1.368...</td>\n",
              "      <td>MONOCHROME1</td>\n",
              "      <td>16</td>\n",
              "      <td>1.2.826.0.1.3680043.8.498.50364199276235309496...</td>\n",
              "      <td>3</td>\n",
              "    </tr>\n",
              "    <tr>\n",
              "      <th>4</th>\n",
              "      <td>/content/train/train/train/812/1.2.826.0.1.368...</td>\n",
              "      <td>MONOCHROME1</td>\n",
              "      <td>16</td>\n",
              "      <td>1.2.826.0.1.3680043.8.498.92674478707737111731...</td>\n",
              "      <td>17</td>\n",
              "    </tr>\n",
              "  </tbody>\n",
              "</table>\n",
              "</div>\n",
              "      <button class=\"colab-df-convert\" onclick=\"convertToInteractive('df-2119cff2-77eb-479b-8392-15f58d443fe3')\"\n",
              "              title=\"Convert this dataframe to an interactive table.\"\n",
              "              style=\"display:none;\">\n",
              "        \n",
              "  <svg xmlns=\"http://www.w3.org/2000/svg\" height=\"24px\"viewBox=\"0 0 24 24\"\n",
              "       width=\"24px\">\n",
              "    <path d=\"M0 0h24v24H0V0z\" fill=\"none\"/>\n",
              "    <path d=\"M18.56 5.44l.94 2.06.94-2.06 2.06-.94-2.06-.94-.94-2.06-.94 2.06-2.06.94zm-11 1L8.5 8.5l.94-2.06 2.06-.94-2.06-.94L8.5 2.5l-.94 2.06-2.06.94zm10 10l.94 2.06.94-2.06 2.06-.94-2.06-.94-.94-2.06-.94 2.06-2.06.94z\"/><path d=\"M17.41 7.96l-1.37-1.37c-.4-.4-.92-.59-1.43-.59-.52 0-1.04.2-1.43.59L10.3 9.45l-7.72 7.72c-.78.78-.78 2.05 0 2.83L4 21.41c.39.39.9.59 1.41.59.51 0 1.02-.2 1.41-.59l7.78-7.78 2.81-2.81c.8-.78.8-2.07 0-2.86zM5.41 20L4 18.59l7.72-7.72 1.47 1.35L5.41 20z\"/>\n",
              "  </svg>\n",
              "      </button>\n",
              "      \n",
              "  <style>\n",
              "    .colab-df-container {\n",
              "      display:flex;\n",
              "      flex-wrap:wrap;\n",
              "      gap: 12px;\n",
              "    }\n",
              "\n",
              "    .colab-df-convert {\n",
              "      background-color: #E8F0FE;\n",
              "      border: none;\n",
              "      border-radius: 50%;\n",
              "      cursor: pointer;\n",
              "      display: none;\n",
              "      fill: #1967D2;\n",
              "      height: 32px;\n",
              "      padding: 0 0 0 0;\n",
              "      width: 32px;\n",
              "    }\n",
              "\n",
              "    .colab-df-convert:hover {\n",
              "      background-color: #E2EBFA;\n",
              "      box-shadow: 0px 1px 2px rgba(60, 64, 67, 0.3), 0px 1px 3px 1px rgba(60, 64, 67, 0.15);\n",
              "      fill: #174EA6;\n",
              "    }\n",
              "\n",
              "    [theme=dark] .colab-df-convert {\n",
              "      background-color: #3B4455;\n",
              "      fill: #D2E3FC;\n",
              "    }\n",
              "\n",
              "    [theme=dark] .colab-df-convert:hover {\n",
              "      background-color: #434B5C;\n",
              "      box-shadow: 0px 1px 3px 1px rgba(0, 0, 0, 0.15);\n",
              "      filter: drop-shadow(0px 1px 2px rgba(0, 0, 0, 0.3));\n",
              "      fill: #FFFFFF;\n",
              "    }\n",
              "  </style>\n",
              "\n",
              "      <script>\n",
              "        const buttonEl =\n",
              "          document.querySelector('#df-2119cff2-77eb-479b-8392-15f58d443fe3 button.colab-df-convert');\n",
              "        buttonEl.style.display =\n",
              "          google.colab.kernel.accessAllowed ? 'block' : 'none';\n",
              "\n",
              "        async function convertToInteractive(key) {\n",
              "          const element = document.querySelector('#df-2119cff2-77eb-479b-8392-15f58d443fe3');\n",
              "          const dataTable =\n",
              "            await google.colab.kernel.invokeFunction('convertToInteractive',\n",
              "                                                     [key], {});\n",
              "          if (!dataTable) return;\n",
              "\n",
              "          const docLinkHtml = 'Like what you see? Visit the ' +\n",
              "            '<a target=\"_blank\" href=https://colab.research.google.com/notebooks/data_table.ipynb>data table notebook</a>'\n",
              "            + ' to learn more about interactive tables.';\n",
              "          element.innerHTML = '';\n",
              "          dataTable['output_type'] = 'display_data';\n",
              "          await google.colab.output.renderOutput(dataTable, element);\n",
              "          const docLink = document.createElement('div');\n",
              "          docLink.innerHTML = docLinkHtml;\n",
              "          element.appendChild(docLink);\n",
              "        }\n",
              "      </script>\n",
              "    </div>\n",
              "  </div>\n",
              "  "
            ]
          },
          "metadata": {},
          "execution_count": 14
        }
      ],
      "source": [
        "train.head()"
      ]
    },
    {
      "cell_type": "code",
      "execution_count": 15,
      "metadata": {
        "id": "PfDmww_v1Jih"
      },
      "outputs": [],
      "source": [
        "target = list(train[\"Target\"])"
      ]
    },
    {
      "cell_type": "code",
      "execution_count": 16,
      "metadata": {
        "id": "0YxipR8b5FtC"
      },
      "outputs": [],
      "source": [
        "#Let's  see our Target distribution\n",
        "\n",
        "bodyparts = {\n",
        "0 : 'Abdomen' ,\n",
        "1 :'Ankle' ,\n",
        "2 :'Cervical Spine',\n",
        "3 : 'Chest' ,\n",
        "4 :'Clavicles' ,\n",
        "5 :'Elbow' ,\n",
        "6 :'Feet' ,\n",
        "7 : 'Finger' ,\n",
        "8 : 'Forearm' ,\n",
        "9 : 'Hand' ,\n",
        "10 : 'Hip' ,\n",
        "11 : 'Knee' ,\n",
        "12 : 'Lower Leg' ,\n",
        "13 : 'Lumbar Spine' ,\n",
        "14 : 'Others' ,\n",
        "15 :'Pelvis',\n",
        "16 :'Shoulder' ,\n",
        "17 :'Sinus' ,\n",
        "18 : 'Skull' ,\n",
        "19 : 'Thigh' ,\n",
        "20 :'Thoracic Spine',\n",
        "21: 'Wrist',\n",
        "}"
      ]
    },
    {
      "cell_type": "code",
      "execution_count": 17,
      "metadata": {
        "colab": {
          "base_uri": "https://localhost:8080/"
        },
        "id": "1MERfji73LeD",
        "outputId": "1d412665-1380-4432-99f1-8ffdd401e217"
      },
      "outputs": [
        {
          "output_type": "stream",
          "name": "stderr",
          "text": [
            "100%|██████████| 1738/1738 [00:00<00:00, 281314.41it/s]\n"
          ]
        },
        {
          "output_type": "execute_result",
          "data": {
            "text/plain": [
              "array(['Others', 'Chest', 'Sinus', 'Hand', 'Wrist', 'Hand and Wrist',\n",
              "       'Knee', 'Ankle', 'Abdomen', 'Lumbar Spine and Thoracic Spine',\n",
              "       'Skull', 'Pelvis', 'Cervical Spine', 'Pelvis and Thigh', 'Feet',\n",
              "       'Ankle and Knee and Lower Leg', 'Thoracic Spine', 'Forearm',\n",
              "       'Abdomen and Chest', 'Lower Leg', 'Lumbar Spine', 'Clavicles',\n",
              "       'Shoulder', 'Finger', 'Hip', 'Ankle and Feet', 'Elbow',\n",
              "       'Cervical Spine and Lumbar Spine and Thoracic Spine',\n",
              "       'Finger and Hand', 'Thigh', 'Hip and Knee and Thigh',\n",
              "       'Cervical Spine and Thoracic Spine', 'Elbow and Forearm',\n",
              "       'Chest and Finger', 'Chest and Feet', 'Abdomen and Pelvis',\n",
              "       'Hip and Thigh', 'Ankle and Lower Leg', 'Chest and Pelvis',\n",
              "       'Knee and Lower Leg', 'Forearm and Shoulder'], dtype=object)"
            ]
          },
          "metadata": {},
          "execution_count": 17
        }
      ],
      "source": [
        "#Create Label from target\n",
        "def no_to_label(label):\n",
        "    label_list_string = []\n",
        "    trimed_label = label.rstrip()\n",
        "    label_list = trimed_label.split(\" \")\n",
        "    label_list = [int(i) for i in label_list]\n",
        "    for label in label_list:\n",
        "        label_list_string.append(bodyparts[label])\n",
        "    label_string = ' and '.join(label_list_string)\n",
        "    return label_string\n",
        "\n",
        "target_list = train['Target'].tolist()\n",
        "label_column = []\n",
        "\n",
        "for label in tqdm(target_list):\n",
        "    label_string = no_to_label(label)\n",
        "    label_column.append(label_string)\n",
        "\n",
        "train['Label'] = label_column\n",
        "train['Label'].unique()"
      ]
    },
    {
      "cell_type": "code",
      "execution_count": 18,
      "metadata": {
        "colab": {
          "base_uri": "https://localhost:8080/",
          "height": 574
        },
        "id": "WIvoUoIt4WW4",
        "outputId": "6fc17e9d-8937-47ec-df80-c940098b7f08"
      },
      "outputs": [
        {
          "output_type": "execute_result",
          "data": {
            "text/plain": [
              "                                               Filename  \\\n",
              "0     /content/train/train/train/177/1.2.826.0.1.368...   \n",
              "1     /content/train/train/train/177/1.2.826.0.1.368...   \n",
              "2     /content/train/train/train/177/1.2.826.0.1.368...   \n",
              "3     /content/train/train/train/449/1.2.826.0.1.368...   \n",
              "4     /content/train/train/train/812/1.2.826.0.1.368...   \n",
              "...                                                 ...   \n",
              "1733  /content/train/train/train/1331/1.2.826.0.1.36...   \n",
              "1734  /content/train/train/train/1331/1.2.826.0.1.36...   \n",
              "1735  /content/train/train/train/1331/1.2.826.0.1.36...   \n",
              "1736  /content/train/train/train/1331/1.2.826.0.1.36...   \n",
              "1737  /content/train/train/train/1331/1.2.826.0.1.36...   \n",
              "\n",
              "     PhotometricInterpretation  BitsAllocated  \\\n",
              "0                  MONOCHROME1             16   \n",
              "1                  MONOCHROME1             16   \n",
              "2                  MONOCHROME1             16   \n",
              "3                  MONOCHROME1             16   \n",
              "4                  MONOCHROME1             16   \n",
              "...                        ...            ...   \n",
              "1733               MONOCHROME1             16   \n",
              "1734               MONOCHROME1             16   \n",
              "1735               MONOCHROME1             16   \n",
              "1736               MONOCHROME1             16   \n",
              "1737               MONOCHROME1             16   \n",
              "\n",
              "                                         SOPInstanceUID Target           Label  \n",
              "0     1.2.826.0.1.3680043.8.498.12914395967183998183...    14           Others  \n",
              "1     1.2.826.0.1.3680043.8.498.96552478101784691863...    14           Others  \n",
              "2     1.2.826.0.1.3680043.8.498.49745423722389558511...    14           Others  \n",
              "3     1.2.826.0.1.3680043.8.498.50364199276235309496...     3            Chest  \n",
              "4     1.2.826.0.1.3680043.8.498.92674478707737111731...    17            Sinus  \n",
              "...                                                 ...    ...             ...  \n",
              "1733  1.2.826.0.1.3680043.8.498.10999331023067486796...  9 21   Hand and Wrist  \n",
              "1734  1.2.826.0.1.3680043.8.498.74290446148781922284...  9 21   Hand and Wrist  \n",
              "1735  1.2.826.0.1.3680043.8.498.99203702319483886875...     2   Cervical Spine  \n",
              "1736  1.2.826.0.1.3680043.8.498.60142885298592397727...    15           Pelvis  \n",
              "1737  1.2.826.0.1.3680043.8.498.20629717836298519996...     3            Chest  \n",
              "\n",
              "[1738 rows x 6 columns]"
            ],
            "text/html": [
              "\n",
              "  <div id=\"df-1dd28a3c-54af-4f9f-a5ff-ec2233879e54\">\n",
              "    <div class=\"colab-df-container\">\n",
              "      <div>\n",
              "<style scoped>\n",
              "    .dataframe tbody tr th:only-of-type {\n",
              "        vertical-align: middle;\n",
              "    }\n",
              "\n",
              "    .dataframe tbody tr th {\n",
              "        vertical-align: top;\n",
              "    }\n",
              "\n",
              "    .dataframe thead th {\n",
              "        text-align: right;\n",
              "    }\n",
              "</style>\n",
              "<table border=\"1\" class=\"dataframe\">\n",
              "  <thead>\n",
              "    <tr style=\"text-align: right;\">\n",
              "      <th></th>\n",
              "      <th>Filename</th>\n",
              "      <th>PhotometricInterpretation</th>\n",
              "      <th>BitsAllocated</th>\n",
              "      <th>SOPInstanceUID</th>\n",
              "      <th>Target</th>\n",
              "      <th>Label</th>\n",
              "    </tr>\n",
              "  </thead>\n",
              "  <tbody>\n",
              "    <tr>\n",
              "      <th>0</th>\n",
              "      <td>/content/train/train/train/177/1.2.826.0.1.368...</td>\n",
              "      <td>MONOCHROME1</td>\n",
              "      <td>16</td>\n",
              "      <td>1.2.826.0.1.3680043.8.498.12914395967183998183...</td>\n",
              "      <td>14</td>\n",
              "      <td>Others</td>\n",
              "    </tr>\n",
              "    <tr>\n",
              "      <th>1</th>\n",
              "      <td>/content/train/train/train/177/1.2.826.0.1.368...</td>\n",
              "      <td>MONOCHROME1</td>\n",
              "      <td>16</td>\n",
              "      <td>1.2.826.0.1.3680043.8.498.96552478101784691863...</td>\n",
              "      <td>14</td>\n",
              "      <td>Others</td>\n",
              "    </tr>\n",
              "    <tr>\n",
              "      <th>2</th>\n",
              "      <td>/content/train/train/train/177/1.2.826.0.1.368...</td>\n",
              "      <td>MONOCHROME1</td>\n",
              "      <td>16</td>\n",
              "      <td>1.2.826.0.1.3680043.8.498.49745423722389558511...</td>\n",
              "      <td>14</td>\n",
              "      <td>Others</td>\n",
              "    </tr>\n",
              "    <tr>\n",
              "      <th>3</th>\n",
              "      <td>/content/train/train/train/449/1.2.826.0.1.368...</td>\n",
              "      <td>MONOCHROME1</td>\n",
              "      <td>16</td>\n",
              "      <td>1.2.826.0.1.3680043.8.498.50364199276235309496...</td>\n",
              "      <td>3</td>\n",
              "      <td>Chest</td>\n",
              "    </tr>\n",
              "    <tr>\n",
              "      <th>4</th>\n",
              "      <td>/content/train/train/train/812/1.2.826.0.1.368...</td>\n",
              "      <td>MONOCHROME1</td>\n",
              "      <td>16</td>\n",
              "      <td>1.2.826.0.1.3680043.8.498.92674478707737111731...</td>\n",
              "      <td>17</td>\n",
              "      <td>Sinus</td>\n",
              "    </tr>\n",
              "    <tr>\n",
              "      <th>...</th>\n",
              "      <td>...</td>\n",
              "      <td>...</td>\n",
              "      <td>...</td>\n",
              "      <td>...</td>\n",
              "      <td>...</td>\n",
              "      <td>...</td>\n",
              "    </tr>\n",
              "    <tr>\n",
              "      <th>1733</th>\n",
              "      <td>/content/train/train/train/1331/1.2.826.0.1.36...</td>\n",
              "      <td>MONOCHROME1</td>\n",
              "      <td>16</td>\n",
              "      <td>1.2.826.0.1.3680043.8.498.10999331023067486796...</td>\n",
              "      <td>9 21</td>\n",
              "      <td>Hand and Wrist</td>\n",
              "    </tr>\n",
              "    <tr>\n",
              "      <th>1734</th>\n",
              "      <td>/content/train/train/train/1331/1.2.826.0.1.36...</td>\n",
              "      <td>MONOCHROME1</td>\n",
              "      <td>16</td>\n",
              "      <td>1.2.826.0.1.3680043.8.498.74290446148781922284...</td>\n",
              "      <td>9 21</td>\n",
              "      <td>Hand and Wrist</td>\n",
              "    </tr>\n",
              "    <tr>\n",
              "      <th>1735</th>\n",
              "      <td>/content/train/train/train/1331/1.2.826.0.1.36...</td>\n",
              "      <td>MONOCHROME1</td>\n",
              "      <td>16</td>\n",
              "      <td>1.2.826.0.1.3680043.8.498.99203702319483886875...</td>\n",
              "      <td>2</td>\n",
              "      <td>Cervical Spine</td>\n",
              "    </tr>\n",
              "    <tr>\n",
              "      <th>1736</th>\n",
              "      <td>/content/train/train/train/1331/1.2.826.0.1.36...</td>\n",
              "      <td>MONOCHROME1</td>\n",
              "      <td>16</td>\n",
              "      <td>1.2.826.0.1.3680043.8.498.60142885298592397727...</td>\n",
              "      <td>15</td>\n",
              "      <td>Pelvis</td>\n",
              "    </tr>\n",
              "    <tr>\n",
              "      <th>1737</th>\n",
              "      <td>/content/train/train/train/1331/1.2.826.0.1.36...</td>\n",
              "      <td>MONOCHROME1</td>\n",
              "      <td>16</td>\n",
              "      <td>1.2.826.0.1.3680043.8.498.20629717836298519996...</td>\n",
              "      <td>3</td>\n",
              "      <td>Chest</td>\n",
              "    </tr>\n",
              "  </tbody>\n",
              "</table>\n",
              "<p>1738 rows × 6 columns</p>\n",
              "</div>\n",
              "      <button class=\"colab-df-convert\" onclick=\"convertToInteractive('df-1dd28a3c-54af-4f9f-a5ff-ec2233879e54')\"\n",
              "              title=\"Convert this dataframe to an interactive table.\"\n",
              "              style=\"display:none;\">\n",
              "        \n",
              "  <svg xmlns=\"http://www.w3.org/2000/svg\" height=\"24px\"viewBox=\"0 0 24 24\"\n",
              "       width=\"24px\">\n",
              "    <path d=\"M0 0h24v24H0V0z\" fill=\"none\"/>\n",
              "    <path d=\"M18.56 5.44l.94 2.06.94-2.06 2.06-.94-2.06-.94-.94-2.06-.94 2.06-2.06.94zm-11 1L8.5 8.5l.94-2.06 2.06-.94-2.06-.94L8.5 2.5l-.94 2.06-2.06.94zm10 10l.94 2.06.94-2.06 2.06-.94-2.06-.94-.94-2.06-.94 2.06-2.06.94z\"/><path d=\"M17.41 7.96l-1.37-1.37c-.4-.4-.92-.59-1.43-.59-.52 0-1.04.2-1.43.59L10.3 9.45l-7.72 7.72c-.78.78-.78 2.05 0 2.83L4 21.41c.39.39.9.59 1.41.59.51 0 1.02-.2 1.41-.59l7.78-7.78 2.81-2.81c.8-.78.8-2.07 0-2.86zM5.41 20L4 18.59l7.72-7.72 1.47 1.35L5.41 20z\"/>\n",
              "  </svg>\n",
              "      </button>\n",
              "      \n",
              "  <style>\n",
              "    .colab-df-container {\n",
              "      display:flex;\n",
              "      flex-wrap:wrap;\n",
              "      gap: 12px;\n",
              "    }\n",
              "\n",
              "    .colab-df-convert {\n",
              "      background-color: #E8F0FE;\n",
              "      border: none;\n",
              "      border-radius: 50%;\n",
              "      cursor: pointer;\n",
              "      display: none;\n",
              "      fill: #1967D2;\n",
              "      height: 32px;\n",
              "      padding: 0 0 0 0;\n",
              "      width: 32px;\n",
              "    }\n",
              "\n",
              "    .colab-df-convert:hover {\n",
              "      background-color: #E2EBFA;\n",
              "      box-shadow: 0px 1px 2px rgba(60, 64, 67, 0.3), 0px 1px 3px 1px rgba(60, 64, 67, 0.15);\n",
              "      fill: #174EA6;\n",
              "    }\n",
              "\n",
              "    [theme=dark] .colab-df-convert {\n",
              "      background-color: #3B4455;\n",
              "      fill: #D2E3FC;\n",
              "    }\n",
              "\n",
              "    [theme=dark] .colab-df-convert:hover {\n",
              "      background-color: #434B5C;\n",
              "      box-shadow: 0px 1px 3px 1px rgba(0, 0, 0, 0.15);\n",
              "      filter: drop-shadow(0px 1px 2px rgba(0, 0, 0, 0.3));\n",
              "      fill: #FFFFFF;\n",
              "    }\n",
              "  </style>\n",
              "\n",
              "      <script>\n",
              "        const buttonEl =\n",
              "          document.querySelector('#df-1dd28a3c-54af-4f9f-a5ff-ec2233879e54 button.colab-df-convert');\n",
              "        buttonEl.style.display =\n",
              "          google.colab.kernel.accessAllowed ? 'block' : 'none';\n",
              "\n",
              "        async function convertToInteractive(key) {\n",
              "          const element = document.querySelector('#df-1dd28a3c-54af-4f9f-a5ff-ec2233879e54');\n",
              "          const dataTable =\n",
              "            await google.colab.kernel.invokeFunction('convertToInteractive',\n",
              "                                                     [key], {});\n",
              "          if (!dataTable) return;\n",
              "\n",
              "          const docLinkHtml = 'Like what you see? Visit the ' +\n",
              "            '<a target=\"_blank\" href=https://colab.research.google.com/notebooks/data_table.ipynb>data table notebook</a>'\n",
              "            + ' to learn more about interactive tables.';\n",
              "          element.innerHTML = '';\n",
              "          dataTable['output_type'] = 'display_data';\n",
              "          await google.colab.output.renderOutput(dataTable, element);\n",
              "          const docLink = document.createElement('div');\n",
              "          docLink.innerHTML = docLinkHtml;\n",
              "          element.appendChild(docLink);\n",
              "        }\n",
              "      </script>\n",
              "    </div>\n",
              "  </div>\n",
              "  "
            ]
          },
          "metadata": {},
          "execution_count": 18
        }
      ],
      "source": [
        "train"
      ]
    },
    {
      "cell_type": "code",
      "execution_count": 19,
      "metadata": {
        "colab": {
          "base_uri": "https://localhost:8080/"
        },
        "id": "t254IvU64jle",
        "outputId": "883abd11-6db5-4286-99b7-30321d7bde89"
      },
      "outputs": [
        {
          "output_type": "execute_result",
          "data": {
            "text/plain": [
              "Chest                                                 724\n",
              "Others                                                120\n",
              "Knee                                                  102\n",
              "Abdomen                                                80\n",
              "Cervical Spine                                         77\n",
              "Feet                                                   70\n",
              "Pelvis                                                 67\n",
              "Wrist                                                  63\n",
              "Lumbar Spine and Thoracic Spine                        45\n",
              "Hand and Wrist                                         42\n",
              "Ankle                                                  41\n",
              "Shoulder                                               40\n",
              "Lumbar Spine                                           39\n",
              "Hand                                                   31\n",
              "Elbow                                                  23\n",
              "Sinus                                                  23\n",
              "Lower Leg                                              19\n",
              "Hip                                                    19\n",
              "Thoracic Spine                                         15\n",
              "Finger                                                 15\n",
              "Forearm                                                12\n",
              "Abdomen and Chest                                      11\n",
              "Skull                                                  10\n",
              "Clavicles                                               9\n",
              "Ankle and Feet                                          7\n",
              "Thigh                                                   7\n",
              "Ankle and Knee and Lower Leg                            5\n",
              "Hip and Thigh                                           4\n",
              "Cervical Spine and Lumbar Spine and Thoracic Spine      3\n",
              "Elbow and Forearm                                       2\n",
              "Pelvis and Thigh                                        2\n",
              "Hip and Knee and Thigh                                  2\n",
              "Cervical Spine and Thoracic Spine                       1\n",
              "Chest and Finger                                        1\n",
              "Chest and Feet                                          1\n",
              "Abdomen and Pelvis                                      1\n",
              "Finger and Hand                                         1\n",
              "Ankle and Lower Leg                                     1\n",
              "Chest and Pelvis                                        1\n",
              "Knee and Lower Leg                                      1\n",
              "Forearm and Shoulder                                    1\n",
              "Name: Label, dtype: int64"
            ]
          },
          "metadata": {},
          "execution_count": 19
        }
      ],
      "source": [
        "train.Label.value_counts()"
      ]
    },
    {
      "cell_type": "markdown",
      "metadata": {
        "id": "RNIgnxUKZbKn"
      },
      "source": [
        "## Delete every row with more than one organ"
      ]
    },
    {
      "cell_type": "code",
      "execution_count": 20,
      "metadata": {
        "colab": {
          "base_uri": "https://localhost:8080/"
        },
        "id": "c_btJ6mUZbKn",
        "outputId": "72cbb7cc-5c46-4655-c427-d9cddbc47f4d"
      },
      "outputs": [
        {
          "output_type": "stream",
          "name": "stdout",
          "text": [
            "Ele identificou\n"
          ]
        }
      ],
      "source": [
        "frase = \"Ankle and Knee and Lower Leg\"\n",
        "if \"and\" in frase:\n",
        "    print(\"Ele identificou\")"
      ]
    },
    {
      "cell_type": "code",
      "execution_count": 21,
      "metadata": {
        "id": "EpAz5juZZbKn"
      },
      "outputs": [],
      "source": [
        "aux = list(train[\"Label\"])\n",
        "index=[]\n",
        "for i in range(len(aux)):\n",
        "    if \"and\" in aux[i]:\n",
        "        index.append(i)"
      ]
    },
    {
      "cell_type": "code",
      "execution_count": 22,
      "metadata": {
        "id": "DuaP1t6WZbKo"
      },
      "outputs": [],
      "source": [
        "train.drop(index, axis=0, inplace=True)"
      ]
    },
    {
      "cell_type": "code",
      "execution_count": 23,
      "metadata": {
        "colab": {
          "base_uri": "https://localhost:8080/"
        },
        "id": "IXrYquBHZbKo",
        "outputId": "ec874fec-1c7e-4867-a0d3-7ee0b22f5b79"
      },
      "outputs": [
        {
          "output_type": "execute_result",
          "data": {
            "text/plain": [
              "Chest             724\n",
              "Others            120\n",
              "Knee              102\n",
              "Abdomen            80\n",
              "Cervical Spine     77\n",
              "Feet               70\n",
              "Pelvis             67\n",
              "Wrist              63\n",
              "Ankle              41\n",
              "Shoulder           40\n",
              "Lumbar Spine       39\n",
              "Sinus              23\n",
              "Elbow              23\n",
              "Lower Leg          19\n",
              "Hip                19\n",
              "Thoracic Spine     15\n",
              "Finger             15\n",
              "Forearm            12\n",
              "Skull              10\n",
              "Clavicles           9\n",
              "Thigh               7\n",
              "Name: Label, dtype: int64"
            ]
          },
          "metadata": {},
          "execution_count": 23
        }
      ],
      "source": [
        "train.Label.value_counts()"
      ]
    },
    {
      "cell_type": "code",
      "execution_count": 24,
      "metadata": {
        "colab": {
          "base_uri": "https://localhost:8080/"
        },
        "id": "RBvccymfZbKo",
        "outputId": "943be08f-2634-45b8-e0f7-2813e95daf2d"
      },
      "outputs": [
        {
          "output_type": "execute_result",
          "data": {
            "text/plain": [
              "Index(['Filename', 'PhotometricInterpretation', 'BitsAllocated',\n",
              "       'SOPInstanceUID', 'Target', 'Label'],\n",
              "      dtype='object')"
            ]
          },
          "metadata": {},
          "execution_count": 24
        }
      ],
      "source": [
        "train.columns"
      ]
    },
    {
      "cell_type": "code",
      "execution_count": 25,
      "metadata": {
        "id": "qkArd1PWZbKp"
      },
      "outputs": [],
      "source": [
        "# #Creating a Training Folder\n",
        "# os.mkdir(\"/mnt/c/Códigos_VS/X-rayBodyPart/\" + \"TrainingImages\" + \"/\")\n"
      ]
    },
    {
      "cell_type": "code",
      "execution_count": 26,
      "metadata": {
        "colab": {
          "base_uri": "https://localhost:8080/",
          "height": 270
        },
        "id": "cR6pWdgGZbKp",
        "outputId": "72a712bf-686c-45d6-a459-6134f37ca0c1"
      },
      "outputs": [
        {
          "output_type": "execute_result",
          "data": {
            "text/plain": [
              "                                               Filename  \\\n",
              "1161  /content/train/train/train/660/1.2.826.0.1.368...   \n",
              "481   /content/train/train/train/597/1.2.826.0.1.368...   \n",
              "1167  /content/train/train/train/854/1.2.826.0.1.368...   \n",
              "1168  /content/train/train/train/854/1.2.826.0.1.368...   \n",
              "1170  /content/train/train/train/854/1.2.826.0.1.368...   \n",
              "\n",
              "     PhotometricInterpretation  BitsAllocated  \\\n",
              "1161               MONOCHROME1             16   \n",
              "481                MONOCHROME1             16   \n",
              "1167               MONOCHROME1             16   \n",
              "1168               MONOCHROME1             16   \n",
              "1170               MONOCHROME1             16   \n",
              "\n",
              "                                         SOPInstanceUID Target    Label  \n",
              "1161  1.2.826.0.1.3680043.8.498.11430185427783861938...     0   Abdomen  \n",
              "481   1.2.826.0.1.3680043.8.498.90879301558575796376...     0   Abdomen  \n",
              "1167  1.2.826.0.1.3680043.8.498.11666143137939211262...     0   Abdomen  \n",
              "1168  1.2.826.0.1.3680043.8.498.68959812189539083943...     0   Abdomen  \n",
              "1170  1.2.826.0.1.3680043.8.498.12608809850577365286...     0   Abdomen  "
            ],
            "text/html": [
              "\n",
              "  <div id=\"df-9e965dce-211a-4a60-9e81-19c8cf291d66\">\n",
              "    <div class=\"colab-df-container\">\n",
              "      <div>\n",
              "<style scoped>\n",
              "    .dataframe tbody tr th:only-of-type {\n",
              "        vertical-align: middle;\n",
              "    }\n",
              "\n",
              "    .dataframe tbody tr th {\n",
              "        vertical-align: top;\n",
              "    }\n",
              "\n",
              "    .dataframe thead th {\n",
              "        text-align: right;\n",
              "    }\n",
              "</style>\n",
              "<table border=\"1\" class=\"dataframe\">\n",
              "  <thead>\n",
              "    <tr style=\"text-align: right;\">\n",
              "      <th></th>\n",
              "      <th>Filename</th>\n",
              "      <th>PhotometricInterpretation</th>\n",
              "      <th>BitsAllocated</th>\n",
              "      <th>SOPInstanceUID</th>\n",
              "      <th>Target</th>\n",
              "      <th>Label</th>\n",
              "    </tr>\n",
              "  </thead>\n",
              "  <tbody>\n",
              "    <tr>\n",
              "      <th>1161</th>\n",
              "      <td>/content/train/train/train/660/1.2.826.0.1.368...</td>\n",
              "      <td>MONOCHROME1</td>\n",
              "      <td>16</td>\n",
              "      <td>1.2.826.0.1.3680043.8.498.11430185427783861938...</td>\n",
              "      <td>0</td>\n",
              "      <td>Abdomen</td>\n",
              "    </tr>\n",
              "    <tr>\n",
              "      <th>481</th>\n",
              "      <td>/content/train/train/train/597/1.2.826.0.1.368...</td>\n",
              "      <td>MONOCHROME1</td>\n",
              "      <td>16</td>\n",
              "      <td>1.2.826.0.1.3680043.8.498.90879301558575796376...</td>\n",
              "      <td>0</td>\n",
              "      <td>Abdomen</td>\n",
              "    </tr>\n",
              "    <tr>\n",
              "      <th>1167</th>\n",
              "      <td>/content/train/train/train/854/1.2.826.0.1.368...</td>\n",
              "      <td>MONOCHROME1</td>\n",
              "      <td>16</td>\n",
              "      <td>1.2.826.0.1.3680043.8.498.11666143137939211262...</td>\n",
              "      <td>0</td>\n",
              "      <td>Abdomen</td>\n",
              "    </tr>\n",
              "    <tr>\n",
              "      <th>1168</th>\n",
              "      <td>/content/train/train/train/854/1.2.826.0.1.368...</td>\n",
              "      <td>MONOCHROME1</td>\n",
              "      <td>16</td>\n",
              "      <td>1.2.826.0.1.3680043.8.498.68959812189539083943...</td>\n",
              "      <td>0</td>\n",
              "      <td>Abdomen</td>\n",
              "    </tr>\n",
              "    <tr>\n",
              "      <th>1170</th>\n",
              "      <td>/content/train/train/train/854/1.2.826.0.1.368...</td>\n",
              "      <td>MONOCHROME1</td>\n",
              "      <td>16</td>\n",
              "      <td>1.2.826.0.1.3680043.8.498.12608809850577365286...</td>\n",
              "      <td>0</td>\n",
              "      <td>Abdomen</td>\n",
              "    </tr>\n",
              "  </tbody>\n",
              "</table>\n",
              "</div>\n",
              "      <button class=\"colab-df-convert\" onclick=\"convertToInteractive('df-9e965dce-211a-4a60-9e81-19c8cf291d66')\"\n",
              "              title=\"Convert this dataframe to an interactive table.\"\n",
              "              style=\"display:none;\">\n",
              "        \n",
              "  <svg xmlns=\"http://www.w3.org/2000/svg\" height=\"24px\"viewBox=\"0 0 24 24\"\n",
              "       width=\"24px\">\n",
              "    <path d=\"M0 0h24v24H0V0z\" fill=\"none\"/>\n",
              "    <path d=\"M18.56 5.44l.94 2.06.94-2.06 2.06-.94-2.06-.94-.94-2.06-.94 2.06-2.06.94zm-11 1L8.5 8.5l.94-2.06 2.06-.94-2.06-.94L8.5 2.5l-.94 2.06-2.06.94zm10 10l.94 2.06.94-2.06 2.06-.94-2.06-.94-.94-2.06-.94 2.06-2.06.94z\"/><path d=\"M17.41 7.96l-1.37-1.37c-.4-.4-.92-.59-1.43-.59-.52 0-1.04.2-1.43.59L10.3 9.45l-7.72 7.72c-.78.78-.78 2.05 0 2.83L4 21.41c.39.39.9.59 1.41.59.51 0 1.02-.2 1.41-.59l7.78-7.78 2.81-2.81c.8-.78.8-2.07 0-2.86zM5.41 20L4 18.59l7.72-7.72 1.47 1.35L5.41 20z\"/>\n",
              "  </svg>\n",
              "      </button>\n",
              "      \n",
              "  <style>\n",
              "    .colab-df-container {\n",
              "      display:flex;\n",
              "      flex-wrap:wrap;\n",
              "      gap: 12px;\n",
              "    }\n",
              "\n",
              "    .colab-df-convert {\n",
              "      background-color: #E8F0FE;\n",
              "      border: none;\n",
              "      border-radius: 50%;\n",
              "      cursor: pointer;\n",
              "      display: none;\n",
              "      fill: #1967D2;\n",
              "      height: 32px;\n",
              "      padding: 0 0 0 0;\n",
              "      width: 32px;\n",
              "    }\n",
              "\n",
              "    .colab-df-convert:hover {\n",
              "      background-color: #E2EBFA;\n",
              "      box-shadow: 0px 1px 2px rgba(60, 64, 67, 0.3), 0px 1px 3px 1px rgba(60, 64, 67, 0.15);\n",
              "      fill: #174EA6;\n",
              "    }\n",
              "\n",
              "    [theme=dark] .colab-df-convert {\n",
              "      background-color: #3B4455;\n",
              "      fill: #D2E3FC;\n",
              "    }\n",
              "\n",
              "    [theme=dark] .colab-df-convert:hover {\n",
              "      background-color: #434B5C;\n",
              "      box-shadow: 0px 1px 3px 1px rgba(0, 0, 0, 0.15);\n",
              "      filter: drop-shadow(0px 1px 2px rgba(0, 0, 0, 0.3));\n",
              "      fill: #FFFFFF;\n",
              "    }\n",
              "  </style>\n",
              "\n",
              "      <script>\n",
              "        const buttonEl =\n",
              "          document.querySelector('#df-9e965dce-211a-4a60-9e81-19c8cf291d66 button.colab-df-convert');\n",
              "        buttonEl.style.display =\n",
              "          google.colab.kernel.accessAllowed ? 'block' : 'none';\n",
              "\n",
              "        async function convertToInteractive(key) {\n",
              "          const element = document.querySelector('#df-9e965dce-211a-4a60-9e81-19c8cf291d66');\n",
              "          const dataTable =\n",
              "            await google.colab.kernel.invokeFunction('convertToInteractive',\n",
              "                                                     [key], {});\n",
              "          if (!dataTable) return;\n",
              "\n",
              "          const docLinkHtml = 'Like what you see? Visit the ' +\n",
              "            '<a target=\"_blank\" href=https://colab.research.google.com/notebooks/data_table.ipynb>data table notebook</a>'\n",
              "            + ' to learn more about interactive tables.';\n",
              "          element.innerHTML = '';\n",
              "          dataTable['output_type'] = 'display_data';\n",
              "          await google.colab.output.renderOutput(dataTable, element);\n",
              "          const docLink = document.createElement('div');\n",
              "          docLink.innerHTML = docLinkHtml;\n",
              "          element.appendChild(docLink);\n",
              "        }\n",
              "      </script>\n",
              "    </div>\n",
              "  </div>\n",
              "  "
            ]
          },
          "metadata": {},
          "execution_count": 26
        }
      ],
      "source": [
        "train = train.sort_values(by=['Label'])\n",
        "train.head()"
      ]
    },
    {
      "cell_type": "markdown",
      "metadata": {
        "id": "Mr6AEewKZbKp"
      },
      "source": [
        "#### Creating Folders to each label"
      ]
    },
    {
      "cell_type": "code",
      "execution_count": 27,
      "metadata": {
        "id": "q0yU56dvZbKq"
      },
      "outputs": [],
      "source": [
        "def creatingFolder(nameList, path):\n",
        "    for name in nameList:\n",
        "        os.mkdir(path + name + '/')\n",
        "\n"
      ]
    },
    {
      "cell_type": "code",
      "execution_count": 28,
      "metadata": {
        "id": "AA5uEKPiZbKq"
      },
      "outputs": [],
      "source": [
        "# nameList = train[\"Label\"].unique()\n",
        "# path = \"/mnt/c/Códigos_VS/X-rayBodyPart/TrainingImages/\"\n",
        "\n",
        "\n",
        "# try:\n",
        "#   creatingFolder(nameList, path)\n",
        "  \n",
        "# except FileExistsError:\n",
        "#   shutil.rmtree(path)\n"
      ]
    },
    {
      "cell_type": "markdown",
      "metadata": {
        "id": "MacZ-0PbZbKr"
      },
      "source": [
        "#### Putting each imagem to the specific folder"
      ]
    },
    {
      "cell_type": "code",
      "execution_count": 29,
      "metadata": {
        "colab": {
          "base_uri": "https://localhost:8080/",
          "height": 270
        },
        "id": "GhPFU1cUZbKs",
        "outputId": "7171765b-39c4-4fd1-c1d6-755c29b56134"
      },
      "outputs": [
        {
          "output_type": "execute_result",
          "data": {
            "text/plain": [
              "                                               Filename  \\\n",
              "1161  /content/train/train/train/660/1.2.826.0.1.368...   \n",
              "481   /content/train/train/train/597/1.2.826.0.1.368...   \n",
              "1167  /content/train/train/train/854/1.2.826.0.1.368...   \n",
              "1168  /content/train/train/train/854/1.2.826.0.1.368...   \n",
              "1170  /content/train/train/train/854/1.2.826.0.1.368...   \n",
              "\n",
              "     PhotometricInterpretation  BitsAllocated  \\\n",
              "1161               MONOCHROME1             16   \n",
              "481                MONOCHROME1             16   \n",
              "1167               MONOCHROME1             16   \n",
              "1168               MONOCHROME1             16   \n",
              "1170               MONOCHROME1             16   \n",
              "\n",
              "                                         SOPInstanceUID Target    Label  \n",
              "1161  1.2.826.0.1.3680043.8.498.11430185427783861938...     0   Abdomen  \n",
              "481   1.2.826.0.1.3680043.8.498.90879301558575796376...     0   Abdomen  \n",
              "1167  1.2.826.0.1.3680043.8.498.11666143137939211262...     0   Abdomen  \n",
              "1168  1.2.826.0.1.3680043.8.498.68959812189539083943...     0   Abdomen  \n",
              "1170  1.2.826.0.1.3680043.8.498.12608809850577365286...     0   Abdomen  "
            ],
            "text/html": [
              "\n",
              "  <div id=\"df-cb393a32-5291-4d6b-9769-bc9c82e5de3a\">\n",
              "    <div class=\"colab-df-container\">\n",
              "      <div>\n",
              "<style scoped>\n",
              "    .dataframe tbody tr th:only-of-type {\n",
              "        vertical-align: middle;\n",
              "    }\n",
              "\n",
              "    .dataframe tbody tr th {\n",
              "        vertical-align: top;\n",
              "    }\n",
              "\n",
              "    .dataframe thead th {\n",
              "        text-align: right;\n",
              "    }\n",
              "</style>\n",
              "<table border=\"1\" class=\"dataframe\">\n",
              "  <thead>\n",
              "    <tr style=\"text-align: right;\">\n",
              "      <th></th>\n",
              "      <th>Filename</th>\n",
              "      <th>PhotometricInterpretation</th>\n",
              "      <th>BitsAllocated</th>\n",
              "      <th>SOPInstanceUID</th>\n",
              "      <th>Target</th>\n",
              "      <th>Label</th>\n",
              "    </tr>\n",
              "  </thead>\n",
              "  <tbody>\n",
              "    <tr>\n",
              "      <th>1161</th>\n",
              "      <td>/content/train/train/train/660/1.2.826.0.1.368...</td>\n",
              "      <td>MONOCHROME1</td>\n",
              "      <td>16</td>\n",
              "      <td>1.2.826.0.1.3680043.8.498.11430185427783861938...</td>\n",
              "      <td>0</td>\n",
              "      <td>Abdomen</td>\n",
              "    </tr>\n",
              "    <tr>\n",
              "      <th>481</th>\n",
              "      <td>/content/train/train/train/597/1.2.826.0.1.368...</td>\n",
              "      <td>MONOCHROME1</td>\n",
              "      <td>16</td>\n",
              "      <td>1.2.826.0.1.3680043.8.498.90879301558575796376...</td>\n",
              "      <td>0</td>\n",
              "      <td>Abdomen</td>\n",
              "    </tr>\n",
              "    <tr>\n",
              "      <th>1167</th>\n",
              "      <td>/content/train/train/train/854/1.2.826.0.1.368...</td>\n",
              "      <td>MONOCHROME1</td>\n",
              "      <td>16</td>\n",
              "      <td>1.2.826.0.1.3680043.8.498.11666143137939211262...</td>\n",
              "      <td>0</td>\n",
              "      <td>Abdomen</td>\n",
              "    </tr>\n",
              "    <tr>\n",
              "      <th>1168</th>\n",
              "      <td>/content/train/train/train/854/1.2.826.0.1.368...</td>\n",
              "      <td>MONOCHROME1</td>\n",
              "      <td>16</td>\n",
              "      <td>1.2.826.0.1.3680043.8.498.68959812189539083943...</td>\n",
              "      <td>0</td>\n",
              "      <td>Abdomen</td>\n",
              "    </tr>\n",
              "    <tr>\n",
              "      <th>1170</th>\n",
              "      <td>/content/train/train/train/854/1.2.826.0.1.368...</td>\n",
              "      <td>MONOCHROME1</td>\n",
              "      <td>16</td>\n",
              "      <td>1.2.826.0.1.3680043.8.498.12608809850577365286...</td>\n",
              "      <td>0</td>\n",
              "      <td>Abdomen</td>\n",
              "    </tr>\n",
              "  </tbody>\n",
              "</table>\n",
              "</div>\n",
              "      <button class=\"colab-df-convert\" onclick=\"convertToInteractive('df-cb393a32-5291-4d6b-9769-bc9c82e5de3a')\"\n",
              "              title=\"Convert this dataframe to an interactive table.\"\n",
              "              style=\"display:none;\">\n",
              "        \n",
              "  <svg xmlns=\"http://www.w3.org/2000/svg\" height=\"24px\"viewBox=\"0 0 24 24\"\n",
              "       width=\"24px\">\n",
              "    <path d=\"M0 0h24v24H0V0z\" fill=\"none\"/>\n",
              "    <path d=\"M18.56 5.44l.94 2.06.94-2.06 2.06-.94-2.06-.94-.94-2.06-.94 2.06-2.06.94zm-11 1L8.5 8.5l.94-2.06 2.06-.94-2.06-.94L8.5 2.5l-.94 2.06-2.06.94zm10 10l.94 2.06.94-2.06 2.06-.94-2.06-.94-.94-2.06-.94 2.06-2.06.94z\"/><path d=\"M17.41 7.96l-1.37-1.37c-.4-.4-.92-.59-1.43-.59-.52 0-1.04.2-1.43.59L10.3 9.45l-7.72 7.72c-.78.78-.78 2.05 0 2.83L4 21.41c.39.39.9.59 1.41.59.51 0 1.02-.2 1.41-.59l7.78-7.78 2.81-2.81c.8-.78.8-2.07 0-2.86zM5.41 20L4 18.59l7.72-7.72 1.47 1.35L5.41 20z\"/>\n",
              "  </svg>\n",
              "      </button>\n",
              "      \n",
              "  <style>\n",
              "    .colab-df-container {\n",
              "      display:flex;\n",
              "      flex-wrap:wrap;\n",
              "      gap: 12px;\n",
              "    }\n",
              "\n",
              "    .colab-df-convert {\n",
              "      background-color: #E8F0FE;\n",
              "      border: none;\n",
              "      border-radius: 50%;\n",
              "      cursor: pointer;\n",
              "      display: none;\n",
              "      fill: #1967D2;\n",
              "      height: 32px;\n",
              "      padding: 0 0 0 0;\n",
              "      width: 32px;\n",
              "    }\n",
              "\n",
              "    .colab-df-convert:hover {\n",
              "      background-color: #E2EBFA;\n",
              "      box-shadow: 0px 1px 2px rgba(60, 64, 67, 0.3), 0px 1px 3px 1px rgba(60, 64, 67, 0.15);\n",
              "      fill: #174EA6;\n",
              "    }\n",
              "\n",
              "    [theme=dark] .colab-df-convert {\n",
              "      background-color: #3B4455;\n",
              "      fill: #D2E3FC;\n",
              "    }\n",
              "\n",
              "    [theme=dark] .colab-df-convert:hover {\n",
              "      background-color: #434B5C;\n",
              "      box-shadow: 0px 1px 3px 1px rgba(0, 0, 0, 0.15);\n",
              "      filter: drop-shadow(0px 1px 2px rgba(0, 0, 0, 0.3));\n",
              "      fill: #FFFFFF;\n",
              "    }\n",
              "  </style>\n",
              "\n",
              "      <script>\n",
              "        const buttonEl =\n",
              "          document.querySelector('#df-cb393a32-5291-4d6b-9769-bc9c82e5de3a button.colab-df-convert');\n",
              "        buttonEl.style.display =\n",
              "          google.colab.kernel.accessAllowed ? 'block' : 'none';\n",
              "\n",
              "        async function convertToInteractive(key) {\n",
              "          const element = document.querySelector('#df-cb393a32-5291-4d6b-9769-bc9c82e5de3a');\n",
              "          const dataTable =\n",
              "            await google.colab.kernel.invokeFunction('convertToInteractive',\n",
              "                                                     [key], {});\n",
              "          if (!dataTable) return;\n",
              "\n",
              "          const docLinkHtml = 'Like what you see? Visit the ' +\n",
              "            '<a target=\"_blank\" href=https://colab.research.google.com/notebooks/data_table.ipynb>data table notebook</a>'\n",
              "            + ' to learn more about interactive tables.';\n",
              "          element.innerHTML = '';\n",
              "          dataTable['output_type'] = 'display_data';\n",
              "          await google.colab.output.renderOutput(dataTable, element);\n",
              "          const docLink = document.createElement('div');\n",
              "          docLink.innerHTML = docLinkHtml;\n",
              "          element.appendChild(docLink);\n",
              "        }\n",
              "      </script>\n",
              "    </div>\n",
              "  </div>\n",
              "  "
            ]
          },
          "metadata": {},
          "execution_count": 29
        }
      ],
      "source": [
        "train.head()"
      ]
    },
    {
      "cell_type": "code",
      "execution_count": 30,
      "metadata": {
        "colab": {
          "base_uri": "https://localhost:8080/"
        },
        "id": "Sv0k11FhZbKs",
        "outputId": "24613b59-ee66-4e85-8c13-44bbc1c89d56"
      },
      "outputs": [
        {
          "output_type": "execute_result",
          "data": {
            "text/plain": [
              "Chest             724\n",
              "Others            120\n",
              "Knee              102\n",
              "Abdomen            80\n",
              "Cervical Spine     77\n",
              "Feet               70\n",
              "Pelvis             67\n",
              "Wrist              63\n",
              "Ankle              41\n",
              "Shoulder           40\n",
              "Lumbar Spine       39\n",
              "Elbow              23\n",
              "Sinus              23\n",
              "Lower Leg          19\n",
              "Hip                19\n",
              "Finger             15\n",
              "Thoracic Spine     15\n",
              "Forearm            12\n",
              "Skull              10\n",
              "Clavicles           9\n",
              "Thigh               7\n",
              "Name: Label, dtype: int64"
            ]
          },
          "metadata": {},
          "execution_count": 30
        }
      ],
      "source": [
        "train.Label.value_counts()"
      ]
    },
    {
      "cell_type": "code",
      "execution_count": 31,
      "metadata": {
        "id": "CnGgcV2vZbKs"
      },
      "outputs": [],
      "source": [
        "folder = \"/mnt/c/Códigos_VS/X-rayBodyPart/TrainingImages/\"\n",
        "for root, dirs, files in os.walk(folder, topdown=False):\n",
        "    print(root)"
      ]
    },
    {
      "cell_type": "code",
      "execution_count": 32,
      "metadata": {
        "colab": {
          "base_uri": "https://localhost:8080/",
          "height": 270
        },
        "id": "Bo23sezVZbKs",
        "outputId": "48cc64fd-b3c9-47cf-ad31-9ed9b2621ccb"
      },
      "outputs": [
        {
          "output_type": "execute_result",
          "data": {
            "text/plain": [
              "                                               Filename  \\\n",
              "1161  /content/train/train/train/660/1.2.826.0.1.368...   \n",
              "481   /content/train/train/train/597/1.2.826.0.1.368...   \n",
              "1167  /content/train/train/train/854/1.2.826.0.1.368...   \n",
              "1168  /content/train/train/train/854/1.2.826.0.1.368...   \n",
              "1170  /content/train/train/train/854/1.2.826.0.1.368...   \n",
              "\n",
              "     PhotometricInterpretation  BitsAllocated  \\\n",
              "1161               MONOCHROME1             16   \n",
              "481                MONOCHROME1             16   \n",
              "1167               MONOCHROME1             16   \n",
              "1168               MONOCHROME1             16   \n",
              "1170               MONOCHROME1             16   \n",
              "\n",
              "                                         SOPInstanceUID Target    Label  \n",
              "1161  1.2.826.0.1.3680043.8.498.11430185427783861938...     0   Abdomen  \n",
              "481   1.2.826.0.1.3680043.8.498.90879301558575796376...     0   Abdomen  \n",
              "1167  1.2.826.0.1.3680043.8.498.11666143137939211262...     0   Abdomen  \n",
              "1168  1.2.826.0.1.3680043.8.498.68959812189539083943...     0   Abdomen  \n",
              "1170  1.2.826.0.1.3680043.8.498.12608809850577365286...     0   Abdomen  "
            ],
            "text/html": [
              "\n",
              "  <div id=\"df-9d8d67c6-c77c-4b7b-8b61-50eb07d7fd73\">\n",
              "    <div class=\"colab-df-container\">\n",
              "      <div>\n",
              "<style scoped>\n",
              "    .dataframe tbody tr th:only-of-type {\n",
              "        vertical-align: middle;\n",
              "    }\n",
              "\n",
              "    .dataframe tbody tr th {\n",
              "        vertical-align: top;\n",
              "    }\n",
              "\n",
              "    .dataframe thead th {\n",
              "        text-align: right;\n",
              "    }\n",
              "</style>\n",
              "<table border=\"1\" class=\"dataframe\">\n",
              "  <thead>\n",
              "    <tr style=\"text-align: right;\">\n",
              "      <th></th>\n",
              "      <th>Filename</th>\n",
              "      <th>PhotometricInterpretation</th>\n",
              "      <th>BitsAllocated</th>\n",
              "      <th>SOPInstanceUID</th>\n",
              "      <th>Target</th>\n",
              "      <th>Label</th>\n",
              "    </tr>\n",
              "  </thead>\n",
              "  <tbody>\n",
              "    <tr>\n",
              "      <th>1161</th>\n",
              "      <td>/content/train/train/train/660/1.2.826.0.1.368...</td>\n",
              "      <td>MONOCHROME1</td>\n",
              "      <td>16</td>\n",
              "      <td>1.2.826.0.1.3680043.8.498.11430185427783861938...</td>\n",
              "      <td>0</td>\n",
              "      <td>Abdomen</td>\n",
              "    </tr>\n",
              "    <tr>\n",
              "      <th>481</th>\n",
              "      <td>/content/train/train/train/597/1.2.826.0.1.368...</td>\n",
              "      <td>MONOCHROME1</td>\n",
              "      <td>16</td>\n",
              "      <td>1.2.826.0.1.3680043.8.498.90879301558575796376...</td>\n",
              "      <td>0</td>\n",
              "      <td>Abdomen</td>\n",
              "    </tr>\n",
              "    <tr>\n",
              "      <th>1167</th>\n",
              "      <td>/content/train/train/train/854/1.2.826.0.1.368...</td>\n",
              "      <td>MONOCHROME1</td>\n",
              "      <td>16</td>\n",
              "      <td>1.2.826.0.1.3680043.8.498.11666143137939211262...</td>\n",
              "      <td>0</td>\n",
              "      <td>Abdomen</td>\n",
              "    </tr>\n",
              "    <tr>\n",
              "      <th>1168</th>\n",
              "      <td>/content/train/train/train/854/1.2.826.0.1.368...</td>\n",
              "      <td>MONOCHROME1</td>\n",
              "      <td>16</td>\n",
              "      <td>1.2.826.0.1.3680043.8.498.68959812189539083943...</td>\n",
              "      <td>0</td>\n",
              "      <td>Abdomen</td>\n",
              "    </tr>\n",
              "    <tr>\n",
              "      <th>1170</th>\n",
              "      <td>/content/train/train/train/854/1.2.826.0.1.368...</td>\n",
              "      <td>MONOCHROME1</td>\n",
              "      <td>16</td>\n",
              "      <td>1.2.826.0.1.3680043.8.498.12608809850577365286...</td>\n",
              "      <td>0</td>\n",
              "      <td>Abdomen</td>\n",
              "    </tr>\n",
              "  </tbody>\n",
              "</table>\n",
              "</div>\n",
              "      <button class=\"colab-df-convert\" onclick=\"convertToInteractive('df-9d8d67c6-c77c-4b7b-8b61-50eb07d7fd73')\"\n",
              "              title=\"Convert this dataframe to an interactive table.\"\n",
              "              style=\"display:none;\">\n",
              "        \n",
              "  <svg xmlns=\"http://www.w3.org/2000/svg\" height=\"24px\"viewBox=\"0 0 24 24\"\n",
              "       width=\"24px\">\n",
              "    <path d=\"M0 0h24v24H0V0z\" fill=\"none\"/>\n",
              "    <path d=\"M18.56 5.44l.94 2.06.94-2.06 2.06-.94-2.06-.94-.94-2.06-.94 2.06-2.06.94zm-11 1L8.5 8.5l.94-2.06 2.06-.94-2.06-.94L8.5 2.5l-.94 2.06-2.06.94zm10 10l.94 2.06.94-2.06 2.06-.94-2.06-.94-.94-2.06-.94 2.06-2.06.94z\"/><path d=\"M17.41 7.96l-1.37-1.37c-.4-.4-.92-.59-1.43-.59-.52 0-1.04.2-1.43.59L10.3 9.45l-7.72 7.72c-.78.78-.78 2.05 0 2.83L4 21.41c.39.39.9.59 1.41.59.51 0 1.02-.2 1.41-.59l7.78-7.78 2.81-2.81c.8-.78.8-2.07 0-2.86zM5.41 20L4 18.59l7.72-7.72 1.47 1.35L5.41 20z\"/>\n",
              "  </svg>\n",
              "      </button>\n",
              "      \n",
              "  <style>\n",
              "    .colab-df-container {\n",
              "      display:flex;\n",
              "      flex-wrap:wrap;\n",
              "      gap: 12px;\n",
              "    }\n",
              "\n",
              "    .colab-df-convert {\n",
              "      background-color: #E8F0FE;\n",
              "      border: none;\n",
              "      border-radius: 50%;\n",
              "      cursor: pointer;\n",
              "      display: none;\n",
              "      fill: #1967D2;\n",
              "      height: 32px;\n",
              "      padding: 0 0 0 0;\n",
              "      width: 32px;\n",
              "    }\n",
              "\n",
              "    .colab-df-convert:hover {\n",
              "      background-color: #E2EBFA;\n",
              "      box-shadow: 0px 1px 2px rgba(60, 64, 67, 0.3), 0px 1px 3px 1px rgba(60, 64, 67, 0.15);\n",
              "      fill: #174EA6;\n",
              "    }\n",
              "\n",
              "    [theme=dark] .colab-df-convert {\n",
              "      background-color: #3B4455;\n",
              "      fill: #D2E3FC;\n",
              "    }\n",
              "\n",
              "    [theme=dark] .colab-df-convert:hover {\n",
              "      background-color: #434B5C;\n",
              "      box-shadow: 0px 1px 3px 1px rgba(0, 0, 0, 0.15);\n",
              "      filter: drop-shadow(0px 1px 2px rgba(0, 0, 0, 0.3));\n",
              "      fill: #FFFFFF;\n",
              "    }\n",
              "  </style>\n",
              "\n",
              "      <script>\n",
              "        const buttonEl =\n",
              "          document.querySelector('#df-9d8d67c6-c77c-4b7b-8b61-50eb07d7fd73 button.colab-df-convert');\n",
              "        buttonEl.style.display =\n",
              "          google.colab.kernel.accessAllowed ? 'block' : 'none';\n",
              "\n",
              "        async function convertToInteractive(key) {\n",
              "          const element = document.querySelector('#df-9d8d67c6-c77c-4b7b-8b61-50eb07d7fd73');\n",
              "          const dataTable =\n",
              "            await google.colab.kernel.invokeFunction('convertToInteractive',\n",
              "                                                     [key], {});\n",
              "          if (!dataTable) return;\n",
              "\n",
              "          const docLinkHtml = 'Like what you see? Visit the ' +\n",
              "            '<a target=\"_blank\" href=https://colab.research.google.com/notebooks/data_table.ipynb>data table notebook</a>'\n",
              "            + ' to learn more about interactive tables.';\n",
              "          element.innerHTML = '';\n",
              "          dataTable['output_type'] = 'display_data';\n",
              "          await google.colab.output.renderOutput(dataTable, element);\n",
              "          const docLink = document.createElement('div');\n",
              "          docLink.innerHTML = docLinkHtml;\n",
              "          element.appendChild(docLink);\n",
              "        }\n",
              "      </script>\n",
              "    </div>\n",
              "  </div>\n",
              "  "
            ]
          },
          "metadata": {},
          "execution_count": 32
        }
      ],
      "source": [
        "train.head()"
      ]
    },
    {
      "cell_type": "code",
      "execution_count": 33,
      "metadata": {
        "id": "itsw5Jx4ZbKt"
      },
      "outputs": [],
      "source": [
        "# dicom = pydicom.dcmread(filename)\n",
        "# img = dicom.pixel_array\n",
        "# im = Image.fromarray(img.astype(np.uint8))\n",
        "# var = filename.split(\"/\")\n",
        "# patient = var[5]\n",
        "# code = var[6]\n",
        "# im.save(\"/mnt/c/Códigos_VS/X-rayBodyPart/\" + name + \"/\" + var[-1][:-6] + \".bmp\")"
      ]
    },
    {
      "cell_type": "markdown",
      "metadata": {
        "id": "tUIEpBm0ZbKu"
      },
      "source": [
        "### As you can see the data is unbalanced, for this we will oversampling the images"
      ]
    },
    {
      "cell_type": "markdown",
      "metadata": {
        "id": "Cg-4GfRKZbKu"
      },
      "source": [
        "#### Testing with ImageDataGenerator"
      ]
    },
    {
      "cell_type": "markdown",
      "metadata": {
        "id": "1H8epjYJZbKu"
      },
      "source": [
        "## ImageDataGenerator"
      ]
    },
    {
      "cell_type": "code",
      "execution_count": 34,
      "metadata": {
        "colab": {
          "base_uri": "https://localhost:8080/",
          "height": 270
        },
        "id": "756Qq4lbZbKu",
        "outputId": "0a7b6b25-00ed-4555-f7c1-de1b2fdf39dd"
      },
      "outputs": [
        {
          "output_type": "execute_result",
          "data": {
            "text/plain": [
              "                                               Filename  \\\n",
              "1161  /content/train/train/train/660/1.2.826.0.1.368...   \n",
              "481   /content/train/train/train/597/1.2.826.0.1.368...   \n",
              "1167  /content/train/train/train/854/1.2.826.0.1.368...   \n",
              "1168  /content/train/train/train/854/1.2.826.0.1.368...   \n",
              "1170  /content/train/train/train/854/1.2.826.0.1.368...   \n",
              "\n",
              "     PhotometricInterpretation  BitsAllocated  \\\n",
              "1161               MONOCHROME1             16   \n",
              "481                MONOCHROME1             16   \n",
              "1167               MONOCHROME1             16   \n",
              "1168               MONOCHROME1             16   \n",
              "1170               MONOCHROME1             16   \n",
              "\n",
              "                                         SOPInstanceUID Target    Label  \n",
              "1161  1.2.826.0.1.3680043.8.498.11430185427783861938...     0   Abdomen  \n",
              "481   1.2.826.0.1.3680043.8.498.90879301558575796376...     0   Abdomen  \n",
              "1167  1.2.826.0.1.3680043.8.498.11666143137939211262...     0   Abdomen  \n",
              "1168  1.2.826.0.1.3680043.8.498.68959812189539083943...     0   Abdomen  \n",
              "1170  1.2.826.0.1.3680043.8.498.12608809850577365286...     0   Abdomen  "
            ],
            "text/html": [
              "\n",
              "  <div id=\"df-a4b7edec-76d9-4470-9d60-ccfb1f85d230\">\n",
              "    <div class=\"colab-df-container\">\n",
              "      <div>\n",
              "<style scoped>\n",
              "    .dataframe tbody tr th:only-of-type {\n",
              "        vertical-align: middle;\n",
              "    }\n",
              "\n",
              "    .dataframe tbody tr th {\n",
              "        vertical-align: top;\n",
              "    }\n",
              "\n",
              "    .dataframe thead th {\n",
              "        text-align: right;\n",
              "    }\n",
              "</style>\n",
              "<table border=\"1\" class=\"dataframe\">\n",
              "  <thead>\n",
              "    <tr style=\"text-align: right;\">\n",
              "      <th></th>\n",
              "      <th>Filename</th>\n",
              "      <th>PhotometricInterpretation</th>\n",
              "      <th>BitsAllocated</th>\n",
              "      <th>SOPInstanceUID</th>\n",
              "      <th>Target</th>\n",
              "      <th>Label</th>\n",
              "    </tr>\n",
              "  </thead>\n",
              "  <tbody>\n",
              "    <tr>\n",
              "      <th>1161</th>\n",
              "      <td>/content/train/train/train/660/1.2.826.0.1.368...</td>\n",
              "      <td>MONOCHROME1</td>\n",
              "      <td>16</td>\n",
              "      <td>1.2.826.0.1.3680043.8.498.11430185427783861938...</td>\n",
              "      <td>0</td>\n",
              "      <td>Abdomen</td>\n",
              "    </tr>\n",
              "    <tr>\n",
              "      <th>481</th>\n",
              "      <td>/content/train/train/train/597/1.2.826.0.1.368...</td>\n",
              "      <td>MONOCHROME1</td>\n",
              "      <td>16</td>\n",
              "      <td>1.2.826.0.1.3680043.8.498.90879301558575796376...</td>\n",
              "      <td>0</td>\n",
              "      <td>Abdomen</td>\n",
              "    </tr>\n",
              "    <tr>\n",
              "      <th>1167</th>\n",
              "      <td>/content/train/train/train/854/1.2.826.0.1.368...</td>\n",
              "      <td>MONOCHROME1</td>\n",
              "      <td>16</td>\n",
              "      <td>1.2.826.0.1.3680043.8.498.11666143137939211262...</td>\n",
              "      <td>0</td>\n",
              "      <td>Abdomen</td>\n",
              "    </tr>\n",
              "    <tr>\n",
              "      <th>1168</th>\n",
              "      <td>/content/train/train/train/854/1.2.826.0.1.368...</td>\n",
              "      <td>MONOCHROME1</td>\n",
              "      <td>16</td>\n",
              "      <td>1.2.826.0.1.3680043.8.498.68959812189539083943...</td>\n",
              "      <td>0</td>\n",
              "      <td>Abdomen</td>\n",
              "    </tr>\n",
              "    <tr>\n",
              "      <th>1170</th>\n",
              "      <td>/content/train/train/train/854/1.2.826.0.1.368...</td>\n",
              "      <td>MONOCHROME1</td>\n",
              "      <td>16</td>\n",
              "      <td>1.2.826.0.1.3680043.8.498.12608809850577365286...</td>\n",
              "      <td>0</td>\n",
              "      <td>Abdomen</td>\n",
              "    </tr>\n",
              "  </tbody>\n",
              "</table>\n",
              "</div>\n",
              "      <button class=\"colab-df-convert\" onclick=\"convertToInteractive('df-a4b7edec-76d9-4470-9d60-ccfb1f85d230')\"\n",
              "              title=\"Convert this dataframe to an interactive table.\"\n",
              "              style=\"display:none;\">\n",
              "        \n",
              "  <svg xmlns=\"http://www.w3.org/2000/svg\" height=\"24px\"viewBox=\"0 0 24 24\"\n",
              "       width=\"24px\">\n",
              "    <path d=\"M0 0h24v24H0V0z\" fill=\"none\"/>\n",
              "    <path d=\"M18.56 5.44l.94 2.06.94-2.06 2.06-.94-2.06-.94-.94-2.06-.94 2.06-2.06.94zm-11 1L8.5 8.5l.94-2.06 2.06-.94-2.06-.94L8.5 2.5l-.94 2.06-2.06.94zm10 10l.94 2.06.94-2.06 2.06-.94-2.06-.94-.94-2.06-.94 2.06-2.06.94z\"/><path d=\"M17.41 7.96l-1.37-1.37c-.4-.4-.92-.59-1.43-.59-.52 0-1.04.2-1.43.59L10.3 9.45l-7.72 7.72c-.78.78-.78 2.05 0 2.83L4 21.41c.39.39.9.59 1.41.59.51 0 1.02-.2 1.41-.59l7.78-7.78 2.81-2.81c.8-.78.8-2.07 0-2.86zM5.41 20L4 18.59l7.72-7.72 1.47 1.35L5.41 20z\"/>\n",
              "  </svg>\n",
              "      </button>\n",
              "      \n",
              "  <style>\n",
              "    .colab-df-container {\n",
              "      display:flex;\n",
              "      flex-wrap:wrap;\n",
              "      gap: 12px;\n",
              "    }\n",
              "\n",
              "    .colab-df-convert {\n",
              "      background-color: #E8F0FE;\n",
              "      border: none;\n",
              "      border-radius: 50%;\n",
              "      cursor: pointer;\n",
              "      display: none;\n",
              "      fill: #1967D2;\n",
              "      height: 32px;\n",
              "      padding: 0 0 0 0;\n",
              "      width: 32px;\n",
              "    }\n",
              "\n",
              "    .colab-df-convert:hover {\n",
              "      background-color: #E2EBFA;\n",
              "      box-shadow: 0px 1px 2px rgba(60, 64, 67, 0.3), 0px 1px 3px 1px rgba(60, 64, 67, 0.15);\n",
              "      fill: #174EA6;\n",
              "    }\n",
              "\n",
              "    [theme=dark] .colab-df-convert {\n",
              "      background-color: #3B4455;\n",
              "      fill: #D2E3FC;\n",
              "    }\n",
              "\n",
              "    [theme=dark] .colab-df-convert:hover {\n",
              "      background-color: #434B5C;\n",
              "      box-shadow: 0px 1px 3px 1px rgba(0, 0, 0, 0.15);\n",
              "      filter: drop-shadow(0px 1px 2px rgba(0, 0, 0, 0.3));\n",
              "      fill: #FFFFFF;\n",
              "    }\n",
              "  </style>\n",
              "\n",
              "      <script>\n",
              "        const buttonEl =\n",
              "          document.querySelector('#df-a4b7edec-76d9-4470-9d60-ccfb1f85d230 button.colab-df-convert');\n",
              "        buttonEl.style.display =\n",
              "          google.colab.kernel.accessAllowed ? 'block' : 'none';\n",
              "\n",
              "        async function convertToInteractive(key) {\n",
              "          const element = document.querySelector('#df-a4b7edec-76d9-4470-9d60-ccfb1f85d230');\n",
              "          const dataTable =\n",
              "            await google.colab.kernel.invokeFunction('convertToInteractive',\n",
              "                                                     [key], {});\n",
              "          if (!dataTable) return;\n",
              "\n",
              "          const docLinkHtml = 'Like what you see? Visit the ' +\n",
              "            '<a target=\"_blank\" href=https://colab.research.google.com/notebooks/data_table.ipynb>data table notebook</a>'\n",
              "            + ' to learn more about interactive tables.';\n",
              "          element.innerHTML = '';\n",
              "          dataTable['output_type'] = 'display_data';\n",
              "          await google.colab.output.renderOutput(dataTable, element);\n",
              "          const docLink = document.createElement('div');\n",
              "          docLink.innerHTML = docLinkHtml;\n",
              "          element.appendChild(docLink);\n",
              "        }\n",
              "      </script>\n",
              "    </div>\n",
              "  </div>\n",
              "  "
            ]
          },
          "metadata": {},
          "execution_count": 34
        }
      ],
      "source": [
        "train.head()"
      ]
    },
    {
      "cell_type": "code",
      "source": [
        "os.mkdir(\"/content/\" + \"TrainingImages\" + \"/\")"
      ],
      "metadata": {
        "id": "W-ZRGPhMbLn8"
      },
      "execution_count": 35,
      "outputs": []
    },
    {
      "cell_type": "code",
      "source": [
        "folder = \"/content/TrainingImages/\"\n",
        "for root, dirs, files in os.walk(folder, topdown=False):\n",
        "  # print(root)\n",
        "  aux = root.split(\"/\")[-1]\n",
        "  print(root)\n",
        "\n"
      ],
      "metadata": {
        "colab": {
          "base_uri": "https://localhost:8080/"
        },
        "id": "z-Q0me3rczJ5",
        "outputId": "cee11ab6-ab49-4c17-b0f6-25760f0cdc56"
      },
      "execution_count": 36,
      "outputs": [
        {
          "output_type": "stream",
          "name": "stdout",
          "text": [
            "/content/TrainingImages/\n"
          ]
        }
      ]
    },
    {
      "cell_type": "code",
      "source": [
        "def returPathFolder(namelabel):\n",
        "    path = ''\n",
        "    folder = \"/content/TrainingImages/\"\n",
        "    for root, dirs, files in os.walk(folder, topdown=False):\n",
        "        aux = root.split(\"/\")[-1]\n",
        "        if aux == namelabel:\n",
        "            path = root\n",
        "            break\n",
        "    # print(path)\n",
        "\n",
        "    return path\n",
        "x=returPathFolder(\"Finger\")\n",
        "x"
      ],
      "metadata": {
        "colab": {
          "base_uri": "https://localhost:8080/",
          "height": 35
        },
        "id": "pYG6Be-vbBnp",
        "outputId": "23cacbcb-84db-48dd-a0c0-c8ed0ddc4cd1"
      },
      "execution_count": 37,
      "outputs": [
        {
          "output_type": "execute_result",
          "data": {
            "text/plain": [
              "''"
            ],
            "application/vnd.google.colaboratory.intrinsic+json": {
              "type": "string"
            }
          },
          "metadata": {},
          "execution_count": 37
        }
      ]
    },
    {
      "cell_type": "markdown",
      "source": [
        "### Part of oversampling"
      ],
      "metadata": {
        "id": "-uOUyGEBgdBo"
      }
    },
    {
      "cell_type": "code",
      "execution_count": 38,
      "metadata": {
        "id": "p3XE_UtyZbKv"
      },
      "outputs": [],
      "source": [
        "from keras.models import Sequential\n",
        "from keras.layers import Conv2D, MaxPooling2D, Dense, Flatten, Dropout\n",
        "from keras.preprocessing.image import ImageDataGenerator\n",
        "from tensorflow.keras.utils import to_categorical\n",
        "from sklearn.preprocessing import LabelEncoder\n",
        "from sklearn.model_selection import train_test_split\n",
        "import numpy as np\n",
        "import cv2\n",
        "import os"
      ]
    },
    {
      "cell_type": "code",
      "execution_count": 39,
      "metadata": {
        "id": "nbK8Q2FRZbKv"
      },
      "outputs": [],
      "source": [
        "train_data = []\n",
        "train_label = []\n",
        "\n",
        "pathList = list(train['Filename'])\n",
        "labeList = list(train['Target'])\n",
        "\n",
        "train_label = labeList\n",
        "for path in pathList:\n",
        "    dicom = pydicom.dcmread(path)\n",
        "    img = dicom.pixel_array\n",
        "    # im = Image.fromarray(img.astype(np.uint8))\n",
        "    train_data.append(img.astype(np.uint8))\n"
      ]
    },
    {
      "cell_type": "code",
      "source": [
        "test_data = []\n",
        "test_label = []\n",
        "\n",
        "pathList = list(test['Filename'])\n",
        "labeList = list(test['Target'])\n",
        "\n",
        "test_label = labeList\n",
        "for path in pathList:\n",
        "    dicom = pydicom.dcmread(path)\n",
        "    img = dicom.pixel_array\n",
        "    # im = Image.fromarray(img.astype(np.float))\n",
        "    test_data.append(img.astype(np.uint8))\n"
      ],
      "metadata": {
        "id": "O8PW5TAQf5Fg"
      },
      "execution_count": 40,
      "outputs": []
    },
    {
      "cell_type": "code",
      "source": [
        "train_data = np.array(train_data, dtype=\"float\") / 255.0\n",
        "test_data = np.array(test_data, dtype=\"float\") / 255.0\n",
        "\n",
        "#This label enconder put the label in a code \n",
        "le = LabelEncoder()\n",
        "train_label = le.fit_transform(train_label)\n",
        "train_label = to_categorical(train_label)\n",
        "(trainX, valX, trainY, valY) = train_test_split(train_data, train_label, test_size=0.20, random_state=42)"
      ],
      "metadata": {
        "id": "6zNxOOkcgCkx"
      },
      "execution_count": 41,
      "outputs": []
    },
    {
      "cell_type": "code",
      "execution_count": 42,
      "metadata": {
        "id": "_pDdK2j4ZbKw"
      },
      "outputs": [],
      "source": [
        "train_datagen = ImageDataGenerator(\n",
        "        rotation_range=20,\n",
        "        zoom_range=0.15,\n",
        "        width_shift_range=0.2,\n",
        "        height_shift_range=0.2,\n",
        "        shear_range=0.15,\n",
        "        horizontal_flip=True,\n",
        "        fill_mode=\"nearest\")\n",
        "\n",
        "test_datagen = ImageDataGenerator()"
      ]
    },
    {
      "cell_type": "code",
      "source": [
        "train_data.shape"
      ],
      "metadata": {
        "colab": {
          "base_uri": "https://localhost:8080/"
        },
        "id": "uKinW6FQjuPl",
        "outputId": "8e13d201-6bd0-432d-d260-869327f3312b"
      },
      "execution_count": 43,
      "outputs": [
        {
          "output_type": "execute_result",
          "data": {
            "text/plain": [
              "(1575, 256, 256)"
            ]
          },
          "metadata": {},
          "execution_count": 43
        }
      ]
    },
    {
      "cell_type": "code",
      "source": [
        "batch_size = 8\n",
        "train_generator = train_datagen.flow(trainX, trainY, batch_size=batch_size)\n",
        "valid_generator = train_datagen.flow(trainX, trainY, batch_size=batch_size)\n",
        "test_generator = test_datagen.flow(test_data, batch_size=1)"
      ],
      "metadata": {
        "colab": {
          "base_uri": "https://localhost:8080/",
          "height": 397
        },
        "id": "bCOHjLgfjmRa",
        "outputId": "72d645c1-5d65-4f29-b0c4-507b39d60079"
      },
      "execution_count": 44,
      "outputs": [
        {
          "output_type": "error",
          "ename": "ValueError",
          "evalue": "ignored",
          "traceback": [
            "\u001b[0;31m---------------------------------------------------------------------------\u001b[0m",
            "\u001b[0;31mValueError\u001b[0m                                Traceback (most recent call last)",
            "\u001b[0;32m<ipython-input-44-7a446e3232c4>\u001b[0m in \u001b[0;36m<module>\u001b[0;34m\u001b[0m\n\u001b[1;32m      1\u001b[0m \u001b[0mbatch_size\u001b[0m \u001b[0;34m=\u001b[0m \u001b[0;36m8\u001b[0m\u001b[0;34m\u001b[0m\u001b[0;34m\u001b[0m\u001b[0m\n\u001b[0;32m----> 2\u001b[0;31m \u001b[0mtrain_generator\u001b[0m \u001b[0;34m=\u001b[0m \u001b[0mtrain_datagen\u001b[0m\u001b[0;34m.\u001b[0m\u001b[0mflow\u001b[0m\u001b[0;34m(\u001b[0m\u001b[0mtrainX\u001b[0m\u001b[0;34m,\u001b[0m \u001b[0mtrainY\u001b[0m\u001b[0;34m,\u001b[0m \u001b[0mbatch_size\u001b[0m\u001b[0;34m=\u001b[0m\u001b[0mbatch_size\u001b[0m\u001b[0;34m)\u001b[0m\u001b[0;34m\u001b[0m\u001b[0;34m\u001b[0m\u001b[0m\n\u001b[0m\u001b[1;32m      3\u001b[0m \u001b[0mvalid_generator\u001b[0m \u001b[0;34m=\u001b[0m \u001b[0mtrain_datagen\u001b[0m\u001b[0;34m.\u001b[0m\u001b[0mflow\u001b[0m\u001b[0;34m(\u001b[0m\u001b[0mtrainX\u001b[0m\u001b[0;34m,\u001b[0m \u001b[0mtrainY\u001b[0m\u001b[0;34m,\u001b[0m \u001b[0mbatch_size\u001b[0m\u001b[0;34m=\u001b[0m\u001b[0mbatch_size\u001b[0m\u001b[0;34m)\u001b[0m\u001b[0;34m\u001b[0m\u001b[0;34m\u001b[0m\u001b[0m\n\u001b[1;32m      4\u001b[0m \u001b[0mtest_generator\u001b[0m \u001b[0;34m=\u001b[0m \u001b[0mtest_datagen\u001b[0m\u001b[0;34m.\u001b[0m\u001b[0mflow\u001b[0m\u001b[0;34m(\u001b[0m\u001b[0mtest_data\u001b[0m\u001b[0;34m,\u001b[0m \u001b[0mbatch_size\u001b[0m\u001b[0;34m=\u001b[0m\u001b[0;36m1\u001b[0m\u001b[0;34m)\u001b[0m\u001b[0;34m\u001b[0m\u001b[0;34m\u001b[0m\u001b[0m\n",
            "\u001b[0;32m/usr/local/lib/python3.7/dist-packages/keras/preprocessing/image.py\u001b[0m in \u001b[0;36mflow\u001b[0;34m(self, x, y, batch_size, shuffle, sample_weight, seed, save_to_dir, save_prefix, save_format, subset)\u001b[0m\n\u001b[1;32m    894\u001b[0m         \u001b[0msave_prefix\u001b[0m\u001b[0;34m=\u001b[0m\u001b[0msave_prefix\u001b[0m\u001b[0;34m,\u001b[0m\u001b[0;34m\u001b[0m\u001b[0;34m\u001b[0m\u001b[0m\n\u001b[1;32m    895\u001b[0m         \u001b[0msave_format\u001b[0m\u001b[0;34m=\u001b[0m\u001b[0msave_format\u001b[0m\u001b[0;34m,\u001b[0m\u001b[0;34m\u001b[0m\u001b[0;34m\u001b[0m\u001b[0m\n\u001b[0;32m--> 896\u001b[0;31m         subset=subset)\n\u001b[0m\u001b[1;32m    897\u001b[0m \u001b[0;34m\u001b[0m\u001b[0m\n\u001b[1;32m    898\u001b[0m   def flow_from_directory(self,\n",
            "\u001b[0;32m/usr/local/lib/python3.7/dist-packages/keras/preprocessing/image.py\u001b[0m in \u001b[0;36m__init__\u001b[0;34m(self, x, y, image_data_generator, batch_size, shuffle, sample_weight, seed, data_format, save_to_dir, save_prefix, save_format, subset, dtype)\u001b[0m\n\u001b[1;32m    472\u001b[0m         \u001b[0msave_format\u001b[0m\u001b[0;34m=\u001b[0m\u001b[0msave_format\u001b[0m\u001b[0;34m,\u001b[0m\u001b[0;34m\u001b[0m\u001b[0;34m\u001b[0m\u001b[0m\n\u001b[1;32m    473\u001b[0m         \u001b[0msubset\u001b[0m\u001b[0;34m=\u001b[0m\u001b[0msubset\u001b[0m\u001b[0;34m,\u001b[0m\u001b[0;34m\u001b[0m\u001b[0;34m\u001b[0m\u001b[0m\n\u001b[0;32m--> 474\u001b[0;31m         **kwargs)\n\u001b[0m\u001b[1;32m    475\u001b[0m \u001b[0;34m\u001b[0m\u001b[0m\n\u001b[1;32m    476\u001b[0m \u001b[0;34m\u001b[0m\u001b[0m\n",
            "\u001b[0;32m/usr/local/lib/python3.7/dist-packages/keras_preprocessing/image/numpy_array_iterator.py\u001b[0m in \u001b[0;36m__init__\u001b[0;34m(self, x, y, image_data_generator, batch_size, shuffle, sample_weight, seed, data_format, save_to_dir, save_prefix, save_format, subset, dtype)\u001b[0m\n\u001b[1;32m    124\u001b[0m             raise ValueError('Input data in `NumpyArrayIterator` '\n\u001b[1;32m    125\u001b[0m                              \u001b[0;34m'should have rank 4. You passed an array '\u001b[0m\u001b[0;34m\u001b[0m\u001b[0;34m\u001b[0m\u001b[0m\n\u001b[0;32m--> 126\u001b[0;31m                              'with shape', self.x.shape)\n\u001b[0m\u001b[1;32m    127\u001b[0m         \u001b[0mchannels_axis\u001b[0m \u001b[0;34m=\u001b[0m \u001b[0;36m3\u001b[0m \u001b[0;32mif\u001b[0m \u001b[0mdata_format\u001b[0m \u001b[0;34m==\u001b[0m \u001b[0;34m'channels_last'\u001b[0m \u001b[0;32melse\u001b[0m \u001b[0;36m1\u001b[0m\u001b[0;34m\u001b[0m\u001b[0;34m\u001b[0m\u001b[0m\n\u001b[1;32m    128\u001b[0m         \u001b[0;32mif\u001b[0m \u001b[0mself\u001b[0m\u001b[0;34m.\u001b[0m\u001b[0mx\u001b[0m\u001b[0;34m.\u001b[0m\u001b[0mshape\u001b[0m\u001b[0;34m[\u001b[0m\u001b[0mchannels_axis\u001b[0m\u001b[0;34m]\u001b[0m \u001b[0;32mnot\u001b[0m \u001b[0;32min\u001b[0m \u001b[0;34m{\u001b[0m\u001b[0;36m1\u001b[0m\u001b[0;34m,\u001b[0m \u001b[0;36m3\u001b[0m\u001b[0;34m,\u001b[0m \u001b[0;36m4\u001b[0m\u001b[0;34m}\u001b[0m\u001b[0;34m:\u001b[0m\u001b[0;34m\u001b[0m\u001b[0;34m\u001b[0m\u001b[0m\n",
            "\u001b[0;31mValueError\u001b[0m: ('Input data in `NumpyArrayIterator` should have rank 4. You passed an array with shape', (1260, 256, 256))"
          ]
        }
      ]
    },
    {
      "cell_type": "code",
      "source": [],
      "metadata": {
        "id": "KNJpjH7ojpDG"
      },
      "execution_count": null,
      "outputs": []
    }
  ],
  "metadata": {
    "colab": {
      "collapsed_sections": [],
      "name": "Just_The_necessary.ipynb",
      "provenance": [],
      "include_colab_link": true
    },
    "kernelspec": {
      "display_name": "Python 3.9.12 ('base')",
      "language": "python",
      "name": "python3"
    },
    "language_info": {
      "codemirror_mode": {
        "name": "ipython",
        "version": 3
      },
      "file_extension": ".py",
      "mimetype": "text/x-python",
      "name": "python",
      "nbconvert_exporter": "python",
      "pygments_lexer": "ipython3",
      "version": "3.9.12"
    },
    "vscode": {
      "interpreter": {
        "hash": "27c25d6569ec02ceb42cea2c6f55d2b1508b2f5fa092368aff75373772ed8443"
      }
    }
  },
  "nbformat": 4,
  "nbformat_minor": 0
}