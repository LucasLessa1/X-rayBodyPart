{
  "cells": [
    {
      "cell_type": "markdown",
      "metadata": {
        "id": "view-in-github",
        "colab_type": "text"
      },
      "source": [
        "<a href=\"https://colab.research.google.com/github/LucasLessa1/X-rayBodyPart/blob/davi1/C%C3%B3pia_de_Proj_CIS_Imagens_Raio_X.ipynb\" target=\"_parent\"><img src=\"https://colab.research.google.com/assets/colab-badge.svg\" alt=\"Open In Colab\"/></a>"
      ]
    },
    {
      "cell_type": "markdown",
      "metadata": {
        "id": "lU48iA-hf04s"
      },
      "source": [
        "#Imports and Ajusting file\n"
      ]
    },
    {
      "cell_type": "code",
      "execution_count": 196,
      "metadata": {
        "colab": {
          "base_uri": "https://localhost:8080/"
        },
        "id": "KY-thcKqQhmX",
        "outputId": "7419e9d7-900f-4a5b-be1e-afc7fbf11669"
      },
      "outputs": [
        {
          "output_type": "stream",
          "name": "stdout",
          "text": [
            "Looking in indexes: https://pypi.org/simple, https://us-python.pkg.dev/colab-wheels/public/simple/\n",
            "Requirement already satisfied: pydicom in /usr/local/lib/python3.7/dist-packages (2.3.0)\n"
          ]
        }
      ],
      "source": [
        "pip install pydicom"
      ]
    },
    {
      "cell_type": "code",
      "execution_count": 197,
      "metadata": {
        "id": "X75kHVXu3C8m"
      },
      "outputs": [],
      "source": [
        "import cv2\n",
        "import pydicom\n",
        "import pandas as pd\n",
        "import os\n",
        "import shutil\n",
        "import time\n",
        "import math\n",
        "import gdown\n",
        "import zipfile\n",
        "import numpy as np\n",
        "from scipy.io import loadmat\n",
        "import matplotlib.pyplot as plt\n",
        "from google.colab.patches import cv2_imshow\n",
        "from tqdm import tqdm\n",
        "import os\n",
        "from PIL import Image\n",
        "from google.colab.patches import cv2_imshow\n",
        "import string\n",
        "import glob"
      ]
    },
    {
      "cell_type": "code",
      "execution_count": 198,
      "metadata": {
        "id": "sqf48VqoeCqt"
      },
      "outputs": [],
      "source": [
        "def download(id): \n",
        "    url = 'https://drive.google.com/uc?id=' + str(id)\n",
        "    gdown.download(url, output = None, quiet = False)\n",
        "\n",
        "def unzip(path): #Função para unzip\n",
        "    zip = zipfile.ZipFile(path)\n",
        "    zip.extractall()\n",
        "    zip.close()"
      ]
    },
    {
      "cell_type": "code",
      "execution_count": 199,
      "metadata": {
        "colab": {
          "base_uri": "https://localhost:8080/"
        },
        "id": "CEFniMhVgyUh",
        "outputId": "4665fb1f-3912-4fd9-c705-644e8c3058a4"
      },
      "outputs": [
        {
          "output_type": "stream",
          "name": "stderr",
          "text": [
            "Downloading...\n",
            "From: https://drive.google.com/uc?id=1ev-r31j8oRzDlKM_toaeADO2psrA_XXm\n",
            "To: /content/archive.zip\n",
            "100%|██████████| 269M/269M [00:01<00:00, 172MB/s]\n"
          ]
        }
      ],
      "source": [
        "# https://drive.google.com/file/d/1ev-r31j8oRzDlKM_toaeADO2psrA_XXm/view?usp=sharing\n",
        "\n",
        "download('1ev-r31j8oRzDlKM_toaeADO2psrA_XXm')\n",
        "unzip('/content/archive.zip')"
      ]
    },
    {
      "cell_type": "code",
      "execution_count": 200,
      "metadata": {
        "id": "PpL-tSErjuD6"
      },
      "outputs": [],
      "source": [
        "#os.chdir(\"/content/drive/MyDrive/RAIO-X/RAIO-X/archive.zip (Unzipped Files)\")\n",
        "path = os.getcwd() \n",
        "train_df = pd.read_csv('/content/train.csv')\n",
        "test_df = pd.read_csv(os.path.join('/content/sample_submission.csv'))"
      ]
    },
    {
      "cell_type": "code",
      "execution_count": 201,
      "metadata": {
        "id": "c8qRth9FkA5p",
        "colab": {
          "base_uri": "https://localhost:8080/",
          "height": 206
        },
        "outputId": "111cc351-5316-4465-9d1d-2add2b285975"
      },
      "outputs": [
        {
          "output_type": "execute_result",
          "data": {
            "text/plain": [
              "                                      SOPInstanceUID  \\\n",
              "0  1.2.826.0.1.3680043.8.498.10001001190452685542...   \n",
              "1  1.2.826.0.1.3680043.8.498.10022667601042710442...   \n",
              "2  1.2.826.0.1.3680043.8.498.10024395388921105474...   \n",
              "3  1.2.826.0.1.3680043.8.498.10026689165626095651...   \n",
              "4  1.2.826.0.1.3680043.8.498.10035936364561920980...   \n",
              "\n",
              "                                              Target  \n",
              "0  0 1 2 3 4 5 6 7 8 9 10 11 12 13 14 15 16 17 18...  \n",
              "1  0 1 2 3 4 5 6 7 8 9 10 11 12 13 14 15 16 17 18...  \n",
              "2  0 1 2 3 4 5 6 7 8 9 10 11 12 13 14 15 16 17 18...  \n",
              "3  0 1 2 3 4 5 6 7 8 9 10 11 12 13 14 15 16 17 18...  \n",
              "4  0 1 2 3 4 5 6 7 8 9 10 11 12 13 14 15 16 17 18...  "
            ],
            "text/html": [
              "\n",
              "  <div id=\"df-3fe107f4-c465-4a5a-aa5f-be409e908b2e\">\n",
              "    <div class=\"colab-df-container\">\n",
              "      <div>\n",
              "<style scoped>\n",
              "    .dataframe tbody tr th:only-of-type {\n",
              "        vertical-align: middle;\n",
              "    }\n",
              "\n",
              "    .dataframe tbody tr th {\n",
              "        vertical-align: top;\n",
              "    }\n",
              "\n",
              "    .dataframe thead th {\n",
              "        text-align: right;\n",
              "    }\n",
              "</style>\n",
              "<table border=\"1\" class=\"dataframe\">\n",
              "  <thead>\n",
              "    <tr style=\"text-align: right;\">\n",
              "      <th></th>\n",
              "      <th>SOPInstanceUID</th>\n",
              "      <th>Target</th>\n",
              "    </tr>\n",
              "  </thead>\n",
              "  <tbody>\n",
              "    <tr>\n",
              "      <th>0</th>\n",
              "      <td>1.2.826.0.1.3680043.8.498.10001001190452685542...</td>\n",
              "      <td>0 1 2 3 4 5 6 7 8 9 10 11 12 13 14 15 16 17 18...</td>\n",
              "    </tr>\n",
              "    <tr>\n",
              "      <th>1</th>\n",
              "      <td>1.2.826.0.1.3680043.8.498.10022667601042710442...</td>\n",
              "      <td>0 1 2 3 4 5 6 7 8 9 10 11 12 13 14 15 16 17 18...</td>\n",
              "    </tr>\n",
              "    <tr>\n",
              "      <th>2</th>\n",
              "      <td>1.2.826.0.1.3680043.8.498.10024395388921105474...</td>\n",
              "      <td>0 1 2 3 4 5 6 7 8 9 10 11 12 13 14 15 16 17 18...</td>\n",
              "    </tr>\n",
              "    <tr>\n",
              "      <th>3</th>\n",
              "      <td>1.2.826.0.1.3680043.8.498.10026689165626095651...</td>\n",
              "      <td>0 1 2 3 4 5 6 7 8 9 10 11 12 13 14 15 16 17 18...</td>\n",
              "    </tr>\n",
              "    <tr>\n",
              "      <th>4</th>\n",
              "      <td>1.2.826.0.1.3680043.8.498.10035936364561920980...</td>\n",
              "      <td>0 1 2 3 4 5 6 7 8 9 10 11 12 13 14 15 16 17 18...</td>\n",
              "    </tr>\n",
              "  </tbody>\n",
              "</table>\n",
              "</div>\n",
              "      <button class=\"colab-df-convert\" onclick=\"convertToInteractive('df-3fe107f4-c465-4a5a-aa5f-be409e908b2e')\"\n",
              "              title=\"Convert this dataframe to an interactive table.\"\n",
              "              style=\"display:none;\">\n",
              "        \n",
              "  <svg xmlns=\"http://www.w3.org/2000/svg\" height=\"24px\"viewBox=\"0 0 24 24\"\n",
              "       width=\"24px\">\n",
              "    <path d=\"M0 0h24v24H0V0z\" fill=\"none\"/>\n",
              "    <path d=\"M18.56 5.44l.94 2.06.94-2.06 2.06-.94-2.06-.94-.94-2.06-.94 2.06-2.06.94zm-11 1L8.5 8.5l.94-2.06 2.06-.94-2.06-.94L8.5 2.5l-.94 2.06-2.06.94zm10 10l.94 2.06.94-2.06 2.06-.94-2.06-.94-.94-2.06-.94 2.06-2.06.94z\"/><path d=\"M17.41 7.96l-1.37-1.37c-.4-.4-.92-.59-1.43-.59-.52 0-1.04.2-1.43.59L10.3 9.45l-7.72 7.72c-.78.78-.78 2.05 0 2.83L4 21.41c.39.39.9.59 1.41.59.51 0 1.02-.2 1.41-.59l7.78-7.78 2.81-2.81c.8-.78.8-2.07 0-2.86zM5.41 20L4 18.59l7.72-7.72 1.47 1.35L5.41 20z\"/>\n",
              "  </svg>\n",
              "      </button>\n",
              "      \n",
              "  <style>\n",
              "    .colab-df-container {\n",
              "      display:flex;\n",
              "      flex-wrap:wrap;\n",
              "      gap: 12px;\n",
              "    }\n",
              "\n",
              "    .colab-df-convert {\n",
              "      background-color: #E8F0FE;\n",
              "      border: none;\n",
              "      border-radius: 50%;\n",
              "      cursor: pointer;\n",
              "      display: none;\n",
              "      fill: #1967D2;\n",
              "      height: 32px;\n",
              "      padding: 0 0 0 0;\n",
              "      width: 32px;\n",
              "    }\n",
              "\n",
              "    .colab-df-convert:hover {\n",
              "      background-color: #E2EBFA;\n",
              "      box-shadow: 0px 1px 2px rgba(60, 64, 67, 0.3), 0px 1px 3px 1px rgba(60, 64, 67, 0.15);\n",
              "      fill: #174EA6;\n",
              "    }\n",
              "\n",
              "    [theme=dark] .colab-df-convert {\n",
              "      background-color: #3B4455;\n",
              "      fill: #D2E3FC;\n",
              "    }\n",
              "\n",
              "    [theme=dark] .colab-df-convert:hover {\n",
              "      background-color: #434B5C;\n",
              "      box-shadow: 0px 1px 3px 1px rgba(0, 0, 0, 0.15);\n",
              "      filter: drop-shadow(0px 1px 2px rgba(0, 0, 0, 0.3));\n",
              "      fill: #FFFFFF;\n",
              "    }\n",
              "  </style>\n",
              "\n",
              "      <script>\n",
              "        const buttonEl =\n",
              "          document.querySelector('#df-3fe107f4-c465-4a5a-aa5f-be409e908b2e button.colab-df-convert');\n",
              "        buttonEl.style.display =\n",
              "          google.colab.kernel.accessAllowed ? 'block' : 'none';\n",
              "\n",
              "        async function convertToInteractive(key) {\n",
              "          const element = document.querySelector('#df-3fe107f4-c465-4a5a-aa5f-be409e908b2e');\n",
              "          const dataTable =\n",
              "            await google.colab.kernel.invokeFunction('convertToInteractive',\n",
              "                                                     [key], {});\n",
              "          if (!dataTable) return;\n",
              "\n",
              "          const docLinkHtml = 'Like what you see? Visit the ' +\n",
              "            '<a target=\"_blank\" href=https://colab.research.google.com/notebooks/data_table.ipynb>data table notebook</a>'\n",
              "            + ' to learn more about interactive tables.';\n",
              "          element.innerHTML = '';\n",
              "          dataTable['output_type'] = 'display_data';\n",
              "          await google.colab.output.renderOutput(dataTable, element);\n",
              "          const docLink = document.createElement('div');\n",
              "          docLink.innerHTML = docLinkHtml;\n",
              "          element.appendChild(docLink);\n",
              "        }\n",
              "      </script>\n",
              "    </div>\n",
              "  </div>\n",
              "  "
            ]
          },
          "metadata": {},
          "execution_count": 201
        }
      ],
      "source": [
        "test_df.head(5)"
      ]
    },
    {
      "cell_type": "markdown",
      "metadata": {
        "id": "qd9hejxZkD94"
      },
      "source": [
        "#Pre-processing"
      ]
    },
    {
      "cell_type": "code",
      "execution_count": 202,
      "metadata": {
        "id": "0IQpmWP3kIhQ",
        "colab": {
          "base_uri": "https://localhost:8080/"
        },
        "outputId": "3d8ff839-8f0e-460a-988a-c0145d9faae7"
      },
      "outputs": [
        {
          "output_type": "stream",
          "name": "stdout",
          "text": [
            "Columns:\n",
            "Index(['SOPInstanceUID', 'Target'], dtype='object') \n",
            "\n",
            "Types in columns:\n",
            "SOPInstanceUID    object\n",
            "Target            object\n",
            "dtype: object \n",
            "\n",
            "Types in info:\n",
            "                                           SOPInstanceUID Target\n",
            "count                                                1738   1738\n",
            "unique                                               1738     41\n",
            "top     1.2.826.0.1.3680043.8.498.10025629581362719970...     3 \n",
            "freq                                                    1    724 \n",
            "\n"
          ]
        }
      ],
      "source": [
        "print(\"Columns:\")\n",
        "print(train_df.columns, \"\\n\")\n",
        "\n",
        "print(\"Types in columns:\")\n",
        "print(train_df.dtypes, \"\\n\")\n",
        "\n",
        "print(\"Types in info:\")\n",
        "print(train_df.describe(), \"\\n\")"
      ]
    },
    {
      "cell_type": "code",
      "source": [
        "#Let's  see our Target distribution\n",
        "\n",
        "bodyparts = {\n",
        "0 : 'Abdomen' ,\n",
        "1 :'Ankle' ,\n",
        "2 :'Cervical Spine',\n",
        "3 : 'Chest' ,\n",
        "4 :'Clavicles' ,\n",
        "5 :'Elbow' ,\n",
        "6 :'Feet' ,\n",
        "7 : 'Finger' ,\n",
        "8 : 'Forearm' ,\n",
        "9 : 'Hand' ,\n",
        "10 : 'Hip' ,\n",
        "11 : 'Knee' ,\n",
        "12 : 'Lower Leg' ,\n",
        "13 : 'Lumbar Spine' ,\n",
        "14 : 'Others' ,\n",
        "15 :'Pelvis',\n",
        "16 :'Shoulder' ,\n",
        "17 :'Sinus' ,\n",
        "18 : 'Skull' ,\n",
        "19 : 'Thigh' ,\n",
        "20 :'Thoracic Spine',\n",
        "21: 'Wrist',\n",
        "}"
      ],
      "metadata": {
        "id": "YCh3lR7WCsME"
      },
      "execution_count": 203,
      "outputs": []
    },
    {
      "cell_type": "markdown",
      "metadata": {
        "id": "hk9Kily5l8fI"
      },
      "source": [
        "##Fixing folders"
      ]
    },
    {
      "cell_type": "code",
      "source": [
        "info = []"
      ],
      "metadata": {
        "id": "8nxIWWkloUir"
      },
      "execution_count": 204,
      "outputs": []
    },
    {
      "cell_type": "code",
      "execution_count": 205,
      "metadata": {
        "id": "0Z0LwdkVoI3l"
      },
      "outputs": [],
      "source": [
        "# example of horizontal shift image augmentation\n",
        "from numpy import expand_dims\n",
        "from keras.preprocessing.image import load_img\n",
        "from keras.preprocessing.image import img_to_array\n",
        "from keras.preprocessing.image import ImageDataGenerator\n",
        "from matplotlib import pyplot\n",
        "import random, time\n",
        "\n",
        "\n",
        "\n",
        "class Image_processing():\n",
        "  def __init__(self):\n",
        "    self.fileList = []\n",
        "    self.rotationRange = 90\n",
        "    self.brightRange = [0.2, 1.5]\n",
        "\n",
        "  def fixfolders(self, folder, df, dictionary):\n",
        "    filelist = []\n",
        "    for root, dirs, files in os.walk(f'/content/{str(folder)}'):\n",
        "      for file in files:\n",
        "        filelist.append(os.path.join(root,file))\n",
        "\n",
        "    for filename in filelist:\n",
        "      dicom = pydicom.dcmread(filename)\n",
        "      img = dicom.pixel_array\n",
        "      var = filename.split(\"/\")\n",
        "      var = var[-1]\n",
        "      row = df.index[df['SOPInstanceUID']==f'{var[:-6]}'].tolist()\n",
        "      target = df['Target'].iloc[row[0]]\n",
        "      if len(target.strip()) > 2: \n",
        "        continue\n",
        "      label = dictionary.get(int(target))\n",
        "      resized_img  = (np.maximum(img,0)/img.max())*255 \n",
        "      im = Image.fromarray(resized_img.astype(np.uint8))\n",
        "      im.show()\n",
        "      im.save(os.path.join(f'/content/{folder}_img', f'{label}', f'{var[:-6]}.png'))\n",
        " \n",
        "  def createfolders(self, folder):\n",
        "    os.mkdir(f'/content/{folder}/') \n",
        "    #os.chdir(f'/content/{folder}') \n",
        "    for bodypart in list(bodyparts.values()):\n",
        "      if os.path.isdir(f'/content/{folder}/{bodypart}') == False:\n",
        "        os.mkdir(f'/content/{folder}/{bodypart}')\n",
        "      else:  \n",
        "          pass       "
      ]
    },
    {
      "cell_type": "code",
      "source": [
        "class Data_Augumentation(Image_processing):\n",
        "\n",
        "  def __init__(self):\n",
        "        super().__init__()\n",
        "\n",
        "  def process_imgs(self, qntd = 100):\n",
        "    for folder in os.listdir('/content/train_img'):\n",
        "      real_qntd = len(os.listdir(f'/content/train_img/{folder}'))\n",
        "      print(real_qntd)\n",
        "      if real_qntd < qntd: \n",
        "        diff = len(os.listdir(f'/content/train_img/{folder}')) \n",
        "        if diff >= 50 :\n",
        "          exams = random.choices(os.listdir(f'/content/train_img/{folder}'), k= (qntd - diff))\n",
        "          self.augment(folder, exams, 1)\n",
        "        else:\n",
        "          if diff % 10 != 0: #Se não for multiplo de 10\n",
        "            #Quantos algarismos para próxima dezena\n",
        "            ref1 = (math.ceil(diff / 10) * 10) - diff  \n",
        "            for _ in range(ref1):\n",
        "              exams = random.choices(os.listdir(f'/content/train_img/{folder}'), k= ref1)\n",
        "              self.augment(folder, exams, 1)\n",
        "          ref2 = qntd - (math.ceil(diff / 10) * 10)\n",
        "          #pego 10 de amsmostra e multiplico a quantidade de vezes para somar 100 \n",
        "          for _ in range(ref2):\n",
        "            exams = random.choices(os.listdir(f'/content/train_img/{folder}'), k= 10)\n",
        "            ref2 = int(ref2/10)\n",
        "            self.augment(folder, exams, ref2)\n",
        "      elif real_qntd > qntd:\n",
        "        diff = (real_qntd-qntd)\n",
        "        sorteados = glob.glob(f'/content/train_img/{folder}/*')\n",
        "        for s in random.sample(sorteados, diff):\n",
        "          os.remove(s)\n",
        "\n",
        "\n",
        "  def augment(self, folder, exams, limit):\n",
        "    #folder = nome que eu dei para pasta da label (ex : skull)\n",
        "    #exams  = lista de arquivos de imagens para cara pasta de label \n",
        "    #limit = quantidade de imagens artificias criadas a partir da original\n",
        "    \n",
        "    nameImage = []\n",
        "    cont1 = -1\n",
        "    for exam in exams: \n",
        "      #Saving the name in the list\n",
        "      nameImage.append(exam)\n",
        "      # load the image\n",
        "      img = load_img(f'/content/train_img/{folder}/{exam}')\n",
        "      # convert to numpy array\n",
        "      data = img_to_array(img)\n",
        "      # expand dimension to one sample\n",
        "      samples = expand_dims(data, 0)\n",
        "      # create image data augmentation generator\n",
        "      datagen = ImageDataGenerator(horizontal_flip=True,rotation_range = self.rotationRange, brightness_range = self.brightRange)\n",
        "      # prepare iterator\n",
        "      it = datagen.flow(samples, batch_size=1)\n",
        "      cont1 =+ 1\n",
        "      dup = [x for i, x in enumerate(nameImage) if i != nameImage.index(x)]\n",
        "\n",
        "      if len(dup) >= 0:\n",
        "        equalDup = \"_repeted_\" + str(random.randint(-9999,9999))\n",
        "      else:\n",
        "        equalDup = \"\"\n",
        "        \n",
        "      for cont in range(limit):\n",
        "        # generate batch of images\n",
        "        batch = it.next()\n",
        "        image = batch[0].astype('uint16')\n",
        "        resized_img  = (np.maximum(image,0)/image.max())*255 # Parte importante para visualizar a imagem em png\n",
        "        im = Image.fromarray(resized_img.astype(np.uint8))\n",
        "        rand = random.randint(-9999,9999)\n",
        "        info.append(f'/content/train_img/{folder}/{exam[:-4]}_copy_{cont1}_{cont}.png')\n",
        "        im.save(f'/content/train_img/{folder}/{exam[:-4]}_{equalDup}_copy_{cont1}_{cont}.png')\n"
      ],
      "metadata": {
        "id": "Gsed_3Jp4kdA"
      },
      "execution_count": 206,
      "outputs": []
    },
    {
      "cell_type": "code",
      "source": [
        "#os.chdir(\"/content/drive/MyDrive/RAIO-X/RAIO-X/archive.zip (Unzipped Files)\")\n",
        "#path = os.getcwd()\n",
        "#CRIAR PASTAS E SEPARAR ARQUIVOS  \n",
        "\n",
        "fix  =  Data_Augumentation()\n",
        "try:\n",
        "  fix.createfolders('train_img')\n",
        "  fix.fixfolders('train', train_df, bodyparts)\n",
        "  fix.process_imgs()\n",
        "except:\n",
        "  shutil.rmtree(f'/content/train_img/')\n",
        "  fix.createfolders('train_img')\n",
        "  fix.fixfolders('train', train_df, bodyparts)\n",
        "  fix.process_imgs()"
      ],
      "metadata": {
        "id": "UoiUwPBiWc87",
        "colab": {
          "base_uri": "https://localhost:8080/"
        },
        "outputId": "b218e036-352b-4d99-8eca-310ca5f935e3"
      },
      "execution_count": 207,
      "outputs": [
        {
          "output_type": "stream",
          "name": "stdout",
          "text": [
            "23\n",
            "63\n",
            "724\n",
            "9\n",
            "10\n",
            "67\n",
            "15\n",
            "120\n",
            "102\n",
            "80\n",
            "31\n",
            "23\n",
            "39\n",
            "40\n",
            "7\n",
            "12\n",
            "15\n",
            "19\n",
            "70\n",
            "77\n",
            "41\n",
            "19\n"
          ]
        }
      ]
    },
    {
      "cell_type": "code",
      "source": [
        "test = []\n",
        "for files in os.listdir('/content/train_img'):\n",
        "  test.append([files, len(os.listdir(f'/content/train_img/{files}'))])\n",
        "  # print(files)\n",
        "  # print()\n",
        "  # qntd = qntd +len(os.listdir(f'/content/train_img/{files}'))"
      ],
      "metadata": {
        "id": "IkXrNRoyBjIF"
      },
      "execution_count": 208,
      "outputs": []
    },
    {
      "cell_type": "code",
      "source": [
        "test"
      ],
      "metadata": {
        "colab": {
          "base_uri": "https://localhost:8080/"
        },
        "id": "1AqmxGeyhfFI",
        "outputId": "4f473be3-c9c6-43d5-8759-8f8b17b2dd83"
      },
      "execution_count": 209,
      "outputs": [
        {
          "output_type": "execute_result",
          "data": {
            "text/plain": [
              "[['Sinus', 142],\n",
              " ['Wrist', 100],\n",
              " ['Chest', 100],\n",
              " ['Clavicles', 100],\n",
              " ['Skull', 100],\n",
              " ['Pelvis', 100],\n",
              " ['Thoracic Spine', 120],\n",
              " ['Others', 100],\n",
              " ['Knee', 100],\n",
              " ['Abdomen', 100],\n",
              " ['Hand', 172],\n",
              " ['Elbow', 142],\n",
              " ['Lumbar Spine', 100],\n",
              " ['Shoulder', 100],\n",
              " ['Thigh', 106],\n",
              " ['Forearm', 156],\n",
              " ['Finger', 120],\n",
              " ['Hip', 100],\n",
              " ['Feet', 100],\n",
              " ['Cervical Spine', 100],\n",
              " ['Ankle', 172],\n",
              " ['Lower Leg', 100]]"
            ]
          },
          "metadata": {},
          "execution_count": 209
        }
      ]
    },
    {
      "cell_type": "code",
      "source": [
        "class SelectFolders():\n",
        "\n",
        "  def __init__(self, mainPath, qntd):\n",
        "    self.mainPath = mainPath\n",
        "    self.qntdImages = qntd\n",
        "    self.listNames = []\n",
        "    self.flag = []\n",
        "  \n",
        "  def verify(self, order = \"print\"):\n",
        "    for files in os.listdir(self.mainPath):\n",
        "      self.listNames.append([files, len(os.listdir(f'{self.mainPath}/{files}')) ])\n",
        "      #Verify listNames\n",
        "\n",
        "    for i in self.listNames:\n",
        "      if i[1] > self.qntdImages:\n",
        "        self.flag.append([False, i[0], i[1]])\n",
        "\n",
        "    if order == \"print\":\n",
        "      print(self.flag)\n",
        "\n",
        "  def new_folder(self, path):    \n",
        "    os.mkdir(path)\n",
        "    for f in self.flag:\n",
        "      sorteados = glob.glob(os.path.join(self.mainPath,f[1],\"*\"))\n",
        "      for s in np.random.choice(sorteados, size = self.qntdImages, replace=False):\n",
        "        shutil.copy(s, path)\n"
      ],
      "metadata": {
        "id": "GyC4qq5UcHbf"
      },
      "execution_count": 210,
      "outputs": []
    },
    {
      "cell_type": "code",
      "source": [
        "obj =  SelectFolders(\"/content/train_img\", 100)\n",
        "\n",
        "obj.verify(\"print\")"
      ],
      "metadata": {
        "colab": {
          "base_uri": "https://localhost:8080/"
        },
        "id": "koLRGej-hwuI",
        "outputId": "95511c52-e46f-4622-9bea-eef2aeeab450"
      },
      "execution_count": 211,
      "outputs": [
        {
          "output_type": "stream",
          "name": "stdout",
          "text": [
            "[[False, 'Sinus', 142], [False, 'Thoracic Spine', 120], [False, 'Hand', 172], [False, 'Elbow', 142], [False, 'Thigh', 106], [False, 'Forearm', 156], [False, 'Finger', 120], [False, 'Ankle', 172]]\n"
          ]
        }
      ]
    },
    {
      "cell_type": "code",
      "source": [
        "fix2 = SelectFolders(\"/content/train_img\", 100)\n",
        "path = \"/content/imageModel\"\n",
        "try:\n",
        "  fix2.verify('print')\n",
        "  fix2.new_folder(path)\n",
        "except:\n",
        "  shutil.rmtree(path)\n",
        "  fix2.verify('print')\n",
        "  fix2.new_folder(path)"
      ],
      "metadata": {
        "id": "AS05CxHYh7vW",
        "outputId": "3ee5f63d-ad40-45fa-d24d-e987e573981d",
        "colab": {
          "base_uri": "https://localhost:8080/"
        }
      },
      "execution_count": 212,
      "outputs": [
        {
          "output_type": "stream",
          "name": "stdout",
          "text": [
            "[[False, 'Sinus', 142], [False, 'Thoracic Spine', 120], [False, 'Hand', 172], [False, 'Elbow', 142], [False, 'Thigh', 106], [False, 'Forearm', 156], [False, 'Finger', 120], [False, 'Ankle', 172]]\n",
            "[[False, 'Sinus', 142], [False, 'Thoracic Spine', 120], [False, 'Hand', 172], [False, 'Elbow', 142], [False, 'Thigh', 106], [False, 'Forearm', 156], [False, 'Finger', 120], [False, 'Ankle', 172], [False, 'Sinus', 142], [False, 'Thoracic Spine', 120], [False, 'Hand', 172], [False, 'Elbow', 142], [False, 'Thigh', 106], [False, 'Forearm', 156], [False, 'Finger', 120], [False, 'Ankle', 172], [False, 'Sinus', 142], [False, 'Thoracic Spine', 120], [False, 'Hand', 172], [False, 'Elbow', 142], [False, 'Thigh', 106], [False, 'Forearm', 156], [False, 'Finger', 120], [False, 'Ankle', 172]]\n"
          ]
        }
      ]
    },
    {
      "cell_type": "markdown",
      "source": [
        "## É necessário contruir parte por parte o test_set separado por labels \n",
        "\n"
      ],
      "metadata": {
        "id": "aIaqIwp87rjg"
      }
    },
    {
      "cell_type": "code",
      "source": [
        "\n",
        "train_batches = ImageDataGenerator(preprocessing_function = tensorflow.keras.applications.vgg16.preprocess_input)  \n",
        "train_batches = train_batches.flow_from_directory(directory=train_path, target_size=(256,256), classes=bodyparts, batch_size=10)"
      ],
      "metadata": {
        "id": "SpGGL8Dqy00m",
        "colab": {
          "base_uri": "https://localhost:8080/",
          "height": 183
        },
        "outputId": "c9562209-4d95-423f-f631-69b10ccaf0ae"
      },
      "execution_count": 213,
      "outputs": [
        {
          "output_type": "error",
          "ename": "NameError",
          "evalue": "ignored",
          "traceback": [
            "\u001b[0;31m---------------------------------------------------------------------------\u001b[0m",
            "\u001b[0;31mNameError\u001b[0m                                 Traceback (most recent call last)",
            "\u001b[0;32m<ipython-input-213-9cd9222082e4>\u001b[0m in \u001b[0;36m<module>\u001b[0;34m\u001b[0m\n\u001b[0;32m----> 1\u001b[0;31m \u001b[0mtrain_batches\u001b[0m \u001b[0;34m=\u001b[0m \u001b[0mImageDataGenerator\u001b[0m\u001b[0;34m(\u001b[0m\u001b[0mpreprocessing_function\u001b[0m \u001b[0;34m=\u001b[0m \u001b[0mtensorflow\u001b[0m\u001b[0;34m.\u001b[0m\u001b[0mkeras\u001b[0m\u001b[0;34m.\u001b[0m\u001b[0mapplications\u001b[0m\u001b[0;34m.\u001b[0m\u001b[0mvgg16\u001b[0m\u001b[0;34m.\u001b[0m\u001b[0mpreprocess_input\u001b[0m\u001b[0;34m)\u001b[0m\u001b[0;34m\u001b[0m\u001b[0;34m\u001b[0m\u001b[0m\n\u001b[0m\u001b[1;32m      2\u001b[0m \u001b[0mtrain_batches\u001b[0m \u001b[0;34m=\u001b[0m \u001b[0mtrain_batches\u001b[0m\u001b[0;34m.\u001b[0m\u001b[0mflow_from_directory\u001b[0m\u001b[0;34m(\u001b[0m\u001b[0mdirectory\u001b[0m\u001b[0;34m=\u001b[0m\u001b[0mtrain_path\u001b[0m\u001b[0;34m,\u001b[0m \u001b[0mtarget_size\u001b[0m\u001b[0;34m=\u001b[0m\u001b[0;34m(\u001b[0m\u001b[0;36m256\u001b[0m\u001b[0;34m,\u001b[0m\u001b[0;36m256\u001b[0m\u001b[0;34m)\u001b[0m\u001b[0;34m,\u001b[0m \u001b[0mclasses\u001b[0m\u001b[0;34m=\u001b[0m\u001b[0mbodyparts\u001b[0m\u001b[0;34m,\u001b[0m \u001b[0mbatch_size\u001b[0m\u001b[0;34m=\u001b[0m\u001b[0;36m10\u001b[0m\u001b[0;34m)\u001b[0m\u001b[0;34m\u001b[0m\u001b[0;34m\u001b[0m\u001b[0m\n",
            "\u001b[0;31mNameError\u001b[0m: name 'tensorflow' is not defined"
          ]
        }
      ]
    },
    {
      "cell_type": "code",
      "source": [
        "assert train_batches.n == 2100"
      ],
      "metadata": {
        "id": "5tn0ud8KyIwG"
      },
      "execution_count": null,
      "outputs": []
    }
  ],
  "metadata": {
    "colab": {
      "collapsed_sections": [],
      "provenance": [],
      "include_colab_link": true
    },
    "kernelspec": {
      "display_name": "Python 3.9.0 32-bit",
      "language": "python",
      "name": "python3"
    },
    "language_info": {
      "name": "python",
      "version": "3.9.0"
    },
    "vscode": {
      "interpreter": {
        "hash": "5b76773ed08602836185ee19b6a28a35c7b52ddebf734b2b96c5aebf91a1aa12"
      }
    }
  },
  "nbformat": 4,
  "nbformat_minor": 0
}