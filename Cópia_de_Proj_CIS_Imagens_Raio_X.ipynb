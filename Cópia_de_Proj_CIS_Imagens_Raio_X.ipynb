{
  "cells": [
    {
      "cell_type": "markdown",
      "metadata": {
        "id": "lU48iA-hf04s"
      },
      "source": [
        "#Imports and Ajusting file\n"
      ]
    },
    {
      "cell_type": "code",
      "execution_count": 4,
      "metadata": {
        "id": "X75kHVXu3C8m"
      },
      "outputs": [],
      "source": [
        "import cv2\n",
        "import pandas as pd\n",
        "import os\n",
        "import shutil\n",
        "import time\n",
        "import math\n",
        "import zipfile\n",
        "import numpy as np\n",
        "from tqdm import tqdm\n",
        "import os\n",
        "from PIL import Image\n",
        "import string\n",
        "import matplotlib.pyplot as plt\n",
        "from scipy.io import loadmat\n",
        "import pydicom\n",
        "import gdown\n",
        "# from google.colab.patches import cv2_imshow"
      ]
    },
    {
      "cell_type": "code",
      "execution_count": 5,
      "metadata": {
        "id": "sqf48VqoeCqt"
      },
      "outputs": [],
      "source": [
        "def download(id): \n",
        "    url = 'https://drive.google.com/uc?id=' + str(id)\n",
        "    gdown.download(url, output = None, quiet = False)\n",
        "\n",
        "def unzip(path): #Função para unzip\n",
        "    zip = zipfile.ZipFile(path)\n",
        "    zip.extractall()\n",
        "    zip.close()"
      ]
    },
    {
      "cell_type": "code",
      "execution_count": 6,
      "metadata": {
        "colab": {
          "base_uri": "https://localhost:8080/"
        },
        "id": "CEFniMhVgyUh",
        "outputId": "ddb70e8b-1b5c-43ab-a4ca-1ea84fc6c044"
      },
      "outputs": [
        {
          "name": "stderr",
          "output_type": "stream",
          "text": [
            "Downloading...\n",
            "From: https://drive.google.com/uc?id=1ev-r31j8oRzDlKM_toaeADO2psrA_XXm\n",
            "To: /mnt/c/Códigos_VS/X-rayBodyPart/archive.zip\n",
            "100%|██████████| 269M/269M [00:53<00:00, 5.05MB/s]\n"
          ]
        }
      ],
      "source": [
        "# https://drive.google.com/file/d/1ev-r31j8oRzDlKM_toaeADO2psrA_XXm/view?usp=sharing\n",
        "\n",
        "download('1ev-r31j8oRzDlKM_toaeADO2psrA_XXm')\n",
        "#/mnt/c/Códigos_VS/X-rayBodyPart/archive.zip\n",
        "unzip('/mnt/c/Códigos_VS/X-rayBodyPart/archive.zip')"
      ]
    },
    {
      "cell_type": "code",
      "execution_count": 7,
      "metadata": {
        "id": "PpL-tSErjuD6"
      },
      "outputs": [],
      "source": [
        "train_df = pd.read_csv('/mnt/c/Códigos_VS/X-rayBodyPart/train.csv')\n",
        "test_df = pd.read_csv('/mnt/c/Códigos_VS/X-rayBodyPart/sample_submission.csv')"
      ]
    },
    {
      "cell_type": "code",
      "execution_count": 8,
      "metadata": {
        "colab": {
          "base_uri": "https://localhost:8080/",
          "height": 206
        },
        "id": "c8qRth9FkA5p",
        "outputId": "989064c9-544c-4722-8d95-1c283f711b3a"
      },
      "outputs": [
        {
          "data": {
            "text/html": [
              "<div>\n",
              "<style scoped>\n",
              "    .dataframe tbody tr th:only-of-type {\n",
              "        vertical-align: middle;\n",
              "    }\n",
              "\n",
              "    .dataframe tbody tr th {\n",
              "        vertical-align: top;\n",
              "    }\n",
              "\n",
              "    .dataframe thead th {\n",
              "        text-align: right;\n",
              "    }\n",
              "</style>\n",
              "<table border=\"1\" class=\"dataframe\">\n",
              "  <thead>\n",
              "    <tr style=\"text-align: right;\">\n",
              "      <th></th>\n",
              "      <th>SOPInstanceUID</th>\n",
              "      <th>Target</th>\n",
              "    </tr>\n",
              "  </thead>\n",
              "  <tbody>\n",
              "    <tr>\n",
              "      <th>0</th>\n",
              "      <td>1.2.826.0.1.3680043.8.498.10001001190452685542...</td>\n",
              "      <td>0 1 2 3 4 5 6 7 8 9 10 11 12 13 14 15 16 17 18...</td>\n",
              "    </tr>\n",
              "    <tr>\n",
              "      <th>1</th>\n",
              "      <td>1.2.826.0.1.3680043.8.498.10022667601042710442...</td>\n",
              "      <td>0 1 2 3 4 5 6 7 8 9 10 11 12 13 14 15 16 17 18...</td>\n",
              "    </tr>\n",
              "    <tr>\n",
              "      <th>2</th>\n",
              "      <td>1.2.826.0.1.3680043.8.498.10024395388921105474...</td>\n",
              "      <td>0 1 2 3 4 5 6 7 8 9 10 11 12 13 14 15 16 17 18...</td>\n",
              "    </tr>\n",
              "    <tr>\n",
              "      <th>3</th>\n",
              "      <td>1.2.826.0.1.3680043.8.498.10026689165626095651...</td>\n",
              "      <td>0 1 2 3 4 5 6 7 8 9 10 11 12 13 14 15 16 17 18...</td>\n",
              "    </tr>\n",
              "    <tr>\n",
              "      <th>4</th>\n",
              "      <td>1.2.826.0.1.3680043.8.498.10035936364561920980...</td>\n",
              "      <td>0 1 2 3 4 5 6 7 8 9 10 11 12 13 14 15 16 17 18...</td>\n",
              "    </tr>\n",
              "  </tbody>\n",
              "</table>\n",
              "</div>"
            ],
            "text/plain": [
              "                                      SOPInstanceUID  \\\n",
              "0  1.2.826.0.1.3680043.8.498.10001001190452685542...   \n",
              "1  1.2.826.0.1.3680043.8.498.10022667601042710442...   \n",
              "2  1.2.826.0.1.3680043.8.498.10024395388921105474...   \n",
              "3  1.2.826.0.1.3680043.8.498.10026689165626095651...   \n",
              "4  1.2.826.0.1.3680043.8.498.10035936364561920980...   \n",
              "\n",
              "                                              Target  \n",
              "0  0 1 2 3 4 5 6 7 8 9 10 11 12 13 14 15 16 17 18...  \n",
              "1  0 1 2 3 4 5 6 7 8 9 10 11 12 13 14 15 16 17 18...  \n",
              "2  0 1 2 3 4 5 6 7 8 9 10 11 12 13 14 15 16 17 18...  \n",
              "3  0 1 2 3 4 5 6 7 8 9 10 11 12 13 14 15 16 17 18...  \n",
              "4  0 1 2 3 4 5 6 7 8 9 10 11 12 13 14 15 16 17 18...  "
            ]
          },
          "execution_count": 8,
          "metadata": {},
          "output_type": "execute_result"
        }
      ],
      "source": [
        "test_df.head(5)"
      ]
    },
    {
      "cell_type": "code",
      "execution_count": 9,
      "metadata": {
        "colab": {
          "base_uri": "https://localhost:8080/",
          "height": 206
        },
        "id": "XWICRM55j6lb",
        "outputId": "551ffef2-0e12-42bb-d127-95af58fcdbc2"
      },
      "outputs": [
        {
          "data": {
            "text/html": [
              "<div>\n",
              "<style scoped>\n",
              "    .dataframe tbody tr th:only-of-type {\n",
              "        vertical-align: middle;\n",
              "    }\n",
              "\n",
              "    .dataframe tbody tr th {\n",
              "        vertical-align: top;\n",
              "    }\n",
              "\n",
              "    .dataframe thead th {\n",
              "        text-align: right;\n",
              "    }\n",
              "</style>\n",
              "<table border=\"1\" class=\"dataframe\">\n",
              "  <thead>\n",
              "    <tr style=\"text-align: right;\">\n",
              "      <th></th>\n",
              "      <th>SOPInstanceUID</th>\n",
              "      <th>Target</th>\n",
              "    </tr>\n",
              "  </thead>\n",
              "  <tbody>\n",
              "    <tr>\n",
              "      <th>0</th>\n",
              "      <td>1.2.826.0.1.3680043.8.498.10025629581362719970...</td>\n",
              "      <td>0</td>\n",
              "    </tr>\n",
              "    <tr>\n",
              "      <th>1</th>\n",
              "      <td>1.2.826.0.1.3680043.8.498.10036150326276641158...</td>\n",
              "      <td>15</td>\n",
              "    </tr>\n",
              "    <tr>\n",
              "      <th>2</th>\n",
              "      <td>1.2.826.0.1.3680043.8.498.10038426859954986240...</td>\n",
              "      <td>12</td>\n",
              "    </tr>\n",
              "    <tr>\n",
              "      <th>3</th>\n",
              "      <td>1.2.826.0.1.3680043.8.498.10050991192143676483...</td>\n",
              "      <td>14</td>\n",
              "    </tr>\n",
              "    <tr>\n",
              "      <th>4</th>\n",
              "      <td>1.2.826.0.1.3680043.8.498.10053309524595490852...</td>\n",
              "      <td>3</td>\n",
              "    </tr>\n",
              "  </tbody>\n",
              "</table>\n",
              "</div>"
            ],
            "text/plain": [
              "                                      SOPInstanceUID Target\n",
              "0  1.2.826.0.1.3680043.8.498.10025629581362719970...     0 \n",
              "1  1.2.826.0.1.3680043.8.498.10036150326276641158...    15 \n",
              "2  1.2.826.0.1.3680043.8.498.10038426859954986240...    12 \n",
              "3  1.2.826.0.1.3680043.8.498.10050991192143676483...    14 \n",
              "4  1.2.826.0.1.3680043.8.498.10053309524595490852...     3 "
            ]
          },
          "execution_count": 9,
          "metadata": {},
          "output_type": "execute_result"
        }
      ],
      "source": [
        "train_df.head(5)"
      ]
    },
    {
      "cell_type": "markdown",
      "metadata": {
        "id": "qd9hejxZkD94"
      },
      "source": [
        "#Pre-processing"
      ]
    },
    {
      "cell_type": "code",
      "execution_count": 10,
      "metadata": {
        "colab": {
          "base_uri": "https://localhost:8080/"
        },
        "id": "0IQpmWP3kIhQ",
        "outputId": "f4a5f1eb-486e-404f-8789-142201bc1dab"
      },
      "outputs": [
        {
          "name": "stdout",
          "output_type": "stream",
          "text": [
            "Columns:\n",
            "Index(['SOPInstanceUID', 'Target'], dtype='object') \n",
            "\n",
            "Types in columns:\n",
            "SOPInstanceUID    object\n",
            "Target            object\n",
            "dtype: object \n",
            "\n",
            "Types in info:\n",
            "                                           SOPInstanceUID Target\n",
            "count                                                1738   1738\n",
            "unique                                               1738     41\n",
            "top     1.2.826.0.1.3680043.8.498.10025629581362719970...     3 \n",
            "freq                                                    1    724 \n",
            "\n"
          ]
        }
      ],
      "source": [
        "print(\"Columns:\")\n",
        "print(train_df.columns, \"\\n\")\n",
        "\n",
        "print(\"Types in columns:\")\n",
        "print(train_df.dtypes, \"\\n\")\n",
        "\n",
        "print(\"Types in info:\")\n",
        "print(train_df.describe(), \"\\n\")"
      ]
    },
    {
      "cell_type": "markdown",
      "metadata": {
        "id": "hk9Kily5l8fI"
      },
      "source": [
        "##Fixing folders"
      ]
    },
    {
      "cell_type": "code",
      "execution_count": 11,
      "metadata": {
        "id": "0Z0LwdkVoI3l"
      },
      "outputs": [],
      "source": [
        "class Image_processing():\n",
        "  def __init__(self, path):\n",
        "    self.path = \"/mnt/c/Códigos_VS/X-rayBodyPart/\" + path + \"/\"\n",
        "    self.fileList = []\n",
        "\n",
        "  def fixFolders(self, name):\n",
        "    filelist = []\n",
        "    for root, dirs, files in os.walk(self.path):\n",
        "      # os.walk generate the file names in a directory tree by walking the tree either top-down or bottom-up\n",
        "      for file in files:\n",
        "            #append the file name to the list\n",
        "        filelist.append(os.path.join(root,file))\n",
        "    \n",
        "    self.fileList = filelist\n",
        "    os.mkdir(\"/mnt/c/Códigos_VS/X-rayBodyPart/\" + name + \"/\")\n",
        "\n",
        "    for filename in filelist:\n",
        "        dicom = pydicom.dcmread(filename)\n",
        "        img = dicom.pixel_array\n",
        "        im = Image.fromarray(img.astype(np.uint8))\n",
        "        var = filename.split(\"/\")\n",
        "        patient = var[5]\n",
        "        code = var[6]\n",
        "        im.save(\"/mnt/c/Códigos_VS/X-rayBodyPart/\" + name + \"/\" + var[-1][:-6] + \".bmp\")\n"
      ]
    },
    {
      "cell_type": "code",
      "execution_count": 12,
      "metadata": {
        "id": "CGZD0cQV52l9"
      },
      "outputs": [],
      "source": [
        "# shutil.rmtree(\"/content/trainRepaired\")\n",
        "# shutil.rmtree(\"/content/trainRepaired2\")\n",
        "# shutil.rmtree(\"/content/testRepaired\")"
      ]
    },
    {
      "cell_type": "code",
      "execution_count": 13,
      "metadata": {
        "id": "zLsXtBYT2yiN"
      },
      "outputs": [],
      "source": [
        "try:\n",
        "  image_processing = Image_processing(\"train\")\n",
        "  image_processing.fixFolders(\"trainRepaired\")\n",
        "\n",
        "  image_processing2 = Image_processing(\"test\")\n",
        "  image_processing2.fixFolders(\"testRepaired\")\n",
        "except FileExistsError:\n",
        "  # /mnt/c/Códigos_VS/X-rayBodyPart/train.csv\n",
        "  shutil.rmtree(\"/mnt/c/Códigos_VS/X-rayBodyPart/\" + \"trainRepaired\")\n",
        "  shutil.rmtree(\"/mnt/c/Códigos_VS/X-rayBodyPart/\" + \"testRepaired\" )\n",
        "\n",
        "  image_processing = Image_processing(\"train\")\n",
        "  image_processing.fixFolders(\"trainRepaired\")\n",
        "\n",
        "  image_processing2 = Image_processing(\"test\")\n",
        "  image_processing2.fixFolders(\"testRepaired\")"
      ]
    },
    {
      "cell_type": "code",
      "execution_count": 14,
      "metadata": {
        "colab": {
          "base_uri": "https://localhost:8080/",
          "height": 424
        },
        "id": "vsYY0dwv6a6f",
        "outputId": "45ffc43b-a2b1-4929-e1e6-8a74738d6b8a"
      },
      "outputs": [
        {
          "data": {
            "text/html": [
              "<div>\n",
              "<style scoped>\n",
              "    .dataframe tbody tr th:only-of-type {\n",
              "        vertical-align: middle;\n",
              "    }\n",
              "\n",
              "    .dataframe tbody tr th {\n",
              "        vertical-align: top;\n",
              "    }\n",
              "\n",
              "    .dataframe thead th {\n",
              "        text-align: right;\n",
              "    }\n",
              "</style>\n",
              "<table border=\"1\" class=\"dataframe\">\n",
              "  <thead>\n",
              "    <tr style=\"text-align: right;\">\n",
              "      <th></th>\n",
              "      <th>SOPInstanceUID</th>\n",
              "      <th>Target</th>\n",
              "    </tr>\n",
              "  </thead>\n",
              "  <tbody>\n",
              "    <tr>\n",
              "      <th>0</th>\n",
              "      <td>1.2.826.0.1.3680043.8.498.10025629581362719970...</td>\n",
              "      <td>0</td>\n",
              "    </tr>\n",
              "    <tr>\n",
              "      <th>1</th>\n",
              "      <td>1.2.826.0.1.3680043.8.498.10036150326276641158...</td>\n",
              "      <td>15</td>\n",
              "    </tr>\n",
              "    <tr>\n",
              "      <th>2</th>\n",
              "      <td>1.2.826.0.1.3680043.8.498.10038426859954986240...</td>\n",
              "      <td>12</td>\n",
              "    </tr>\n",
              "    <tr>\n",
              "      <th>3</th>\n",
              "      <td>1.2.826.0.1.3680043.8.498.10050991192143676483...</td>\n",
              "      <td>14</td>\n",
              "    </tr>\n",
              "    <tr>\n",
              "      <th>4</th>\n",
              "      <td>1.2.826.0.1.3680043.8.498.10053309524595490852...</td>\n",
              "      <td>3</td>\n",
              "    </tr>\n",
              "    <tr>\n",
              "      <th>...</th>\n",
              "      <td>...</td>\n",
              "      <td>...</td>\n",
              "    </tr>\n",
              "    <tr>\n",
              "      <th>1733</th>\n",
              "      <td>1.2.826.0.1.3680043.8.498.99711016467406172920...</td>\n",
              "      <td>14</td>\n",
              "    </tr>\n",
              "    <tr>\n",
              "      <th>1734</th>\n",
              "      <td>1.2.826.0.1.3680043.8.498.99727280485333900933...</td>\n",
              "      <td>11</td>\n",
              "    </tr>\n",
              "    <tr>\n",
              "      <th>1735</th>\n",
              "      <td>1.2.826.0.1.3680043.8.498.99935008698914755885...</td>\n",
              "      <td>3</td>\n",
              "    </tr>\n",
              "    <tr>\n",
              "      <th>1736</th>\n",
              "      <td>1.2.826.0.1.3680043.8.498.99969671777553755311...</td>\n",
              "      <td>2</td>\n",
              "    </tr>\n",
              "    <tr>\n",
              "      <th>1737</th>\n",
              "      <td>1.2.826.0.1.3680043.8.498.99979421603039894766...</td>\n",
              "      <td>2</td>\n",
              "    </tr>\n",
              "  </tbody>\n",
              "</table>\n",
              "<p>1738 rows × 2 columns</p>\n",
              "</div>"
            ],
            "text/plain": [
              "                                         SOPInstanceUID Target\n",
              "0     1.2.826.0.1.3680043.8.498.10025629581362719970...     0 \n",
              "1     1.2.826.0.1.3680043.8.498.10036150326276641158...    15 \n",
              "2     1.2.826.0.1.3680043.8.498.10038426859954986240...    12 \n",
              "3     1.2.826.0.1.3680043.8.498.10050991192143676483...    14 \n",
              "4     1.2.826.0.1.3680043.8.498.10053309524595490852...     3 \n",
              "...                                                 ...    ...\n",
              "1733  1.2.826.0.1.3680043.8.498.99711016467406172920...    14 \n",
              "1734  1.2.826.0.1.3680043.8.498.99727280485333900933...    11 \n",
              "1735  1.2.826.0.1.3680043.8.498.99935008698914755885...     3 \n",
              "1736  1.2.826.0.1.3680043.8.498.99969671777553755311...     2 \n",
              "1737  1.2.826.0.1.3680043.8.498.99979421603039894766...     2 \n",
              "\n",
              "[1738 rows x 2 columns]"
            ]
          },
          "execution_count": 14,
          "metadata": {},
          "output_type": "execute_result"
        }
      ],
      "source": [
        "train_df"
      ]
    },
    {
      "cell_type": "code",
      "execution_count": 15,
      "metadata": {
        "id": "uCHJqSoAV3JU"
      },
      "outputs": [],
      "source": [
        "lista=[[[1]],[2], [3]]"
      ]
    },
    {
      "cell_type": "code",
      "execution_count": 16,
      "metadata": {
        "id": "_PslEew4Sofj"
      },
      "outputs": [],
      "source": [
        "def dcmtag2table(folder, list_of_tags):\n",
        "\n",
        "    list_of_tags = list_of_tags.copy()\n",
        "    items = []\n",
        "    table = []\n",
        "    filelist = []\n",
        "\n",
        "    for root, dirs, files in os.walk(folder, topdown=False):\n",
        "#Adiciona os caminhos de cada imagem na lista\n",
        "        for name in files:\n",
        "            filelist.append(os.path.join(root, name))\n",
        "    aux= 0\n",
        "    for _f in filelist:\n",
        "      #Em cada caminho da imagem(.dcm)\n",
        "        try:\n",
        "            ds = pydicom.dcmread(_f, stop_before_pixels=True)\n",
        "            #Pega o Dataset de cada imagem e ler no próximo for\n",
        "            items = []\n",
        "            items.append(_f)\n",
        "            #Adiciono o caminho em \"items\"\n",
        "            for _tag in list_of_tags:\n",
        "                if _tag in ds:\n",
        "                  \n",
        "                    items.append(ds.data_element(_tag).value)\n",
        "                    #Adiciono a features \"PhotometricInterpretation\", \"BitsAllocated\" and \"SOPInstanceUID\" em \"items\"\n",
        "                else:\n",
        "                    items.append(\"Not found\")\n",
        "            \n",
        "            table.append(items)\n",
        "            #Adiciona tudo em uma outra lista\n",
        "        except:\n",
        "            print(\"Skipping non-DICOM: \" + _f)\n",
        "\n",
        "    df = pd.DataFrame(table, columns=[\"Filename\", \"PhotometricInterpretation\", \"BitsAllocated\",\"SOPInstanceUID\"])\n",
        "    #Crio um data set com todos os caminhos Photometric, Bits and SOP\n",
        "    return df"
      ]
    },
    {
      "cell_type": "markdown",
      "metadata": {
        "id": "rzOyGpU5YOue"
      },
      "source": [
        "*   SOP Instance UID - Unique Identification\n",
        "*   SOP Class UID    - "
      ]
    },
    {
      "cell_type": "code",
      "execution_count": 28,
      "metadata": {
        "id": "IgsEtrh3qakO"
      },
      "outputs": [],
      "source": [
        "tags = ['PhotometricInterpretation','BitsAllocated', 'SOPInstanceUID' ]\n",
        "dicom_tags_train =  dcmtag2table('/mnt/c/Códigos_VS/X-rayBodyPart/train', tags)\n",
        "dicom_tags_test = dcmtag2table('/mnt/c/Códigos_VS/X-rayBodyPart/test', tags)"
      ]
    },
    {
      "cell_type": "code",
      "execution_count": 29,
      "metadata": {
        "colab": {
          "base_uri": "https://localhost:8080/",
          "height": 424
        },
        "id": "2q8GnBabrW6H",
        "outputId": "f488cbe8-b0a8-40b1-cb73-3ab4631e08a9"
      },
      "outputs": [
        {
          "data": {
            "text/html": [
              "<div>\n",
              "<style scoped>\n",
              "    .dataframe tbody tr th:only-of-type {\n",
              "        vertical-align: middle;\n",
              "    }\n",
              "\n",
              "    .dataframe tbody tr th {\n",
              "        vertical-align: top;\n",
              "    }\n",
              "\n",
              "    .dataframe thead th {\n",
              "        text-align: right;\n",
              "    }\n",
              "</style>\n",
              "<table border=\"1\" class=\"dataframe\">\n",
              "  <thead>\n",
              "    <tr style=\"text-align: right;\">\n",
              "      <th></th>\n",
              "      <th>Filename</th>\n",
              "      <th>PhotometricInterpretation</th>\n",
              "      <th>BitsAllocated</th>\n",
              "      <th>SOPInstanceUID</th>\n",
              "    </tr>\n",
              "  </thead>\n",
              "  <tbody>\n",
              "    <tr>\n",
              "      <th>0</th>\n",
              "      <td>/mnt/c/Códigos_VS/X-rayBodyPart/train/train/tr...</td>\n",
              "      <td>MONOCHROME1</td>\n",
              "      <td>16</td>\n",
              "      <td>1.2.826.0.1.3680043.8.498.65452424240994805812...</td>\n",
              "    </tr>\n",
              "    <tr>\n",
              "      <th>1</th>\n",
              "      <td>/mnt/c/Códigos_VS/X-rayBodyPart/train/train/tr...</td>\n",
              "      <td>MONOCHROME1</td>\n",
              "      <td>16</td>\n",
              "      <td>1.2.826.0.1.3680043.8.498.29960944389705651248...</td>\n",
              "    </tr>\n",
              "    <tr>\n",
              "      <th>2</th>\n",
              "      <td>/mnt/c/Códigos_VS/X-rayBodyPart/train/train/tr...</td>\n",
              "      <td>MONOCHROME1</td>\n",
              "      <td>16</td>\n",
              "      <td>1.2.826.0.1.3680043.8.498.57792439353439709695...</td>\n",
              "    </tr>\n",
              "    <tr>\n",
              "      <th>3</th>\n",
              "      <td>/mnt/c/Códigos_VS/X-rayBodyPart/train/train/tr...</td>\n",
              "      <td>MONOCHROME1</td>\n",
              "      <td>16</td>\n",
              "      <td>1.2.826.0.1.3680043.8.498.37634180084111795685...</td>\n",
              "    </tr>\n",
              "    <tr>\n",
              "      <th>4</th>\n",
              "      <td>/mnt/c/Códigos_VS/X-rayBodyPart/train/train/tr...</td>\n",
              "      <td>MONOCHROME1</td>\n",
              "      <td>16</td>\n",
              "      <td>1.2.826.0.1.3680043.8.498.12781870272366327239...</td>\n",
              "    </tr>\n",
              "    <tr>\n",
              "      <th>...</th>\n",
              "      <td>...</td>\n",
              "      <td>...</td>\n",
              "      <td>...</td>\n",
              "      <td>...</td>\n",
              "    </tr>\n",
              "    <tr>\n",
              "      <th>1733</th>\n",
              "      <td>/mnt/c/Códigos_VS/X-rayBodyPart/train/train/tr...</td>\n",
              "      <td>MONOCHROME1</td>\n",
              "      <td>16</td>\n",
              "      <td>1.2.826.0.1.3680043.8.498.88201401328037140717...</td>\n",
              "    </tr>\n",
              "    <tr>\n",
              "      <th>1734</th>\n",
              "      <td>/mnt/c/Códigos_VS/X-rayBodyPart/train/train/tr...</td>\n",
              "      <td>MONOCHROME1</td>\n",
              "      <td>16</td>\n",
              "      <td>1.2.826.0.1.3680043.8.498.88978469234834814481...</td>\n",
              "    </tr>\n",
              "    <tr>\n",
              "      <th>1735</th>\n",
              "      <td>/mnt/c/Códigos_VS/X-rayBodyPart/train/train/tr...</td>\n",
              "      <td>MONOCHROME1</td>\n",
              "      <td>16</td>\n",
              "      <td>1.2.826.0.1.3680043.8.498.33303514480609398517...</td>\n",
              "    </tr>\n",
              "    <tr>\n",
              "      <th>1736</th>\n",
              "      <td>/mnt/c/Códigos_VS/X-rayBodyPart/train/train/tr...</td>\n",
              "      <td>MONOCHROME1</td>\n",
              "      <td>16</td>\n",
              "      <td>1.2.826.0.1.3680043.8.498.13310561881659972417...</td>\n",
              "    </tr>\n",
              "    <tr>\n",
              "      <th>1737</th>\n",
              "      <td>/mnt/c/Códigos_VS/X-rayBodyPart/train/train/tr...</td>\n",
              "      <td>MONOCHROME1</td>\n",
              "      <td>16</td>\n",
              "      <td>1.2.826.0.1.3680043.8.498.62232872907251400549...</td>\n",
              "    </tr>\n",
              "  </tbody>\n",
              "</table>\n",
              "<p>1738 rows × 4 columns</p>\n",
              "</div>"
            ],
            "text/plain": [
              "                                               Filename  \\\n",
              "0     /mnt/c/Códigos_VS/X-rayBodyPart/train/train/tr...   \n",
              "1     /mnt/c/Códigos_VS/X-rayBodyPart/train/train/tr...   \n",
              "2     /mnt/c/Códigos_VS/X-rayBodyPart/train/train/tr...   \n",
              "3     /mnt/c/Códigos_VS/X-rayBodyPart/train/train/tr...   \n",
              "4     /mnt/c/Códigos_VS/X-rayBodyPart/train/train/tr...   \n",
              "...                                                 ...   \n",
              "1733  /mnt/c/Códigos_VS/X-rayBodyPart/train/train/tr...   \n",
              "1734  /mnt/c/Códigos_VS/X-rayBodyPart/train/train/tr...   \n",
              "1735  /mnt/c/Códigos_VS/X-rayBodyPart/train/train/tr...   \n",
              "1736  /mnt/c/Códigos_VS/X-rayBodyPart/train/train/tr...   \n",
              "1737  /mnt/c/Códigos_VS/X-rayBodyPart/train/train/tr...   \n",
              "\n",
              "     PhotometricInterpretation  BitsAllocated  \\\n",
              "0                  MONOCHROME1             16   \n",
              "1                  MONOCHROME1             16   \n",
              "2                  MONOCHROME1             16   \n",
              "3                  MONOCHROME1             16   \n",
              "4                  MONOCHROME1             16   \n",
              "...                        ...            ...   \n",
              "1733               MONOCHROME1             16   \n",
              "1734               MONOCHROME1             16   \n",
              "1735               MONOCHROME1             16   \n",
              "1736               MONOCHROME1             16   \n",
              "1737               MONOCHROME1             16   \n",
              "\n",
              "                                         SOPInstanceUID  \n",
              "0     1.2.826.0.1.3680043.8.498.65452424240994805812...  \n",
              "1     1.2.826.0.1.3680043.8.498.29960944389705651248...  \n",
              "2     1.2.826.0.1.3680043.8.498.57792439353439709695...  \n",
              "3     1.2.826.0.1.3680043.8.498.37634180084111795685...  \n",
              "4     1.2.826.0.1.3680043.8.498.12781870272366327239...  \n",
              "...                                                 ...  \n",
              "1733  1.2.826.0.1.3680043.8.498.88201401328037140717...  \n",
              "1734  1.2.826.0.1.3680043.8.498.88978469234834814481...  \n",
              "1735  1.2.826.0.1.3680043.8.498.33303514480609398517...  \n",
              "1736  1.2.826.0.1.3680043.8.498.13310561881659972417...  \n",
              "1737  1.2.826.0.1.3680043.8.498.62232872907251400549...  \n",
              "\n",
              "[1738 rows x 4 columns]"
            ]
          },
          "execution_count": 29,
          "metadata": {},
          "output_type": "execute_result"
        }
      ],
      "source": [
        "dicom_tags_train"
      ]
    },
    {
      "cell_type": "code",
      "execution_count": 30,
      "metadata": {
        "colab": {
          "base_uri": "https://localhost:8080/"
        },
        "id": "cSFFoYf_uY9B",
        "outputId": "f1537e49-73ad-4a82-86c5-93f922eb4cd3"
      },
      "outputs": [
        {
          "name": "stdout",
          "output_type": "stream",
          "text": [
            "MONOCHROME1    1659\n",
            "MONOCHROME2      79\n",
            "Name: PhotometricInterpretation, dtype: int64\n"
          ]
        }
      ],
      "source": [
        "print(dicom_tags_train.PhotometricInterpretation.value_counts())"
      ]
    },
    {
      "cell_type": "code",
      "execution_count": 31,
      "metadata": {
        "id": "y455j0dguZP0"
      },
      "outputs": [],
      "source": [
        "train = dicom_tags_train.merge(train_df, on =  'SOPInstanceUID')\n",
        "test = dicom_tags_test.merge(test_df,on =  'SOPInstanceUID')"
      ]
    },
    {
      "cell_type": "code",
      "execution_count": 32,
      "metadata": {
        "colab": {
          "base_uri": "https://localhost:8080/",
          "height": 206
        },
        "id": "z0b_MiIW1Ird",
        "outputId": "eb697120-ca93-456d-f1da-edad820a431c"
      },
      "outputs": [
        {
          "data": {
            "text/html": [
              "<div>\n",
              "<style scoped>\n",
              "    .dataframe tbody tr th:only-of-type {\n",
              "        vertical-align: middle;\n",
              "    }\n",
              "\n",
              "    .dataframe tbody tr th {\n",
              "        vertical-align: top;\n",
              "    }\n",
              "\n",
              "    .dataframe thead th {\n",
              "        text-align: right;\n",
              "    }\n",
              "</style>\n",
              "<table border=\"1\" class=\"dataframe\">\n",
              "  <thead>\n",
              "    <tr style=\"text-align: right;\">\n",
              "      <th></th>\n",
              "      <th>Filename</th>\n",
              "      <th>PhotometricInterpretation</th>\n",
              "      <th>BitsAllocated</th>\n",
              "      <th>SOPInstanceUID</th>\n",
              "      <th>Target</th>\n",
              "    </tr>\n",
              "  </thead>\n",
              "  <tbody>\n",
              "    <tr>\n",
              "      <th>0</th>\n",
              "      <td>/mnt/c/Códigos_VS/X-rayBodyPart/train/train/tr...</td>\n",
              "      <td>MONOCHROME1</td>\n",
              "      <td>16</td>\n",
              "      <td>1.2.826.0.1.3680043.8.498.65452424240994805812...</td>\n",
              "      <td>3</td>\n",
              "    </tr>\n",
              "    <tr>\n",
              "      <th>1</th>\n",
              "      <td>/mnt/c/Códigos_VS/X-rayBodyPart/train/train/tr...</td>\n",
              "      <td>MONOCHROME1</td>\n",
              "      <td>16</td>\n",
              "      <td>1.2.826.0.1.3680043.8.498.29960944389705651248...</td>\n",
              "      <td>3</td>\n",
              "    </tr>\n",
              "    <tr>\n",
              "      <th>2</th>\n",
              "      <td>/mnt/c/Códigos_VS/X-rayBodyPart/train/train/tr...</td>\n",
              "      <td>MONOCHROME1</td>\n",
              "      <td>16</td>\n",
              "      <td>1.2.826.0.1.3680043.8.498.57792439353439709695...</td>\n",
              "      <td>3</td>\n",
              "    </tr>\n",
              "    <tr>\n",
              "      <th>3</th>\n",
              "      <td>/mnt/c/Códigos_VS/X-rayBodyPart/train/train/tr...</td>\n",
              "      <td>MONOCHROME1</td>\n",
              "      <td>16</td>\n",
              "      <td>1.2.826.0.1.3680043.8.498.37634180084111795685...</td>\n",
              "      <td>3</td>\n",
              "    </tr>\n",
              "    <tr>\n",
              "      <th>4</th>\n",
              "      <td>/mnt/c/Códigos_VS/X-rayBodyPart/train/train/tr...</td>\n",
              "      <td>MONOCHROME1</td>\n",
              "      <td>16</td>\n",
              "      <td>1.2.826.0.1.3680043.8.498.12781870272366327239...</td>\n",
              "      <td>3</td>\n",
              "    </tr>\n",
              "  </tbody>\n",
              "</table>\n",
              "</div>"
            ],
            "text/plain": [
              "                                            Filename  \\\n",
              "0  /mnt/c/Códigos_VS/X-rayBodyPart/train/train/tr...   \n",
              "1  /mnt/c/Códigos_VS/X-rayBodyPart/train/train/tr...   \n",
              "2  /mnt/c/Códigos_VS/X-rayBodyPart/train/train/tr...   \n",
              "3  /mnt/c/Códigos_VS/X-rayBodyPart/train/train/tr...   \n",
              "4  /mnt/c/Códigos_VS/X-rayBodyPart/train/train/tr...   \n",
              "\n",
              "  PhotometricInterpretation  BitsAllocated  \\\n",
              "0               MONOCHROME1             16   \n",
              "1               MONOCHROME1             16   \n",
              "2               MONOCHROME1             16   \n",
              "3               MONOCHROME1             16   \n",
              "4               MONOCHROME1             16   \n",
              "\n",
              "                                      SOPInstanceUID Target  \n",
              "0  1.2.826.0.1.3680043.8.498.65452424240994805812...     3   \n",
              "1  1.2.826.0.1.3680043.8.498.29960944389705651248...     3   \n",
              "2  1.2.826.0.1.3680043.8.498.57792439353439709695...     3   \n",
              "3  1.2.826.0.1.3680043.8.498.37634180084111795685...     3   \n",
              "4  1.2.826.0.1.3680043.8.498.12781870272366327239...     3   "
            ]
          },
          "execution_count": 32,
          "metadata": {},
          "output_type": "execute_result"
        }
      ],
      "source": [
        "train.head()"
      ]
    },
    {
      "cell_type": "code",
      "execution_count": 33,
      "metadata": {
        "id": "PfDmww_v1Jih"
      },
      "outputs": [],
      "source": [
        "target = list(train[\"Target\"])"
      ]
    },
    {
      "cell_type": "code",
      "execution_count": 34,
      "metadata": {
        "id": "7kbDEwrm4c2p"
      },
      "outputs": [],
      "source": [
        "#Let's  see our Target distribution\n",
        "\n",
        "bodyparts = {\n",
        "0 : 'Abdomen' ,\n",
        "1 :'Ankle' ,\n",
        "2 :'Cervical Spine',\n",
        "3 : 'Chest' ,\n",
        "4 :'Clavicles' ,\n",
        "5 :'Elbow' ,\n",
        "6 :'Feet' ,\n",
        "7 : 'Finger' ,\n",
        "8 : 'Forearm' ,\n",
        "9 : 'Hand' ,\n",
        "10 : 'Hip' ,\n",
        "11 : 'Knee' ,\n",
        "12 : 'Lower Leg' ,\n",
        "13 : 'Lumbar Spine' ,\n",
        "14 : 'Others' ,\n",
        "15 :'Pelvis',\n",
        "16 :'Shoulder' ,\n",
        "17 :'Sinus' ,\n",
        "18 : 'Skull' ,\n",
        "19 : 'Thigh' ,\n",
        "20 :'Thoracic Spine',\n",
        "21: 'Wrist',\n",
        "}"
      ]
    },
    {
      "cell_type": "code",
      "execution_count": 35,
      "metadata": {
        "id": "0YxipR8b5FtC"
      },
      "outputs": [],
      "source": [
        "labels = ['Abdomen', 'Ankle', 'Cervical Spine',\n",
        "       'Chest', 'Clavicles', 'Elbow', 'Feet', 'Finger', 'Forearm', 'Hand',\n",
        "       'Hip', 'Knee', 'Lower Leg', 'Lumbar Spine', 'Others', 'Pelvis',\n",
        "       'Shoulder', 'Sinus', 'Skull', 'Thigh', 'Thoracic Spine', 'Wrist']"
      ]
    },
    {
      "cell_type": "code",
      "execution_count": 36,
      "metadata": {
        "colab": {
          "base_uri": "https://localhost:8080/"
        },
        "id": "1MERfji73LeD",
        "outputId": "ce73e037-0ed4-4f89-d751-16b95e3c1a24"
      },
      "outputs": [
        {
          "name": "stderr",
          "output_type": "stream",
          "text": [
            "100%|██████████| 1738/1738 [00:00<00:00, 267276.54it/s]\n"
          ]
        },
        {
          "data": {
            "text/plain": [
              "array(['Chest', 'Hand and Wrist', 'Cervical Spine', 'Pelvis', 'Knee',\n",
              "       'Wrist', 'Others', 'Finger', 'Hand', 'Feet', 'Elbow', 'Ankle',\n",
              "       'Lumbar Spine and Thoracic Spine', 'Thoracic Spine',\n",
              "       'Lumbar Spine', 'Abdomen', 'Skull', 'Hip', 'Shoulder',\n",
              "       'Finger and Hand', 'Ankle and Knee and Lower Leg',\n",
              "       'Abdomen and Chest', 'Sinus', 'Lower Leg', 'Chest and Finger',\n",
              "       'Thigh', 'Ankle and Lower Leg', 'Hip and Knee and Thigh',\n",
              "       'Clavicles', 'Elbow and Forearm', 'Forearm', 'Abdomen and Pelvis',\n",
              "       'Ankle and Feet', 'Hip and Thigh', 'Pelvis and Thigh',\n",
              "       'Knee and Lower Leg', 'Forearm and Shoulder', 'Chest and Pelvis',\n",
              "       'Cervical Spine and Thoracic Spine',\n",
              "       'Cervical Spine and Lumbar Spine and Thoracic Spine',\n",
              "       'Chest and Feet'], dtype=object)"
            ]
          },
          "execution_count": 36,
          "metadata": {},
          "output_type": "execute_result"
        }
      ],
      "source": [
        "#Create Label from target\n",
        "def no_to_label(label):\n",
        "    label_list_string = []\n",
        "    trimed_label = label.rstrip()\n",
        "    label_list = trimed_label.split(\" \")\n",
        "    label_list = [int(i) for i in label_list]\n",
        "    for label in label_list:\n",
        "        label_list_string.append(bodyparts[label])\n",
        "    label_string = ' and '.join(label_list_string)\n",
        "    return label_string\n",
        "\n",
        "target_list = train['Target'].tolist()\n",
        "label_column = []\n",
        "\n",
        "for label in tqdm(target_list):\n",
        "    label_string = no_to_label(label)\n",
        "    label_column.append(label_string)\n",
        "\n",
        "train['Label'] = label_column\n",
        "train['Label'].unique()"
      ]
    },
    {
      "cell_type": "code",
      "execution_count": 37,
      "metadata": {
        "colab": {
          "base_uri": "https://localhost:8080/",
          "height": 468
        },
        "id": "WIvoUoIt4WW4",
        "outputId": "4810e6d6-623e-4af4-fd3d-c51e211d00e3"
      },
      "outputs": [
        {
          "data": {
            "text/html": [
              "<div>\n",
              "<style scoped>\n",
              "    .dataframe tbody tr th:only-of-type {\n",
              "        vertical-align: middle;\n",
              "    }\n",
              "\n",
              "    .dataframe tbody tr th {\n",
              "        vertical-align: top;\n",
              "    }\n",
              "\n",
              "    .dataframe thead th {\n",
              "        text-align: right;\n",
              "    }\n",
              "</style>\n",
              "<table border=\"1\" class=\"dataframe\">\n",
              "  <thead>\n",
              "    <tr style=\"text-align: right;\">\n",
              "      <th></th>\n",
              "      <th>Filename</th>\n",
              "      <th>PhotometricInterpretation</th>\n",
              "      <th>BitsAllocated</th>\n",
              "      <th>SOPInstanceUID</th>\n",
              "      <th>Target</th>\n",
              "      <th>Label</th>\n",
              "    </tr>\n",
              "  </thead>\n",
              "  <tbody>\n",
              "    <tr>\n",
              "      <th>0</th>\n",
              "      <td>/mnt/c/Códigos_VS/X-rayBodyPart/train/train/tr...</td>\n",
              "      <td>MONOCHROME1</td>\n",
              "      <td>16</td>\n",
              "      <td>1.2.826.0.1.3680043.8.498.65452424240994805812...</td>\n",
              "      <td>3</td>\n",
              "      <td>Chest</td>\n",
              "    </tr>\n",
              "    <tr>\n",
              "      <th>1</th>\n",
              "      <td>/mnt/c/Códigos_VS/X-rayBodyPart/train/train/tr...</td>\n",
              "      <td>MONOCHROME1</td>\n",
              "      <td>16</td>\n",
              "      <td>1.2.826.0.1.3680043.8.498.29960944389705651248...</td>\n",
              "      <td>3</td>\n",
              "      <td>Chest</td>\n",
              "    </tr>\n",
              "    <tr>\n",
              "      <th>2</th>\n",
              "      <td>/mnt/c/Códigos_VS/X-rayBodyPart/train/train/tr...</td>\n",
              "      <td>MONOCHROME1</td>\n",
              "      <td>16</td>\n",
              "      <td>1.2.826.0.1.3680043.8.498.57792439353439709695...</td>\n",
              "      <td>3</td>\n",
              "      <td>Chest</td>\n",
              "    </tr>\n",
              "    <tr>\n",
              "      <th>3</th>\n",
              "      <td>/mnt/c/Códigos_VS/X-rayBodyPart/train/train/tr...</td>\n",
              "      <td>MONOCHROME1</td>\n",
              "      <td>16</td>\n",
              "      <td>1.2.826.0.1.3680043.8.498.37634180084111795685...</td>\n",
              "      <td>3</td>\n",
              "      <td>Chest</td>\n",
              "    </tr>\n",
              "    <tr>\n",
              "      <th>4</th>\n",
              "      <td>/mnt/c/Códigos_VS/X-rayBodyPart/train/train/tr...</td>\n",
              "      <td>MONOCHROME1</td>\n",
              "      <td>16</td>\n",
              "      <td>1.2.826.0.1.3680043.8.498.12781870272366327239...</td>\n",
              "      <td>3</td>\n",
              "      <td>Chest</td>\n",
              "    </tr>\n",
              "    <tr>\n",
              "      <th>...</th>\n",
              "      <td>...</td>\n",
              "      <td>...</td>\n",
              "      <td>...</td>\n",
              "      <td>...</td>\n",
              "      <td>...</td>\n",
              "      <td>...</td>\n",
              "    </tr>\n",
              "    <tr>\n",
              "      <th>1733</th>\n",
              "      <td>/mnt/c/Códigos_VS/X-rayBodyPart/train/train/tr...</td>\n",
              "      <td>MONOCHROME1</td>\n",
              "      <td>16</td>\n",
              "      <td>1.2.826.0.1.3680043.8.498.88201401328037140717...</td>\n",
              "      <td>10</td>\n",
              "      <td>Hip</td>\n",
              "    </tr>\n",
              "    <tr>\n",
              "      <th>1734</th>\n",
              "      <td>/mnt/c/Códigos_VS/X-rayBodyPart/train/train/tr...</td>\n",
              "      <td>MONOCHROME1</td>\n",
              "      <td>16</td>\n",
              "      <td>1.2.826.0.1.3680043.8.498.88978469234834814481...</td>\n",
              "      <td>15</td>\n",
              "      <td>Pelvis</td>\n",
              "    </tr>\n",
              "    <tr>\n",
              "      <th>1735</th>\n",
              "      <td>/mnt/c/Códigos_VS/X-rayBodyPart/train/train/tr...</td>\n",
              "      <td>MONOCHROME1</td>\n",
              "      <td>16</td>\n",
              "      <td>1.2.826.0.1.3680043.8.498.33303514480609398517...</td>\n",
              "      <td>2</td>\n",
              "      <td>Cervical Spine</td>\n",
              "    </tr>\n",
              "    <tr>\n",
              "      <th>1736</th>\n",
              "      <td>/mnt/c/Códigos_VS/X-rayBodyPart/train/train/tr...</td>\n",
              "      <td>MONOCHROME1</td>\n",
              "      <td>16</td>\n",
              "      <td>1.2.826.0.1.3680043.8.498.13310561881659972417...</td>\n",
              "      <td>3</td>\n",
              "      <td>Chest</td>\n",
              "    </tr>\n",
              "    <tr>\n",
              "      <th>1737</th>\n",
              "      <td>/mnt/c/Códigos_VS/X-rayBodyPart/train/train/tr...</td>\n",
              "      <td>MONOCHROME1</td>\n",
              "      <td>16</td>\n",
              "      <td>1.2.826.0.1.3680043.8.498.62232872907251400549...</td>\n",
              "      <td>15</td>\n",
              "      <td>Pelvis</td>\n",
              "    </tr>\n",
              "  </tbody>\n",
              "</table>\n",
              "<p>1738 rows × 6 columns</p>\n",
              "</div>"
            ],
            "text/plain": [
              "                                               Filename  \\\n",
              "0     /mnt/c/Códigos_VS/X-rayBodyPart/train/train/tr...   \n",
              "1     /mnt/c/Códigos_VS/X-rayBodyPart/train/train/tr...   \n",
              "2     /mnt/c/Códigos_VS/X-rayBodyPart/train/train/tr...   \n",
              "3     /mnt/c/Códigos_VS/X-rayBodyPart/train/train/tr...   \n",
              "4     /mnt/c/Códigos_VS/X-rayBodyPart/train/train/tr...   \n",
              "...                                                 ...   \n",
              "1733  /mnt/c/Códigos_VS/X-rayBodyPart/train/train/tr...   \n",
              "1734  /mnt/c/Códigos_VS/X-rayBodyPart/train/train/tr...   \n",
              "1735  /mnt/c/Códigos_VS/X-rayBodyPart/train/train/tr...   \n",
              "1736  /mnt/c/Códigos_VS/X-rayBodyPart/train/train/tr...   \n",
              "1737  /mnt/c/Códigos_VS/X-rayBodyPart/train/train/tr...   \n",
              "\n",
              "     PhotometricInterpretation  BitsAllocated  \\\n",
              "0                  MONOCHROME1             16   \n",
              "1                  MONOCHROME1             16   \n",
              "2                  MONOCHROME1             16   \n",
              "3                  MONOCHROME1             16   \n",
              "4                  MONOCHROME1             16   \n",
              "...                        ...            ...   \n",
              "1733               MONOCHROME1             16   \n",
              "1734               MONOCHROME1             16   \n",
              "1735               MONOCHROME1             16   \n",
              "1736               MONOCHROME1             16   \n",
              "1737               MONOCHROME1             16   \n",
              "\n",
              "                                         SOPInstanceUID Target           Label  \n",
              "0     1.2.826.0.1.3680043.8.498.65452424240994805812...     3            Chest  \n",
              "1     1.2.826.0.1.3680043.8.498.29960944389705651248...     3            Chest  \n",
              "2     1.2.826.0.1.3680043.8.498.57792439353439709695...     3            Chest  \n",
              "3     1.2.826.0.1.3680043.8.498.37634180084111795685...     3            Chest  \n",
              "4     1.2.826.0.1.3680043.8.498.12781870272366327239...     3            Chest  \n",
              "...                                                 ...    ...             ...  \n",
              "1733  1.2.826.0.1.3680043.8.498.88201401328037140717...    10              Hip  \n",
              "1734  1.2.826.0.1.3680043.8.498.88978469234834814481...    15           Pelvis  \n",
              "1735  1.2.826.0.1.3680043.8.498.33303514480609398517...     2   Cervical Spine  \n",
              "1736  1.2.826.0.1.3680043.8.498.13310561881659972417...     3            Chest  \n",
              "1737  1.2.826.0.1.3680043.8.498.62232872907251400549...    15           Pelvis  \n",
              "\n",
              "[1738 rows x 6 columns]"
            ]
          },
          "execution_count": 37,
          "metadata": {},
          "output_type": "execute_result"
        }
      ],
      "source": [
        "train"
      ]
    },
    {
      "cell_type": "code",
      "execution_count": null,
      "metadata": {
        "colab": {
          "base_uri": "https://localhost:8080/"
        },
        "id": "t254IvU64jle",
        "outputId": "9a35306d-8126-46ef-b1e0-4e2c6b562adc"
      },
      "outputs": [],
      "source": [
        "train.Label.value_counts()"
      ]
    },
    {
      "cell_type": "markdown",
      "metadata": {},
      "source": [
        "Delete every row with more than one organ"
      ]
    },
    {
      "cell_type": "code",
      "execution_count": 39,
      "metadata": {},
      "outputs": [
        {
          "name": "stdout",
          "output_type": "stream",
          "text": [
            "Ele identificou\n"
          ]
        }
      ],
      "source": [
        "frase = \"Ankle and Knee and Lower Leg\"\n",
        "if \"and\" in frase:\n",
        "    print(\"Ele identificou\")"
      ]
    },
    {
      "cell_type": "code",
      "execution_count": 40,
      "metadata": {},
      "outputs": [],
      "source": [
        "aux = list(train[\"Label\"])\n",
        "index=[]\n",
        "for i in range(len(aux)):\n",
        "    if \"and\" in aux[i]:\n",
        "        index.append(i)"
      ]
    },
    {
      "cell_type": "code",
      "execution_count": 41,
      "metadata": {},
      "outputs": [],
      "source": [
        "train.drop(index, axis=0, inplace=True)"
      ]
    },
    {
      "cell_type": "code",
      "execution_count": 42,
      "metadata": {},
      "outputs": [
        {
          "data": {
            "text/plain": [
              "Chest             724\n",
              "Others            120\n",
              "Knee              102\n",
              "Abdomen            80\n",
              "Cervical Spine     77\n",
              "Feet               70\n",
              "Pelvis             67\n",
              "Wrist              63\n",
              "Ankle              41\n",
              "Shoulder           40\n",
              "Lumbar Spine       39\n",
              "Elbow              23\n",
              "Sinus              23\n",
              "Lower Leg          19\n",
              "Hip                19\n",
              "Thoracic Spine     15\n",
              "Finger             15\n",
              "Forearm            12\n",
              "Skull              10\n",
              "Clavicles           9\n",
              "Thigh               7\n",
              "Name: Label, dtype: int64"
            ]
          },
          "execution_count": 42,
          "metadata": {},
          "output_type": "execute_result"
        }
      ],
      "source": [
        "train.Label.value_counts()\n"
      ]
    },
    {
      "cell_type": "code",
      "execution_count": null,
      "metadata": {},
      "outputs": [],
      "source": []
    }
  ],
  "metadata": {
    "colab": {
      "collapsed_sections": [],
      "name": "Cópia de Proj_CIS-Imagens-Raio_X.ipynb",
      "provenance": []
    },
    "kernelspec": {
      "display_name": "Python 3.9.12 ('base')",
      "language": "python",
      "name": "python3"
    },
    "language_info": {
      "codemirror_mode": {
        "name": "ipython",
        "version": 3
      },
      "file_extension": ".py",
      "mimetype": "text/x-python",
      "name": "python",
      "nbconvert_exporter": "python",
      "pygments_lexer": "ipython3",
      "version": "3.9.12"
    },
    "vscode": {
      "interpreter": {
        "hash": "27c25d6569ec02ceb42cea2c6f55d2b1508b2f5fa092368aff75373772ed8443"
      }
    }
  },
  "nbformat": 4,
  "nbformat_minor": 0
}
