{
  "cells": [
    {
      "cell_type": "markdown",
      "metadata": {
        "id": "view-in-github",
        "colab_type": "text"
      },
      "source": [
        "<a href=\"https://colab.research.google.com/github/LucasLessa1/X-rayBodyPart/blob/main/Proj_CIS_Imagens_Raio_X.ipynb\" target=\"_parent\"><img src=\"https://colab.research.google.com/assets/colab-badge.svg\" alt=\"Open In Colab\"/></a>"
      ]
    },
    {
      "cell_type": "markdown",
      "metadata": {
        "id": "lU48iA-hf04s"
      },
      "source": [
        "#Imports and Ajusting file\n"
      ]
    },
    {
      "cell_type": "markdown",
      "source": [
        "Proj_CIS_Imagens_Raio_X.ipynb"
      ],
      "metadata": {
        "id": "vdP-BQTpJ_qP"
      }
    },
    {
      "cell_type": "code",
      "execution_count": 54,
      "metadata": {
        "colab": {
          "base_uri": "https://localhost:8080/"
        },
        "id": "KY-thcKqQhmX",
        "outputId": "6a457142-a93e-41ad-f8a5-e7c8239d984c"
      },
      "outputs": [
        {
          "output_type": "stream",
          "name": "stdout",
          "text": [
            "Looking in indexes: https://pypi.org/simple, https://us-python.pkg.dev/colab-wheels/public/simple/\n",
            "Requirement already satisfied: pydicom in /usr/local/lib/python3.7/dist-packages (2.3.0)\n"
          ]
        }
      ],
      "source": [
        "#A instalação da biblioteca pydicom \n",
        "#Ela trata da leitura de arquivos de imagens de exames de Raio-X, que são feitos em formatos DCM \n",
        "\n",
        "!pip install pydicom"
      ]
    },
    {
      "cell_type": "code",
      "execution_count": 55,
      "metadata": {
        "id": "X75kHVXu3C8m"
      },
      "outputs": [],
      "source": [
        "###########################################################################\n",
        "#           Importanção de todos os pacotes utilizados                    # \n",
        "###########################################################################\n",
        "\n",
        "import cv2            #Tratamento de imagem \n",
        "import pydicom         #Tratamento de arquivo DCM \n",
        "import pandas as pd     #Préprocessamento em tabelas\n",
        "import os                #Pacote de tarefas de sistema operavional\n",
        "import shutil            #Complementar à anterior\n",
        "import time               #Medir tempo de execução \n",
        "import random              #Pacote para escolha de números de forma pseudo-aleatória \n",
        "import math                #Matemática \n",
        "import gdown                #Download de direitório salvo no Google Drive \n",
        "import zipfile               #Tratamento de arquivos em pasta zipadas\n",
        "import numpy as np            #Operações numéricas e matemáticas em 'arrays'\n",
        "from scipy.io import loadmat \n",
        "from matplotlib import pyplot     \n",
        "import matplotlib.pyplot as plt   #Visualização de arquivo \n",
        "from google.colab.patches import cv2_imshow    #Visualição de arquivo \n",
        "from tqdm import tqdm     #Barra de progresso\n",
        "from PIL import Image     #Operações com imagens \n",
        "import string             \n",
        "import glob             #Pacote de operações com múltiplos arquivos que possuam nome ou extensão em comum\n",
        "\n",
        "\n",
        "from numpy import expand_dims    #Expansão de dimensões do \"shape\" (formato) da imagem\n",
        "import tensorflow as tf          #Operações de vetores para o modelo de aprendizado profundo \n",
        "from tensorflow.keras.utils import load_img\n",
        "from tensorflow.keras.utils import img_to_array\n",
        "from tensorflow.keras.preprocessing.image import ImageDataGenerator"
      ]
    },
    {
      "cell_type": "code",
      "execution_count": 56,
      "metadata": {
        "id": "sqf48VqoeCqt"
      },
      "outputs": [],
      "source": [
        "###########################################################################\n",
        "#           Download e Extração dos arquivos originais                    # \n",
        "###########################################################################\n",
        "\n",
        "#Funções:\n",
        " \n",
        "def download(id): \n",
        "    url = 'https://drive.google.com/uc?id=' + str(id)\n",
        "    gdown.download(url, output = None, quiet = False)\n",
        "\n",
        "def unzip(path): #Função para unzip\n",
        "    zip = zipfile.ZipFile(path)\n",
        "    zip.extractall()\n",
        "    zip.close()"
      ]
    },
    {
      "cell_type": "code",
      "execution_count": 57,
      "metadata": {
        "colab": {
          "base_uri": "https://localhost:8080/"
        },
        "id": "CEFniMhVgyUh",
        "outputId": "fd38e30d-5cc7-48da-b5fe-3b5af8931459"
      },
      "outputs": [
        {
          "output_type": "stream",
          "name": "stderr",
          "text": [
            "Downloading...\n",
            "From: https://drive.google.com/uc?id=1ev-r31j8oRzDlKM_toaeADO2psrA_XXm\n",
            "To: /content/archive.zip\n",
            "100%|██████████| 269M/269M [00:01<00:00, 152MB/s]\n"
          ]
        }
      ],
      "source": [
        "#Chamando funções de Download e Extração \n",
        "\n",
        "# https://drive.google.com/file/d/1ev-r31j8oRzDlKM_toaeADO2psrA_XXm/view?usp=sharing\n",
        "\n",
        "download('1ev-r31j8oRzDlKM_toaeADO2psrA_XXm')\n",
        "unzip('/content/archive.zip')"
      ]
    },
    {
      "cell_type": "code",
      "execution_count": 58,
      "metadata": {
        "id": "PpL-tSErjuD6"
      },
      "outputs": [],
      "source": [
        "#leitura dos arquivos originais para obter tanto o dataset de treino quanto o dataset de teste, que servirá de prova real\n",
        "\n",
        "#os.chdir(\"/content/drive/MyDrive/RAIO-X/RAIO-X/archive.zip (Unzipped Files)\")\n",
        "path = os.getcwd() \n",
        "train_df = pd.read_csv('/content/train.csv')\n",
        "test_df = pd.read_csv(os.path.join('/content/sample_submission.csv'))"
      ]
    },
    {
      "cell_type": "code",
      "execution_count": 59,
      "metadata": {
        "id": "c8qRth9FkA5p",
        "colab": {
          "base_uri": "https://localhost:8080/",
          "height": 206
        },
        "outputId": "98c27abb-fc4c-456d-ea80-c7f1ba1b13f4"
      },
      "outputs": [
        {
          "output_type": "execute_result",
          "data": {
            "text/plain": [
              "                                      SOPInstanceUID  \\\n",
              "0  1.2.826.0.1.3680043.8.498.10001001190452685542...   \n",
              "1  1.2.826.0.1.3680043.8.498.10022667601042710442...   \n",
              "2  1.2.826.0.1.3680043.8.498.10024395388921105474...   \n",
              "3  1.2.826.0.1.3680043.8.498.10026689165626095651...   \n",
              "4  1.2.826.0.1.3680043.8.498.10035936364561920980...   \n",
              "\n",
              "                                              Target  \n",
              "0  0 1 2 3 4 5 6 7 8 9 10 11 12 13 14 15 16 17 18...  \n",
              "1  0 1 2 3 4 5 6 7 8 9 10 11 12 13 14 15 16 17 18...  \n",
              "2  0 1 2 3 4 5 6 7 8 9 10 11 12 13 14 15 16 17 18...  \n",
              "3  0 1 2 3 4 5 6 7 8 9 10 11 12 13 14 15 16 17 18...  \n",
              "4  0 1 2 3 4 5 6 7 8 9 10 11 12 13 14 15 16 17 18...  "
            ],
            "text/html": [
              "\n",
              "  <div id=\"df-84bea03e-a276-4031-91be-f00aaa983c47\">\n",
              "    <div class=\"colab-df-container\">\n",
              "      <div>\n",
              "<style scoped>\n",
              "    .dataframe tbody tr th:only-of-type {\n",
              "        vertical-align: middle;\n",
              "    }\n",
              "\n",
              "    .dataframe tbody tr th {\n",
              "        vertical-align: top;\n",
              "    }\n",
              "\n",
              "    .dataframe thead th {\n",
              "        text-align: right;\n",
              "    }\n",
              "</style>\n",
              "<table border=\"1\" class=\"dataframe\">\n",
              "  <thead>\n",
              "    <tr style=\"text-align: right;\">\n",
              "      <th></th>\n",
              "      <th>SOPInstanceUID</th>\n",
              "      <th>Target</th>\n",
              "    </tr>\n",
              "  </thead>\n",
              "  <tbody>\n",
              "    <tr>\n",
              "      <th>0</th>\n",
              "      <td>1.2.826.0.1.3680043.8.498.10001001190452685542...</td>\n",
              "      <td>0 1 2 3 4 5 6 7 8 9 10 11 12 13 14 15 16 17 18...</td>\n",
              "    </tr>\n",
              "    <tr>\n",
              "      <th>1</th>\n",
              "      <td>1.2.826.0.1.3680043.8.498.10022667601042710442...</td>\n",
              "      <td>0 1 2 3 4 5 6 7 8 9 10 11 12 13 14 15 16 17 18...</td>\n",
              "    </tr>\n",
              "    <tr>\n",
              "      <th>2</th>\n",
              "      <td>1.2.826.0.1.3680043.8.498.10024395388921105474...</td>\n",
              "      <td>0 1 2 3 4 5 6 7 8 9 10 11 12 13 14 15 16 17 18...</td>\n",
              "    </tr>\n",
              "    <tr>\n",
              "      <th>3</th>\n",
              "      <td>1.2.826.0.1.3680043.8.498.10026689165626095651...</td>\n",
              "      <td>0 1 2 3 4 5 6 7 8 9 10 11 12 13 14 15 16 17 18...</td>\n",
              "    </tr>\n",
              "    <tr>\n",
              "      <th>4</th>\n",
              "      <td>1.2.826.0.1.3680043.8.498.10035936364561920980...</td>\n",
              "      <td>0 1 2 3 4 5 6 7 8 9 10 11 12 13 14 15 16 17 18...</td>\n",
              "    </tr>\n",
              "  </tbody>\n",
              "</table>\n",
              "</div>\n",
              "      <button class=\"colab-df-convert\" onclick=\"convertToInteractive('df-84bea03e-a276-4031-91be-f00aaa983c47')\"\n",
              "              title=\"Convert this dataframe to an interactive table.\"\n",
              "              style=\"display:none;\">\n",
              "        \n",
              "  <svg xmlns=\"http://www.w3.org/2000/svg\" height=\"24px\"viewBox=\"0 0 24 24\"\n",
              "       width=\"24px\">\n",
              "    <path d=\"M0 0h24v24H0V0z\" fill=\"none\"/>\n",
              "    <path d=\"M18.56 5.44l.94 2.06.94-2.06 2.06-.94-2.06-.94-.94-2.06-.94 2.06-2.06.94zm-11 1L8.5 8.5l.94-2.06 2.06-.94-2.06-.94L8.5 2.5l-.94 2.06-2.06.94zm10 10l.94 2.06.94-2.06 2.06-.94-2.06-.94-.94-2.06-.94 2.06-2.06.94z\"/><path d=\"M17.41 7.96l-1.37-1.37c-.4-.4-.92-.59-1.43-.59-.52 0-1.04.2-1.43.59L10.3 9.45l-7.72 7.72c-.78.78-.78 2.05 0 2.83L4 21.41c.39.39.9.59 1.41.59.51 0 1.02-.2 1.41-.59l7.78-7.78 2.81-2.81c.8-.78.8-2.07 0-2.86zM5.41 20L4 18.59l7.72-7.72 1.47 1.35L5.41 20z\"/>\n",
              "  </svg>\n",
              "      </button>\n",
              "      \n",
              "  <style>\n",
              "    .colab-df-container {\n",
              "      display:flex;\n",
              "      flex-wrap:wrap;\n",
              "      gap: 12px;\n",
              "    }\n",
              "\n",
              "    .colab-df-convert {\n",
              "      background-color: #E8F0FE;\n",
              "      border: none;\n",
              "      border-radius: 50%;\n",
              "      cursor: pointer;\n",
              "      display: none;\n",
              "      fill: #1967D2;\n",
              "      height: 32px;\n",
              "      padding: 0 0 0 0;\n",
              "      width: 32px;\n",
              "    }\n",
              "\n",
              "    .colab-df-convert:hover {\n",
              "      background-color: #E2EBFA;\n",
              "      box-shadow: 0px 1px 2px rgba(60, 64, 67, 0.3), 0px 1px 3px 1px rgba(60, 64, 67, 0.15);\n",
              "      fill: #174EA6;\n",
              "    }\n",
              "\n",
              "    [theme=dark] .colab-df-convert {\n",
              "      background-color: #3B4455;\n",
              "      fill: #D2E3FC;\n",
              "    }\n",
              "\n",
              "    [theme=dark] .colab-df-convert:hover {\n",
              "      background-color: #434B5C;\n",
              "      box-shadow: 0px 1px 3px 1px rgba(0, 0, 0, 0.15);\n",
              "      filter: drop-shadow(0px 1px 2px rgba(0, 0, 0, 0.3));\n",
              "      fill: #FFFFFF;\n",
              "    }\n",
              "  </style>\n",
              "\n",
              "      <script>\n",
              "        const buttonEl =\n",
              "          document.querySelector('#df-84bea03e-a276-4031-91be-f00aaa983c47 button.colab-df-convert');\n",
              "        buttonEl.style.display =\n",
              "          google.colab.kernel.accessAllowed ? 'block' : 'none';\n",
              "\n",
              "        async function convertToInteractive(key) {\n",
              "          const element = document.querySelector('#df-84bea03e-a276-4031-91be-f00aaa983c47');\n",
              "          const dataTable =\n",
              "            await google.colab.kernel.invokeFunction('convertToInteractive',\n",
              "                                                     [key], {});\n",
              "          if (!dataTable) return;\n",
              "\n",
              "          const docLinkHtml = 'Like what you see? Visit the ' +\n",
              "            '<a target=\"_blank\" href=https://colab.research.google.com/notebooks/data_table.ipynb>data table notebook</a>'\n",
              "            + ' to learn more about interactive tables.';\n",
              "          element.innerHTML = '';\n",
              "          dataTable['output_type'] = 'display_data';\n",
              "          await google.colab.output.renderOutput(dataTable, element);\n",
              "          const docLink = document.createElement('div');\n",
              "          docLink.innerHTML = docLinkHtml;\n",
              "          element.appendChild(docLink);\n",
              "        }\n",
              "      </script>\n",
              "    </div>\n",
              "  </div>\n",
              "  "
            ]
          },
          "metadata": {},
          "execution_count": 59
        }
      ],
      "source": [
        "test_df.head(5)"
      ]
    },
    {
      "cell_type": "markdown",
      "metadata": {
        "id": "qd9hejxZkD94"
      },
      "source": [
        "#Pre-processing"
      ]
    },
    {
      "cell_type": "code",
      "execution_count": 60,
      "metadata": {
        "id": "0IQpmWP3kIhQ",
        "colab": {
          "base_uri": "https://localhost:8080/"
        },
        "outputId": "5cecb7b6-8b45-442f-ccfa-f9e3b6dfea90"
      },
      "outputs": [
        {
          "output_type": "stream",
          "name": "stdout",
          "text": [
            "Columns:\n",
            "Index(['SOPInstanceUID', 'Target'], dtype='object') \n",
            "\n",
            "Types in columns:\n",
            "SOPInstanceUID    object\n",
            "Target            object\n",
            "dtype: object \n",
            "\n",
            "Types in info:\n",
            "                                           SOPInstanceUID Target\n",
            "count                                                1738   1738\n",
            "unique                                               1738     41\n",
            "top     1.2.826.0.1.3680043.8.498.10025629581362719970...     3 \n",
            "freq                                                    1    724 \n",
            "\n"
          ]
        }
      ],
      "source": [
        "#Confere propriedades de formato e conteudo do Pandas Dataset \n",
        "print(\"Columns:\")\n",
        "print(train_df.columns, \"\\n\")\n",
        "\n",
        "print(\"Types in columns:\")\n",
        "print(train_df.dtypes, \"\\n\")\n",
        "\n",
        "print(\"Types in info:\")\n",
        "print(train_df.describe(), \"\\n\")"
      ]
    },
    {
      "cell_type": "code",
      "source": [
        "#Distribuição das labels em formato de dicionário com a chave sendo número e o valor sendo o nome da label em texto \n",
        "\n",
        "bodyparts = {\n",
        "0 : 'Abdomen' ,\n",
        "1 :'Ankle' ,\n",
        "2 :'Cervical Spine',\n",
        "3 : 'Chest' ,\n",
        "4 :'Clavicles' ,\n",
        "5 :'Elbow' ,\n",
        "6 :'Feet' ,\n",
        "7 : 'Finger' ,\n",
        "8 : 'Forearm' ,\n",
        "9 : 'Hand' ,\n",
        "10 : 'Hip' ,\n",
        "11 : 'Knee' ,\n",
        "12 : 'Lower Leg' ,\n",
        "13 : 'Lumbar Spine' ,\n",
        "14 : 'Others' ,\n",
        "15 :'Pelvis',\n",
        "16 :'Shoulder' ,\n",
        "17 :'Sinus' ,\n",
        "18 : 'Skull' ,\n",
        "19 : 'Thigh' ,\n",
        "20 :'Thoracic Spine',\n",
        "21: 'Wrist',\n",
        "}"
      ],
      "metadata": {
        "id": "YCh3lR7WCsME"
      },
      "execution_count": 61,
      "outputs": []
    },
    {
      "cell_type": "markdown",
      "metadata": {
        "id": "hk9Kily5l8fI"
      },
      "source": [
        "##Fixing folders"
      ]
    },
    {
      "cell_type": "code",
      "source": [
        "info = []"
      ],
      "metadata": {
        "id": "8nxIWWkloUir"
      },
      "execution_count": 62,
      "outputs": []
    },
    {
      "cell_type": "code",
      "execution_count": 63,
      "metadata": {
        "id": "0Z0LwdkVoI3l"
      },
      "outputs": [],
      "source": [
        "#Classe de processamento de imagem que mexe com pastas também -começa declarando variaveis de modificação de imagem \n",
        "class Image_processing():\n",
        "  def __init__(self, folder, newFolder):\n",
        "    self.fileList = []\n",
        "    self.rotationRange = 90 \n",
        "    self.brightRange = [0.2, 1.5]\n",
        "    self.folder = folder #This is the folder of the original folder image\n",
        "    self.newFolder = newFolder #This is the new folder\n",
        "\n",
        "#constroi pastas para cada label\n",
        "  def createfolders(self):\n",
        "    os.mkdir(f'/content/{self.newFolder}/') \n",
        "    #os.chdir(f'/content/{self.newFolder}') \n",
        "    for bodypart in list(bodyparts.values()):\n",
        "      if os.path.isdir(f'/content/{self.newFolder}/{bodypart}') == False:\n",
        "        os.mkdir(f'/content/{self.newFolder}/{bodypart}')\n",
        "      else:  \n",
        "          pass       \n",
        "#Coloca cada imagem do arquivo original \"train/train/train\" em uma pasta especifica de cada label para fins de treino do modelo \n",
        "  def folderImagebyLabel(self, df, dictionary):\n",
        "    filelist = []\n",
        "    #anda por todos os diretorios e arquivos de \"train/train/train\"\n",
        "    for root, dirs, files in os.walk(f'/content/{str(self.folder)}'):\n",
        "      for file in files:\n",
        "        filelist.append(os.path.join(root,file))\n",
        "\n",
        "    for filename in filelist:\n",
        "      #Lê os arquivos de formato DCM por meio da biblioteca apropriada\n",
        "      dicom = pydicom.dcmread(filename)\n",
        "      #Transforma a imagem em numpy array \n",
        "      img = dicom.pixel_array\n",
        "      #Separa seu nome por cada barra - o nome sendo identificador_de_estudo/identificador_de_serie_de_exames/identificador_unico_de_imagem \n",
        "      var = filename.split(\"/\")\n",
        "      #Pega o último termo que foi separado - identificador unico\n",
        "      var = var[-1]\n",
        "      #Vai atrás do arquivo no dataframe formado para econtrar sua label específica; omiti deste identficador o \"-c.dcm\"(extensão do arquivo)\n",
        "      row = df.index[df['SOPInstanceUID']==f'{var[:-6]}'].tolist()\n",
        "      #Guarda a label\n",
        "      target = df['Target'].iloc[row[0]]\n",
        "      #Aqui nós arbitrariamente não utilizamos imagens com mais de uma label para não prejudicar o aprendizado do modelo\n",
        "      if len(target.strip()) > 2: \n",
        "        continue\n",
        "      #Encontra o nome da label baseada no número da coluna do dataframe conferindo no dicionário já feito\n",
        "      label = dictionary.get(int(target))\n",
        "      #Passo importante de formatar a imagem numa amplitude de pixels comumente aceita nas funções de processamento de imagem \n",
        "      resized_img  = (np.maximum(img,0)/img.max())*255 \n",
        "      #Transforma em formato 8 bits pelo mesmo motivo \n",
        "      im = resized_img.astype(np.uint8)\n",
        "      # Chama classe CLAHE(equaliador de brilho) -argumentos: valor máximo para limitação do contraste(evitar predominancia de sinal ruim), tamanho dos grides de divisão de imagem para se aplicar o processo\n",
        "      clahe = cv2.createCLAHE(clipLimit=3.0, tileGridSize=(8,8))\n",
        "      # Aplica no canal que importa- a luminosidade\n",
        "      clahe_img = clahe.apply(im)\n",
        "      #Volta a colocá-lo em numpy array \n",
        "      im = Image.fromarray(clahe_img)\n",
        "      im.show()\n",
        "      #Salva imagem em formato PNG \n",
        "      im.save(os.path.join(f'/content/{self.newFolder}', f'{label}', f'{var[:-6]}.png'))\n",
        "\n",
        "  #Este método coloca todas as imagens do diretório \"train/train/train\" misturada em um pasta só para fins de testagem do modelo (mesmo processo)\n",
        "  def allImagesFolder(self, df):\n",
        "    filelist = []\n",
        "    for root, dirs, files in os.walk(f'/content/{str(self.folder)}'):\n",
        "      for file in files:\n",
        "        filelist.append(os.path.join(root,file))\n",
        "\n",
        "    for filename in filelist:\n",
        "      dicom = pydicom.dcmread(filename)\n",
        "      img = dicom.pixel_array\n",
        "      var = filename.split(\"/\")\n",
        "      var = var[-1]\n",
        "      row = df.index[df['SOPInstanceUID']==f'{var[:-6]}'].tolist()\n",
        "      resized_img  = (np.maximum(img,0)/img.max())*255 \n",
        "      im = resized_img.astype(np.uint8)\n",
        "      clahe = cv2.createCLAHE(clipLimit=3.0, tileGridSize=(8,8))\n",
        "      clahe_img = clahe.apply(im)\n",
        "      im = Image.fromarray(clahe_img)\n",
        "      im.show()\n",
        "      im.save(os.path.join(f'/content/{self.newFolder}/', f'{var[:-6]}.png'))\n",
        "\n",
        "\n",
        " "
      ]
    },
    {
      "cell_type": "code",
      "source": [
        "#Organize the test images folder\n",
        "# 856vbnm\n",
        "nameFolderTest = \"test_img\"\n",
        "#Chama a classe\n",
        "processImageTest = Image_processing(folder='test', newFolder = nameFolderTest)\n",
        "\n",
        "#Testa se seus metodos de criação de pasta e modificação de arquivos já foram rodados, se não o código as rodará agora para formar a pasta de teste \n",
        "try:\n",
        "  os.mkdir(f'/content/{nameFolderTest}')\n",
        "  processImageTest.allImagesFolder(train_df)\n",
        "\n",
        "except:\n",
        "  shutil.rmtree(f'/content/{nameFolderTest}/')\n",
        "  os.mkdir(f'/content/{nameFolderTest}')\n",
        "  processImageTest.allImagesFolder(train_df)\n"
      ],
      "metadata": {
        "id": "v45QZzKw_cTc"
      },
      "execution_count": 64,
      "outputs": []
    },
    {
      "cell_type": "code",
      "source": [
        "#Organize the train images folder\n",
        "nameFolderTrain = \"train_img\"\n",
        "processImageTrain = Image_processing(folder='train', newFolder = nameFolderTrain)\n",
        "\n",
        "#Testa se seus metodos de criação de pasta e modificação de arquivos já foram rodados, se não o código as rodará agora para formar a pasta de treino\n",
        "try:\n",
        "  processImageTrain.createfolders()\n",
        "  #This \"train\" is the name of the original folder of the images\n",
        "  processImageTrain.folderImagebyLabel(train_df, bodyparts)\n",
        "except:\n",
        "  shutil.rmtree(f'/content/{nameFolderTrain}/')\n",
        "  processImageTrain.createfolders()\n",
        "  processImageTrain.folderImagebyLabel(train_df, bodyparts)\n"
      ],
      "metadata": {
        "id": "n4V9OW0-PdNf"
      },
      "execution_count": 65,
      "outputs": []
    },
    {
      "cell_type": "code",
      "source": [
        "#Classe do data augmentation propriamente dito que vai herdar as propriedades da classe anterior \n",
        "class Data_Augumentation(Image_processing):\n",
        "\n",
        "  def __init__(self, folder, newFolder, folder_img):\n",
        "    #super().__init__() chama as propriedades da classe superior ao colocar os argumentos necessários para rodar aquela classe\n",
        "    super().__init__(folder, newFolder)\n",
        "    # Image_processing.__init__(self, folder, newFolder)\n",
        "    self.folder_img = folder_img\n",
        "    self.nameImage = []\n",
        "\n",
        "\n",
        " #Este método cria imagens artificias baseada na necessidade de mais imagens a fim de se ter o mesmo número de imagens requisitadas em cada label\n",
        "  def process_imgs(self, qntd = 100):\n",
        "    for folder in os.listdir(f'/content/{self.folder_img}'):\n",
        "      #real_qntd é a quantidade de imagens de exames reais\n",
        "      real_qntd = len(os.listdir(f'/content/{self.folder_img}/{folder}'))\n",
        "      diff = qntd - real_qntd\n",
        "      #Aqui se compara se temos mais imagens do que precisamos ou menos \n",
        "      if qntd > real_qntd: \n",
        "        #A quantidade que temos tem que ser maior do que a diferença\n",
        "        #Porque num fator de uma imagem artificial para uma original conseguimos apenas dobrar a quantidade original \n",
        "        if real_qntd >= diff:\n",
        "          #exams  = lista de arquivos sorteados de imagens para cara pasta de label \n",
        "          exams = random.choices(os.listdir(f'/content/{self.folder_img}/{folder}'), k= diff)\n",
        "          self.augment(folder, exams, 1)\n",
        "        else:\n",
        "          #Precisamos de imagens adicionais em quantas vezes mais do que já temos?\n",
        "          for i in range(100):\n",
        "            check = real_qntd + real_qntd*i\n",
        "            if check > qntd: \n",
        "              break\n",
        "            multiplier = i\n",
        "            diff_mult = qntd - check\n",
        "            \n",
        "          #De cada uma imagem original vamos pegar x vezes para aproximar do requerido \n",
        "          exams = [x for x in os.listdir(f'/content/{self.folder_img}/{folder}') if x.find(\"copy\") == -1 ]\n",
        "          self.augment(folder, exams, multiplier)\n",
        "          #Aqui pegamos por sorteio o resto que escapa do multiplo\n",
        "          if diff_mult>0:\n",
        "            exams = [x for x in os.listdir(f'/content/{self.folder_img}/{folder}') if x.find(\"copy\") == -1 ]\n",
        "            exams = random.choices(exams, k= diff_mult)\n",
        "            self.augment(folder, exams, 1)\n",
        "          \n",
        "          \n",
        "      #Caso se tenha mais imagens originais do que o requisitado, nos desfazemos das imagens em excesso por meio de sorteio também\n",
        "      elif real_qntd > qntd:\n",
        "        diff = (real_qntd-qntd)\n",
        "        sorteados = glob.glob(f'/content/{self.folder_img}/{folder}/*')\n",
        "        for s in random.sample(sorteados, diff):\n",
        "          os.remove(s)\n",
        "\n",
        "\n",
        "  def augment(self, folder, exams, limit):\n",
        "    #folder = nome que eu dei para pasta da label (ex : skull)\n",
        "    #exams  = lista de arquivos de imagens para cara pasta de label \n",
        "    #limit = quantidade de imagens artificias criadas a partir da original\n",
        "    \n",
        "    cont1 = -1\n",
        "    for exam in exams: \n",
        "      #Transfere os elementos de uma lista para outra para fins de organização\n",
        "      self.nameImage.append(exam)\n",
        "      #Carrega a imagem \n",
        "      img = load_img(f'/content/{self.folder_img}/{folder}/{exam}')\n",
        "      #Transforma em numpy array \n",
        "      data = img_to_array(img)\n",
        "      #Acrescenta uma dimenção no \"shape\" da imagem referente ao batch - que será tamanho 1, o que não muda nada e serve apenas para rodar a função\n",
        "      samples = expand_dims(data, 0)\n",
        "      #Chama gerador de imagens utilizando dos argumentos de alteração de imagens - superficiais, mas o suficiente para confundir o modelo de aprendizado...\n",
        "      #... e semelhante o suficiente para não desfazer os formatos essenciais de partes do corpo humano que serão analisadas \n",
        "      datagen = ImageDataGenerator(horizontal_flip=True,rotation_range = self.rotationRange, brightness_range = self.brightRange)\n",
        "      #Prepara o iterador \n",
        "      it = datagen.flow(samples, batch_size=1)\n",
        "      cont1 =+ 1\n",
        "      #Esta variável é uma \"compreensão de lista\" que verifica se a imagem não é uma duplicata ao olhar a lista \"self.nameImage\", que serve de histórico\n",
        "      dup = [x for i, x in enumerate(self.nameImage) if i != self.nameImage.index(x)]\n",
        "      # print(dup)\n",
        "\n",
        "      #Em caso de duplicata, é colocado é escrito em seu nome que trata-se de repetição e um identificador aleatório \n",
        "      if len(dup) > 0:\n",
        "        equalDup = \"_repeted_\" + str(random.randint(-9999,9999))\n",
        "      else:\n",
        "        equalDup = \"\"\n",
        "        \n",
        "      for cont in range(limit):\n",
        "        # Aqui trata-se do processo de adequação da imagem nos formatos necessários e salvá-la com nome único para evitar sobrescrição dos arquivos\n",
        "        batch = it.next()\n",
        "        image = batch[0].astype('uint16')\n",
        "        resized_img  = (np.maximum(image,0)/image.max())*255 \n",
        "        im = Image.fromarray(resized_img.astype(np.uint8))\n",
        "        rand = random.randint(-9999,9999)\n",
        "        info.append(f'/content/{self.folder_img}/{folder}/{exam[:-4]}_copy_{cont1}_{cont}.png')\n",
        "        im.save(f'/content/{self.folder_img}/{folder}/{exam[:-4]}_{equalDup}_copy_{cont1}_{cont}.png')\n"
      ],
      "metadata": {
        "id": "Gsed_3Jp4kdA"
      },
      "execution_count": 78,
      "outputs": []
    },
    {
      "cell_type": "code",
      "source": [
        "#Augumented for Train image\n",
        "\n",
        "#Esta função ja pode ser chamada sem muita discrição por conseguir se repetir sem deixar rastros, diferentes das prévias que mexem com pastas\n",
        "AugumentedTrain  =  Data_Augumentation(folder='train', newFolder = nameFolderTrain, folder_img = \"train_img\")\n",
        "AugumentedTrain.process_imgs()\n",
        "\n",
        "# #Augumented for Train image\n",
        "# AugumentedTest  =  Data_Augumentation(folder='test', newFolder = nameFolderTest, folder_img = \"test_img\")\n",
        "# AugumentedTest.process_imgs()"
      ],
      "metadata": {
        "id": "UoiUwPBiWc87"
      },
      "execution_count": 79,
      "outputs": []
    },
    {
      "cell_type": "code",
      "source": [
        "for files in os.listdir('/content/train_img'):\n",
        "  print(files)\n",
        "  print(len(os.listdir(f'/content/train_img/{files}')))"
      ],
      "metadata": {
        "colab": {
          "base_uri": "https://localhost:8080/"
        },
        "id": "ZjnXVpK5erpo",
        "outputId": "699ac0ac-10cd-44e2-bc30-168d4d00a4bd"
      },
      "execution_count": 80,
      "outputs": [
        {
          "output_type": "stream",
          "name": "stdout",
          "text": [
            "Pelvis\n",
            "100\n",
            "Skull\n",
            "100\n",
            "Lower Leg\n",
            "100\n",
            "Sinus\n",
            "100\n",
            "Thigh\n",
            "100\n",
            "Chest\n",
            "100\n",
            "Feet\n",
            "100\n",
            "Ankle\n",
            "100\n",
            "Forearm\n",
            "100\n",
            "Hand\n",
            "100\n",
            "Hip\n",
            "100\n",
            "Knee\n",
            "100\n",
            "Thoracic Spine\n",
            "100\n",
            "Clavicles\n",
            "100\n",
            "Cervical Spine\n",
            "100\n",
            "Others\n",
            "100\n",
            "Finger\n",
            "100\n",
            "Lumbar Spine\n",
            "100\n",
            "Abdomen\n",
            "100\n",
            "Elbow\n",
            "100\n",
            "Wrist\n",
            "100\n",
            "Shoulder\n",
            "100\n"
          ]
        }
      ]
    },
    {
      "cell_type": "code",
      "source": [
        "7963dfgvbnvcx"
      ],
      "metadata": {
        "colab": {
          "base_uri": "https://localhost:8080/",
          "height": 130
        },
        "id": "cqVkdoX11skH",
        "outputId": "e8e99f61-0607-492a-891e-e0f1cdc2e224"
      },
      "execution_count": 69,
      "outputs": [
        {
          "output_type": "error",
          "ename": "SyntaxError",
          "evalue": "ignored",
          "traceback": [
            "\u001b[0;36m  File \u001b[0;32m\"<ipython-input-69-ec6ff99a8869>\"\u001b[0;36m, line \u001b[0;32m1\u001b[0m\n\u001b[0;31m    7963dfgvbnvcx\u001b[0m\n\u001b[0m                ^\u001b[0m\n\u001b[0;31mSyntaxError\u001b[0m\u001b[0;31m:\u001b[0m invalid syntax\n"
          ]
        }
      ]
    },
    {
      "cell_type": "code",
      "source": [
        "#Esta classe irá criar outro diretório para todos os arquivos serem colocados juntos \n",
        "class SelectFolders():\n",
        "#Declaram-se as variáveis iniciais baseados em caminhos de pasta e quantidade de imagens requeridas por input \n",
        "  def __init__(self, mainPath, root, qntd):\n",
        "    self.mainPath = mainPath\n",
        "    self.qntdImages = qntd\n",
        "    self.listNames = []\n",
        "    self.flag = []\n",
        "    self.rootPath = root\n",
        "  \n",
        "  #Verifica a quantidade de cada arquivo em cada pasta \n",
        "  def verify(self, folder2verify, order):\n",
        "    for files in os.listdir(folder2verify):\n",
        "      self.listNames.append([files, len(os.listdir(f'{folder2verify}/{files}')) ])\n",
        "      #Verifica lista listNames que possui os nomes das pastas de labels e o numeros de arquivos nelas\n",
        "\n",
        "    for i in self.listNames:\n",
        "      if i[1] > self.qntdImages:\n",
        "        #False se tiver pastas com menos de 100 imagens ou menos que self.qntdImages\n",
        "        #A lista flag quarda o valor de falos, e em seguida o nome da pasta da label e o numero de imagens nele \n",
        "        self.flag.append([False, i[0], i[1]])\n",
        "    #Printa a lista se requisitado \n",
        "    if order == \"print\":\n",
        "      print(self.flag)\n",
        "    if order ==\"result\":\n",
        "      flagzinha = False\n",
        "      #zip faz uma tupla de tuplas de todos o primeiros, segundos e terceiros elementos \n",
        "      for i in zip(self.flag): \n",
        "        if i[0] ==True:\n",
        "          print(f\"Error: The folder {i[1]} has {i[2]} Images.\")\n",
        "        else:\n",
        "          flagzinha = True\n",
        "\n",
        "      if flagzinha == True: \n",
        "        print(f\"Every folder has more than {self.qntdImages} Images.\")\n",
        "\n",
        "  #Este metódo constrói pasta uma pasta com pasta de labels a semelhança do que já foi feito \n",
        "  #Mas antes será verificado se isso já não foi feito \n",
        "  def folder2Model(self, path, qntd , bodyparts): \n",
        "    try:\n",
        "      os.mkdir(f\"{self.rootPath}/{path}\")\n",
        "      print(self.rootPath)\n",
        "      print(path)\n",
        "    except:\n",
        "      shutil.rmtree(f\"{self.rootPath}/{path}\")\n",
        "      os.mkdir(f\"{self.rootPath}/{path}\")\n",
        "\n",
        "    #Para cada label em formato de texto é verificado se já existe uma pasta\n",
        "    for part in list(bodyparts.values()):\n",
        "      if os.path.isdir(f\"{self.rootPath}/{path}/{part}\") == False:\n",
        "        os.mkdir(f\"{self.rootPath}/{path}/{part}\")\n",
        "      #Seleciona 'x' imagens de uma pasta de label e copia para imageModel\n",
        "      selectImages = random.choices(os.listdir(f'{self.mainPath}/{part}'), k= qntd)\n",
        "\n",
        "      for image in selectImages:\n",
        "        pathImageModel = f\"{self.rootPath}/{path}/{part}\"\n",
        "        originalPathImages = f'{self.mainPath}/{part}/{image}'\n",
        "        # print(originalPathImages)\n",
        "        shutil.copy(originalPathImages, pathImageModel)\n"
      ],
      "metadata": {
        "id": "GyC4qq5UcHbf"
      },
      "execution_count": null,
      "outputs": []
    },
    {
      "cell_type": "code",
      "source": [
        "fix2 = SelectFolders(\"/content/train_img\", \"/content\" ,  100)\n",
        "path = \"imageModel/\"\n",
        "#Verify if train_img has more than 100 images \n",
        "fix2.verify( \"/content/train_img\" ,\"result\")\n",
        "\n",
        "#Organizing the folder for the model\n",
        "fix2.folder2Model(path, 100, bodyparts)\n",
        "\n",
        "#Verify if imageModel has 100 images for each folder \n",
        "print()\n",
        "fix2.verify(\"/content/imageModel\" ,\"result\")"
      ],
      "metadata": {
        "id": "AS05CxHYh7vW"
      },
      "execution_count": null,
      "outputs": []
    },
    {
      "cell_type": "markdown",
      "source": [
        "# Model"
      ],
      "metadata": {
        "id": "e6MTXoa1i_w5"
      }
    },
    {
      "cell_type": "code",
      "source": [
        "#Selecionando tamanho da template\n",
        "batch_size = 32  \n",
        "img_height = 180 \n",
        "img_width = 180\n",
        "\n",
        "data_dir = \"/content/train_img\""
      ],
      "metadata": {
        "id": "Nhuc2rXIj1OB"
      },
      "execution_count": null,
      "outputs": []
    },
    {
      "cell_type": "code",
      "source": [
        "#Constrói um tensorflow dataset para poder ser colocado no modelo da biblioteca Keras \n",
        "train_ds = tf.keras.utils.image_dataset_from_directory(\n",
        "  data_dir,\n",
        "  validation_split=0.2, #Parte destinada aum dataset de validação \n",
        "  subset=\"training\",\n",
        "  seed=123, #senha da randomização do processo \n",
        "  image_size=(img_height, img_width), #\"shape\" do arquivo\n",
        "  batch_size=batch_size)\n"
      ],
      "metadata": {
        "id": "MngoN3LFjbrX"
      },
      "execution_count": null,
      "outputs": []
    },
    {
      "cell_type": "code",
      "source": [
        "#Constrói um tensorflow dataset para poder ser colocado no modelo da biblioteca Keras \n",
        "val_ds = tf.keras.utils.image_dataset_from_directory(\n",
        "  data_dir,\n",
        "  validation_split=0.2,\n",
        "  subset=\"validation\",\n",
        "  seed=123,\n",
        "  image_size=(img_height, img_width),\n",
        "  batch_size=batch_size)"
      ],
      "metadata": {
        "id": "vGpU9RawjgLh"
      },
      "execution_count": null,
      "outputs": []
    },
    {
      "cell_type": "code",
      "source": [
        "for files in os.listdir('/content/train_img'):\n",
        "  print(files)\n",
        "  print(len(os.listdir(f'/content/train_img/{files}')))"
      ],
      "metadata": {
        "id": "fU6vecZz-1_X"
      },
      "execution_count": null,
      "outputs": []
    },
    {
      "cell_type": "markdown",
      "source": [
        "## Extra"
      ],
      "metadata": {
        "id": "SHe_tRFokskR"
      }
    },
    {
      "cell_type": "code",
      "source": [
        "class_names = train_ds.class_names\n",
        "#print(class_names)"
      ],
      "metadata": {
        "id": "giL20nRqkjmB"
      },
      "execution_count": null,
      "outputs": []
    },
    {
      "cell_type": "code",
      "source": [
        "import matplotlib.pyplot as plt\n",
        "\n",
        "#print primeiras imagens (primeiro batch) do gerador \n",
        "plt.figure(figsize=(10, 10))\n",
        "for images, labels in train_ds.take(1):\n",
        "  for i in range(9):\n",
        "    ax = plt.subplot(3, 3, i + 1)\n",
        "    plt.imshow(images[i].numpy().astype(\"uint8\"))\n",
        "    plt.title(class_names[labels[i]])\n",
        "    plt.axis(\"off\")"
      ],
      "metadata": {
        "id": "fasPiATEkMXp"
      },
      "execution_count": null,
      "outputs": []
    },
    {
      "cell_type": "code",
      "source": [
        "#Conferindo \"shape\" - ou formato \n",
        "for image_batch, labels_batch in train_ds:\n",
        "  print(image_batch.shape)\n",
        "  print(labels_batch.shape)\n",
        "  break"
      ],
      "metadata": {
        "id": "6wwAyrKbkQf7"
      },
      "execution_count": null,
      "outputs": []
    },
    {
      "cell_type": "code",
      "source": [
        "#Conferindo \"shape\" - ou formato \n",
        "for image_batch, labels_batch in val_ds:\n",
        "  print(image_batch.shape)\n",
        "  print(labels_batch.shape)\n",
        "  break"
      ],
      "metadata": {
        "id": "OmVSAVVxMXEk"
      },
      "execution_count": null,
      "outputs": []
    },
    {
      "cell_type": "markdown",
      "source": [
        "## Implementing Model"
      ],
      "metadata": {
        "id": "KTIfFsT5kxeB"
      }
    },
    {
      "cell_type": "code",
      "source": [
        "import tensorflow.keras as K"
      ],
      "metadata": {
        "id": "BHyNGzaAkvMe"
      },
      "execution_count": null,
      "outputs": []
    },
    {
      "cell_type": "code",
      "source": [
        "input_m = K.Input(shape=(180, 180, 3))\n",
        "res_model = K.applications.ResNet50(include_top=False,\n",
        "                                    weights=\"imagenet\",\n",
        "                                    input_tensor=input_m)"
      ],
      "metadata": {
        "id": "uF03vaBt3LHe"
      },
      "execution_count": null,
      "outputs": []
    },
    {
      "cell_type": "code",
      "source": [
        "for layer in res_model.layers[:143]:\n",
        "  layer.trainable = False"
      ],
      "metadata": {
        "id": "jfiaQU6i3aeb"
      },
      "execution_count": null,
      "outputs": []
    },
    {
      "cell_type": "code",
      "source": [
        "# for i, layer in enumerate(res_model.layers):\n",
        "#   print(i, layer.name, \"-\", layer.trainable)"
      ],
      "metadata": {
        "id": "7lXhcgoT3iaV"
      },
      "execution_count": null,
      "outputs": []
    },
    {
      "cell_type": "code",
      "source": [
        "model = K.models.Sequential()\n",
        "model.add(res_model)\n",
        "model.add(K.layers.Flatten())\n",
        "model.add(K.layers.Dense(10, activation='softmax'))"
      ],
      "metadata": {
        "id": "WwzpHvo-3uVd"
      },
      "execution_count": null,
      "outputs": []
    },
    {
      "cell_type": "code",
      "source": [
        "check_point = K.callbacks.ModelCheckpoint(filepath=\"paradinha_modelo.h5\",\n",
        "                                          monitor=\"val_acc\",\n",
        "                                          mode=\"max\",\n",
        "                                          save_best_only=True)"
      ],
      "metadata": {
        "id": "kS_K-wbD395i"
      },
      "execution_count": null,
      "outputs": []
    },
    {
      "cell_type": "code",
      "source": [
        "# model.compile(loss='categorical_crossentropy',\n",
        "#               optimizer=K.optimizers.RMSprop(lr=2e-5),\n",
        "#               metrics=['acuracy'])\n",
        "\n",
        "# history = model.fit(train_ds, batch_size=32, epochs=10, verbose=1,\n",
        "#                     validation_data=val_ds,\n",
        "#                     callbacks=[check_point])\n",
        "\n",
        "# model.summary()\n",
        "# model.save('modelo1.h5')"
      ],
      "metadata": {
        "id": "GLUnwDiR4Kqy"
      },
      "execution_count": null,
      "outputs": []
    }
  ],
  "metadata": {
    "colab": {
      "collapsed_sections": [],
      "provenance": [],
      "include_colab_link": true
    },
    "kernelspec": {
      "display_name": "Python 3.9.0 32-bit",
      "language": "python",
      "name": "python3"
    },
    "language_info": {
      "name": "python",
      "version": "3.9.0"
    },
    "vscode": {
      "interpreter": {
        "hash": "5b76773ed08602836185ee19b6a28a35c7b52ddebf734b2b96c5aebf91a1aa12"
      }
    }
  },
  "nbformat": 4,
  "nbformat_minor": 0
}