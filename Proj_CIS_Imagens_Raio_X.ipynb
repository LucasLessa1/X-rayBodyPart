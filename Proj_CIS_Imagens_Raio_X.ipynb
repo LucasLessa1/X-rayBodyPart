{
  "cells": [
    {
      "cell_type": "markdown",
      "metadata": {
        "id": "lU48iA-hf04s"
      },
      "source": [
        "#Imports and Ajusting file\n"
      ]
    },
    {
      "cell_type": "markdown",
      "source": [
        "Proj_CIS_Imagens_Raio_X.ipynb"
      ],
      "metadata": {
        "id": "vdP-BQTpJ_qP"
      }
    },
    {
      "cell_type": "code",
      "execution_count": 1,
      "metadata": {
        "colab": {
          "base_uri": "https://localhost:8080/"
        },
        "id": "KY-thcKqQhmX",
        "outputId": "6b384868-57f2-426e-f77c-a959b01b82ab"
      },
      "outputs": [
        {
          "output_type": "stream",
          "name": "stdout",
          "text": [
            "Looking in indexes: https://pypi.org/simple, https://us-python.pkg.dev/colab-wheels/public/simple/\n",
            "Collecting pydicom\n",
            "  Downloading pydicom-2.3.0-py3-none-any.whl (2.0 MB)\n",
            "\u001b[K     |████████████████████████████████| 2.0 MB 8.0 MB/s \n",
            "\u001b[?25hInstalling collected packages: pydicom\n",
            "Successfully installed pydicom-2.3.0\n"
          ]
        }
      ],
      "source": [
        "pip install pydicom"
      ]
    },
    {
      "cell_type": "code",
      "execution_count": 2,
      "metadata": {
        "id": "X75kHVXu3C8m"
      },
      "outputs": [],
      "source": [
        "import cv2\n",
        "import pydicom\n",
        "import pandas as pd\n",
        "import os\n",
        "import shutil\n",
        "import time\n",
        "import math\n",
        "import gdown\n",
        "import zipfile\n",
        "import numpy as np\n",
        "from scipy.io import loadmat\n",
        "import matplotlib.pyplot as plt\n",
        "from google.colab.patches import cv2_imshow\n",
        "from tqdm import tqdm\n",
        "import os\n",
        "from PIL import Image\n",
        "from google.colab.patches import cv2_imshow\n",
        "import string\n",
        "import glob"
      ]
    },
    {
      "cell_type": "code",
      "execution_count": 3,
      "metadata": {
        "id": "sqf48VqoeCqt"
      },
      "outputs": [],
      "source": [
        "def download(id): \n",
        "    url = 'https://drive.google.com/uc?id=' + str(id)\n",
        "    gdown.download(url, output = None, quiet = False)\n",
        "\n",
        "def unzip(path): #Função para unzip\n",
        "    zip = zipfile.ZipFile(path)\n",
        "    zip.extractall()\n",
        "    zip.close()"
      ]
    },
    {
      "cell_type": "code",
      "execution_count": 4,
      "metadata": {
        "colab": {
          "base_uri": "https://localhost:8080/"
        },
        "id": "CEFniMhVgyUh",
        "outputId": "1166f6b5-7e46-46e4-e058-015bf9a8b6f6"
      },
      "outputs": [
        {
          "output_type": "stream",
          "name": "stderr",
          "text": [
            "Downloading...\n",
            "From: https://drive.google.com/uc?id=1ev-r31j8oRzDlKM_toaeADO2psrA_XXm\n",
            "To: /content/archive.zip\n",
            "100%|██████████| 269M/269M [00:01<00:00, 152MB/s]\n"
          ]
        }
      ],
      "source": [
        "# https://drive.google.com/file/d/1ev-r31j8oRzDlKM_toaeADO2psrA_XXm/view?usp=sharing\n",
        "\n",
        "download('1ev-r31j8oRzDlKM_toaeADO2psrA_XXm')\n",
        "unzip('/content/archive.zip')"
      ]
    },
    {
      "cell_type": "code",
      "execution_count": 5,
      "metadata": {
        "id": "PpL-tSErjuD6"
      },
      "outputs": [],
      "source": [
        "#os.chdir(\"/content/drive/MyDrive/RAIO-X/RAIO-X/archive.zip (Unzipped Files)\")\n",
        "path = os.getcwd() \n",
        "train_df = pd.read_csv('/content/train.csv')\n",
        "test_df = pd.read_csv(os.path.join('/content/sample_submission.csv'))"
      ]
    },
    {
      "cell_type": "code",
      "execution_count": 6,
      "metadata": {
        "id": "c8qRth9FkA5p",
        "colab": {
          "base_uri": "https://localhost:8080/",
          "height": 206
        },
        "outputId": "44e8051b-3ac0-416b-befd-5988728f58c9"
      },
      "outputs": [
        {
          "output_type": "execute_result",
          "data": {
            "text/plain": [
              "                                      SOPInstanceUID  \\\n",
              "0  1.2.826.0.1.3680043.8.498.10001001190452685542...   \n",
              "1  1.2.826.0.1.3680043.8.498.10022667601042710442...   \n",
              "2  1.2.826.0.1.3680043.8.498.10024395388921105474...   \n",
              "3  1.2.826.0.1.3680043.8.498.10026689165626095651...   \n",
              "4  1.2.826.0.1.3680043.8.498.10035936364561920980...   \n",
              "\n",
              "                                              Target  \n",
              "0  0 1 2 3 4 5 6 7 8 9 10 11 12 13 14 15 16 17 18...  \n",
              "1  0 1 2 3 4 5 6 7 8 9 10 11 12 13 14 15 16 17 18...  \n",
              "2  0 1 2 3 4 5 6 7 8 9 10 11 12 13 14 15 16 17 18...  \n",
              "3  0 1 2 3 4 5 6 7 8 9 10 11 12 13 14 15 16 17 18...  \n",
              "4  0 1 2 3 4 5 6 7 8 9 10 11 12 13 14 15 16 17 18...  "
            ],
            "text/html": [
              "\n",
              "  <div id=\"df-e93e0569-1687-40ca-aab1-f42f30e3c1a7\">\n",
              "    <div class=\"colab-df-container\">\n",
              "      <div>\n",
              "<style scoped>\n",
              "    .dataframe tbody tr th:only-of-type {\n",
              "        vertical-align: middle;\n",
              "    }\n",
              "\n",
              "    .dataframe tbody tr th {\n",
              "        vertical-align: top;\n",
              "    }\n",
              "\n",
              "    .dataframe thead th {\n",
              "        text-align: right;\n",
              "    }\n",
              "</style>\n",
              "<table border=\"1\" class=\"dataframe\">\n",
              "  <thead>\n",
              "    <tr style=\"text-align: right;\">\n",
              "      <th></th>\n",
              "      <th>SOPInstanceUID</th>\n",
              "      <th>Target</th>\n",
              "    </tr>\n",
              "  </thead>\n",
              "  <tbody>\n",
              "    <tr>\n",
              "      <th>0</th>\n",
              "      <td>1.2.826.0.1.3680043.8.498.10001001190452685542...</td>\n",
              "      <td>0 1 2 3 4 5 6 7 8 9 10 11 12 13 14 15 16 17 18...</td>\n",
              "    </tr>\n",
              "    <tr>\n",
              "      <th>1</th>\n",
              "      <td>1.2.826.0.1.3680043.8.498.10022667601042710442...</td>\n",
              "      <td>0 1 2 3 4 5 6 7 8 9 10 11 12 13 14 15 16 17 18...</td>\n",
              "    </tr>\n",
              "    <tr>\n",
              "      <th>2</th>\n",
              "      <td>1.2.826.0.1.3680043.8.498.10024395388921105474...</td>\n",
              "      <td>0 1 2 3 4 5 6 7 8 9 10 11 12 13 14 15 16 17 18...</td>\n",
              "    </tr>\n",
              "    <tr>\n",
              "      <th>3</th>\n",
              "      <td>1.2.826.0.1.3680043.8.498.10026689165626095651...</td>\n",
              "      <td>0 1 2 3 4 5 6 7 8 9 10 11 12 13 14 15 16 17 18...</td>\n",
              "    </tr>\n",
              "    <tr>\n",
              "      <th>4</th>\n",
              "      <td>1.2.826.0.1.3680043.8.498.10035936364561920980...</td>\n",
              "      <td>0 1 2 3 4 5 6 7 8 9 10 11 12 13 14 15 16 17 18...</td>\n",
              "    </tr>\n",
              "  </tbody>\n",
              "</table>\n",
              "</div>\n",
              "      <button class=\"colab-df-convert\" onclick=\"convertToInteractive('df-e93e0569-1687-40ca-aab1-f42f30e3c1a7')\"\n",
              "              title=\"Convert this dataframe to an interactive table.\"\n",
              "              style=\"display:none;\">\n",
              "        \n",
              "  <svg xmlns=\"http://www.w3.org/2000/svg\" height=\"24px\"viewBox=\"0 0 24 24\"\n",
              "       width=\"24px\">\n",
              "    <path d=\"M0 0h24v24H0V0z\" fill=\"none\"/>\n",
              "    <path d=\"M18.56 5.44l.94 2.06.94-2.06 2.06-.94-2.06-.94-.94-2.06-.94 2.06-2.06.94zm-11 1L8.5 8.5l.94-2.06 2.06-.94-2.06-.94L8.5 2.5l-.94 2.06-2.06.94zm10 10l.94 2.06.94-2.06 2.06-.94-2.06-.94-.94-2.06-.94 2.06-2.06.94z\"/><path d=\"M17.41 7.96l-1.37-1.37c-.4-.4-.92-.59-1.43-.59-.52 0-1.04.2-1.43.59L10.3 9.45l-7.72 7.72c-.78.78-.78 2.05 0 2.83L4 21.41c.39.39.9.59 1.41.59.51 0 1.02-.2 1.41-.59l7.78-7.78 2.81-2.81c.8-.78.8-2.07 0-2.86zM5.41 20L4 18.59l7.72-7.72 1.47 1.35L5.41 20z\"/>\n",
              "  </svg>\n",
              "      </button>\n",
              "      \n",
              "  <style>\n",
              "    .colab-df-container {\n",
              "      display:flex;\n",
              "      flex-wrap:wrap;\n",
              "      gap: 12px;\n",
              "    }\n",
              "\n",
              "    .colab-df-convert {\n",
              "      background-color: #E8F0FE;\n",
              "      border: none;\n",
              "      border-radius: 50%;\n",
              "      cursor: pointer;\n",
              "      display: none;\n",
              "      fill: #1967D2;\n",
              "      height: 32px;\n",
              "      padding: 0 0 0 0;\n",
              "      width: 32px;\n",
              "    }\n",
              "\n",
              "    .colab-df-convert:hover {\n",
              "      background-color: #E2EBFA;\n",
              "      box-shadow: 0px 1px 2px rgba(60, 64, 67, 0.3), 0px 1px 3px 1px rgba(60, 64, 67, 0.15);\n",
              "      fill: #174EA6;\n",
              "    }\n",
              "\n",
              "    [theme=dark] .colab-df-convert {\n",
              "      background-color: #3B4455;\n",
              "      fill: #D2E3FC;\n",
              "    }\n",
              "\n",
              "    [theme=dark] .colab-df-convert:hover {\n",
              "      background-color: #434B5C;\n",
              "      box-shadow: 0px 1px 3px 1px rgba(0, 0, 0, 0.15);\n",
              "      filter: drop-shadow(0px 1px 2px rgba(0, 0, 0, 0.3));\n",
              "      fill: #FFFFFF;\n",
              "    }\n",
              "  </style>\n",
              "\n",
              "      <script>\n",
              "        const buttonEl =\n",
              "          document.querySelector('#df-e93e0569-1687-40ca-aab1-f42f30e3c1a7 button.colab-df-convert');\n",
              "        buttonEl.style.display =\n",
              "          google.colab.kernel.accessAllowed ? 'block' : 'none';\n",
              "\n",
              "        async function convertToInteractive(key) {\n",
              "          const element = document.querySelector('#df-e93e0569-1687-40ca-aab1-f42f30e3c1a7');\n",
              "          const dataTable =\n",
              "            await google.colab.kernel.invokeFunction('convertToInteractive',\n",
              "                                                     [key], {});\n",
              "          if (!dataTable) return;\n",
              "\n",
              "          const docLinkHtml = 'Like what you see? Visit the ' +\n",
              "            '<a target=\"_blank\" href=https://colab.research.google.com/notebooks/data_table.ipynb>data table notebook</a>'\n",
              "            + ' to learn more about interactive tables.';\n",
              "          element.innerHTML = '';\n",
              "          dataTable['output_type'] = 'display_data';\n",
              "          await google.colab.output.renderOutput(dataTable, element);\n",
              "          const docLink = document.createElement('div');\n",
              "          docLink.innerHTML = docLinkHtml;\n",
              "          element.appendChild(docLink);\n",
              "        }\n",
              "      </script>\n",
              "    </div>\n",
              "  </div>\n",
              "  "
            ]
          },
          "metadata": {},
          "execution_count": 6
        }
      ],
      "source": [
        "test_df.head(5)"
      ]
    },
    {
      "cell_type": "markdown",
      "metadata": {
        "id": "qd9hejxZkD94"
      },
      "source": [
        "#Pre-processing"
      ]
    },
    {
      "cell_type": "code",
      "execution_count": 7,
      "metadata": {
        "id": "0IQpmWP3kIhQ",
        "colab": {
          "base_uri": "https://localhost:8080/"
        },
        "outputId": "c95e11c3-1df7-43d0-968a-9bc8c6b0491d"
      },
      "outputs": [
        {
          "output_type": "stream",
          "name": "stdout",
          "text": [
            "Columns:\n",
            "Index(['SOPInstanceUID', 'Target'], dtype='object') \n",
            "\n",
            "Types in columns:\n",
            "SOPInstanceUID    object\n",
            "Target            object\n",
            "dtype: object \n",
            "\n",
            "Types in info:\n",
            "                                           SOPInstanceUID Target\n",
            "count                                                1738   1738\n",
            "unique                                               1738     41\n",
            "top     1.2.826.0.1.3680043.8.498.10025629581362719970...     3 \n",
            "freq                                                    1    724 \n",
            "\n"
          ]
        }
      ],
      "source": [
        "print(\"Columns:\")\n",
        "print(train_df.columns, \"\\n\")\n",
        "\n",
        "print(\"Types in columns:\")\n",
        "print(train_df.dtypes, \"\\n\")\n",
        "\n",
        "print(\"Types in info:\")\n",
        "print(train_df.describe(), \"\\n\")"
      ]
    },
    {
      "cell_type": "code",
      "source": [
        "#Let's  see our Target distribution\n",
        "\n",
        "bodyparts = {\n",
        "0 : 'Abdomen' ,\n",
        "1 :'Ankle' ,\n",
        "2 :'Cervical Spine',\n",
        "3 : 'Chest' ,\n",
        "4 :'Clavicles' ,\n",
        "5 :'Elbow' ,\n",
        "6 :'Feet' ,\n",
        "7 : 'Finger' ,\n",
        "8 : 'Forearm' ,\n",
        "9 : 'Hand' ,\n",
        "10 : 'Hip' ,\n",
        "11 : 'Knee' ,\n",
        "12 : 'Lower Leg' ,\n",
        "13 : 'Lumbar Spine' ,\n",
        "14 : 'Others' ,\n",
        "15 :'Pelvis',\n",
        "16 :'Shoulder' ,\n",
        "17 :'Sinus' ,\n",
        "18 : 'Skull' ,\n",
        "19 : 'Thigh' ,\n",
        "20 :'Thoracic Spine',\n",
        "21: 'Wrist',\n",
        "}"
      ],
      "metadata": {
        "id": "YCh3lR7WCsME"
      },
      "execution_count": 8,
      "outputs": []
    },
    {
      "cell_type": "markdown",
      "metadata": {
        "id": "hk9Kily5l8fI"
      },
      "source": [
        "##Fixing folders"
      ]
    },
    {
      "cell_type": "code",
      "source": [
        "info = []"
      ],
      "metadata": {
        "id": "8nxIWWkloUir"
      },
      "execution_count": 9,
      "outputs": []
    },
    {
      "cell_type": "code",
      "execution_count": 10,
      "metadata": {
        "id": "0Z0LwdkVoI3l"
      },
      "outputs": [],
      "source": [
        "# example of horizontal shift image augmentation\n",
        "from numpy import expand_dims\n",
        "from keras.preprocessing.image import load_img\n",
        "from keras.preprocessing.image import img_to_array\n",
        "from keras.preprocessing.image import ImageDataGenerator\n",
        "from matplotlib import pyplot\n",
        "import random, time\n",
        "\n",
        "\n",
        "\n",
        "class Image_processing():\n",
        "  def __init__(self):\n",
        "    self.fileList = []\n",
        "    self.rotationRange = 90\n",
        "    self.brightRange = [0.2, 1.5]\n",
        "\n",
        "  def fixfolders(self, folder, df, dictionary):\n",
        "    filelist = []\n",
        "    for root, dirs, files in os.walk(f'/content/{str(folder)}'):\n",
        "      for file in files:\n",
        "        filelist.append(os.path.join(root,file))\n",
        "\n",
        "    for filename in filelist:\n",
        "      dicom = pydicom.dcmread(filename)\n",
        "      img = dicom.pixel_array\n",
        "      var = filename.split(\"/\")\n",
        "      var = var[-1]\n",
        "      row = df.index[df['SOPInstanceUID']==f'{var[:-6]}'].tolist()\n",
        "      target = df['Target'].iloc[row[0]]\n",
        "      if len(target.strip()) > 2: \n",
        "        continue\n",
        "      label = dictionary.get(int(target))\n",
        "      resized_img  = (np.maximum(img,0)/img.max())*255 \n",
        "      im = Image.fromarray(resized_img.astype(np.uint8))\n",
        "      im.show()\n",
        "      im.save(os.path.join(f'/content/{folder}_img', f'{label}', f'{var[:-6]}.png'))\n",
        " \n",
        "  def createfolders(self, folder):\n",
        "    os.mkdir(f'/content/{folder}/') \n",
        "    #os.chdir(f'/content/{folder}') \n",
        "    for bodypart in list(bodyparts.values()):\n",
        "      if os.path.isdir(f'/content/{folder}/{bodypart}') == False:\n",
        "        os.mkdir(f'/content/{folder}/{bodypart}')\n",
        "      else:  \n",
        "          pass       "
      ]
    },
    {
      "cell_type": "code",
      "source": [
        "class Data_Augumentation(Image_processing):\n",
        "\n",
        "  def __init__(self):\n",
        "        super().__init__()\n",
        "\n",
        "  def process_imgs(self, qntd = 100):\n",
        "    for folder in os.listdir('/content/train_img'):\n",
        "      real_qntd = len(os.listdir(f'/content/train_img/{folder}'))\n",
        "      # print(real_qntd)\n",
        "      if real_qntd < qntd: \n",
        "        diff = len(os.listdir(f'/content/train_img/{folder}')) \n",
        "        if diff >= 50 :\n",
        "          exams = random.choices(os.listdir(f'/content/train_img/{folder}'), k= (qntd - diff))\n",
        "          self.augment(folder, exams, 1)\n",
        "        else:\n",
        "          if diff % 10 != 0: #Se não for multiplo de 10\n",
        "            #Quantos algarismos para próxima dezena\n",
        "            ref1 = (math.ceil(diff / 10) * 10) - diff  \n",
        "            for _ in range(ref1):\n",
        "              exams = random.choices(os.listdir(f'/content/train_img/{folder}'), k= ref1)\n",
        "              self.augment(folder, exams, 1)\n",
        "          ref2 = qntd - (math.ceil(diff / 10) * 10)\n",
        "          #pego 10 de amsmostra e multiplico a quantidade de vezes para somar 100 \n",
        "          for _ in range(ref2):\n",
        "            exams = random.choices(os.listdir(f'/content/train_img/{folder}'), k= 10)\n",
        "            ref2 = int(ref2/10)\n",
        "            self.augment(folder, exams, ref2)\n",
        "      elif real_qntd > qntd:\n",
        "        diff = (real_qntd-qntd)\n",
        "        sorteados = glob.glob(f'/content/train_img/{folder}/*')\n",
        "        for s in random.sample(sorteados, diff):\n",
        "          os.remove(s)\n",
        "\n",
        "\n",
        "  def augment(self, folder, exams, limit):\n",
        "    #folder = nome que eu dei para pasta da label (ex : skull)\n",
        "    #exams  = lista de arquivos de imagens para cara pasta de label \n",
        "    #limit = quantidade de imagens artificias criadas a partir da original\n",
        "    \n",
        "    nameImage = []\n",
        "    cont1 = -1\n",
        "    for exam in exams: \n",
        "      #Saving the name in the list\n",
        "      nameImage.append(exam)\n",
        "      # load the image\n",
        "      img = load_img(f'/content/train_img/{folder}/{exam}')\n",
        "      # convert to numpy array\n",
        "      data = img_to_array(img)\n",
        "      # expand dimension to one sample\n",
        "      samples = expand_dims(data, 0)\n",
        "      # create image data augmentation generator\n",
        "      datagen = ImageDataGenerator(horizontal_flip=True,rotation_range = self.rotationRange, brightness_range = self.brightRange)\n",
        "      # prepare iterator\n",
        "      it = datagen.flow(samples, batch_size=1)\n",
        "      cont1 =+ 1\n",
        "      dup = [x for i, x in enumerate(nameImage) if i != nameImage.index(x)]\n",
        "\n",
        "      if len(dup) > 0:\n",
        "        equalDup = \"_repeted_\" + str(random.randint(-9999,9999))\n",
        "      else:\n",
        "        equalDup = \"\"\n",
        "        \n",
        "      for cont in range(limit):\n",
        "        # generate batch of images\n",
        "        batch = it.next()\n",
        "        image = batch[0].astype('uint16')\n",
        "        resized_img  = (np.maximum(image,0)/image.max())*255 # Parte importante para visualizar a imagem em png\n",
        "        im = Image.fromarray(resized_img.astype(np.uint8))\n",
        "        rand = random.randint(-9999,9999)\n",
        "        info.append(f'/content/train_img/{folder}/{exam[:-4]}_copy_{cont1}_{cont}.png')\n",
        "        im.save(f'/content/train_img/{folder}/{exam[:-4]}_{equalDup}_copy_{cont1}_{cont}.png')\n"
      ],
      "metadata": {
        "id": "Gsed_3Jp4kdA"
      },
      "execution_count": 11,
      "outputs": []
    },
    {
      "cell_type": "code",
      "source": [
        "#os.chdir(\"/content/drive/MyDrive/RAIO-X/RAIO-X/archive.zip (Unzipped Files)\")\n",
        "#path = os.getcwd()\n",
        "#CRIAR PASTAS E SEPARAR ARQUIVOS  \n",
        "\n",
        "fix  =  Data_Augumentation()\n",
        "try:\n",
        "  fix.createfolders('train_img')\n",
        "  fix.fixfolders('train', train_df, bodyparts)\n",
        "  fix.process_imgs()\n",
        "except:\n",
        "  shutil.rmtree(f'/content/train_img/')\n",
        "  fix.createfolders('train_img')\n",
        "  fix.fixfolders('train', train_df, bodyparts)\n",
        "  fix.process_imgs()"
      ],
      "metadata": {
        "id": "UoiUwPBiWc87"
      },
      "execution_count": null,
      "outputs": []
    },
    {
      "cell_type": "code",
      "source": [
        "class SelectFolders():\n",
        "\n",
        "  def __init__(self, mainPath, root, qntd):\n",
        "    self.mainPath = mainPath\n",
        "    self.qntdImages = qntd\n",
        "    self.listNames = []\n",
        "    self.flag = []\n",
        "    self.rootPath = root\n",
        "  \n",
        "  def verify(self, folder2verify ,order):\n",
        "    for files in os.listdir(folder2verify):\n",
        "      self.listNames.append([files, len(os.listdir(f'{folder2verify}/{files}')) ])\n",
        "      #Verify listNames\n",
        "\n",
        "    for i in self.listNames:\n",
        "      if i[1] > self.qntdImages:\n",
        "        #False se tiver pastas com menos de 100 imagens ou menos que self.qntdImages\n",
        "        self.flag.append([False, i[0], i[1]])\n",
        "\n",
        "    if order == \"print\":\n",
        "      print(self.flag)\n",
        "    if order ==\"result\":\n",
        "      flagzinha = False\n",
        "      for i in zip(self.flag):\n",
        "        if i[0] ==True:\n",
        "          print(f\"Error: The folder {i[1]} has {i[2]} Images.\")\n",
        "        else:\n",
        "          flagzinha = True\n",
        "\n",
        "      if flagzinha == True: \n",
        "        print(f\"Every folder has more than {self.qntdImages} Images.\")\n",
        "\n",
        "  def folder2Model(self, path, qntd , bodyparts): \n",
        "    try:\n",
        "      os.mkdir(f\"{self.rootPath}/{path}\")\n",
        "      print(self.rootPath)\n",
        "      print(path)\n",
        "    except:\n",
        "      shutil.rmtree(f\"{self.rootPath}/{path}\")\n",
        "      os.mkdir(f\"{self.rootPath}/{path}\")\n",
        "\n",
        "\n",
        "    for part in list(bodyparts.values()):\n",
        "      if os.path.isdir(f\"{self.rootPath}/{path}/{part}\") == False:\n",
        "        os.mkdir(f\"{self.rootPath}/{path}/{part}\")\n",
        "      #Seleciona 100 imagens de \"part\" e copio para imageModel\n",
        "      selectImages = random.choices(os.listdir(f'{self.mainPath}/{part}'), k= qntd)\n",
        "\n",
        "      for image in selectImages:\n",
        "        pathImageModel = f\"{self.rootPath}/{path}/{part}\"\n",
        "        originalPathImages = f'{self.mainPath}/{part}/{image}'\n",
        "        # print(originalPathImages)\n",
        "\n",
        "        shutil.copy(originalPathImages, pathImageModel)\n"
      ],
      "metadata": {
        "id": "GyC4qq5UcHbf"
      },
      "execution_count": null,
      "outputs": []
    },
    {
      "cell_type": "code",
      "source": [
        "fix2 = SelectFolders(\"/content/train_img\", \"/content\" ,  100)\n",
        "path = \"imageModel/\"\n",
        "#Verify if train_img has more than 100 images \n",
        "fix2.verify( \"/content/train_img\" ,\"result\")\n",
        "\n",
        "#Organizing the folder for the model\n",
        "fix2.folder2Model(path, 100, bodyparts)\n",
        "\n",
        "#Verify if imageModel has 100 images for each folder \n",
        "print()\n",
        "fix2.verify(\"/content/imageModel\" ,\"result\")"
      ],
      "metadata": {
        "id": "AS05CxHYh7vW"
      },
      "execution_count": null,
      "outputs": []
    },
    {
      "cell_type": "markdown",
      "source": [
        "## É necessário contruir parte por parte o test_set separado por labels \n",
        "\n"
      ],
      "metadata": {
        "id": "aIaqIwp87rjg"
      }
    },
    {
      "cell_type": "code",
      "source": [
        "import tensorflow\n",
        "labels = [x for x in bodyparts.values()]\n",
        "train_batches = ImageDataGenerator(preprocessing_function = tensorflow.keras.applications.vgg16.preprocess_input)  \n",
        "train_batches = train_batches.flow_from_directory(directory=\"/content/train_img/\", target_size=(256,256), classes=labels, batch_size=10)"
      ],
      "metadata": {
        "id": "SpGGL8Dqy00m"
      },
      "execution_count": null,
      "outputs": []
    },
    {
      "cell_type": "code",
      "source": [
        "# assert train_batches.n == 2100"
      ],
      "metadata": {
        "id": "5tn0ud8KyIwG"
      },
      "execution_count": null,
      "outputs": []
    },
    {
      "cell_type": "markdown",
      "source": [
        "#Temos mais imagens do que deveríamos! \n"
      ],
      "metadata": {
        "id": "Jviqi-37BV7o"
      }
    }
  ],
  "metadata": {
    "colab": {
      "collapsed_sections": [],
      "provenance": []
    },
    "kernelspec": {
      "display_name": "Python 3.9.0 32-bit",
      "language": "python",
      "name": "python3"
    },
    "language_info": {
      "name": "python",
      "version": "3.9.0"
    },
    "vscode": {
      "interpreter": {
        "hash": "5b76773ed08602836185ee19b6a28a35c7b52ddebf734b2b96c5aebf91a1aa12"
      }
    }
  },
  "nbformat": 4,
  "nbformat_minor": 0
}