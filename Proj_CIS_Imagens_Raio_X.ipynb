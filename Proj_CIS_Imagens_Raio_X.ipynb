{
  "cells": [
    {
      "cell_type": "markdown",
      "metadata": {
        "id": "view-in-github",
        "colab_type": "text"
      },
      "source": [
        "<a href=\"https://colab.research.google.com/github/LucasLessa1/X-rayBodyPart/blob/davi1/Proj_CIS_Imagens_Raio_X.ipynb\" target=\"_parent\"><img src=\"https://colab.research.google.com/assets/colab-badge.svg\" alt=\"Open In Colab\"/></a>"
      ]
    },
    {
      "cell_type": "markdown",
      "metadata": {
        "id": "lU48iA-hf04s"
      },
      "source": [
        "#Imports and Ajusting file\n"
      ]
    },
    {
      "cell_type": "code",
      "execution_count": 149,
      "metadata": {
        "colab": {
          "base_uri": "https://localhost:8080/"
        },
        "id": "KY-thcKqQhmX",
        "outputId": "cf7a4d78-3ccd-4679-ab00-633bfb6bf289"
      },
      "outputs": [
        {
          "output_type": "stream",
          "name": "stdout",
          "text": [
            "Looking in indexes: https://pypi.org/simple, https://us-python.pkg.dev/colab-wheels/public/simple/\n",
            "Requirement already satisfied: pydicom in /usr/local/lib/python3.7/dist-packages (2.3.0)\n"
          ]
        }
      ],
      "source": [
        "pip install pydicom"
      ]
    },
    {
      "cell_type": "code",
      "execution_count": 150,
      "metadata": {
        "id": "X75kHVXu3C8m"
      },
      "outputs": [],
      "source": [
        "import cv2\n",
        "import pydicom\n",
        "import pandas as pd\n",
        "import os\n",
        "import shutil\n",
        "import time\n",
        "import math\n",
        "import gdown\n",
        "import zipfile\n",
        "import numpy as np\n",
        "from scipy.io import loadmat\n",
        "import matplotlib.pyplot as plt\n",
        "from google.colab.patches import cv2_imshow\n",
        "from tqdm import tqdm\n",
        "import os\n",
        "from PIL import Image\n",
        "from google.colab.patches import cv2_imshow\n",
        "import string"
      ]
    },
    {
      "cell_type": "code",
      "execution_count": 151,
      "metadata": {
        "id": "sqf48VqoeCqt"
      },
      "outputs": [],
      "source": [
        "def download(id): \n",
        "    url = 'https://drive.google.com/uc?id=' + str(id)\n",
        "    gdown.download(url, output = None, quiet = False)\n",
        "\n",
        "def unzip(path): #Função para unzip\n",
        "    zip = zipfile.ZipFile(path)\n",
        "    zip.extractall()\n",
        "    zip.close()"
      ]
    },
    {
      "cell_type": "code",
      "execution_count": 152,
      "metadata": {
        "colab": {
          "base_uri": "https://localhost:8080/"
        },
        "id": "CEFniMhVgyUh",
        "outputId": "33ba68fa-b8b9-4968-8448-d829497c0b40"
      },
      "outputs": [
        {
          "output_type": "stream",
          "name": "stderr",
          "text": [
            "Downloading...\n",
            "From: https://drive.google.com/uc?id=1ev-r31j8oRzDlKM_toaeADO2psrA_XXm\n",
            "To: /content/archive.zip\n",
            "100%|██████████| 269M/269M [00:02<00:00, 123MB/s]\n"
          ]
        }
      ],
      "source": [
        "# https://drive.google.com/file/d/1ev-r31j8oRzDlKM_toaeADO2psrA_XXm/view?usp=sharing\n",
        "\n",
        "download('1ev-r31j8oRzDlKM_toaeADO2psrA_XXm')\n",
        "unzip('/content/archive.zip')"
      ]
    },
    {
      "cell_type": "code",
      "execution_count": 153,
      "metadata": {
        "id": "PpL-tSErjuD6"
      },
      "outputs": [],
      "source": [
        "#os.chdir(\"/content/drive/MyDrive/RAIO-X/RAIO-X/archive.zip (Unzipped Files)\")\n",
        "path = os.getcwd() \n",
        "train_df = pd.read_csv('/content/train.csv')\n",
        "test_df = pd.read_csv(os.path.join('/content/sample_submission.csv'))"
      ]
    },
    {
      "cell_type": "code",
      "source": [
        "#from google.colab import drive\n",
        "#drive.mount('/content/drive')"
      ],
      "metadata": {
        "id": "rFevdztdP5qd"
      },
      "execution_count": 154,
      "outputs": []
    },
    {
      "cell_type": "code",
      "execution_count": 155,
      "metadata": {
        "id": "c8qRth9FkA5p",
        "colab": {
          "base_uri": "https://localhost:8080/",
          "height": 206
        },
        "outputId": "5f51b962-74d1-4f99-a116-a03132650df7"
      },
      "outputs": [
        {
          "output_type": "execute_result",
          "data": {
            "text/plain": [
              "                                      SOPInstanceUID  \\\n",
              "0  1.2.826.0.1.3680043.8.498.10001001190452685542...   \n",
              "1  1.2.826.0.1.3680043.8.498.10022667601042710442...   \n",
              "2  1.2.826.0.1.3680043.8.498.10024395388921105474...   \n",
              "3  1.2.826.0.1.3680043.8.498.10026689165626095651...   \n",
              "4  1.2.826.0.1.3680043.8.498.10035936364561920980...   \n",
              "\n",
              "                                              Target  \n",
              "0  0 1 2 3 4 5 6 7 8 9 10 11 12 13 14 15 16 17 18...  \n",
              "1  0 1 2 3 4 5 6 7 8 9 10 11 12 13 14 15 16 17 18...  \n",
              "2  0 1 2 3 4 5 6 7 8 9 10 11 12 13 14 15 16 17 18...  \n",
              "3  0 1 2 3 4 5 6 7 8 9 10 11 12 13 14 15 16 17 18...  \n",
              "4  0 1 2 3 4 5 6 7 8 9 10 11 12 13 14 15 16 17 18...  "
            ],
            "text/html": [
              "\n",
              "  <div id=\"df-56030996-1f81-41b3-9e2a-cf9e8cf4a817\">\n",
              "    <div class=\"colab-df-container\">\n",
              "      <div>\n",
              "<style scoped>\n",
              "    .dataframe tbody tr th:only-of-type {\n",
              "        vertical-align: middle;\n",
              "    }\n",
              "\n",
              "    .dataframe tbody tr th {\n",
              "        vertical-align: top;\n",
              "    }\n",
              "\n",
              "    .dataframe thead th {\n",
              "        text-align: right;\n",
              "    }\n",
              "</style>\n",
              "<table border=\"1\" class=\"dataframe\">\n",
              "  <thead>\n",
              "    <tr style=\"text-align: right;\">\n",
              "      <th></th>\n",
              "      <th>SOPInstanceUID</th>\n",
              "      <th>Target</th>\n",
              "    </tr>\n",
              "  </thead>\n",
              "  <tbody>\n",
              "    <tr>\n",
              "      <th>0</th>\n",
              "      <td>1.2.826.0.1.3680043.8.498.10001001190452685542...</td>\n",
              "      <td>0 1 2 3 4 5 6 7 8 9 10 11 12 13 14 15 16 17 18...</td>\n",
              "    </tr>\n",
              "    <tr>\n",
              "      <th>1</th>\n",
              "      <td>1.2.826.0.1.3680043.8.498.10022667601042710442...</td>\n",
              "      <td>0 1 2 3 4 5 6 7 8 9 10 11 12 13 14 15 16 17 18...</td>\n",
              "    </tr>\n",
              "    <tr>\n",
              "      <th>2</th>\n",
              "      <td>1.2.826.0.1.3680043.8.498.10024395388921105474...</td>\n",
              "      <td>0 1 2 3 4 5 6 7 8 9 10 11 12 13 14 15 16 17 18...</td>\n",
              "    </tr>\n",
              "    <tr>\n",
              "      <th>3</th>\n",
              "      <td>1.2.826.0.1.3680043.8.498.10026689165626095651...</td>\n",
              "      <td>0 1 2 3 4 5 6 7 8 9 10 11 12 13 14 15 16 17 18...</td>\n",
              "    </tr>\n",
              "    <tr>\n",
              "      <th>4</th>\n",
              "      <td>1.2.826.0.1.3680043.8.498.10035936364561920980...</td>\n",
              "      <td>0 1 2 3 4 5 6 7 8 9 10 11 12 13 14 15 16 17 18...</td>\n",
              "    </tr>\n",
              "  </tbody>\n",
              "</table>\n",
              "</div>\n",
              "      <button class=\"colab-df-convert\" onclick=\"convertToInteractive('df-56030996-1f81-41b3-9e2a-cf9e8cf4a817')\"\n",
              "              title=\"Convert this dataframe to an interactive table.\"\n",
              "              style=\"display:none;\">\n",
              "        \n",
              "  <svg xmlns=\"http://www.w3.org/2000/svg\" height=\"24px\"viewBox=\"0 0 24 24\"\n",
              "       width=\"24px\">\n",
              "    <path d=\"M0 0h24v24H0V0z\" fill=\"none\"/>\n",
              "    <path d=\"M18.56 5.44l.94 2.06.94-2.06 2.06-.94-2.06-.94-.94-2.06-.94 2.06-2.06.94zm-11 1L8.5 8.5l.94-2.06 2.06-.94-2.06-.94L8.5 2.5l-.94 2.06-2.06.94zm10 10l.94 2.06.94-2.06 2.06-.94-2.06-.94-.94-2.06-.94 2.06-2.06.94z\"/><path d=\"M17.41 7.96l-1.37-1.37c-.4-.4-.92-.59-1.43-.59-.52 0-1.04.2-1.43.59L10.3 9.45l-7.72 7.72c-.78.78-.78 2.05 0 2.83L4 21.41c.39.39.9.59 1.41.59.51 0 1.02-.2 1.41-.59l7.78-7.78 2.81-2.81c.8-.78.8-2.07 0-2.86zM5.41 20L4 18.59l7.72-7.72 1.47 1.35L5.41 20z\"/>\n",
              "  </svg>\n",
              "      </button>\n",
              "      \n",
              "  <style>\n",
              "    .colab-df-container {\n",
              "      display:flex;\n",
              "      flex-wrap:wrap;\n",
              "      gap: 12px;\n",
              "    }\n",
              "\n",
              "    .colab-df-convert {\n",
              "      background-color: #E8F0FE;\n",
              "      border: none;\n",
              "      border-radius: 50%;\n",
              "      cursor: pointer;\n",
              "      display: none;\n",
              "      fill: #1967D2;\n",
              "      height: 32px;\n",
              "      padding: 0 0 0 0;\n",
              "      width: 32px;\n",
              "    }\n",
              "\n",
              "    .colab-df-convert:hover {\n",
              "      background-color: #E2EBFA;\n",
              "      box-shadow: 0px 1px 2px rgba(60, 64, 67, 0.3), 0px 1px 3px 1px rgba(60, 64, 67, 0.15);\n",
              "      fill: #174EA6;\n",
              "    }\n",
              "\n",
              "    [theme=dark] .colab-df-convert {\n",
              "      background-color: #3B4455;\n",
              "      fill: #D2E3FC;\n",
              "    }\n",
              "\n",
              "    [theme=dark] .colab-df-convert:hover {\n",
              "      background-color: #434B5C;\n",
              "      box-shadow: 0px 1px 3px 1px rgba(0, 0, 0, 0.15);\n",
              "      filter: drop-shadow(0px 1px 2px rgba(0, 0, 0, 0.3));\n",
              "      fill: #FFFFFF;\n",
              "    }\n",
              "  </style>\n",
              "\n",
              "      <script>\n",
              "        const buttonEl =\n",
              "          document.querySelector('#df-56030996-1f81-41b3-9e2a-cf9e8cf4a817 button.colab-df-convert');\n",
              "        buttonEl.style.display =\n",
              "          google.colab.kernel.accessAllowed ? 'block' : 'none';\n",
              "\n",
              "        async function convertToInteractive(key) {\n",
              "          const element = document.querySelector('#df-56030996-1f81-41b3-9e2a-cf9e8cf4a817');\n",
              "          const dataTable =\n",
              "            await google.colab.kernel.invokeFunction('convertToInteractive',\n",
              "                                                     [key], {});\n",
              "          if (!dataTable) return;\n",
              "\n",
              "          const docLinkHtml = 'Like what you see? Visit the ' +\n",
              "            '<a target=\"_blank\" href=https://colab.research.google.com/notebooks/data_table.ipynb>data table notebook</a>'\n",
              "            + ' to learn more about interactive tables.';\n",
              "          element.innerHTML = '';\n",
              "          dataTable['output_type'] = 'display_data';\n",
              "          await google.colab.output.renderOutput(dataTable, element);\n",
              "          const docLink = document.createElement('div');\n",
              "          docLink.innerHTML = docLinkHtml;\n",
              "          element.appendChild(docLink);\n",
              "        }\n",
              "      </script>\n",
              "    </div>\n",
              "  </div>\n",
              "  "
            ]
          },
          "metadata": {},
          "execution_count": 155
        }
      ],
      "source": [
        "test_df.head(5)"
      ]
    },
    {
      "cell_type": "code",
      "execution_count": 156,
      "metadata": {
        "id": "XWICRM55j6lb",
        "colab": {
          "base_uri": "https://localhost:8080/"
        },
        "outputId": "c31b1aba-ccdf-4ce5-a224-4abb6b98ad0e"
      },
      "outputs": [
        {
          "output_type": "stream",
          "name": "stdout",
          "text": [
            "00333618114258\n"
          ]
        }
      ],
      "source": [
        "A=train_df.head(1)['SOPInstanceUID']\n",
        "print(A[0][50:])"
      ]
    },
    {
      "cell_type": "markdown",
      "metadata": {
        "id": "qd9hejxZkD94"
      },
      "source": [
        "#Pre-processing"
      ]
    },
    {
      "cell_type": "code",
      "execution_count": 157,
      "metadata": {
        "id": "0IQpmWP3kIhQ",
        "colab": {
          "base_uri": "https://localhost:8080/"
        },
        "outputId": "0130de2a-8132-47bd-bc66-ba9e84202341"
      },
      "outputs": [
        {
          "output_type": "stream",
          "name": "stdout",
          "text": [
            "Columns:\n",
            "Index(['SOPInstanceUID', 'Target'], dtype='object') \n",
            "\n",
            "Types in columns:\n",
            "SOPInstanceUID    object\n",
            "Target            object\n",
            "dtype: object \n",
            "\n",
            "Types in info:\n",
            "                                           SOPInstanceUID Target\n",
            "count                                                1738   1738\n",
            "unique                                               1738     41\n",
            "top     1.2.826.0.1.3680043.8.498.10025629581362719970...     3 \n",
            "freq                                                    1    724 \n",
            "\n"
          ]
        }
      ],
      "source": [
        "print(\"Columns:\")\n",
        "print(train_df.columns, \"\\n\")\n",
        "\n",
        "print(\"Types in columns:\")\n",
        "print(train_df.dtypes, \"\\n\")\n",
        "\n",
        "print(\"Types in info:\")\n",
        "print(train_df.describe(), \"\\n\")"
      ]
    },
    {
      "cell_type": "code",
      "source": [
        "#Let's  see our Target distribution\n",
        "\n",
        "bodyparts = {\n",
        "0 : 'Abdomen' ,\n",
        "1 :'Ankle' ,\n",
        "2 :'Cervical Spine',\n",
        "3 : 'Chest' ,\n",
        "4 :'Clavicles' ,\n",
        "5 :'Elbow' ,\n",
        "6 :'Feet' ,\n",
        "7 : 'Finger' ,\n",
        "8 : 'Forearm' ,\n",
        "9 : 'Hand' ,\n",
        "10 : 'Hip' ,\n",
        "11 : 'Knee' ,\n",
        "12 : 'Lower Leg' ,\n",
        "13 : 'Lumbar Spine' ,\n",
        "14 : 'Others' ,\n",
        "15 :'Pelvis',\n",
        "16 :'Shoulder' ,\n",
        "17 :'Sinus' ,\n",
        "18 : 'Skull' ,\n",
        "19 : 'Thigh' ,\n",
        "20 :'Thoracic Spine',\n",
        "21: 'Wrist',\n",
        "}"
      ],
      "metadata": {
        "id": "YCh3lR7WCsME"
      },
      "execution_count": 158,
      "outputs": []
    },
    {
      "cell_type": "markdown",
      "metadata": {
        "id": "hk9Kily5l8fI"
      },
      "source": [
        "##Fixing folders"
      ]
    },
    {
      "cell_type": "code",
      "execution_count": 308,
      "metadata": {
        "id": "0Z0LwdkVoI3l"
      },
      "outputs": [],
      "source": [
        "# example of horizontal shift image augmentation\n",
        "from numpy import expand_dims\n",
        "from keras.preprocessing.image import load_img\n",
        "from keras.preprocessing.image import img_to_array\n",
        "from keras.preprocessing.image import ImageDataGenerator\n",
        "from matplotlib import pyplot\n",
        "import random, time\n",
        "\n",
        "def augment(files, exams, limit):\n",
        "     for exam in exams: \n",
        "          # load the image\n",
        "          img = load_img(f'/content/train_img/{files}/{exam}')\n",
        "          # convert to numpy array\n",
        "          data = img_to_array(img)\n",
        "          # expand dimension to one sample\n",
        "          samples = expand_dims(data, 0)\n",
        "          # create image data augmentation generator\n",
        "          datagen = ImageDataGenerator(horizontal_flip=True,rotation_range=90,brightness_range=[0.2, 1.5])\n",
        "          # prepare iterator\n",
        "          it = datagen.flow(samples, batch_size=1)\n",
        "          for _ in range(limit):\n",
        "            # generate batch of images\n",
        "            batch = it.next()\n",
        "            image = batch[0].astype('uint16')\n",
        "            resized_img  = (np.maximum(image,0)/image.max())*255 \n",
        "            im = Image.fromarray(resized_img.astype(np.uint8))\n",
        "            im.save(f'/content/train_img/{files}/augmented_{exam}')\n",
        "\n",
        "\n",
        "\n",
        "class Image_processing():\n",
        "  def __init__(self):\n",
        "    self.fileList = []\n",
        "\n",
        "  def fixfolders(self, folder, df, dictionary):\n",
        "    filelist = []\n",
        "    for root, dirs, files in os.walk(f'/content/{str(folder)}'):\n",
        "      for file in files:\n",
        "        filelist.append(os.path.join(root,file))\n",
        "\n",
        "    for filename in filelist:\n",
        "      dicom = pydicom.dcmread(filename)\n",
        "      img = dicom.pixel_array\n",
        "      var = filename.split(\"/\")\n",
        "      var = var[-1]\n",
        "      row = df.index[df['SOPInstanceUID']==f'{var[:-6]}'].tolist()\n",
        "      target = df['Target'].iloc[row[0]]\n",
        "      if len(target.strip()) > 2: \n",
        "        continue\n",
        "      label = dictionary.get(int(target))\n",
        "      resized_img  = (np.maximum(img,0)/img.max())*255 \n",
        "      im = Image.fromarray(resized_img.astype(np.uint8))\n",
        "      im.show()\n",
        "      im.save(os.path.join(f'/content/{folder}_img', f'{label}', f'{var[:-6]}.png'))\n",
        " \n",
        "  def createfolders(self, folder):\n",
        "    os.mkdir(f'/content/{folder}/') \n",
        "    #os.chdir(f'/content/{folder}') \n",
        "    for bodypart in list(bodyparts.values()):\n",
        "      if os.path.isdir(f'/content/{folder}/{bodypart}') == False:\n",
        "        os.mkdir(f'/content/{folder}/{bodypart}')\n",
        "      else:  \n",
        "          pass \n",
        "\n",
        "  def process_imgs(self):\n",
        "    for files in os.listdir('/content/train_img'):\n",
        "      if len(os.listdir(f'/content/train_img/{files}')) < 100: \n",
        "        diff = len(os.listdir(f'/content/train_img/{files}')) \n",
        "        if diff >= 50 :\n",
        "          exams = random.choices(os.listdir(f'/content/train_img/{files}'), k= diff)\n",
        "          augment(files, exams, 1)\n",
        "        else:\n",
        "          if diff % 10 != 0: \n",
        "            #Quntos algarismos para próxima dezena\n",
        "            ref1 = (math.ceil(diff / 10) * 10) - diff \n",
        "            for _ in range(ref1):\n",
        "              exams = random.choices(os.listdir(f'/content/train_img/{files}'), k= ref1)\n",
        "              augment(files, exams, ref1)\n",
        "          else: \n",
        "            ref2 = 100 - (math.ceil(diff / 10) * 10)\n",
        "            #pego 10 de amsmostra e multiplico a quantidade de vezes para somar 100 \n",
        "            for _ in range(ref2):\n",
        "              exams = random.choices(os.listdir(f'/content/train_img/{files}'), k= 10)\n",
        "              ref2 = int(ref2/10)\n",
        "              augment(files, exams, ref2)\n",
        "       "
      ]
    },
    {
      "cell_type": "code",
      "source": [
        "#os.chdir(\"/content/drive/MyDrive/RAIO-X/RAIO-X/archive.zip (Unzipped Files)\")\n",
        "#path = os.getcwd()\n",
        "\n",
        "#CRIAR PASTAS E SEPARAR AQUIVOS \n",
        "fix  =  Image_processing()\n",
        "fix.createfolders('train_img')\n",
        "fix.fixfolders('train', train_df, bodyparts)"
      ],
      "metadata": {
        "id": "UoiUwPBiWc87"
      },
      "execution_count": 310,
      "outputs": []
    },
    {
      "cell_type": "code",
      "source": [
        "fix.process_imgs()"
      ],
      "metadata": {
        "id": "kE6rZcjTaYNx"
      },
      "execution_count": 311,
      "outputs": []
    },
    {
      "cell_type": "code",
      "source": [
        "for files in os.listdir('/content/train_img'):\n",
        "  print(files)\n",
        "  print(len(os.listdir(f'/content/train_img/{files}')))"
      ],
      "metadata": {
        "id": "IkXrNRoyBjIF",
        "outputId": "cf0aa561-f775-44ab-90d1-29006f366df6",
        "colab": {
          "base_uri": "https://localhost:8080/"
        }
      },
      "execution_count": 314,
      "outputs": [
        {
          "output_type": "stream",
          "name": "stdout",
          "text": [
            "Skull\n",
            "17\n",
            "Sinus\n",
            "59\n",
            "Lower Leg\n",
            "20\n",
            "Thigh\n",
            "13\n",
            "Hip\n",
            "20\n",
            "Lumbar Spine\n",
            "40\n",
            "Finger\n",
            "30\n",
            "Chest\n",
            "724\n",
            "Thoracic Spine\n",
            "32\n",
            "Cervical Spine\n",
            "127\n",
            "Knee\n",
            "102\n",
            "Others\n",
            "120\n",
            "Wrist\n",
            "105\n",
            "Abdomen\n",
            "126\n",
            "Ankle\n",
            "93\n",
            "Clavicles\n",
            "10\n",
            "Hand\n",
            "79\n",
            "Forearm\n",
            "38\n",
            "Elbow\n",
            "52\n",
            "Feet\n",
            "110\n",
            "Shoulder\n",
            "48\n",
            "Pelvis\n",
            "109\n"
          ]
        }
      ]
    },
    {
      "cell_type": "code",
      "source": [
        "#Excluir diretorios de Labels!!!!!!!!\n",
        "#shutil.rmtree(f'/content/train_img/')"
      ],
      "metadata": {
        "id": "hgEOMMZvdRpi"
      },
      "execution_count": 309,
      "outputs": []
    },
    {
      "cell_type": "code",
      "execution_count": 164,
      "metadata": {
        "id": "vsYY0dwv6a6f"
      },
      "outputs": [],
      "source": [
        "# DAQUI PRA BAIXO NÃO GARANTO NADA !!"
      ]
    },
    {
      "cell_type": "code",
      "execution_count": 165,
      "metadata": {
        "id": "_PslEew4Sofj"
      },
      "outputs": [],
      "source": [
        "def dcmtag2table(folder, list_of_tags):\n",
        "\n",
        "    list_of_tags = list_of_tags.copy()\n",
        "    items = []\n",
        "    table = []\n",
        "    filelist = []\n",
        "\n",
        "    for root, dirs, files in os.walk(folder, topdown=False):\n",
        "#Adiciona os caminhos de cada imagem na lista\n",
        "        for name in files:\n",
        "            filelist.append(os.path.join(root, name))\n",
        "    aux= 0\n",
        "    for _f in filelist:\n",
        "      #Em cada caminho da imagem(.dcm)\n",
        "        try:\n",
        "            ds = pydicom.dcmread(_f, stop_before_pixels=True)\n",
        "            #Pega o Dataset de cada imagem e ler no próximo for\n",
        "            items = []\n",
        "            items.append(_f)\n",
        "            #Adiciono o caminho em \"items\"\n",
        "            for _tag in list_of_tags:\n",
        "                if _tag in ds:\n",
        "                  \n",
        "                    items.append(ds.data_element(_tag).value)\n",
        "                    #Adiciono a features \"PhotometricInterpretation\", \"BitsAllocated\" and \"SOPInstanceUID\" em \"items\"\n",
        "                else:\n",
        "                    items.append(\"Not found\")\n",
        "            \n",
        "            table.append(items)\n",
        "            #Adiciona tudo em uma outra lista\n",
        "        except:\n",
        "            print(\"Skipping non-DICOM: \" + _f)\n",
        "\n",
        "    df = pd.DataFrame(table, columns=[\"Filename\", \"PhotometricInterpretation\", \"BitsAllocated\",\"SOPInstanceUID\"])\n",
        "    #Crio um data set com todos os caminhos Photometric, Bits and SOP\n",
        "    return df"
      ]
    },
    {
      "cell_type": "markdown",
      "metadata": {
        "id": "rzOyGpU5YOue"
      },
      "source": [
        "*   SOP Instance UID - Unique Identification\n",
        "*   SOP Class UID    - "
      ]
    },
    {
      "cell_type": "code",
      "execution_count": 166,
      "metadata": {
        "id": "IgsEtrh3qakO"
      },
      "outputs": [],
      "source": [
        "tags = ['PhotometricInterpretation','BitsAllocated', 'SOPInstanceUID' ]\n",
        "dicom_tags_train =  dcmtag2table('/content/train', tags)\n",
        "dicom_tags_test = dcmtag2table('/content/test', tags)"
      ]
    },
    {
      "cell_type": "code",
      "execution_count": 167,
      "metadata": {
        "id": "2q8GnBabrW6H",
        "colab": {
          "base_uri": "https://localhost:8080/",
          "height": 424
        },
        "outputId": "8b8b7e72-4102-4dc5-8d3f-217dab89ae3b"
      },
      "outputs": [
        {
          "output_type": "execute_result",
          "data": {
            "text/plain": [
              "                                               Filename  \\\n",
              "0     /content/train/train/train/1121/1.2.826.0.1.36...   \n",
              "1     /content/train/train/train/350/1.2.826.0.1.368...   \n",
              "2     /content/train/train/train/87/1.2.826.0.1.3680...   \n",
              "3     /content/train/train/train/87/1.2.826.0.1.3680...   \n",
              "4     /content/train/train/train/378/1.2.826.0.1.368...   \n",
              "...                                                 ...   \n",
              "1733  /content/train/train/train/919/1.2.826.0.1.368...   \n",
              "1734  /content/train/train/train/1046/1.2.826.0.1.36...   \n",
              "1735  /content/train/train/train/1178/1.2.826.0.1.36...   \n",
              "1736  /content/train/train/train/1178/1.2.826.0.1.36...   \n",
              "1737  /content/train/train/train/251/1.2.826.0.1.368...   \n",
              "\n",
              "     PhotometricInterpretation  BitsAllocated  \\\n",
              "0                  MONOCHROME1             16   \n",
              "1                  MONOCHROME1             16   \n",
              "2                  MONOCHROME1             16   \n",
              "3                  MONOCHROME1             16   \n",
              "4                  MONOCHROME1             16   \n",
              "...                        ...            ...   \n",
              "1733               MONOCHROME1             16   \n",
              "1734               MONOCHROME1             16   \n",
              "1735               MONOCHROME1             16   \n",
              "1736               MONOCHROME1             16   \n",
              "1737               MONOCHROME1             16   \n",
              "\n",
              "                                         SOPInstanceUID  \n",
              "0     1.2.826.0.1.3680043.8.498.75371875098288485781...  \n",
              "1     1.2.826.0.1.3680043.8.498.88472775577462540945...  \n",
              "2     1.2.826.0.1.3680043.8.498.39286386395654026252...  \n",
              "3     1.2.826.0.1.3680043.8.498.56051445150509921910...  \n",
              "4     1.2.826.0.1.3680043.8.498.50515155554468059374...  \n",
              "...                                                 ...  \n",
              "1733  1.2.826.0.1.3680043.8.498.12489154905016857920...  \n",
              "1734  1.2.826.0.1.3680043.8.498.11043587047469807004...  \n",
              "1735  1.2.826.0.1.3680043.8.498.56914468087245411678...  \n",
              "1736  1.2.826.0.1.3680043.8.498.60288704388386519974...  \n",
              "1737  1.2.826.0.1.3680043.8.498.42195158095222440955...  \n",
              "\n",
              "[1738 rows x 4 columns]"
            ],
            "text/html": [
              "\n",
              "  <div id=\"df-45c2037e-ca0d-47a6-a579-4c41832f6113\">\n",
              "    <div class=\"colab-df-container\">\n",
              "      <div>\n",
              "<style scoped>\n",
              "    .dataframe tbody tr th:only-of-type {\n",
              "        vertical-align: middle;\n",
              "    }\n",
              "\n",
              "    .dataframe tbody tr th {\n",
              "        vertical-align: top;\n",
              "    }\n",
              "\n",
              "    .dataframe thead th {\n",
              "        text-align: right;\n",
              "    }\n",
              "</style>\n",
              "<table border=\"1\" class=\"dataframe\">\n",
              "  <thead>\n",
              "    <tr style=\"text-align: right;\">\n",
              "      <th></th>\n",
              "      <th>Filename</th>\n",
              "      <th>PhotometricInterpretation</th>\n",
              "      <th>BitsAllocated</th>\n",
              "      <th>SOPInstanceUID</th>\n",
              "    </tr>\n",
              "  </thead>\n",
              "  <tbody>\n",
              "    <tr>\n",
              "      <th>0</th>\n",
              "      <td>/content/train/train/train/1121/1.2.826.0.1.36...</td>\n",
              "      <td>MONOCHROME1</td>\n",
              "      <td>16</td>\n",
              "      <td>1.2.826.0.1.3680043.8.498.75371875098288485781...</td>\n",
              "    </tr>\n",
              "    <tr>\n",
              "      <th>1</th>\n",
              "      <td>/content/train/train/train/350/1.2.826.0.1.368...</td>\n",
              "      <td>MONOCHROME1</td>\n",
              "      <td>16</td>\n",
              "      <td>1.2.826.0.1.3680043.8.498.88472775577462540945...</td>\n",
              "    </tr>\n",
              "    <tr>\n",
              "      <th>2</th>\n",
              "      <td>/content/train/train/train/87/1.2.826.0.1.3680...</td>\n",
              "      <td>MONOCHROME1</td>\n",
              "      <td>16</td>\n",
              "      <td>1.2.826.0.1.3680043.8.498.39286386395654026252...</td>\n",
              "    </tr>\n",
              "    <tr>\n",
              "      <th>3</th>\n",
              "      <td>/content/train/train/train/87/1.2.826.0.1.3680...</td>\n",
              "      <td>MONOCHROME1</td>\n",
              "      <td>16</td>\n",
              "      <td>1.2.826.0.1.3680043.8.498.56051445150509921910...</td>\n",
              "    </tr>\n",
              "    <tr>\n",
              "      <th>4</th>\n",
              "      <td>/content/train/train/train/378/1.2.826.0.1.368...</td>\n",
              "      <td>MONOCHROME1</td>\n",
              "      <td>16</td>\n",
              "      <td>1.2.826.0.1.3680043.8.498.50515155554468059374...</td>\n",
              "    </tr>\n",
              "    <tr>\n",
              "      <th>...</th>\n",
              "      <td>...</td>\n",
              "      <td>...</td>\n",
              "      <td>...</td>\n",
              "      <td>...</td>\n",
              "    </tr>\n",
              "    <tr>\n",
              "      <th>1733</th>\n",
              "      <td>/content/train/train/train/919/1.2.826.0.1.368...</td>\n",
              "      <td>MONOCHROME1</td>\n",
              "      <td>16</td>\n",
              "      <td>1.2.826.0.1.3680043.8.498.12489154905016857920...</td>\n",
              "    </tr>\n",
              "    <tr>\n",
              "      <th>1734</th>\n",
              "      <td>/content/train/train/train/1046/1.2.826.0.1.36...</td>\n",
              "      <td>MONOCHROME1</td>\n",
              "      <td>16</td>\n",
              "      <td>1.2.826.0.1.3680043.8.498.11043587047469807004...</td>\n",
              "    </tr>\n",
              "    <tr>\n",
              "      <th>1735</th>\n",
              "      <td>/content/train/train/train/1178/1.2.826.0.1.36...</td>\n",
              "      <td>MONOCHROME1</td>\n",
              "      <td>16</td>\n",
              "      <td>1.2.826.0.1.3680043.8.498.56914468087245411678...</td>\n",
              "    </tr>\n",
              "    <tr>\n",
              "      <th>1736</th>\n",
              "      <td>/content/train/train/train/1178/1.2.826.0.1.36...</td>\n",
              "      <td>MONOCHROME1</td>\n",
              "      <td>16</td>\n",
              "      <td>1.2.826.0.1.3680043.8.498.60288704388386519974...</td>\n",
              "    </tr>\n",
              "    <tr>\n",
              "      <th>1737</th>\n",
              "      <td>/content/train/train/train/251/1.2.826.0.1.368...</td>\n",
              "      <td>MONOCHROME1</td>\n",
              "      <td>16</td>\n",
              "      <td>1.2.826.0.1.3680043.8.498.42195158095222440955...</td>\n",
              "    </tr>\n",
              "  </tbody>\n",
              "</table>\n",
              "<p>1738 rows × 4 columns</p>\n",
              "</div>\n",
              "      <button class=\"colab-df-convert\" onclick=\"convertToInteractive('df-45c2037e-ca0d-47a6-a579-4c41832f6113')\"\n",
              "              title=\"Convert this dataframe to an interactive table.\"\n",
              "              style=\"display:none;\">\n",
              "        \n",
              "  <svg xmlns=\"http://www.w3.org/2000/svg\" height=\"24px\"viewBox=\"0 0 24 24\"\n",
              "       width=\"24px\">\n",
              "    <path d=\"M0 0h24v24H0V0z\" fill=\"none\"/>\n",
              "    <path d=\"M18.56 5.44l.94 2.06.94-2.06 2.06-.94-2.06-.94-.94-2.06-.94 2.06-2.06.94zm-11 1L8.5 8.5l.94-2.06 2.06-.94-2.06-.94L8.5 2.5l-.94 2.06-2.06.94zm10 10l.94 2.06.94-2.06 2.06-.94-2.06-.94-.94-2.06-.94 2.06-2.06.94z\"/><path d=\"M17.41 7.96l-1.37-1.37c-.4-.4-.92-.59-1.43-.59-.52 0-1.04.2-1.43.59L10.3 9.45l-7.72 7.72c-.78.78-.78 2.05 0 2.83L4 21.41c.39.39.9.59 1.41.59.51 0 1.02-.2 1.41-.59l7.78-7.78 2.81-2.81c.8-.78.8-2.07 0-2.86zM5.41 20L4 18.59l7.72-7.72 1.47 1.35L5.41 20z\"/>\n",
              "  </svg>\n",
              "      </button>\n",
              "      \n",
              "  <style>\n",
              "    .colab-df-container {\n",
              "      display:flex;\n",
              "      flex-wrap:wrap;\n",
              "      gap: 12px;\n",
              "    }\n",
              "\n",
              "    .colab-df-convert {\n",
              "      background-color: #E8F0FE;\n",
              "      border: none;\n",
              "      border-radius: 50%;\n",
              "      cursor: pointer;\n",
              "      display: none;\n",
              "      fill: #1967D2;\n",
              "      height: 32px;\n",
              "      padding: 0 0 0 0;\n",
              "      width: 32px;\n",
              "    }\n",
              "\n",
              "    .colab-df-convert:hover {\n",
              "      background-color: #E2EBFA;\n",
              "      box-shadow: 0px 1px 2px rgba(60, 64, 67, 0.3), 0px 1px 3px 1px rgba(60, 64, 67, 0.15);\n",
              "      fill: #174EA6;\n",
              "    }\n",
              "\n",
              "    [theme=dark] .colab-df-convert {\n",
              "      background-color: #3B4455;\n",
              "      fill: #D2E3FC;\n",
              "    }\n",
              "\n",
              "    [theme=dark] .colab-df-convert:hover {\n",
              "      background-color: #434B5C;\n",
              "      box-shadow: 0px 1px 3px 1px rgba(0, 0, 0, 0.15);\n",
              "      filter: drop-shadow(0px 1px 2px rgba(0, 0, 0, 0.3));\n",
              "      fill: #FFFFFF;\n",
              "    }\n",
              "  </style>\n",
              "\n",
              "      <script>\n",
              "        const buttonEl =\n",
              "          document.querySelector('#df-45c2037e-ca0d-47a6-a579-4c41832f6113 button.colab-df-convert');\n",
              "        buttonEl.style.display =\n",
              "          google.colab.kernel.accessAllowed ? 'block' : 'none';\n",
              "\n",
              "        async function convertToInteractive(key) {\n",
              "          const element = document.querySelector('#df-45c2037e-ca0d-47a6-a579-4c41832f6113');\n",
              "          const dataTable =\n",
              "            await google.colab.kernel.invokeFunction('convertToInteractive',\n",
              "                                                     [key], {});\n",
              "          if (!dataTable) return;\n",
              "\n",
              "          const docLinkHtml = 'Like what you see? Visit the ' +\n",
              "            '<a target=\"_blank\" href=https://colab.research.google.com/notebooks/data_table.ipynb>data table notebook</a>'\n",
              "            + ' to learn more about interactive tables.';\n",
              "          element.innerHTML = '';\n",
              "          dataTable['output_type'] = 'display_data';\n",
              "          await google.colab.output.renderOutput(dataTable, element);\n",
              "          const docLink = document.createElement('div');\n",
              "          docLink.innerHTML = docLinkHtml;\n",
              "          element.appendChild(docLink);\n",
              "        }\n",
              "      </script>\n",
              "    </div>\n",
              "  </div>\n",
              "  "
            ]
          },
          "metadata": {},
          "execution_count": 167
        }
      ],
      "source": [
        "dicom_tags_train"
      ]
    },
    {
      "cell_type": "code",
      "execution_count": 168,
      "metadata": {
        "id": "cSFFoYf_uY9B",
        "colab": {
          "base_uri": "https://localhost:8080/"
        },
        "outputId": "054e1281-6bfa-4a67-9814-beaee68f975f"
      },
      "outputs": [
        {
          "output_type": "stream",
          "name": "stdout",
          "text": [
            "MONOCHROME1    1659\n",
            "MONOCHROME2      79\n",
            "Name: PhotometricInterpretation, dtype: int64\n"
          ]
        }
      ],
      "source": [
        "print(dicom_tags_train.PhotometricInterpretation.value_counts())"
      ]
    },
    {
      "cell_type": "code",
      "execution_count": 169,
      "metadata": {
        "id": "y455j0dguZP0"
      },
      "outputs": [],
      "source": [
        "train = dicom_tags_train.merge(train_df, on =  'SOPInstanceUID')\n",
        "test = dicom_tags_test.merge(test_df,on =  'SOPInstanceUID')"
      ]
    },
    {
      "cell_type": "code",
      "execution_count": 170,
      "metadata": {
        "id": "z0b_MiIW1Ird",
        "colab": {
          "base_uri": "https://localhost:8080/",
          "height": 206
        },
        "outputId": "73b403d2-9da8-47fc-b55d-766a8419421e"
      },
      "outputs": [
        {
          "output_type": "execute_result",
          "data": {
            "text/plain": [
              "                                            Filename  \\\n",
              "0  /content/train/train/train/1121/1.2.826.0.1.36...   \n",
              "1  /content/train/train/train/350/1.2.826.0.1.368...   \n",
              "2  /content/train/train/train/87/1.2.826.0.1.3680...   \n",
              "3  /content/train/train/train/87/1.2.826.0.1.3680...   \n",
              "4  /content/train/train/train/378/1.2.826.0.1.368...   \n",
              "\n",
              "  PhotometricInterpretation  BitsAllocated  \\\n",
              "0               MONOCHROME1             16   \n",
              "1               MONOCHROME1             16   \n",
              "2               MONOCHROME1             16   \n",
              "3               MONOCHROME1             16   \n",
              "4               MONOCHROME1             16   \n",
              "\n",
              "                                      SOPInstanceUID Target  \n",
              "0  1.2.826.0.1.3680043.8.498.75371875098288485781...     3   \n",
              "1  1.2.826.0.1.3680043.8.498.88472775577462540945...     0   \n",
              "2  1.2.826.0.1.3680043.8.498.39286386395654026252...     3   \n",
              "3  1.2.826.0.1.3680043.8.498.56051445150509921910...     3   \n",
              "4  1.2.826.0.1.3680043.8.498.50515155554468059374...     3   "
            ],
            "text/html": [
              "\n",
              "  <div id=\"df-2735c132-9ea9-4277-b3d1-56cb4919286e\">\n",
              "    <div class=\"colab-df-container\">\n",
              "      <div>\n",
              "<style scoped>\n",
              "    .dataframe tbody tr th:only-of-type {\n",
              "        vertical-align: middle;\n",
              "    }\n",
              "\n",
              "    .dataframe tbody tr th {\n",
              "        vertical-align: top;\n",
              "    }\n",
              "\n",
              "    .dataframe thead th {\n",
              "        text-align: right;\n",
              "    }\n",
              "</style>\n",
              "<table border=\"1\" class=\"dataframe\">\n",
              "  <thead>\n",
              "    <tr style=\"text-align: right;\">\n",
              "      <th></th>\n",
              "      <th>Filename</th>\n",
              "      <th>PhotometricInterpretation</th>\n",
              "      <th>BitsAllocated</th>\n",
              "      <th>SOPInstanceUID</th>\n",
              "      <th>Target</th>\n",
              "    </tr>\n",
              "  </thead>\n",
              "  <tbody>\n",
              "    <tr>\n",
              "      <th>0</th>\n",
              "      <td>/content/train/train/train/1121/1.2.826.0.1.36...</td>\n",
              "      <td>MONOCHROME1</td>\n",
              "      <td>16</td>\n",
              "      <td>1.2.826.0.1.3680043.8.498.75371875098288485781...</td>\n",
              "      <td>3</td>\n",
              "    </tr>\n",
              "    <tr>\n",
              "      <th>1</th>\n",
              "      <td>/content/train/train/train/350/1.2.826.0.1.368...</td>\n",
              "      <td>MONOCHROME1</td>\n",
              "      <td>16</td>\n",
              "      <td>1.2.826.0.1.3680043.8.498.88472775577462540945...</td>\n",
              "      <td>0</td>\n",
              "    </tr>\n",
              "    <tr>\n",
              "      <th>2</th>\n",
              "      <td>/content/train/train/train/87/1.2.826.0.1.3680...</td>\n",
              "      <td>MONOCHROME1</td>\n",
              "      <td>16</td>\n",
              "      <td>1.2.826.0.1.3680043.8.498.39286386395654026252...</td>\n",
              "      <td>3</td>\n",
              "    </tr>\n",
              "    <tr>\n",
              "      <th>3</th>\n",
              "      <td>/content/train/train/train/87/1.2.826.0.1.3680...</td>\n",
              "      <td>MONOCHROME1</td>\n",
              "      <td>16</td>\n",
              "      <td>1.2.826.0.1.3680043.8.498.56051445150509921910...</td>\n",
              "      <td>3</td>\n",
              "    </tr>\n",
              "    <tr>\n",
              "      <th>4</th>\n",
              "      <td>/content/train/train/train/378/1.2.826.0.1.368...</td>\n",
              "      <td>MONOCHROME1</td>\n",
              "      <td>16</td>\n",
              "      <td>1.2.826.0.1.3680043.8.498.50515155554468059374...</td>\n",
              "      <td>3</td>\n",
              "    </tr>\n",
              "  </tbody>\n",
              "</table>\n",
              "</div>\n",
              "      <button class=\"colab-df-convert\" onclick=\"convertToInteractive('df-2735c132-9ea9-4277-b3d1-56cb4919286e')\"\n",
              "              title=\"Convert this dataframe to an interactive table.\"\n",
              "              style=\"display:none;\">\n",
              "        \n",
              "  <svg xmlns=\"http://www.w3.org/2000/svg\" height=\"24px\"viewBox=\"0 0 24 24\"\n",
              "       width=\"24px\">\n",
              "    <path d=\"M0 0h24v24H0V0z\" fill=\"none\"/>\n",
              "    <path d=\"M18.56 5.44l.94 2.06.94-2.06 2.06-.94-2.06-.94-.94-2.06-.94 2.06-2.06.94zm-11 1L8.5 8.5l.94-2.06 2.06-.94-2.06-.94L8.5 2.5l-.94 2.06-2.06.94zm10 10l.94 2.06.94-2.06 2.06-.94-2.06-.94-.94-2.06-.94 2.06-2.06.94z\"/><path d=\"M17.41 7.96l-1.37-1.37c-.4-.4-.92-.59-1.43-.59-.52 0-1.04.2-1.43.59L10.3 9.45l-7.72 7.72c-.78.78-.78 2.05 0 2.83L4 21.41c.39.39.9.59 1.41.59.51 0 1.02-.2 1.41-.59l7.78-7.78 2.81-2.81c.8-.78.8-2.07 0-2.86zM5.41 20L4 18.59l7.72-7.72 1.47 1.35L5.41 20z\"/>\n",
              "  </svg>\n",
              "      </button>\n",
              "      \n",
              "  <style>\n",
              "    .colab-df-container {\n",
              "      display:flex;\n",
              "      flex-wrap:wrap;\n",
              "      gap: 12px;\n",
              "    }\n",
              "\n",
              "    .colab-df-convert {\n",
              "      background-color: #E8F0FE;\n",
              "      border: none;\n",
              "      border-radius: 50%;\n",
              "      cursor: pointer;\n",
              "      display: none;\n",
              "      fill: #1967D2;\n",
              "      height: 32px;\n",
              "      padding: 0 0 0 0;\n",
              "      width: 32px;\n",
              "    }\n",
              "\n",
              "    .colab-df-convert:hover {\n",
              "      background-color: #E2EBFA;\n",
              "      box-shadow: 0px 1px 2px rgba(60, 64, 67, 0.3), 0px 1px 3px 1px rgba(60, 64, 67, 0.15);\n",
              "      fill: #174EA6;\n",
              "    }\n",
              "\n",
              "    [theme=dark] .colab-df-convert {\n",
              "      background-color: #3B4455;\n",
              "      fill: #D2E3FC;\n",
              "    }\n",
              "\n",
              "    [theme=dark] .colab-df-convert:hover {\n",
              "      background-color: #434B5C;\n",
              "      box-shadow: 0px 1px 3px 1px rgba(0, 0, 0, 0.15);\n",
              "      filter: drop-shadow(0px 1px 2px rgba(0, 0, 0, 0.3));\n",
              "      fill: #FFFFFF;\n",
              "    }\n",
              "  </style>\n",
              "\n",
              "      <script>\n",
              "        const buttonEl =\n",
              "          document.querySelector('#df-2735c132-9ea9-4277-b3d1-56cb4919286e button.colab-df-convert');\n",
              "        buttonEl.style.display =\n",
              "          google.colab.kernel.accessAllowed ? 'block' : 'none';\n",
              "\n",
              "        async function convertToInteractive(key) {\n",
              "          const element = document.querySelector('#df-2735c132-9ea9-4277-b3d1-56cb4919286e');\n",
              "          const dataTable =\n",
              "            await google.colab.kernel.invokeFunction('convertToInteractive',\n",
              "                                                     [key], {});\n",
              "          if (!dataTable) return;\n",
              "\n",
              "          const docLinkHtml = 'Like what you see? Visit the ' +\n",
              "            '<a target=\"_blank\" href=https://colab.research.google.com/notebooks/data_table.ipynb>data table notebook</a>'\n",
              "            + ' to learn more about interactive tables.';\n",
              "          element.innerHTML = '';\n",
              "          dataTable['output_type'] = 'display_data';\n",
              "          await google.colab.output.renderOutput(dataTable, element);\n",
              "          const docLink = document.createElement('div');\n",
              "          docLink.innerHTML = docLinkHtml;\n",
              "          element.appendChild(docLink);\n",
              "        }\n",
              "      </script>\n",
              "    </div>\n",
              "  </div>\n",
              "  "
            ]
          },
          "metadata": {},
          "execution_count": 170
        }
      ],
      "source": [
        "train.head()"
      ]
    },
    {
      "cell_type": "code",
      "execution_count": 171,
      "metadata": {
        "id": "PfDmww_v1Jih"
      },
      "outputs": [],
      "source": [
        "target = list(train[\"Target\"])"
      ]
    },
    {
      "cell_type": "code",
      "execution_count": 172,
      "metadata": {
        "id": "0YxipR8b5FtC"
      },
      "outputs": [],
      "source": [
        "labels = ['Abdomen', 'Ankle', 'Cervical Spine',\n",
        "       'Chest', 'Clavicles', 'Elbow', 'Feet', 'Finger', 'Forearm', 'Hand',\n",
        "       'Hip', 'Knee', 'Lower Leg', 'Lumbar Spine', 'Others', 'Pelvis',\n",
        "       'Shoulder', 'Sinus', 'Skull', 'Thigh', 'Thoracic Spine', 'Wrist']"
      ]
    },
    {
      "cell_type": "code",
      "execution_count": 173,
      "metadata": {
        "id": "1MERfji73LeD",
        "colab": {
          "base_uri": "https://localhost:8080/"
        },
        "outputId": "e76f3245-3386-4b7c-97e4-924a07be8b66"
      },
      "outputs": [
        {
          "output_type": "stream",
          "name": "stderr",
          "text": [
            "100%|██████████| 1738/1738 [00:00<00:00, 563781.93it/s]\n"
          ]
        },
        {
          "output_type": "execute_result",
          "data": {
            "text/plain": [
              "array(['Chest', 'Abdomen', 'Hip and Knee and Thigh', 'Thigh', 'Shoulder',\n",
              "       'Cervical Spine', 'Lower Leg', 'Ankle and Feet', 'Pelvis',\n",
              "       'Abdomen and Chest', 'Sinus', 'Others', 'Hip', 'Elbow',\n",
              "       'Lumbar Spine and Thoracic Spine', 'Knee', 'Hand and Wrist',\n",
              "       'Wrist', 'Feet', 'Lumbar Spine', 'Finger', 'Ankle', 'Clavicles',\n",
              "       'Ankle and Knee and Lower Leg', 'Hand', 'Hip and Thigh', 'Skull',\n",
              "       'Forearm and Shoulder', 'Knee and Lower Leg', 'Pelvis and Thigh',\n",
              "       'Chest and Pelvis', 'Forearm', 'Ankle and Lower Leg',\n",
              "       'Elbow and Forearm', 'Thoracic Spine', 'Chest and Feet',\n",
              "       'Chest and Finger', 'Abdomen and Pelvis', 'Finger and Hand',\n",
              "       'Cervical Spine and Lumbar Spine and Thoracic Spine',\n",
              "       'Cervical Spine and Thoracic Spine'], dtype=object)"
            ]
          },
          "metadata": {},
          "execution_count": 173
        }
      ],
      "source": [
        "#Create Label from target\n",
        "def no_to_label(label):\n",
        "    label_list_string = []\n",
        "    trimed_label = label.rstrip()\n",
        "    label_list = trimed_label.split(\" \")\n",
        "    label_list = [int(i) for i in label_list]\n",
        "    for label in label_list:\n",
        "        label_list_string.append(bodyparts[label])\n",
        "    label_string = ' and '.join(label_list_string)\n",
        "    return label_string\n",
        "\n",
        "target_list = train['Target'].tolist()\n",
        "label_column = []\n",
        "\n",
        "for label in tqdm(target_list):\n",
        "    label_string = no_to_label(label)\n",
        "    label_column.append(label_string)\n",
        "\n",
        "train['Label'] = label_column\n",
        "train['Label'].unique()"
      ]
    },
    {
      "cell_type": "code",
      "execution_count": 174,
      "metadata": {
        "id": "WIvoUoIt4WW4",
        "colab": {
          "base_uri": "https://localhost:8080/",
          "height": 424
        },
        "outputId": "561cf7b6-76e6-4000-a859-982be744f824"
      },
      "outputs": [
        {
          "output_type": "execute_result",
          "data": {
            "text/plain": [
              "                                               Filename  \\\n",
              "0     /content/train/train/train/1121/1.2.826.0.1.36...   \n",
              "1     /content/train/train/train/350/1.2.826.0.1.368...   \n",
              "2     /content/train/train/train/87/1.2.826.0.1.3680...   \n",
              "3     /content/train/train/train/87/1.2.826.0.1.3680...   \n",
              "4     /content/train/train/train/378/1.2.826.0.1.368...   \n",
              "...                                                 ...   \n",
              "1733  /content/train/train/train/919/1.2.826.0.1.368...   \n",
              "1734  /content/train/train/train/1046/1.2.826.0.1.36...   \n",
              "1735  /content/train/train/train/1178/1.2.826.0.1.36...   \n",
              "1736  /content/train/train/train/1178/1.2.826.0.1.36...   \n",
              "1737  /content/train/train/train/251/1.2.826.0.1.368...   \n",
              "\n",
              "     PhotometricInterpretation  BitsAllocated  \\\n",
              "0                  MONOCHROME1             16   \n",
              "1                  MONOCHROME1             16   \n",
              "2                  MONOCHROME1             16   \n",
              "3                  MONOCHROME1             16   \n",
              "4                  MONOCHROME1             16   \n",
              "...                        ...            ...   \n",
              "1733               MONOCHROME1             16   \n",
              "1734               MONOCHROME1             16   \n",
              "1735               MONOCHROME1             16   \n",
              "1736               MONOCHROME1             16   \n",
              "1737               MONOCHROME1             16   \n",
              "\n",
              "                                         SOPInstanceUID Target    Label  \n",
              "0     1.2.826.0.1.3680043.8.498.75371875098288485781...     3     Chest  \n",
              "1     1.2.826.0.1.3680043.8.498.88472775577462540945...     0   Abdomen  \n",
              "2     1.2.826.0.1.3680043.8.498.39286386395654026252...     3     Chest  \n",
              "3     1.2.826.0.1.3680043.8.498.56051445150509921910...     3     Chest  \n",
              "4     1.2.826.0.1.3680043.8.498.50515155554468059374...     3     Chest  \n",
              "...                                                 ...    ...      ...  \n",
              "1733  1.2.826.0.1.3680043.8.498.12489154905016857920...     3     Chest  \n",
              "1734  1.2.826.0.1.3680043.8.498.11043587047469807004...     3     Chest  \n",
              "1735  1.2.826.0.1.3680043.8.498.56914468087245411678...     3     Chest  \n",
              "1736  1.2.826.0.1.3680043.8.498.60288704388386519974...     3     Chest  \n",
              "1737  1.2.826.0.1.3680043.8.498.42195158095222440955...     3     Chest  \n",
              "\n",
              "[1738 rows x 6 columns]"
            ],
            "text/html": [
              "\n",
              "  <div id=\"df-dfdc1f81-8f4b-4f8b-b816-cd5749b9fb40\">\n",
              "    <div class=\"colab-df-container\">\n",
              "      <div>\n",
              "<style scoped>\n",
              "    .dataframe tbody tr th:only-of-type {\n",
              "        vertical-align: middle;\n",
              "    }\n",
              "\n",
              "    .dataframe tbody tr th {\n",
              "        vertical-align: top;\n",
              "    }\n",
              "\n",
              "    .dataframe thead th {\n",
              "        text-align: right;\n",
              "    }\n",
              "</style>\n",
              "<table border=\"1\" class=\"dataframe\">\n",
              "  <thead>\n",
              "    <tr style=\"text-align: right;\">\n",
              "      <th></th>\n",
              "      <th>Filename</th>\n",
              "      <th>PhotometricInterpretation</th>\n",
              "      <th>BitsAllocated</th>\n",
              "      <th>SOPInstanceUID</th>\n",
              "      <th>Target</th>\n",
              "      <th>Label</th>\n",
              "    </tr>\n",
              "  </thead>\n",
              "  <tbody>\n",
              "    <tr>\n",
              "      <th>0</th>\n",
              "      <td>/content/train/train/train/1121/1.2.826.0.1.36...</td>\n",
              "      <td>MONOCHROME1</td>\n",
              "      <td>16</td>\n",
              "      <td>1.2.826.0.1.3680043.8.498.75371875098288485781...</td>\n",
              "      <td>3</td>\n",
              "      <td>Chest</td>\n",
              "    </tr>\n",
              "    <tr>\n",
              "      <th>1</th>\n",
              "      <td>/content/train/train/train/350/1.2.826.0.1.368...</td>\n",
              "      <td>MONOCHROME1</td>\n",
              "      <td>16</td>\n",
              "      <td>1.2.826.0.1.3680043.8.498.88472775577462540945...</td>\n",
              "      <td>0</td>\n",
              "      <td>Abdomen</td>\n",
              "    </tr>\n",
              "    <tr>\n",
              "      <th>2</th>\n",
              "      <td>/content/train/train/train/87/1.2.826.0.1.3680...</td>\n",
              "      <td>MONOCHROME1</td>\n",
              "      <td>16</td>\n",
              "      <td>1.2.826.0.1.3680043.8.498.39286386395654026252...</td>\n",
              "      <td>3</td>\n",
              "      <td>Chest</td>\n",
              "    </tr>\n",
              "    <tr>\n",
              "      <th>3</th>\n",
              "      <td>/content/train/train/train/87/1.2.826.0.1.3680...</td>\n",
              "      <td>MONOCHROME1</td>\n",
              "      <td>16</td>\n",
              "      <td>1.2.826.0.1.3680043.8.498.56051445150509921910...</td>\n",
              "      <td>3</td>\n",
              "      <td>Chest</td>\n",
              "    </tr>\n",
              "    <tr>\n",
              "      <th>4</th>\n",
              "      <td>/content/train/train/train/378/1.2.826.0.1.368...</td>\n",
              "      <td>MONOCHROME1</td>\n",
              "      <td>16</td>\n",
              "      <td>1.2.826.0.1.3680043.8.498.50515155554468059374...</td>\n",
              "      <td>3</td>\n",
              "      <td>Chest</td>\n",
              "    </tr>\n",
              "    <tr>\n",
              "      <th>...</th>\n",
              "      <td>...</td>\n",
              "      <td>...</td>\n",
              "      <td>...</td>\n",
              "      <td>...</td>\n",
              "      <td>...</td>\n",
              "      <td>...</td>\n",
              "    </tr>\n",
              "    <tr>\n",
              "      <th>1733</th>\n",
              "      <td>/content/train/train/train/919/1.2.826.0.1.368...</td>\n",
              "      <td>MONOCHROME1</td>\n",
              "      <td>16</td>\n",
              "      <td>1.2.826.0.1.3680043.8.498.12489154905016857920...</td>\n",
              "      <td>3</td>\n",
              "      <td>Chest</td>\n",
              "    </tr>\n",
              "    <tr>\n",
              "      <th>1734</th>\n",
              "      <td>/content/train/train/train/1046/1.2.826.0.1.36...</td>\n",
              "      <td>MONOCHROME1</td>\n",
              "      <td>16</td>\n",
              "      <td>1.2.826.0.1.3680043.8.498.11043587047469807004...</td>\n",
              "      <td>3</td>\n",
              "      <td>Chest</td>\n",
              "    </tr>\n",
              "    <tr>\n",
              "      <th>1735</th>\n",
              "      <td>/content/train/train/train/1178/1.2.826.0.1.36...</td>\n",
              "      <td>MONOCHROME1</td>\n",
              "      <td>16</td>\n",
              "      <td>1.2.826.0.1.3680043.8.498.56914468087245411678...</td>\n",
              "      <td>3</td>\n",
              "      <td>Chest</td>\n",
              "    </tr>\n",
              "    <tr>\n",
              "      <th>1736</th>\n",
              "      <td>/content/train/train/train/1178/1.2.826.0.1.36...</td>\n",
              "      <td>MONOCHROME1</td>\n",
              "      <td>16</td>\n",
              "      <td>1.2.826.0.1.3680043.8.498.60288704388386519974...</td>\n",
              "      <td>3</td>\n",
              "      <td>Chest</td>\n",
              "    </tr>\n",
              "    <tr>\n",
              "      <th>1737</th>\n",
              "      <td>/content/train/train/train/251/1.2.826.0.1.368...</td>\n",
              "      <td>MONOCHROME1</td>\n",
              "      <td>16</td>\n",
              "      <td>1.2.826.0.1.3680043.8.498.42195158095222440955...</td>\n",
              "      <td>3</td>\n",
              "      <td>Chest</td>\n",
              "    </tr>\n",
              "  </tbody>\n",
              "</table>\n",
              "<p>1738 rows × 6 columns</p>\n",
              "</div>\n",
              "      <button class=\"colab-df-convert\" onclick=\"convertToInteractive('df-dfdc1f81-8f4b-4f8b-b816-cd5749b9fb40')\"\n",
              "              title=\"Convert this dataframe to an interactive table.\"\n",
              "              style=\"display:none;\">\n",
              "        \n",
              "  <svg xmlns=\"http://www.w3.org/2000/svg\" height=\"24px\"viewBox=\"0 0 24 24\"\n",
              "       width=\"24px\">\n",
              "    <path d=\"M0 0h24v24H0V0z\" fill=\"none\"/>\n",
              "    <path d=\"M18.56 5.44l.94 2.06.94-2.06 2.06-.94-2.06-.94-.94-2.06-.94 2.06-2.06.94zm-11 1L8.5 8.5l.94-2.06 2.06-.94-2.06-.94L8.5 2.5l-.94 2.06-2.06.94zm10 10l.94 2.06.94-2.06 2.06-.94-2.06-.94-.94-2.06-.94 2.06-2.06.94z\"/><path d=\"M17.41 7.96l-1.37-1.37c-.4-.4-.92-.59-1.43-.59-.52 0-1.04.2-1.43.59L10.3 9.45l-7.72 7.72c-.78.78-.78 2.05 0 2.83L4 21.41c.39.39.9.59 1.41.59.51 0 1.02-.2 1.41-.59l7.78-7.78 2.81-2.81c.8-.78.8-2.07 0-2.86zM5.41 20L4 18.59l7.72-7.72 1.47 1.35L5.41 20z\"/>\n",
              "  </svg>\n",
              "      </button>\n",
              "      \n",
              "  <style>\n",
              "    .colab-df-container {\n",
              "      display:flex;\n",
              "      flex-wrap:wrap;\n",
              "      gap: 12px;\n",
              "    }\n",
              "\n",
              "    .colab-df-convert {\n",
              "      background-color: #E8F0FE;\n",
              "      border: none;\n",
              "      border-radius: 50%;\n",
              "      cursor: pointer;\n",
              "      display: none;\n",
              "      fill: #1967D2;\n",
              "      height: 32px;\n",
              "      padding: 0 0 0 0;\n",
              "      width: 32px;\n",
              "    }\n",
              "\n",
              "    .colab-df-convert:hover {\n",
              "      background-color: #E2EBFA;\n",
              "      box-shadow: 0px 1px 2px rgba(60, 64, 67, 0.3), 0px 1px 3px 1px rgba(60, 64, 67, 0.15);\n",
              "      fill: #174EA6;\n",
              "    }\n",
              "\n",
              "    [theme=dark] .colab-df-convert {\n",
              "      background-color: #3B4455;\n",
              "      fill: #D2E3FC;\n",
              "    }\n",
              "\n",
              "    [theme=dark] .colab-df-convert:hover {\n",
              "      background-color: #434B5C;\n",
              "      box-shadow: 0px 1px 3px 1px rgba(0, 0, 0, 0.15);\n",
              "      filter: drop-shadow(0px 1px 2px rgba(0, 0, 0, 0.3));\n",
              "      fill: #FFFFFF;\n",
              "    }\n",
              "  </style>\n",
              "\n",
              "      <script>\n",
              "        const buttonEl =\n",
              "          document.querySelector('#df-dfdc1f81-8f4b-4f8b-b816-cd5749b9fb40 button.colab-df-convert');\n",
              "        buttonEl.style.display =\n",
              "          google.colab.kernel.accessAllowed ? 'block' : 'none';\n",
              "\n",
              "        async function convertToInteractive(key) {\n",
              "          const element = document.querySelector('#df-dfdc1f81-8f4b-4f8b-b816-cd5749b9fb40');\n",
              "          const dataTable =\n",
              "            await google.colab.kernel.invokeFunction('convertToInteractive',\n",
              "                                                     [key], {});\n",
              "          if (!dataTable) return;\n",
              "\n",
              "          const docLinkHtml = 'Like what you see? Visit the ' +\n",
              "            '<a target=\"_blank\" href=https://colab.research.google.com/notebooks/data_table.ipynb>data table notebook</a>'\n",
              "            + ' to learn more about interactive tables.';\n",
              "          element.innerHTML = '';\n",
              "          dataTable['output_type'] = 'display_data';\n",
              "          await google.colab.output.renderOutput(dataTable, element);\n",
              "          const docLink = document.createElement('div');\n",
              "          docLink.innerHTML = docLinkHtml;\n",
              "          element.appendChild(docLink);\n",
              "        }\n",
              "      </script>\n",
              "    </div>\n",
              "  </div>\n",
              "  "
            ]
          },
          "metadata": {},
          "execution_count": 174
        }
      ],
      "source": [
        "train"
      ]
    },
    {
      "cell_type": "code",
      "execution_count": 175,
      "metadata": {
        "id": "t254IvU64jle",
        "colab": {
          "base_uri": "https://localhost:8080/"
        },
        "outputId": "23c2d9e8-851f-450a-bd32-10c78e26558b"
      },
      "outputs": [
        {
          "output_type": "execute_result",
          "data": {
            "text/plain": [
              "Chest                                                 724\n",
              "Others                                                120\n",
              "Knee                                                  102\n",
              "Abdomen                                                80\n",
              "Cervical Spine                                         77\n",
              "Feet                                                   70\n",
              "Pelvis                                                 67\n",
              "Wrist                                                  63\n",
              "Lumbar Spine and Thoracic Spine                        45\n",
              "Hand and Wrist                                         42\n",
              "Ankle                                                  41\n",
              "Shoulder                                               40\n",
              "Lumbar Spine                                           39\n",
              "Hand                                                   31\n",
              "Sinus                                                  23\n",
              "Elbow                                                  23\n",
              "Lower Leg                                              19\n",
              "Hip                                                    19\n",
              "Thoracic Spine                                         15\n",
              "Finger                                                 15\n",
              "Forearm                                                12\n",
              "Abdomen and Chest                                      11\n",
              "Skull                                                  10\n",
              "Clavicles                                               9\n",
              "Thigh                                                   7\n",
              "Ankle and Feet                                          7\n",
              "Ankle and Knee and Lower Leg                            5\n",
              "Hip and Thigh                                           4\n",
              "Cervical Spine and Lumbar Spine and Thoracic Spine      3\n",
              "Pelvis and Thigh                                        2\n",
              "Elbow and Forearm                                       2\n",
              "Hip and Knee and Thigh                                  2\n",
              "Chest and Finger                                        1\n",
              "Finger and Hand                                         1\n",
              "Abdomen and Pelvis                                      1\n",
              "Chest and Pelvis                                        1\n",
              "Chest and Feet                                          1\n",
              "Ankle and Lower Leg                                     1\n",
              "Knee and Lower Leg                                      1\n",
              "Forearm and Shoulder                                    1\n",
              "Cervical Spine and Thoracic Spine                       1\n",
              "Name: Label, dtype: int64"
            ]
          },
          "metadata": {},
          "execution_count": 175
        }
      ],
      "source": [
        "train.Label.value_counts()"
      ]
    },
    {
      "cell_type": "code",
      "source": [
        "train['Composto'] = [0 if x.count(' and ') == 0 else 1 for x in train.Label]\n",
        "train.drop(train[train['Composto'] == 1].index, inplace=True)\n",
        "train.drop(columns = ['Composto'], inplace=True)"
      ],
      "metadata": {
        "id": "VelnoJ0-T09o"
      },
      "execution_count": 176,
      "outputs": []
    },
    {
      "cell_type": "code",
      "source": [
        "for value in train.Label.unique():\n",
        "  print(len(train[train.Label == value]))\n",
        "  if len(train[train.Label == value]) < 100 : \n",
        "    for index, row in train.iterrows():\n",
        "      dicom = pydicom.dcmread(train.Filename[index])\n",
        "      img = dicom.pixel_array\n",
        "      resized_img  = (np.maximum(img,0)/img.max())*255 \n",
        "      im = Image.fromarray(resized_img.astype(np.uint8))\n",
        "      im.show()"
      ],
      "metadata": {
        "colab": {
          "base_uri": "https://localhost:8080/"
        },
        "id": "eenxtNxRU-95",
        "outputId": "13783413-c40a-452e-aa44-63506d19e0a8"
      },
      "execution_count": 177,
      "outputs": [
        {
          "output_type": "stream",
          "name": "stdout",
          "text": [
            "724\n",
            "80\n",
            "7\n",
            "40\n",
            "77\n",
            "19\n",
            "67\n",
            "23\n",
            "120\n",
            "19\n",
            "23\n",
            "102\n",
            "63\n",
            "70\n",
            "39\n",
            "15\n",
            "41\n",
            "9\n",
            "31\n",
            "10\n",
            "12\n",
            "15\n"
          ]
        }
      ]
    }
  ],
  "metadata": {
    "colab": {
      "collapsed_sections": [],
      "provenance": [],
      "include_colab_link": true
    },
    "kernelspec": {
      "display_name": "Python 3.9.0 32-bit",
      "language": "python",
      "name": "python3"
    },
    "language_info": {
      "name": "python",
      "version": "3.9.0"
    },
    "vscode": {
      "interpreter": {
        "hash": "5b76773ed08602836185ee19b6a28a35c7b52ddebf734b2b96c5aebf91a1aa12"
      }
    }
  },
  "nbformat": 4,
  "nbformat_minor": 0
}